{
 "cells": [
  {
   "cell_type": "markdown",
   "id": "a56d2b11",
   "metadata": {},
   "source": [
    "# MSiA 400 - Final Project\n",
    "## Modeling: Prophet_model\n",
    "### Team 12: Alejandra Lelo de Larrea Ibarra, Xin Shu, Yi Chen, Yiqing Cheng"
   ]
  },
  {
   "cell_type": "code",
   "execution_count": 1,
   "id": "cf3e10e7",
   "metadata": {},
   "outputs": [
    {
     "name": "stderr",
     "output_type": "stream",
     "text": [
      "Importing plotly failed. Interactive plots will not work.\n"
     ]
    }
   ],
   "source": [
    "import pandas as pd\n",
    "import psycopg2\n",
    "from psycopg2 import Error\n",
    "import numpy as np\n",
    "import matplotlib.pyplot as plt\n",
    "import seaborn as sns\n",
    "from prophet import Prophet\n",
    "import math"
   ]
  },
  {
   "cell_type": "code",
   "execution_count": 2,
   "id": "f8b000d9",
   "metadata": {},
   "outputs": [
    {
     "name": "stdout",
     "output_type": "stream",
     "text": [
      "You are connected to -  ('PostgreSQL 10.12 on x86_64-pc-linux-gnu, compiled by gcc (GCC) 4.8.5 20150623 (Red Hat 4.8.5-39), 64-bit',) \n",
      "\n",
      "PostgreSQL connection is closed\n"
     ]
    },
    {
     "name": "stderr",
     "output_type": "stream",
     "text": [
      "/tmp/ipykernel_586722/1041667879.py:18: UserWarning: pandas only supports SQLAlchemy connectable (engine/connection) or database string URI or sqlite3 DBAPI2 connection. Other DBAPI2 objects are not tested. Please consider using SQLAlchemy.\n",
      "  df1 = pd.read_sql(\"select * from \\\"aggtrnsactdaily\\\"\", connection);\n",
      "/tmp/ipykernel_586722/1041667879.py:19: UserWarning: pandas only supports SQLAlchemy connectable (engine/connection) or database string URI or sqlite3 DBAPI2 connection. Other DBAPI2 objects are not tested. Please consider using SQLAlchemy.\n",
      "  df2 = pd.read_sql(\"select * from \\\"aggtrnsactdaily2\\\"\", connection);\n"
     ]
    }
   ],
   "source": [
    "try:\n",
    "    # Connect to an existing database\n",
    "    connection = psycopg2.connect(database=\"2022-everything-team12\", \n",
    "                            user='ycm3076', \n",
    "                            password='password', \n",
    "                            host='pg.analytics.northwestern.edu', \n",
    "                            port= '5432')\n",
    "\n",
    "    # Create a cursor to perform database operations\n",
    "    cursor = connection.cursor()\n",
    "    # Print PostgreSQL details\n",
    "    cursor.execute(\"SELECT version();\")\n",
    "    # Fetch result\n",
    "    record = cursor.fetchone()\n",
    "    print(\"You are connected to - \", record, \"\\n\")\n",
    "except (Exception, Error) as error:\n",
    "    print(\"Error while connecting to PostgreSQL\", error)\n",
    "df1 = pd.read_sql(\"select * from \\\"aggtrnsactdaily\\\"\", connection);\n",
    "df2 = pd.read_sql(\"select * from \\\"aggtrnsactdaily2\\\"\", connection);\n",
    "if (connection):\n",
    "    cursor.close()\n",
    "    connection.close()\n",
    "    print(\"PostgreSQL connection is closed\") \n"
   ]
  },
  {
   "cell_type": "markdown",
   "id": "079bdafb",
   "metadata": {},
   "source": [
    "## Construct Dataset"
   ]
  },
  {
   "cell_type": "code",
   "execution_count": 3,
   "id": "828d1eea",
   "metadata": {},
   "outputs": [
    {
     "data": {
      "text/html": [
       "<div>\n",
       "<style scoped>\n",
       "    .dataframe tbody tr th:only-of-type {\n",
       "        vertical-align: middle;\n",
       "    }\n",
       "\n",
       "    .dataframe tbody tr th {\n",
       "        vertical-align: top;\n",
       "    }\n",
       "\n",
       "    .dataframe thead th {\n",
       "        text-align: right;\n",
       "    }\n",
       "</style>\n",
       "<table border=\"1\" class=\"dataframe\">\n",
       "  <thead>\n",
       "    <tr style=\"text-align: right;\">\n",
       "      <th></th>\n",
       "      <th>saledate</th>\n",
       "      <th>nstores</th>\n",
       "      <th>nsku</th>\n",
       "      <th>totalquantity</th>\n",
       "      <th>avgquantity</th>\n",
       "      <th>totalamt</th>\n",
       "      <th>avgamt</th>\n",
       "      <th>minamt</th>\n",
       "      <th>maxamt</th>\n",
       "      <th>totalorigprice</th>\n",
       "      <th>...</th>\n",
       "      <th>maxdiscount</th>\n",
       "      <th>totalprofit</th>\n",
       "      <th>avgprofittrnsact</th>\n",
       "      <th>minprofit</th>\n",
       "      <th>maxprofit</th>\n",
       "      <th>nstore</th>\n",
       "      <th>ncities</th>\n",
       "      <th>ndept</th>\n",
       "      <th>nvendors</th>\n",
       "      <th>avgvendorsstore</th>\n",
       "    </tr>\n",
       "  </thead>\n",
       "  <tbody>\n",
       "    <tr>\n",
       "      <th>384</th>\n",
       "      <td>2005-08-26</td>\n",
       "      <td>324</td>\n",
       "      <td>144548</td>\n",
       "      <td>482390</td>\n",
       "      <td>525</td>\n",
       "      <td>19215591.82</td>\n",
       "      <td>20932.017233</td>\n",
       "      <td>0.0</td>\n",
       "      <td>1200.0</td>\n",
       "      <td>8968694.40</td>\n",
       "      <td>...</td>\n",
       "      <td>490.88</td>\n",
       "      <td>2344460.0</td>\n",
       "      <td>2553.876089</td>\n",
       "      <td>0.0</td>\n",
       "      <td>450.00</td>\n",
       "      <td>324</td>\n",
       "      <td>263</td>\n",
       "      <td>60</td>\n",
       "      <td>1056</td>\n",
       "      <td>3</td>\n",
       "    </tr>\n",
       "    <tr>\n",
       "      <th>385</th>\n",
       "      <td>2005-08-27</td>\n",
       "      <td>325</td>\n",
       "      <td>174635</td>\n",
       "      <td>726056</td>\n",
       "      <td>790</td>\n",
       "      <td>29404178.67</td>\n",
       "      <td>31995.841861</td>\n",
       "      <td>0.0</td>\n",
       "      <td>1200.0</td>\n",
       "      <td>14044552.29</td>\n",
       "      <td>...</td>\n",
       "      <td>540.00</td>\n",
       "      <td>3903930.0</td>\n",
       "      <td>4248.019859</td>\n",
       "      <td>0.0</td>\n",
       "      <td>555.29</td>\n",
       "      <td>325</td>\n",
       "      <td>264</td>\n",
       "      <td>60</td>\n",
       "      <td>1098</td>\n",
       "      <td>3</td>\n",
       "    </tr>\n",
       "    <tr>\n",
       "      <th>386</th>\n",
       "      <td>2005-02-23</td>\n",
       "      <td>324</td>\n",
       "      <td>154375</td>\n",
       "      <td>818303</td>\n",
       "      <td>739</td>\n",
       "      <td>36239176.72</td>\n",
       "      <td>32736.383668</td>\n",
       "      <td>0.0</td>\n",
       "      <td>1298.0</td>\n",
       "      <td>10507344.52</td>\n",
       "      <td>...</td>\n",
       "      <td>843.70</td>\n",
       "      <td>0.0</td>\n",
       "      <td>0.000000</td>\n",
       "      <td>0.0</td>\n",
       "      <td>780.00</td>\n",
       "      <td>324</td>\n",
       "      <td>263</td>\n",
       "      <td>58</td>\n",
       "      <td>1035</td>\n",
       "      <td>3</td>\n",
       "    </tr>\n",
       "    <tr>\n",
       "      <th>387</th>\n",
       "      <td>2005-02-24</td>\n",
       "      <td>324</td>\n",
       "      <td>155570</td>\n",
       "      <td>839153</td>\n",
       "      <td>735</td>\n",
       "      <td>35454568.88</td>\n",
       "      <td>31073.241788</td>\n",
       "      <td>0.0</td>\n",
       "      <td>1200.0</td>\n",
       "      <td>10844948.29</td>\n",
       "      <td>...</td>\n",
       "      <td>596.25</td>\n",
       "      <td>0.0</td>\n",
       "      <td>0.000000</td>\n",
       "      <td>0.0</td>\n",
       "      <td>495.00</td>\n",
       "      <td>324</td>\n",
       "      <td>263</td>\n",
       "      <td>58</td>\n",
       "      <td>1059</td>\n",
       "      <td>3</td>\n",
       "    </tr>\n",
       "    <tr>\n",
       "      <th>388</th>\n",
       "      <td>2005-02-25</td>\n",
       "      <td>324</td>\n",
       "      <td>163112</td>\n",
       "      <td>892854</td>\n",
       "      <td>774</td>\n",
       "      <td>37062627.79</td>\n",
       "      <td>32144.516730</td>\n",
       "      <td>0.0</td>\n",
       "      <td>1200.0</td>\n",
       "      <td>12367866.48</td>\n",
       "      <td>...</td>\n",
       "      <td>521.25</td>\n",
       "      <td>0.0</td>\n",
       "      <td>0.000000</td>\n",
       "      <td>0.0</td>\n",
       "      <td>500.00</td>\n",
       "      <td>324</td>\n",
       "      <td>263</td>\n",
       "      <td>58</td>\n",
       "      <td>1088</td>\n",
       "      <td>3</td>\n",
       "    </tr>\n",
       "  </tbody>\n",
       "</table>\n",
       "<p>5 rows × 36 columns</p>\n",
       "</div>"
      ],
      "text/plain": [
       "       saledate  nstores    nsku  totalquantity  avgquantity     totalamt  \\\n",
       "384  2005-08-26      324  144548         482390          525  19215591.82   \n",
       "385  2005-08-27      325  174635         726056          790  29404178.67   \n",
       "386  2005-02-23      324  154375         818303          739  36239176.72   \n",
       "387  2005-02-24      324  155570         839153          735  35454568.88   \n",
       "388  2005-02-25      324  163112         892854          774  37062627.79   \n",
       "\n",
       "           avgamt  minamt  maxamt  totalorigprice  ...  maxdiscount  \\\n",
       "384  20932.017233     0.0  1200.0      8968694.40  ...       490.88   \n",
       "385  31995.841861     0.0  1200.0     14044552.29  ...       540.00   \n",
       "386  32736.383668     0.0  1298.0     10507344.52  ...       843.70   \n",
       "387  31073.241788     0.0  1200.0     10844948.29  ...       596.25   \n",
       "388  32144.516730     0.0  1200.0     12367866.48  ...       521.25   \n",
       "\n",
       "     totalprofit  avgprofittrnsact  minprofit  maxprofit  nstore  ncities  \\\n",
       "384    2344460.0       2553.876089        0.0     450.00     324      263   \n",
       "385    3903930.0       4248.019859        0.0     555.29     325      264   \n",
       "386          0.0          0.000000        0.0     780.00     324      263   \n",
       "387          0.0          0.000000        0.0     495.00     324      263   \n",
       "388          0.0          0.000000        0.0     500.00     324      263   \n",
       "\n",
       "     ndept  nvendors  avgvendorsstore  \n",
       "384     60      1056                3  \n",
       "385     60      1098                3  \n",
       "386     58      1035                3  \n",
       "387     58      1059                3  \n",
       "388     58      1088                3  \n",
       "\n",
       "[5 rows x 36 columns]"
      ]
     },
     "execution_count": 3,
     "metadata": {},
     "output_type": "execute_result"
    }
   ],
   "source": [
    "df1.tail()\n",
    "df2.tail()"
   ]
  },
  {
   "cell_type": "code",
   "execution_count": 4,
   "id": "8003f618",
   "metadata": {},
   "outputs": [],
   "source": [
    "# check the data\n",
    "df1 = df1.sort_values(by=['saledate'])\n",
    "df2 = df2.sort_values(by=['saledate'])"
   ]
  },
  {
   "cell_type": "code",
   "execution_count": 5,
   "id": "c43bef43",
   "metadata": {},
   "outputs": [
    {
     "data": {
      "text/plain": [
       "Index(['saledate', 'nstores', 'nsku', 'totalquantity', 'avgquantity',\n",
       "       'totalamt', 'avgamt', 'minamt', 'maxamt', 'totalorigprice',\n",
       "       'avgorigprice', 'minorigprice', 'maxorigprice', 'totalretail',\n",
       "       'avgretail', 'minretail', 'maxretail', 'avgretailtrnsact', 'totalcost',\n",
       "       'avgcost', 'mincost', 'maxcost', 'avgcosttrnsact', 'totaldiscount',\n",
       "       'avgdiscounttrnsact', 'mindiscount', 'maxdiscount', 'totalprofit',\n",
       "       'avgprofittrnsact', 'minprofit', 'maxprofit', 'nstore', 'ncities',\n",
       "       'ndept', 'nvendors', 'avgvendorsstore'],\n",
       "      dtype='object')"
      ]
     },
     "execution_count": 5,
     "metadata": {},
     "output_type": "execute_result"
    }
   ],
   "source": [
    "df1.columns"
   ]
  },
  {
   "cell_type": "code",
   "execution_count": 6,
   "id": "603fd77b",
   "metadata": {},
   "outputs": [
    {
     "data": {
      "text/plain": [
       "Index(['saledate', 'nstores', 'nsku', 'totalquantity', 'avgquantity',\n",
       "       'totalamt', 'avgamt', 'minamt', 'maxamt', 'totalorigprice',\n",
       "       'avgorigprice', 'minorigprice', 'maxorigprice', 'totalretail',\n",
       "       'avgretail', 'minretail', 'maxretail', 'avgretailtrnsact', 'totalcost',\n",
       "       'avgcost', 'mincost', 'maxcost', 'avgcosttrnsact', 'totaldiscount',\n",
       "       'avgdiscounttrnsact', 'mindiscount', 'maxdiscount', 'totalprofit',\n",
       "       'avgprofittrnsact', 'minprofit', 'maxprofit', 'nstore', 'ncities',\n",
       "       'ndept', 'nvendors', 'avgvendorsstore'],\n",
       "      dtype='object')"
      ]
     },
     "execution_count": 6,
     "metadata": {},
     "output_type": "execute_result"
    }
   ],
   "source": [
    "df2.columns"
   ]
  },
  {
   "cell_type": "code",
   "execution_count": 7,
   "id": "1bebc8e5",
   "metadata": {},
   "outputs": [
    {
     "data": {
      "text/plain": [
       "saledate              389\n",
       "nstores               389\n",
       "nsku                  389\n",
       "totalquantity         389\n",
       "avgquantity           389\n",
       "totalamt              389\n",
       "avgamt                389\n",
       "minamt                389\n",
       "maxamt                389\n",
       "totalorigprice        389\n",
       "avgorigprice          389\n",
       "minorigprice          389\n",
       "maxorigprice          389\n",
       "totalretail           389\n",
       "avgretail             389\n",
       "minretail             389\n",
       "maxretail             389\n",
       "avgretailtrnsact      389\n",
       "totalcost             389\n",
       "avgcost               389\n",
       "mincost               389\n",
       "maxcost               389\n",
       "avgcosttrnsact        389\n",
       "totaldiscount         389\n",
       "avgdiscounttrnsact    389\n",
       "mindiscount           389\n",
       "maxdiscount           389\n",
       "totalprofit           389\n",
       "avgprofittrnsact      389\n",
       "minprofit             389\n",
       "maxprofit             389\n",
       "nstore                389\n",
       "ncities               389\n",
       "ndept                 389\n",
       "nvendors              389\n",
       "avgvendorsstore       389\n",
       "dtype: int64"
      ]
     },
     "execution_count": 7,
     "metadata": {},
     "output_type": "execute_result"
    }
   ],
   "source": [
    "# check null value counts\n",
    "df1.notnull().sum()"
   ]
  },
  {
   "cell_type": "code",
   "execution_count": 8,
   "id": "37ac95bc",
   "metadata": {},
   "outputs": [
    {
     "data": {
      "text/plain": [
       "saledate              389\n",
       "nstores               389\n",
       "nsku                  389\n",
       "totalquantity         389\n",
       "avgquantity           389\n",
       "totalamt              389\n",
       "avgamt                389\n",
       "minamt                389\n",
       "maxamt                389\n",
       "totalorigprice        389\n",
       "avgorigprice          389\n",
       "minorigprice          389\n",
       "maxorigprice          389\n",
       "totalretail           389\n",
       "avgretail             389\n",
       "minretail             389\n",
       "maxretail             389\n",
       "avgretailtrnsact      389\n",
       "totalcost             389\n",
       "avgcost               389\n",
       "mincost               389\n",
       "maxcost               389\n",
       "avgcosttrnsact        389\n",
       "totaldiscount         389\n",
       "avgdiscounttrnsact    389\n",
       "mindiscount           389\n",
       "maxdiscount           389\n",
       "totalprofit           389\n",
       "avgprofittrnsact      389\n",
       "minprofit             389\n",
       "maxprofit             389\n",
       "nstore                389\n",
       "ncities               389\n",
       "ndept                 389\n",
       "nvendors              389\n",
       "avgvendorsstore       389\n",
       "dtype: int64"
      ]
     },
     "execution_count": 8,
     "metadata": {},
     "output_type": "execute_result"
    }
   ],
   "source": [
    "df2.notnull().sum()"
   ]
  },
  {
   "cell_type": "code",
   "execution_count": 9,
   "id": "6206b5cd",
   "metadata": {},
   "outputs": [
    {
     "data": {
      "text/html": [
       "<div>\n",
       "<style scoped>\n",
       "    .dataframe tbody tr th:only-of-type {\n",
       "        vertical-align: middle;\n",
       "    }\n",
       "\n",
       "    .dataframe tbody tr th {\n",
       "        vertical-align: top;\n",
       "    }\n",
       "\n",
       "    .dataframe thead th {\n",
       "        text-align: right;\n",
       "    }\n",
       "</style>\n",
       "<table border=\"1\" class=\"dataframe\">\n",
       "  <thead>\n",
       "    <tr style=\"text-align: right;\">\n",
       "      <th></th>\n",
       "      <th>saledate</th>\n",
       "      <th>nstores</th>\n",
       "      <th>nsku</th>\n",
       "      <th>totalquantity</th>\n",
       "      <th>avgquantity</th>\n",
       "      <th>totalamt</th>\n",
       "      <th>avgamt</th>\n",
       "      <th>minamt</th>\n",
       "      <th>maxamt</th>\n",
       "      <th>totalorigprice</th>\n",
       "      <th>...</th>\n",
       "      <th>maxdiscount</th>\n",
       "      <th>totalprofit</th>\n",
       "      <th>avgprofittrnsact</th>\n",
       "      <th>minprofit</th>\n",
       "      <th>maxprofit</th>\n",
       "      <th>nstore</th>\n",
       "      <th>ncities</th>\n",
       "      <th>ndept</th>\n",
       "      <th>nvendors</th>\n",
       "      <th>avgvendorsstore</th>\n",
       "    </tr>\n",
       "  </thead>\n",
       "  <tbody>\n",
       "    <tr>\n",
       "      <th>0</th>\n",
       "      <td>2004-08-01</td>\n",
       "      <td>323</td>\n",
       "      <td>61741</td>\n",
       "      <td>188073</td>\n",
       "      <td>783</td>\n",
       "      <td>6035654.36</td>\n",
       "      <td>25148.559833</td>\n",
       "      <td>0.0</td>\n",
       "      <td>895.0</td>\n",
       "      <td>4467905.60</td>\n",
       "      <td>...</td>\n",
       "      <td>118.50</td>\n",
       "      <td>511060.0</td>\n",
       "      <td>2129.418229</td>\n",
       "      <td>-103.75</td>\n",
       "      <td>275.00</td>\n",
       "      <td>323</td>\n",
       "      <td>262</td>\n",
       "      <td>58</td>\n",
       "      <td>852</td>\n",
       "      <td>2</td>\n",
       "    </tr>\n",
       "    <tr>\n",
       "      <th>1</th>\n",
       "      <td>2004-08-02</td>\n",
       "      <td>324</td>\n",
       "      <td>59183</td>\n",
       "      <td>177143</td>\n",
       "      <td>208</td>\n",
       "      <td>5637192.49</td>\n",
       "      <td>6624.197991</td>\n",
       "      <td>0.0</td>\n",
       "      <td>1200.0</td>\n",
       "      <td>4174584.51</td>\n",
       "      <td>...</td>\n",
       "      <td>325.00</td>\n",
       "      <td>532033.0</td>\n",
       "      <td>625.185444</td>\n",
       "      <td>-82.50</td>\n",
       "      <td>359.00</td>\n",
       "      <td>324</td>\n",
       "      <td>263</td>\n",
       "      <td>58</td>\n",
       "      <td>827</td>\n",
       "      <td>2</td>\n",
       "    </tr>\n",
       "    <tr>\n",
       "      <th>2</th>\n",
       "      <td>2004-08-03</td>\n",
       "      <td>324</td>\n",
       "      <td>62593</td>\n",
       "      <td>212625</td>\n",
       "      <td>233</td>\n",
       "      <td>6569613.74</td>\n",
       "      <td>7219.355758</td>\n",
       "      <td>0.0</td>\n",
       "      <td>895.0</td>\n",
       "      <td>4833202.76</td>\n",
       "      <td>...</td>\n",
       "      <td>119.00</td>\n",
       "      <td>659895.0</td>\n",
       "      <td>725.159066</td>\n",
       "      <td>-103.75</td>\n",
       "      <td>393.00</td>\n",
       "      <td>324</td>\n",
       "      <td>263</td>\n",
       "      <td>58</td>\n",
       "      <td>842</td>\n",
       "      <td>2</td>\n",
       "    </tr>\n",
       "    <tr>\n",
       "      <th>3</th>\n",
       "      <td>2004-08-04</td>\n",
       "      <td>324</td>\n",
       "      <td>65689</td>\n",
       "      <td>218053</td>\n",
       "      <td>241</td>\n",
       "      <td>6874637.33</td>\n",
       "      <td>7604.687312</td>\n",
       "      <td>0.0</td>\n",
       "      <td>895.0</td>\n",
       "      <td>4974026.91</td>\n",
       "      <td>...</td>\n",
       "      <td>275.00</td>\n",
       "      <td>631430.0</td>\n",
       "      <td>698.484375</td>\n",
       "      <td>-142.00</td>\n",
       "      <td>393.00</td>\n",
       "      <td>324</td>\n",
       "      <td>263</td>\n",
       "      <td>58</td>\n",
       "      <td>843</td>\n",
       "      <td>2</td>\n",
       "    </tr>\n",
       "    <tr>\n",
       "      <th>4</th>\n",
       "      <td>2004-08-05</td>\n",
       "      <td>325</td>\n",
       "      <td>68941</td>\n",
       "      <td>225237</td>\n",
       "      <td>289</td>\n",
       "      <td>7913489.50</td>\n",
       "      <td>10184.671171</td>\n",
       "      <td>0.0</td>\n",
       "      <td>1200.0</td>\n",
       "      <td>5501540.60</td>\n",
       "      <td>...</td>\n",
       "      <td>275.00</td>\n",
       "      <td>635209.0</td>\n",
       "      <td>817.514640</td>\n",
       "      <td>-177.50</td>\n",
       "      <td>393.00</td>\n",
       "      <td>325</td>\n",
       "      <td>263</td>\n",
       "      <td>58</td>\n",
       "      <td>870</td>\n",
       "      <td>2</td>\n",
       "    </tr>\n",
       "    <tr>\n",
       "      <th>...</th>\n",
       "      <td>...</td>\n",
       "      <td>...</td>\n",
       "      <td>...</td>\n",
       "      <td>...</td>\n",
       "      <td>...</td>\n",
       "      <td>...</td>\n",
       "      <td>...</td>\n",
       "      <td>...</td>\n",
       "      <td>...</td>\n",
       "      <td>...</td>\n",
       "      <td>...</td>\n",
       "      <td>...</td>\n",
       "      <td>...</td>\n",
       "      <td>...</td>\n",
       "      <td>...</td>\n",
       "      <td>...</td>\n",
       "      <td>...</td>\n",
       "      <td>...</td>\n",
       "      <td>...</td>\n",
       "      <td>...</td>\n",
       "      <td>...</td>\n",
       "    </tr>\n",
       "    <tr>\n",
       "      <th>384</th>\n",
       "      <td>2005-08-23</td>\n",
       "      <td>325</td>\n",
       "      <td>84999</td>\n",
       "      <td>216712</td>\n",
       "      <td>226</td>\n",
       "      <td>7457004.46</td>\n",
       "      <td>7800.213870</td>\n",
       "      <td>0.0</td>\n",
       "      <td>1200.0</td>\n",
       "      <td>5141321.76</td>\n",
       "      <td>...</td>\n",
       "      <td>347.50</td>\n",
       "      <td>1477840.0</td>\n",
       "      <td>1545.861402</td>\n",
       "      <td>-297.50</td>\n",
       "      <td>768.75</td>\n",
       "      <td>325</td>\n",
       "      <td>264</td>\n",
       "      <td>60</td>\n",
       "      <td>944</td>\n",
       "      <td>2</td>\n",
       "    </tr>\n",
       "    <tr>\n",
       "      <th>385</th>\n",
       "      <td>2005-08-24</td>\n",
       "      <td>325</td>\n",
       "      <td>140901</td>\n",
       "      <td>466006</td>\n",
       "      <td>496</td>\n",
       "      <td>19248987.11</td>\n",
       "      <td>20521.308220</td>\n",
       "      <td>0.0</td>\n",
       "      <td>1200.0</td>\n",
       "      <td>8398192.33</td>\n",
       "      <td>...</td>\n",
       "      <td>476.00</td>\n",
       "      <td>1982620.0</td>\n",
       "      <td>2113.670176</td>\n",
       "      <td>-151.25</td>\n",
       "      <td>555.29</td>\n",
       "      <td>325</td>\n",
       "      <td>264</td>\n",
       "      <td>60</td>\n",
       "      <td>1041</td>\n",
       "      <td>3</td>\n",
       "    </tr>\n",
       "    <tr>\n",
       "      <th>386</th>\n",
       "      <td>2005-08-25</td>\n",
       "      <td>325</td>\n",
       "      <td>134977</td>\n",
       "      <td>422296</td>\n",
       "      <td>442</td>\n",
       "      <td>17062480.18</td>\n",
       "      <td>17885.199350</td>\n",
       "      <td>0.0</td>\n",
       "      <td>1200.0</td>\n",
       "      <td>7772270.13</td>\n",
       "      <td>...</td>\n",
       "      <td>581.75</td>\n",
       "      <td>1943150.0</td>\n",
       "      <td>2036.842243</td>\n",
       "      <td>-180.00</td>\n",
       "      <td>500.00</td>\n",
       "      <td>325</td>\n",
       "      <td>264</td>\n",
       "      <td>60</td>\n",
       "      <td>1019</td>\n",
       "      <td>3</td>\n",
       "    </tr>\n",
       "    <tr>\n",
       "      <th>387</th>\n",
       "      <td>2005-08-26</td>\n",
       "      <td>324</td>\n",
       "      <td>144548</td>\n",
       "      <td>482390</td>\n",
       "      <td>525</td>\n",
       "      <td>19215591.82</td>\n",
       "      <td>20932.017233</td>\n",
       "      <td>0.0</td>\n",
       "      <td>1200.0</td>\n",
       "      <td>8968694.40</td>\n",
       "      <td>...</td>\n",
       "      <td>490.88</td>\n",
       "      <td>2344460.0</td>\n",
       "      <td>2553.876089</td>\n",
       "      <td>-370.01</td>\n",
       "      <td>450.00</td>\n",
       "      <td>324</td>\n",
       "      <td>263</td>\n",
       "      <td>60</td>\n",
       "      <td>1056</td>\n",
       "      <td>3</td>\n",
       "    </tr>\n",
       "    <tr>\n",
       "      <th>388</th>\n",
       "      <td>2005-08-27</td>\n",
       "      <td>325</td>\n",
       "      <td>174635</td>\n",
       "      <td>726056</td>\n",
       "      <td>790</td>\n",
       "      <td>29404178.67</td>\n",
       "      <td>31995.841861</td>\n",
       "      <td>0.0</td>\n",
       "      <td>1200.0</td>\n",
       "      <td>14044552.29</td>\n",
       "      <td>...</td>\n",
       "      <td>540.00</td>\n",
       "      <td>3903930.0</td>\n",
       "      <td>4248.019859</td>\n",
       "      <td>-166.25</td>\n",
       "      <td>555.29</td>\n",
       "      <td>325</td>\n",
       "      <td>264</td>\n",
       "      <td>60</td>\n",
       "      <td>1098</td>\n",
       "      <td>3</td>\n",
       "    </tr>\n",
       "  </tbody>\n",
       "</table>\n",
       "<p>389 rows × 36 columns</p>\n",
       "</div>"
      ],
      "text/plain": [
       "       saledate  nstores    nsku  totalquantity  avgquantity     totalamt  \\\n",
       "0    2004-08-01      323   61741         188073          783   6035654.36   \n",
       "1    2004-08-02      324   59183         177143          208   5637192.49   \n",
       "2    2004-08-03      324   62593         212625          233   6569613.74   \n",
       "3    2004-08-04      324   65689         218053          241   6874637.33   \n",
       "4    2004-08-05      325   68941         225237          289   7913489.50   \n",
       "..          ...      ...     ...            ...          ...          ...   \n",
       "384  2005-08-23      325   84999         216712          226   7457004.46   \n",
       "385  2005-08-24      325  140901         466006          496  19248987.11   \n",
       "386  2005-08-25      325  134977         422296          442  17062480.18   \n",
       "387  2005-08-26      324  144548         482390          525  19215591.82   \n",
       "388  2005-08-27      325  174635         726056          790  29404178.67   \n",
       "\n",
       "           avgamt  minamt  maxamt  totalorigprice  ...  maxdiscount  \\\n",
       "0    25148.559833     0.0   895.0      4467905.60  ...       118.50   \n",
       "1     6624.197991     0.0  1200.0      4174584.51  ...       325.00   \n",
       "2     7219.355758     0.0   895.0      4833202.76  ...       119.00   \n",
       "3     7604.687312     0.0   895.0      4974026.91  ...       275.00   \n",
       "4    10184.671171     0.0  1200.0      5501540.60  ...       275.00   \n",
       "..            ...     ...     ...             ...  ...          ...   \n",
       "384   7800.213870     0.0  1200.0      5141321.76  ...       347.50   \n",
       "385  20521.308220     0.0  1200.0      8398192.33  ...       476.00   \n",
       "386  17885.199350     0.0  1200.0      7772270.13  ...       581.75   \n",
       "387  20932.017233     0.0  1200.0      8968694.40  ...       490.88   \n",
       "388  31995.841861     0.0  1200.0     14044552.29  ...       540.00   \n",
       "\n",
       "     totalprofit  avgprofittrnsact  minprofit  maxprofit  nstore  ncities  \\\n",
       "0       511060.0       2129.418229    -103.75     275.00     323      262   \n",
       "1       532033.0        625.185444     -82.50     359.00     324      263   \n",
       "2       659895.0        725.159066    -103.75     393.00     324      263   \n",
       "3       631430.0        698.484375    -142.00     393.00     324      263   \n",
       "4       635209.0        817.514640    -177.50     393.00     325      263   \n",
       "..           ...               ...        ...        ...     ...      ...   \n",
       "384    1477840.0       1545.861402    -297.50     768.75     325      264   \n",
       "385    1982620.0       2113.670176    -151.25     555.29     325      264   \n",
       "386    1943150.0       2036.842243    -180.00     500.00     325      264   \n",
       "387    2344460.0       2553.876089    -370.01     450.00     324      263   \n",
       "388    3903930.0       4248.019859    -166.25     555.29     325      264   \n",
       "\n",
       "     ndept  nvendors  avgvendorsstore  \n",
       "0       58       852                2  \n",
       "1       58       827                2  \n",
       "2       58       842                2  \n",
       "3       58       843                2  \n",
       "4       58       870                2  \n",
       "..     ...       ...              ...  \n",
       "384     60       944                2  \n",
       "385     60      1041                3  \n",
       "386     60      1019                3  \n",
       "387     60      1056                3  \n",
       "388     60      1098                3  \n",
       "\n",
       "[389 rows x 36 columns]"
      ]
     },
     "execution_count": 9,
     "metadata": {},
     "output_type": "execute_result"
    }
   ],
   "source": [
    "df1"
   ]
  },
  {
   "cell_type": "code",
   "execution_count": 10,
   "id": "fb0e0f31",
   "metadata": {},
   "outputs": [
    {
     "data": {
      "text/html": [
       "<div>\n",
       "<style scoped>\n",
       "    .dataframe tbody tr th:only-of-type {\n",
       "        vertical-align: middle;\n",
       "    }\n",
       "\n",
       "    .dataframe tbody tr th {\n",
       "        vertical-align: top;\n",
       "    }\n",
       "\n",
       "    .dataframe thead th {\n",
       "        text-align: right;\n",
       "    }\n",
       "</style>\n",
       "<table border=\"1\" class=\"dataframe\">\n",
       "  <thead>\n",
       "    <tr style=\"text-align: right;\">\n",
       "      <th></th>\n",
       "      <th>saledate</th>\n",
       "      <th>nstores</th>\n",
       "      <th>nsku</th>\n",
       "      <th>totalquantity</th>\n",
       "      <th>avgquantity</th>\n",
       "      <th>totalamt</th>\n",
       "      <th>avgamt</th>\n",
       "      <th>minamt</th>\n",
       "      <th>maxamt</th>\n",
       "      <th>totalorigprice</th>\n",
       "      <th>...</th>\n",
       "      <th>maxdiscount</th>\n",
       "      <th>totalprofit</th>\n",
       "      <th>avgprofittrnsact</th>\n",
       "      <th>minprofit</th>\n",
       "      <th>maxprofit</th>\n",
       "      <th>nstore</th>\n",
       "      <th>ncities</th>\n",
       "      <th>ndept</th>\n",
       "      <th>nvendors</th>\n",
       "      <th>avgvendorsstore</th>\n",
       "    </tr>\n",
       "  </thead>\n",
       "  <tbody>\n",
       "    <tr>\n",
       "      <th>0</th>\n",
       "      <td>2004-08-01</td>\n",
       "      <td>323</td>\n",
       "      <td>61741</td>\n",
       "      <td>188073</td>\n",
       "      <td>783</td>\n",
       "      <td>6035654.36</td>\n",
       "      <td>25148.559833</td>\n",
       "      <td>0.0</td>\n",
       "      <td>895.0</td>\n",
       "      <td>4467905.60</td>\n",
       "      <td>...</td>\n",
       "      <td>118.50</td>\n",
       "      <td>511060.0</td>\n",
       "      <td>2129.418229</td>\n",
       "      <td>0.0</td>\n",
       "      <td>275.00</td>\n",
       "      <td>323</td>\n",
       "      <td>262</td>\n",
       "      <td>58</td>\n",
       "      <td>852</td>\n",
       "      <td>2</td>\n",
       "    </tr>\n",
       "    <tr>\n",
       "      <th>1</th>\n",
       "      <td>2004-08-02</td>\n",
       "      <td>324</td>\n",
       "      <td>59183</td>\n",
       "      <td>177143</td>\n",
       "      <td>208</td>\n",
       "      <td>5637192.49</td>\n",
       "      <td>6624.197991</td>\n",
       "      <td>0.0</td>\n",
       "      <td>1200.0</td>\n",
       "      <td>4174584.51</td>\n",
       "      <td>...</td>\n",
       "      <td>325.00</td>\n",
       "      <td>532033.0</td>\n",
       "      <td>625.185444</td>\n",
       "      <td>0.0</td>\n",
       "      <td>359.00</td>\n",
       "      <td>324</td>\n",
       "      <td>263</td>\n",
       "      <td>58</td>\n",
       "      <td>827</td>\n",
       "      <td>2</td>\n",
       "    </tr>\n",
       "    <tr>\n",
       "      <th>2</th>\n",
       "      <td>2004-08-03</td>\n",
       "      <td>324</td>\n",
       "      <td>62593</td>\n",
       "      <td>212625</td>\n",
       "      <td>233</td>\n",
       "      <td>6569613.74</td>\n",
       "      <td>7219.355758</td>\n",
       "      <td>0.0</td>\n",
       "      <td>895.0</td>\n",
       "      <td>4833202.76</td>\n",
       "      <td>...</td>\n",
       "      <td>119.00</td>\n",
       "      <td>659895.0</td>\n",
       "      <td>725.159066</td>\n",
       "      <td>0.0</td>\n",
       "      <td>393.00</td>\n",
       "      <td>324</td>\n",
       "      <td>263</td>\n",
       "      <td>58</td>\n",
       "      <td>842</td>\n",
       "      <td>2</td>\n",
       "    </tr>\n",
       "    <tr>\n",
       "      <th>3</th>\n",
       "      <td>2004-08-04</td>\n",
       "      <td>324</td>\n",
       "      <td>65689</td>\n",
       "      <td>218053</td>\n",
       "      <td>241</td>\n",
       "      <td>6874637.33</td>\n",
       "      <td>7604.687312</td>\n",
       "      <td>0.0</td>\n",
       "      <td>895.0</td>\n",
       "      <td>4974026.91</td>\n",
       "      <td>...</td>\n",
       "      <td>275.00</td>\n",
       "      <td>631430.0</td>\n",
       "      <td>698.484375</td>\n",
       "      <td>0.0</td>\n",
       "      <td>393.00</td>\n",
       "      <td>324</td>\n",
       "      <td>263</td>\n",
       "      <td>58</td>\n",
       "      <td>843</td>\n",
       "      <td>2</td>\n",
       "    </tr>\n",
       "    <tr>\n",
       "      <th>4</th>\n",
       "      <td>2004-08-05</td>\n",
       "      <td>325</td>\n",
       "      <td>68941</td>\n",
       "      <td>225237</td>\n",
       "      <td>289</td>\n",
       "      <td>7913489.50</td>\n",
       "      <td>10184.671171</td>\n",
       "      <td>0.0</td>\n",
       "      <td>1200.0</td>\n",
       "      <td>5501540.60</td>\n",
       "      <td>...</td>\n",
       "      <td>275.00</td>\n",
       "      <td>635209.0</td>\n",
       "      <td>817.514640</td>\n",
       "      <td>0.0</td>\n",
       "      <td>393.00</td>\n",
       "      <td>325</td>\n",
       "      <td>263</td>\n",
       "      <td>58</td>\n",
       "      <td>870</td>\n",
       "      <td>2</td>\n",
       "    </tr>\n",
       "    <tr>\n",
       "      <th>...</th>\n",
       "      <td>...</td>\n",
       "      <td>...</td>\n",
       "      <td>...</td>\n",
       "      <td>...</td>\n",
       "      <td>...</td>\n",
       "      <td>...</td>\n",
       "      <td>...</td>\n",
       "      <td>...</td>\n",
       "      <td>...</td>\n",
       "      <td>...</td>\n",
       "      <td>...</td>\n",
       "      <td>...</td>\n",
       "      <td>...</td>\n",
       "      <td>...</td>\n",
       "      <td>...</td>\n",
       "      <td>...</td>\n",
       "      <td>...</td>\n",
       "      <td>...</td>\n",
       "      <td>...</td>\n",
       "      <td>...</td>\n",
       "      <td>...</td>\n",
       "    </tr>\n",
       "    <tr>\n",
       "      <th>381</th>\n",
       "      <td>2005-08-23</td>\n",
       "      <td>325</td>\n",
       "      <td>84999</td>\n",
       "      <td>216712</td>\n",
       "      <td>226</td>\n",
       "      <td>7457004.46</td>\n",
       "      <td>7800.213870</td>\n",
       "      <td>0.0</td>\n",
       "      <td>1200.0</td>\n",
       "      <td>5141321.76</td>\n",
       "      <td>...</td>\n",
       "      <td>347.50</td>\n",
       "      <td>1477840.0</td>\n",
       "      <td>1545.861402</td>\n",
       "      <td>0.0</td>\n",
       "      <td>768.75</td>\n",
       "      <td>325</td>\n",
       "      <td>264</td>\n",
       "      <td>60</td>\n",
       "      <td>944</td>\n",
       "      <td>2</td>\n",
       "    </tr>\n",
       "    <tr>\n",
       "      <th>382</th>\n",
       "      <td>2005-08-24</td>\n",
       "      <td>325</td>\n",
       "      <td>140901</td>\n",
       "      <td>466006</td>\n",
       "      <td>496</td>\n",
       "      <td>19248987.11</td>\n",
       "      <td>20521.308220</td>\n",
       "      <td>0.0</td>\n",
       "      <td>1200.0</td>\n",
       "      <td>8398192.33</td>\n",
       "      <td>...</td>\n",
       "      <td>476.00</td>\n",
       "      <td>1982620.0</td>\n",
       "      <td>2113.670176</td>\n",
       "      <td>0.0</td>\n",
       "      <td>555.29</td>\n",
       "      <td>325</td>\n",
       "      <td>264</td>\n",
       "      <td>60</td>\n",
       "      <td>1041</td>\n",
       "      <td>3</td>\n",
       "    </tr>\n",
       "    <tr>\n",
       "      <th>383</th>\n",
       "      <td>2005-08-25</td>\n",
       "      <td>325</td>\n",
       "      <td>134977</td>\n",
       "      <td>422296</td>\n",
       "      <td>442</td>\n",
       "      <td>17062480.18</td>\n",
       "      <td>17885.199350</td>\n",
       "      <td>0.0</td>\n",
       "      <td>1200.0</td>\n",
       "      <td>7772270.13</td>\n",
       "      <td>...</td>\n",
       "      <td>581.75</td>\n",
       "      <td>1943150.0</td>\n",
       "      <td>2036.842243</td>\n",
       "      <td>0.0</td>\n",
       "      <td>500.00</td>\n",
       "      <td>325</td>\n",
       "      <td>264</td>\n",
       "      <td>60</td>\n",
       "      <td>1019</td>\n",
       "      <td>3</td>\n",
       "    </tr>\n",
       "    <tr>\n",
       "      <th>384</th>\n",
       "      <td>2005-08-26</td>\n",
       "      <td>324</td>\n",
       "      <td>144548</td>\n",
       "      <td>482390</td>\n",
       "      <td>525</td>\n",
       "      <td>19215591.82</td>\n",
       "      <td>20932.017233</td>\n",
       "      <td>0.0</td>\n",
       "      <td>1200.0</td>\n",
       "      <td>8968694.40</td>\n",
       "      <td>...</td>\n",
       "      <td>490.88</td>\n",
       "      <td>2344460.0</td>\n",
       "      <td>2553.876089</td>\n",
       "      <td>0.0</td>\n",
       "      <td>450.00</td>\n",
       "      <td>324</td>\n",
       "      <td>263</td>\n",
       "      <td>60</td>\n",
       "      <td>1056</td>\n",
       "      <td>3</td>\n",
       "    </tr>\n",
       "    <tr>\n",
       "      <th>385</th>\n",
       "      <td>2005-08-27</td>\n",
       "      <td>325</td>\n",
       "      <td>174635</td>\n",
       "      <td>726056</td>\n",
       "      <td>790</td>\n",
       "      <td>29404178.67</td>\n",
       "      <td>31995.841861</td>\n",
       "      <td>0.0</td>\n",
       "      <td>1200.0</td>\n",
       "      <td>14044552.29</td>\n",
       "      <td>...</td>\n",
       "      <td>540.00</td>\n",
       "      <td>3903930.0</td>\n",
       "      <td>4248.019859</td>\n",
       "      <td>0.0</td>\n",
       "      <td>555.29</td>\n",
       "      <td>325</td>\n",
       "      <td>264</td>\n",
       "      <td>60</td>\n",
       "      <td>1098</td>\n",
       "      <td>3</td>\n",
       "    </tr>\n",
       "  </tbody>\n",
       "</table>\n",
       "<p>389 rows × 36 columns</p>\n",
       "</div>"
      ],
      "text/plain": [
       "       saledate  nstores    nsku  totalquantity  avgquantity     totalamt  \\\n",
       "0    2004-08-01      323   61741         188073          783   6035654.36   \n",
       "1    2004-08-02      324   59183         177143          208   5637192.49   \n",
       "2    2004-08-03      324   62593         212625          233   6569613.74   \n",
       "3    2004-08-04      324   65689         218053          241   6874637.33   \n",
       "4    2004-08-05      325   68941         225237          289   7913489.50   \n",
       "..          ...      ...     ...            ...          ...          ...   \n",
       "381  2005-08-23      325   84999         216712          226   7457004.46   \n",
       "382  2005-08-24      325  140901         466006          496  19248987.11   \n",
       "383  2005-08-25      325  134977         422296          442  17062480.18   \n",
       "384  2005-08-26      324  144548         482390          525  19215591.82   \n",
       "385  2005-08-27      325  174635         726056          790  29404178.67   \n",
       "\n",
       "           avgamt  minamt  maxamt  totalorigprice  ...  maxdiscount  \\\n",
       "0    25148.559833     0.0   895.0      4467905.60  ...       118.50   \n",
       "1     6624.197991     0.0  1200.0      4174584.51  ...       325.00   \n",
       "2     7219.355758     0.0   895.0      4833202.76  ...       119.00   \n",
       "3     7604.687312     0.0   895.0      4974026.91  ...       275.00   \n",
       "4    10184.671171     0.0  1200.0      5501540.60  ...       275.00   \n",
       "..            ...     ...     ...             ...  ...          ...   \n",
       "381   7800.213870     0.0  1200.0      5141321.76  ...       347.50   \n",
       "382  20521.308220     0.0  1200.0      8398192.33  ...       476.00   \n",
       "383  17885.199350     0.0  1200.0      7772270.13  ...       581.75   \n",
       "384  20932.017233     0.0  1200.0      8968694.40  ...       490.88   \n",
       "385  31995.841861     0.0  1200.0     14044552.29  ...       540.00   \n",
       "\n",
       "     totalprofit  avgprofittrnsact  minprofit  maxprofit  nstore  ncities  \\\n",
       "0       511060.0       2129.418229        0.0     275.00     323      262   \n",
       "1       532033.0        625.185444        0.0     359.00     324      263   \n",
       "2       659895.0        725.159066        0.0     393.00     324      263   \n",
       "3       631430.0        698.484375        0.0     393.00     324      263   \n",
       "4       635209.0        817.514640        0.0     393.00     325      263   \n",
       "..           ...               ...        ...        ...     ...      ...   \n",
       "381    1477840.0       1545.861402        0.0     768.75     325      264   \n",
       "382    1982620.0       2113.670176        0.0     555.29     325      264   \n",
       "383    1943150.0       2036.842243        0.0     500.00     325      264   \n",
       "384    2344460.0       2553.876089        0.0     450.00     324      263   \n",
       "385    3903930.0       4248.019859        0.0     555.29     325      264   \n",
       "\n",
       "     ndept  nvendors  avgvendorsstore  \n",
       "0       58       852                2  \n",
       "1       58       827                2  \n",
       "2       58       842                2  \n",
       "3       58       843                2  \n",
       "4       58       870                2  \n",
       "..     ...       ...              ...  \n",
       "381     60       944                2  \n",
       "382     60      1041                3  \n",
       "383     60      1019                3  \n",
       "384     60      1056                3  \n",
       "385     60      1098                3  \n",
       "\n",
       "[389 rows x 36 columns]"
      ]
     },
     "execution_count": 10,
     "metadata": {},
     "output_type": "execute_result"
    }
   ],
   "source": [
    "df2"
   ]
  },
  {
   "cell_type": "code",
   "execution_count": 11,
   "id": "2446ed09",
   "metadata": {},
   "outputs": [],
   "source": [
    "def join_macro(df):\n",
    "    unemployee = pd.read_csv(\"UNRATE.csv\")\n",
    "    cpi = pd.read_csv(\"cpi.csv\")\n",
    "    dff = pd.read_csv(\"DFF.csv\")\n",
    "    df['saledate']= pd.to_datetime(df['saledate'])\n",
    "    cpi['DATE']= pd.to_datetime(cpi['DATE'])\n",
    "    unemployee['DATE']= pd.to_datetime(unemployee['DATE'])\n",
    "    dff['DATE']= pd.to_datetime(dff['DATE'])\n",
    "    df_combined = pd.merge(df.assign(grouper=df['saledate'].dt.to_period('M')),\n",
    "                   cpi.assign(grouper=cpi['DATE'].dt.to_period('M')),\n",
    "                   how='left', on='grouper')\n",
    "    df_combined = pd.merge(df_combined.assign(grouper=df_combined['saledate'].dt.to_period('M')),\n",
    "                   unemployee.assign(grouper=unemployee['DATE'].dt.to_period('M')),\n",
    "                   how='left', on='grouper')\n",
    "    df_combined = pd.merge(df_combined.assign(grouper=df_combined['saledate'].dt.to_period('D')),\n",
    "                   dff.assign(grouper=dff['DATE'].dt.to_period('D')),\n",
    "                   how='left', on='grouper')\n",
    "    df_combined = df_combined.drop(columns = [\"grouper\",\"DATE_x\",\"DATE_y\",\"DATE\"])\n",
    "    \n",
    "    return df_combined"
   ]
  },
  {
   "cell_type": "code",
   "execution_count": 12,
   "id": "e6a536c8",
   "metadata": {},
   "outputs": [
    {
     "data": {
      "text/html": [
       "<div>\n",
       "<style scoped>\n",
       "    .dataframe tbody tr th:only-of-type {\n",
       "        vertical-align: middle;\n",
       "    }\n",
       "\n",
       "    .dataframe tbody tr th {\n",
       "        vertical-align: top;\n",
       "    }\n",
       "\n",
       "    .dataframe thead th {\n",
       "        text-align: right;\n",
       "    }\n",
       "</style>\n",
       "<table border=\"1\" class=\"dataframe\">\n",
       "  <thead>\n",
       "    <tr style=\"text-align: right;\">\n",
       "      <th></th>\n",
       "      <th>saledate</th>\n",
       "      <th>nstores</th>\n",
       "      <th>nsku</th>\n",
       "      <th>totalquantity</th>\n",
       "      <th>avgquantity</th>\n",
       "      <th>totalamt</th>\n",
       "      <th>avgamt</th>\n",
       "      <th>minamt</th>\n",
       "      <th>maxamt</th>\n",
       "      <th>totalorigprice</th>\n",
       "      <th>...</th>\n",
       "      <th>minprofit</th>\n",
       "      <th>maxprofit</th>\n",
       "      <th>nstore</th>\n",
       "      <th>ncities</th>\n",
       "      <th>ndept</th>\n",
       "      <th>nvendors</th>\n",
       "      <th>avgvendorsstore</th>\n",
       "      <th>CORESTICKM159SFRBATL</th>\n",
       "      <th>UNRATE</th>\n",
       "      <th>DFF</th>\n",
       "    </tr>\n",
       "  </thead>\n",
       "  <tbody>\n",
       "    <tr>\n",
       "      <th>0</th>\n",
       "      <td>2004-08-01</td>\n",
       "      <td>323</td>\n",
       "      <td>61741</td>\n",
       "      <td>188073</td>\n",
       "      <td>783</td>\n",
       "      <td>6035654.36</td>\n",
       "      <td>25148.559833</td>\n",
       "      <td>0.0</td>\n",
       "      <td>895.0</td>\n",
       "      <td>4467905.60</td>\n",
       "      <td>...</td>\n",
       "      <td>-103.75</td>\n",
       "      <td>275.00</td>\n",
       "      <td>323</td>\n",
       "      <td>262</td>\n",
       "      <td>58</td>\n",
       "      <td>852</td>\n",
       "      <td>2</td>\n",
       "      <td>2.257729</td>\n",
       "      <td>5.4</td>\n",
       "      <td>1.29</td>\n",
       "    </tr>\n",
       "    <tr>\n",
       "      <th>1</th>\n",
       "      <td>2004-08-02</td>\n",
       "      <td>324</td>\n",
       "      <td>59183</td>\n",
       "      <td>177143</td>\n",
       "      <td>208</td>\n",
       "      <td>5637192.49</td>\n",
       "      <td>6624.197991</td>\n",
       "      <td>0.0</td>\n",
       "      <td>1200.0</td>\n",
       "      <td>4174584.51</td>\n",
       "      <td>...</td>\n",
       "      <td>-82.50</td>\n",
       "      <td>359.00</td>\n",
       "      <td>324</td>\n",
       "      <td>263</td>\n",
       "      <td>58</td>\n",
       "      <td>827</td>\n",
       "      <td>2</td>\n",
       "      <td>2.257729</td>\n",
       "      <td>5.4</td>\n",
       "      <td>1.28</td>\n",
       "    </tr>\n",
       "    <tr>\n",
       "      <th>2</th>\n",
       "      <td>2004-08-03</td>\n",
       "      <td>324</td>\n",
       "      <td>62593</td>\n",
       "      <td>212625</td>\n",
       "      <td>233</td>\n",
       "      <td>6569613.74</td>\n",
       "      <td>7219.355758</td>\n",
       "      <td>0.0</td>\n",
       "      <td>895.0</td>\n",
       "      <td>4833202.76</td>\n",
       "      <td>...</td>\n",
       "      <td>-103.75</td>\n",
       "      <td>393.00</td>\n",
       "      <td>324</td>\n",
       "      <td>263</td>\n",
       "      <td>58</td>\n",
       "      <td>842</td>\n",
       "      <td>2</td>\n",
       "      <td>2.257729</td>\n",
       "      <td>5.4</td>\n",
       "      <td>1.24</td>\n",
       "    </tr>\n",
       "    <tr>\n",
       "      <th>3</th>\n",
       "      <td>2004-08-04</td>\n",
       "      <td>324</td>\n",
       "      <td>65689</td>\n",
       "      <td>218053</td>\n",
       "      <td>241</td>\n",
       "      <td>6874637.33</td>\n",
       "      <td>7604.687312</td>\n",
       "      <td>0.0</td>\n",
       "      <td>895.0</td>\n",
       "      <td>4974026.91</td>\n",
       "      <td>...</td>\n",
       "      <td>-142.00</td>\n",
       "      <td>393.00</td>\n",
       "      <td>324</td>\n",
       "      <td>263</td>\n",
       "      <td>58</td>\n",
       "      <td>843</td>\n",
       "      <td>2</td>\n",
       "      <td>2.257729</td>\n",
       "      <td>5.4</td>\n",
       "      <td>1.22</td>\n",
       "    </tr>\n",
       "    <tr>\n",
       "      <th>4</th>\n",
       "      <td>2004-08-05</td>\n",
       "      <td>325</td>\n",
       "      <td>68941</td>\n",
       "      <td>225237</td>\n",
       "      <td>289</td>\n",
       "      <td>7913489.50</td>\n",
       "      <td>10184.671171</td>\n",
       "      <td>0.0</td>\n",
       "      <td>1200.0</td>\n",
       "      <td>5501540.60</td>\n",
       "      <td>...</td>\n",
       "      <td>-177.50</td>\n",
       "      <td>393.00</td>\n",
       "      <td>325</td>\n",
       "      <td>263</td>\n",
       "      <td>58</td>\n",
       "      <td>870</td>\n",
       "      <td>2</td>\n",
       "      <td>2.257729</td>\n",
       "      <td>5.4</td>\n",
       "      <td>1.30</td>\n",
       "    </tr>\n",
       "    <tr>\n",
       "      <th>...</th>\n",
       "      <td>...</td>\n",
       "      <td>...</td>\n",
       "      <td>...</td>\n",
       "      <td>...</td>\n",
       "      <td>...</td>\n",
       "      <td>...</td>\n",
       "      <td>...</td>\n",
       "      <td>...</td>\n",
       "      <td>...</td>\n",
       "      <td>...</td>\n",
       "      <td>...</td>\n",
       "      <td>...</td>\n",
       "      <td>...</td>\n",
       "      <td>...</td>\n",
       "      <td>...</td>\n",
       "      <td>...</td>\n",
       "      <td>...</td>\n",
       "      <td>...</td>\n",
       "      <td>...</td>\n",
       "      <td>...</td>\n",
       "      <td>...</td>\n",
       "    </tr>\n",
       "    <tr>\n",
       "      <th>384</th>\n",
       "      <td>2005-08-23</td>\n",
       "      <td>325</td>\n",
       "      <td>84999</td>\n",
       "      <td>216712</td>\n",
       "      <td>226</td>\n",
       "      <td>7457004.46</td>\n",
       "      <td>7800.213870</td>\n",
       "      <td>0.0</td>\n",
       "      <td>1200.0</td>\n",
       "      <td>5141321.76</td>\n",
       "      <td>...</td>\n",
       "      <td>-297.50</td>\n",
       "      <td>768.75</td>\n",
       "      <td>325</td>\n",
       "      <td>264</td>\n",
       "      <td>60</td>\n",
       "      <td>944</td>\n",
       "      <td>2</td>\n",
       "      <td>2.264406</td>\n",
       "      <td>4.9</td>\n",
       "      <td>3.49</td>\n",
       "    </tr>\n",
       "    <tr>\n",
       "      <th>385</th>\n",
       "      <td>2005-08-24</td>\n",
       "      <td>325</td>\n",
       "      <td>140901</td>\n",
       "      <td>466006</td>\n",
       "      <td>496</td>\n",
       "      <td>19248987.11</td>\n",
       "      <td>20521.308220</td>\n",
       "      <td>0.0</td>\n",
       "      <td>1200.0</td>\n",
       "      <td>8398192.33</td>\n",
       "      <td>...</td>\n",
       "      <td>-151.25</td>\n",
       "      <td>555.29</td>\n",
       "      <td>325</td>\n",
       "      <td>264</td>\n",
       "      <td>60</td>\n",
       "      <td>1041</td>\n",
       "      <td>3</td>\n",
       "      <td>2.264406</td>\n",
       "      <td>4.9</td>\n",
       "      <td>3.50</td>\n",
       "    </tr>\n",
       "    <tr>\n",
       "      <th>386</th>\n",
       "      <td>2005-08-25</td>\n",
       "      <td>325</td>\n",
       "      <td>134977</td>\n",
       "      <td>422296</td>\n",
       "      <td>442</td>\n",
       "      <td>17062480.18</td>\n",
       "      <td>17885.199350</td>\n",
       "      <td>0.0</td>\n",
       "      <td>1200.0</td>\n",
       "      <td>7772270.13</td>\n",
       "      <td>...</td>\n",
       "      <td>-180.00</td>\n",
       "      <td>500.00</td>\n",
       "      <td>325</td>\n",
       "      <td>264</td>\n",
       "      <td>60</td>\n",
       "      <td>1019</td>\n",
       "      <td>3</td>\n",
       "      <td>2.264406</td>\n",
       "      <td>4.9</td>\n",
       "      <td>3.55</td>\n",
       "    </tr>\n",
       "    <tr>\n",
       "      <th>387</th>\n",
       "      <td>2005-08-26</td>\n",
       "      <td>324</td>\n",
       "      <td>144548</td>\n",
       "      <td>482390</td>\n",
       "      <td>525</td>\n",
       "      <td>19215591.82</td>\n",
       "      <td>20932.017233</td>\n",
       "      <td>0.0</td>\n",
       "      <td>1200.0</td>\n",
       "      <td>8968694.40</td>\n",
       "      <td>...</td>\n",
       "      <td>-370.01</td>\n",
       "      <td>450.00</td>\n",
       "      <td>324</td>\n",
       "      <td>263</td>\n",
       "      <td>60</td>\n",
       "      <td>1056</td>\n",
       "      <td>3</td>\n",
       "      <td>2.264406</td>\n",
       "      <td>4.9</td>\n",
       "      <td>3.54</td>\n",
       "    </tr>\n",
       "    <tr>\n",
       "      <th>388</th>\n",
       "      <td>2005-08-27</td>\n",
       "      <td>325</td>\n",
       "      <td>174635</td>\n",
       "      <td>726056</td>\n",
       "      <td>790</td>\n",
       "      <td>29404178.67</td>\n",
       "      <td>31995.841861</td>\n",
       "      <td>0.0</td>\n",
       "      <td>1200.0</td>\n",
       "      <td>14044552.29</td>\n",
       "      <td>...</td>\n",
       "      <td>-166.25</td>\n",
       "      <td>555.29</td>\n",
       "      <td>325</td>\n",
       "      <td>264</td>\n",
       "      <td>60</td>\n",
       "      <td>1098</td>\n",
       "      <td>3</td>\n",
       "      <td>2.264406</td>\n",
       "      <td>4.9</td>\n",
       "      <td>3.54</td>\n",
       "    </tr>\n",
       "  </tbody>\n",
       "</table>\n",
       "<p>389 rows × 39 columns</p>\n",
       "</div>"
      ],
      "text/plain": [
       "      saledate  nstores    nsku  totalquantity  avgquantity     totalamt  \\\n",
       "0   2004-08-01      323   61741         188073          783   6035654.36   \n",
       "1   2004-08-02      324   59183         177143          208   5637192.49   \n",
       "2   2004-08-03      324   62593         212625          233   6569613.74   \n",
       "3   2004-08-04      324   65689         218053          241   6874637.33   \n",
       "4   2004-08-05      325   68941         225237          289   7913489.50   \n",
       "..         ...      ...     ...            ...          ...          ...   \n",
       "384 2005-08-23      325   84999         216712          226   7457004.46   \n",
       "385 2005-08-24      325  140901         466006          496  19248987.11   \n",
       "386 2005-08-25      325  134977         422296          442  17062480.18   \n",
       "387 2005-08-26      324  144548         482390          525  19215591.82   \n",
       "388 2005-08-27      325  174635         726056          790  29404178.67   \n",
       "\n",
       "           avgamt  minamt  maxamt  totalorigprice  ...  minprofit  maxprofit  \\\n",
       "0    25148.559833     0.0   895.0      4467905.60  ...    -103.75     275.00   \n",
       "1     6624.197991     0.0  1200.0      4174584.51  ...     -82.50     359.00   \n",
       "2     7219.355758     0.0   895.0      4833202.76  ...    -103.75     393.00   \n",
       "3     7604.687312     0.0   895.0      4974026.91  ...    -142.00     393.00   \n",
       "4    10184.671171     0.0  1200.0      5501540.60  ...    -177.50     393.00   \n",
       "..            ...     ...     ...             ...  ...        ...        ...   \n",
       "384   7800.213870     0.0  1200.0      5141321.76  ...    -297.50     768.75   \n",
       "385  20521.308220     0.0  1200.0      8398192.33  ...    -151.25     555.29   \n",
       "386  17885.199350     0.0  1200.0      7772270.13  ...    -180.00     500.00   \n",
       "387  20932.017233     0.0  1200.0      8968694.40  ...    -370.01     450.00   \n",
       "388  31995.841861     0.0  1200.0     14044552.29  ...    -166.25     555.29   \n",
       "\n",
       "     nstore  ncities  ndept  nvendors  avgvendorsstore  CORESTICKM159SFRBATL  \\\n",
       "0       323      262     58       852                2              2.257729   \n",
       "1       324      263     58       827                2              2.257729   \n",
       "2       324      263     58       842                2              2.257729   \n",
       "3       324      263     58       843                2              2.257729   \n",
       "4       325      263     58       870                2              2.257729   \n",
       "..      ...      ...    ...       ...              ...                   ...   \n",
       "384     325      264     60       944                2              2.264406   \n",
       "385     325      264     60      1041                3              2.264406   \n",
       "386     325      264     60      1019                3              2.264406   \n",
       "387     324      263     60      1056                3              2.264406   \n",
       "388     325      264     60      1098                3              2.264406   \n",
       "\n",
       "     UNRATE   DFF  \n",
       "0       5.4  1.29  \n",
       "1       5.4  1.28  \n",
       "2       5.4  1.24  \n",
       "3       5.4  1.22  \n",
       "4       5.4  1.30  \n",
       "..      ...   ...  \n",
       "384     4.9  3.49  \n",
       "385     4.9  3.50  \n",
       "386     4.9  3.55  \n",
       "387     4.9  3.54  \n",
       "388     4.9  3.54  \n",
       "\n",
       "[389 rows x 39 columns]"
      ]
     },
     "execution_count": 12,
     "metadata": {},
     "output_type": "execute_result"
    }
   ],
   "source": [
    "df_combined1 = join_macro(df1)\n",
    "df_combined1"
   ]
  },
  {
   "cell_type": "code",
   "execution_count": 13,
   "id": "8c140a41",
   "metadata": {},
   "outputs": [
    {
     "data": {
      "text/html": [
       "<div>\n",
       "<style scoped>\n",
       "    .dataframe tbody tr th:only-of-type {\n",
       "        vertical-align: middle;\n",
       "    }\n",
       "\n",
       "    .dataframe tbody tr th {\n",
       "        vertical-align: top;\n",
       "    }\n",
       "\n",
       "    .dataframe thead th {\n",
       "        text-align: right;\n",
       "    }\n",
       "</style>\n",
       "<table border=\"1\" class=\"dataframe\">\n",
       "  <thead>\n",
       "    <tr style=\"text-align: right;\">\n",
       "      <th></th>\n",
       "      <th>saledate</th>\n",
       "      <th>nstores</th>\n",
       "      <th>nsku</th>\n",
       "      <th>totalquantity</th>\n",
       "      <th>avgquantity</th>\n",
       "      <th>totalamt</th>\n",
       "      <th>avgamt</th>\n",
       "      <th>minamt</th>\n",
       "      <th>maxamt</th>\n",
       "      <th>totalorigprice</th>\n",
       "      <th>...</th>\n",
       "      <th>minprofit</th>\n",
       "      <th>maxprofit</th>\n",
       "      <th>nstore</th>\n",
       "      <th>ncities</th>\n",
       "      <th>ndept</th>\n",
       "      <th>nvendors</th>\n",
       "      <th>avgvendorsstore</th>\n",
       "      <th>CORESTICKM159SFRBATL</th>\n",
       "      <th>UNRATE</th>\n",
       "      <th>DFF</th>\n",
       "    </tr>\n",
       "  </thead>\n",
       "  <tbody>\n",
       "    <tr>\n",
       "      <th>0</th>\n",
       "      <td>2004-08-01</td>\n",
       "      <td>323</td>\n",
       "      <td>61741</td>\n",
       "      <td>188073</td>\n",
       "      <td>783</td>\n",
       "      <td>6035654.36</td>\n",
       "      <td>25148.559833</td>\n",
       "      <td>0.0</td>\n",
       "      <td>895.0</td>\n",
       "      <td>4467905.60</td>\n",
       "      <td>...</td>\n",
       "      <td>0.0</td>\n",
       "      <td>275.00</td>\n",
       "      <td>323</td>\n",
       "      <td>262</td>\n",
       "      <td>58</td>\n",
       "      <td>852</td>\n",
       "      <td>2</td>\n",
       "      <td>2.257729</td>\n",
       "      <td>5.4</td>\n",
       "      <td>1.29</td>\n",
       "    </tr>\n",
       "    <tr>\n",
       "      <th>1</th>\n",
       "      <td>2004-08-02</td>\n",
       "      <td>324</td>\n",
       "      <td>59183</td>\n",
       "      <td>177143</td>\n",
       "      <td>208</td>\n",
       "      <td>5637192.49</td>\n",
       "      <td>6624.197991</td>\n",
       "      <td>0.0</td>\n",
       "      <td>1200.0</td>\n",
       "      <td>4174584.51</td>\n",
       "      <td>...</td>\n",
       "      <td>0.0</td>\n",
       "      <td>359.00</td>\n",
       "      <td>324</td>\n",
       "      <td>263</td>\n",
       "      <td>58</td>\n",
       "      <td>827</td>\n",
       "      <td>2</td>\n",
       "      <td>2.257729</td>\n",
       "      <td>5.4</td>\n",
       "      <td>1.28</td>\n",
       "    </tr>\n",
       "    <tr>\n",
       "      <th>2</th>\n",
       "      <td>2004-08-03</td>\n",
       "      <td>324</td>\n",
       "      <td>62593</td>\n",
       "      <td>212625</td>\n",
       "      <td>233</td>\n",
       "      <td>6569613.74</td>\n",
       "      <td>7219.355758</td>\n",
       "      <td>0.0</td>\n",
       "      <td>895.0</td>\n",
       "      <td>4833202.76</td>\n",
       "      <td>...</td>\n",
       "      <td>0.0</td>\n",
       "      <td>393.00</td>\n",
       "      <td>324</td>\n",
       "      <td>263</td>\n",
       "      <td>58</td>\n",
       "      <td>842</td>\n",
       "      <td>2</td>\n",
       "      <td>2.257729</td>\n",
       "      <td>5.4</td>\n",
       "      <td>1.24</td>\n",
       "    </tr>\n",
       "    <tr>\n",
       "      <th>3</th>\n",
       "      <td>2004-08-04</td>\n",
       "      <td>324</td>\n",
       "      <td>65689</td>\n",
       "      <td>218053</td>\n",
       "      <td>241</td>\n",
       "      <td>6874637.33</td>\n",
       "      <td>7604.687312</td>\n",
       "      <td>0.0</td>\n",
       "      <td>895.0</td>\n",
       "      <td>4974026.91</td>\n",
       "      <td>...</td>\n",
       "      <td>0.0</td>\n",
       "      <td>393.00</td>\n",
       "      <td>324</td>\n",
       "      <td>263</td>\n",
       "      <td>58</td>\n",
       "      <td>843</td>\n",
       "      <td>2</td>\n",
       "      <td>2.257729</td>\n",
       "      <td>5.4</td>\n",
       "      <td>1.22</td>\n",
       "    </tr>\n",
       "    <tr>\n",
       "      <th>4</th>\n",
       "      <td>2004-08-05</td>\n",
       "      <td>325</td>\n",
       "      <td>68941</td>\n",
       "      <td>225237</td>\n",
       "      <td>289</td>\n",
       "      <td>7913489.50</td>\n",
       "      <td>10184.671171</td>\n",
       "      <td>0.0</td>\n",
       "      <td>1200.0</td>\n",
       "      <td>5501540.60</td>\n",
       "      <td>...</td>\n",
       "      <td>0.0</td>\n",
       "      <td>393.00</td>\n",
       "      <td>325</td>\n",
       "      <td>263</td>\n",
       "      <td>58</td>\n",
       "      <td>870</td>\n",
       "      <td>2</td>\n",
       "      <td>2.257729</td>\n",
       "      <td>5.4</td>\n",
       "      <td>1.30</td>\n",
       "    </tr>\n",
       "    <tr>\n",
       "      <th>...</th>\n",
       "      <td>...</td>\n",
       "      <td>...</td>\n",
       "      <td>...</td>\n",
       "      <td>...</td>\n",
       "      <td>...</td>\n",
       "      <td>...</td>\n",
       "      <td>...</td>\n",
       "      <td>...</td>\n",
       "      <td>...</td>\n",
       "      <td>...</td>\n",
       "      <td>...</td>\n",
       "      <td>...</td>\n",
       "      <td>...</td>\n",
       "      <td>...</td>\n",
       "      <td>...</td>\n",
       "      <td>...</td>\n",
       "      <td>...</td>\n",
       "      <td>...</td>\n",
       "      <td>...</td>\n",
       "      <td>...</td>\n",
       "      <td>...</td>\n",
       "    </tr>\n",
       "    <tr>\n",
       "      <th>384</th>\n",
       "      <td>2005-08-23</td>\n",
       "      <td>325</td>\n",
       "      <td>84999</td>\n",
       "      <td>216712</td>\n",
       "      <td>226</td>\n",
       "      <td>7457004.46</td>\n",
       "      <td>7800.213870</td>\n",
       "      <td>0.0</td>\n",
       "      <td>1200.0</td>\n",
       "      <td>5141321.76</td>\n",
       "      <td>...</td>\n",
       "      <td>0.0</td>\n",
       "      <td>768.75</td>\n",
       "      <td>325</td>\n",
       "      <td>264</td>\n",
       "      <td>60</td>\n",
       "      <td>944</td>\n",
       "      <td>2</td>\n",
       "      <td>2.264406</td>\n",
       "      <td>4.9</td>\n",
       "      <td>3.49</td>\n",
       "    </tr>\n",
       "    <tr>\n",
       "      <th>385</th>\n",
       "      <td>2005-08-24</td>\n",
       "      <td>325</td>\n",
       "      <td>140901</td>\n",
       "      <td>466006</td>\n",
       "      <td>496</td>\n",
       "      <td>19248987.11</td>\n",
       "      <td>20521.308220</td>\n",
       "      <td>0.0</td>\n",
       "      <td>1200.0</td>\n",
       "      <td>8398192.33</td>\n",
       "      <td>...</td>\n",
       "      <td>0.0</td>\n",
       "      <td>555.29</td>\n",
       "      <td>325</td>\n",
       "      <td>264</td>\n",
       "      <td>60</td>\n",
       "      <td>1041</td>\n",
       "      <td>3</td>\n",
       "      <td>2.264406</td>\n",
       "      <td>4.9</td>\n",
       "      <td>3.50</td>\n",
       "    </tr>\n",
       "    <tr>\n",
       "      <th>386</th>\n",
       "      <td>2005-08-25</td>\n",
       "      <td>325</td>\n",
       "      <td>134977</td>\n",
       "      <td>422296</td>\n",
       "      <td>442</td>\n",
       "      <td>17062480.18</td>\n",
       "      <td>17885.199350</td>\n",
       "      <td>0.0</td>\n",
       "      <td>1200.0</td>\n",
       "      <td>7772270.13</td>\n",
       "      <td>...</td>\n",
       "      <td>0.0</td>\n",
       "      <td>500.00</td>\n",
       "      <td>325</td>\n",
       "      <td>264</td>\n",
       "      <td>60</td>\n",
       "      <td>1019</td>\n",
       "      <td>3</td>\n",
       "      <td>2.264406</td>\n",
       "      <td>4.9</td>\n",
       "      <td>3.55</td>\n",
       "    </tr>\n",
       "    <tr>\n",
       "      <th>387</th>\n",
       "      <td>2005-08-26</td>\n",
       "      <td>324</td>\n",
       "      <td>144548</td>\n",
       "      <td>482390</td>\n",
       "      <td>525</td>\n",
       "      <td>19215591.82</td>\n",
       "      <td>20932.017233</td>\n",
       "      <td>0.0</td>\n",
       "      <td>1200.0</td>\n",
       "      <td>8968694.40</td>\n",
       "      <td>...</td>\n",
       "      <td>0.0</td>\n",
       "      <td>450.00</td>\n",
       "      <td>324</td>\n",
       "      <td>263</td>\n",
       "      <td>60</td>\n",
       "      <td>1056</td>\n",
       "      <td>3</td>\n",
       "      <td>2.264406</td>\n",
       "      <td>4.9</td>\n",
       "      <td>3.54</td>\n",
       "    </tr>\n",
       "    <tr>\n",
       "      <th>388</th>\n",
       "      <td>2005-08-27</td>\n",
       "      <td>325</td>\n",
       "      <td>174635</td>\n",
       "      <td>726056</td>\n",
       "      <td>790</td>\n",
       "      <td>29404178.67</td>\n",
       "      <td>31995.841861</td>\n",
       "      <td>0.0</td>\n",
       "      <td>1200.0</td>\n",
       "      <td>14044552.29</td>\n",
       "      <td>...</td>\n",
       "      <td>0.0</td>\n",
       "      <td>555.29</td>\n",
       "      <td>325</td>\n",
       "      <td>264</td>\n",
       "      <td>60</td>\n",
       "      <td>1098</td>\n",
       "      <td>3</td>\n",
       "      <td>2.264406</td>\n",
       "      <td>4.9</td>\n",
       "      <td>3.54</td>\n",
       "    </tr>\n",
       "  </tbody>\n",
       "</table>\n",
       "<p>389 rows × 39 columns</p>\n",
       "</div>"
      ],
      "text/plain": [
       "      saledate  nstores    nsku  totalquantity  avgquantity     totalamt  \\\n",
       "0   2004-08-01      323   61741         188073          783   6035654.36   \n",
       "1   2004-08-02      324   59183         177143          208   5637192.49   \n",
       "2   2004-08-03      324   62593         212625          233   6569613.74   \n",
       "3   2004-08-04      324   65689         218053          241   6874637.33   \n",
       "4   2004-08-05      325   68941         225237          289   7913489.50   \n",
       "..         ...      ...     ...            ...          ...          ...   \n",
       "384 2005-08-23      325   84999         216712          226   7457004.46   \n",
       "385 2005-08-24      325  140901         466006          496  19248987.11   \n",
       "386 2005-08-25      325  134977         422296          442  17062480.18   \n",
       "387 2005-08-26      324  144548         482390          525  19215591.82   \n",
       "388 2005-08-27      325  174635         726056          790  29404178.67   \n",
       "\n",
       "           avgamt  minamt  maxamt  totalorigprice  ...  minprofit  maxprofit  \\\n",
       "0    25148.559833     0.0   895.0      4467905.60  ...        0.0     275.00   \n",
       "1     6624.197991     0.0  1200.0      4174584.51  ...        0.0     359.00   \n",
       "2     7219.355758     0.0   895.0      4833202.76  ...        0.0     393.00   \n",
       "3     7604.687312     0.0   895.0      4974026.91  ...        0.0     393.00   \n",
       "4    10184.671171     0.0  1200.0      5501540.60  ...        0.0     393.00   \n",
       "..            ...     ...     ...             ...  ...        ...        ...   \n",
       "384   7800.213870     0.0  1200.0      5141321.76  ...        0.0     768.75   \n",
       "385  20521.308220     0.0  1200.0      8398192.33  ...        0.0     555.29   \n",
       "386  17885.199350     0.0  1200.0      7772270.13  ...        0.0     500.00   \n",
       "387  20932.017233     0.0  1200.0      8968694.40  ...        0.0     450.00   \n",
       "388  31995.841861     0.0  1200.0     14044552.29  ...        0.0     555.29   \n",
       "\n",
       "     nstore  ncities  ndept  nvendors  avgvendorsstore  CORESTICKM159SFRBATL  \\\n",
       "0       323      262     58       852                2              2.257729   \n",
       "1       324      263     58       827                2              2.257729   \n",
       "2       324      263     58       842                2              2.257729   \n",
       "3       324      263     58       843                2              2.257729   \n",
       "4       325      263     58       870                2              2.257729   \n",
       "..      ...      ...    ...       ...              ...                   ...   \n",
       "384     325      264     60       944                2              2.264406   \n",
       "385     325      264     60      1041                3              2.264406   \n",
       "386     325      264     60      1019                3              2.264406   \n",
       "387     324      263     60      1056                3              2.264406   \n",
       "388     325      264     60      1098                3              2.264406   \n",
       "\n",
       "     UNRATE   DFF  \n",
       "0       5.4  1.29  \n",
       "1       5.4  1.28  \n",
       "2       5.4  1.24  \n",
       "3       5.4  1.22  \n",
       "4       5.4  1.30  \n",
       "..      ...   ...  \n",
       "384     4.9  3.49  \n",
       "385     4.9  3.50  \n",
       "386     4.9  3.55  \n",
       "387     4.9  3.54  \n",
       "388     4.9  3.54  \n",
       "\n",
       "[389 rows x 39 columns]"
      ]
     },
     "execution_count": 13,
     "metadata": {},
     "output_type": "execute_result"
    }
   ],
   "source": [
    "df_combined2 = join_macro(df2)\n",
    "df_combined2"
   ]
  },
  {
   "cell_type": "code",
   "execution_count": 14,
   "id": "49f12dc0",
   "metadata": {},
   "outputs": [],
   "source": [
    "def plot_profit(df_combined):\n",
    "    df_groupyed = df_combined\n",
    "    color_pal = sns.color_palette()\n",
    "    # set df index as date\n",
    "    df_ts = df_groupyed.set_index('saledate')\n",
    "    df_ts.index = pd.to_datetime(df_ts.index)\n",
    "    # check distribution of amount (no pattern found)\n",
    "    df_ts_draw = df_ts[\"totalprofit\"]\n",
    "    df_ts_draw.plot(style='.',\n",
    "            figsize=(15, 5),\n",
    "            color=color_pal[0],\n",
    "            title='Number')\n",
    "    plt.show()\n",
    "    return df_ts"
   ]
  },
  {
   "cell_type": "code",
   "execution_count": 15,
   "id": "da83b7d5",
   "metadata": {},
   "outputs": [
    {
     "data": {
      "image/png": "[encoded data removed]",
      "text/plain": [
       "<Figure size 1080x360 with 1 Axes>"
      ]
     },
     "metadata": {
      "needs_background": "light"
     },
     "output_type": "display_data"
    },
    {
     "data": {
      "image/png": "[encoded data removed]",
      "text/plain": [
       "<Figure size 1080x360 with 1 Axes>"
      ]
     },
     "metadata": {
      "needs_background": "light"
     },
     "output_type": "display_data"
    }
   ],
   "source": [
    "df_ts1 = plot_profit(df_combined1)\n",
    "df_ts2 = plot_profit(df_combined2)"
   ]
  },
  {
   "cell_type": "code",
   "execution_count": 16,
   "id": "180f8fef",
   "metadata": {},
   "outputs": [
    {
     "data": {
      "text/html": [
       "<div>\n",
       "<style scoped>\n",
       "    .dataframe tbody tr th:only-of-type {\n",
       "        vertical-align: middle;\n",
       "    }\n",
       "\n",
       "    .dataframe tbody tr th {\n",
       "        vertical-align: top;\n",
       "    }\n",
       "\n",
       "    .dataframe thead th {\n",
       "        text-align: right;\n",
       "    }\n",
       "</style>\n",
       "<table border=\"1\" class=\"dataframe\">\n",
       "  <thead>\n",
       "    <tr style=\"text-align: right;\">\n",
       "      <th></th>\n",
       "      <th>nstores</th>\n",
       "      <th>nsku</th>\n",
       "      <th>totalquantity</th>\n",
       "      <th>avgquantity</th>\n",
       "      <th>totalamt</th>\n",
       "      <th>avgamt</th>\n",
       "      <th>minamt</th>\n",
       "      <th>maxamt</th>\n",
       "      <th>totalorigprice</th>\n",
       "      <th>avgorigprice</th>\n",
       "      <th>...</th>\n",
       "      <th>minprofit</th>\n",
       "      <th>maxprofit</th>\n",
       "      <th>nstore</th>\n",
       "      <th>ncities</th>\n",
       "      <th>ndept</th>\n",
       "      <th>nvendors</th>\n",
       "      <th>avgvendorsstore</th>\n",
       "      <th>CORESTICKM159SFRBATL</th>\n",
       "      <th>UNRATE</th>\n",
       "      <th>DFF</th>\n",
       "    </tr>\n",
       "    <tr>\n",
       "      <th>saledate</th>\n",
       "      <th></th>\n",
       "      <th></th>\n",
       "      <th></th>\n",
       "      <th></th>\n",
       "      <th></th>\n",
       "      <th></th>\n",
       "      <th></th>\n",
       "      <th></th>\n",
       "      <th></th>\n",
       "      <th></th>\n",
       "      <th></th>\n",
       "      <th></th>\n",
       "      <th></th>\n",
       "      <th></th>\n",
       "      <th></th>\n",
       "      <th></th>\n",
       "      <th></th>\n",
       "      <th></th>\n",
       "      <th></th>\n",
       "      <th></th>\n",
       "      <th></th>\n",
       "    </tr>\n",
       "  </thead>\n",
       "  <tbody>\n",
       "    <tr>\n",
       "      <th>2004-08-01</th>\n",
       "      <td>323</td>\n",
       "      <td>61741</td>\n",
       "      <td>188073</td>\n",
       "      <td>783</td>\n",
       "      <td>6035654.36</td>\n",
       "      <td>25148.559833</td>\n",
       "      <td>0.0</td>\n",
       "      <td>895.0</td>\n",
       "      <td>4467905.60</td>\n",
       "      <td>23.756231</td>\n",
       "      <td>...</td>\n",
       "      <td>-103.75</td>\n",
       "      <td>275.00</td>\n",
       "      <td>323</td>\n",
       "      <td>262</td>\n",
       "      <td>58</td>\n",
       "      <td>852</td>\n",
       "      <td>2</td>\n",
       "      <td>2.257729</td>\n",
       "      <td>5.4</td>\n",
       "      <td>1.29</td>\n",
       "    </tr>\n",
       "    <tr>\n",
       "      <th>2004-08-02</th>\n",
       "      <td>324</td>\n",
       "      <td>59183</td>\n",
       "      <td>177143</td>\n",
       "      <td>208</td>\n",
       "      <td>5637192.49</td>\n",
       "      <td>6624.197991</td>\n",
       "      <td>0.0</td>\n",
       "      <td>1200.0</td>\n",
       "      <td>4174584.51</td>\n",
       "      <td>23.566184</td>\n",
       "      <td>...</td>\n",
       "      <td>-82.50</td>\n",
       "      <td>359.00</td>\n",
       "      <td>324</td>\n",
       "      <td>263</td>\n",
       "      <td>58</td>\n",
       "      <td>827</td>\n",
       "      <td>2</td>\n",
       "      <td>2.257729</td>\n",
       "      <td>5.4</td>\n",
       "      <td>1.28</td>\n",
       "    </tr>\n",
       "    <tr>\n",
       "      <th>2004-08-03</th>\n",
       "      <td>324</td>\n",
       "      <td>62593</td>\n",
       "      <td>212625</td>\n",
       "      <td>233</td>\n",
       "      <td>6569613.74</td>\n",
       "      <td>7219.355758</td>\n",
       "      <td>0.0</td>\n",
       "      <td>895.0</td>\n",
       "      <td>4833202.76</td>\n",
       "      <td>22.731112</td>\n",
       "      <td>...</td>\n",
       "      <td>-103.75</td>\n",
       "      <td>393.00</td>\n",
       "      <td>324</td>\n",
       "      <td>263</td>\n",
       "      <td>58</td>\n",
       "      <td>842</td>\n",
       "      <td>2</td>\n",
       "      <td>2.257729</td>\n",
       "      <td>5.4</td>\n",
       "      <td>1.24</td>\n",
       "    </tr>\n",
       "    <tr>\n",
       "      <th>2004-08-04</th>\n",
       "      <td>324</td>\n",
       "      <td>65689</td>\n",
       "      <td>218053</td>\n",
       "      <td>241</td>\n",
       "      <td>6874637.33</td>\n",
       "      <td>7604.687312</td>\n",
       "      <td>0.0</td>\n",
       "      <td>895.0</td>\n",
       "      <td>4974026.91</td>\n",
       "      <td>22.811091</td>\n",
       "      <td>...</td>\n",
       "      <td>-142.00</td>\n",
       "      <td>393.00</td>\n",
       "      <td>324</td>\n",
       "      <td>263</td>\n",
       "      <td>58</td>\n",
       "      <td>843</td>\n",
       "      <td>2</td>\n",
       "      <td>2.257729</td>\n",
       "      <td>5.4</td>\n",
       "      <td>1.22</td>\n",
       "    </tr>\n",
       "    <tr>\n",
       "      <th>2004-08-05</th>\n",
       "      <td>325</td>\n",
       "      <td>68941</td>\n",
       "      <td>225237</td>\n",
       "      <td>289</td>\n",
       "      <td>7913489.50</td>\n",
       "      <td>10184.671171</td>\n",
       "      <td>0.0</td>\n",
       "      <td>1200.0</td>\n",
       "      <td>5501540.60</td>\n",
       "      <td>24.425563</td>\n",
       "      <td>...</td>\n",
       "      <td>-177.50</td>\n",
       "      <td>393.00</td>\n",
       "      <td>325</td>\n",
       "      <td>263</td>\n",
       "      <td>58</td>\n",
       "      <td>870</td>\n",
       "      <td>2</td>\n",
       "      <td>2.257729</td>\n",
       "      <td>5.4</td>\n",
       "      <td>1.30</td>\n",
       "    </tr>\n",
       "    <tr>\n",
       "      <th>...</th>\n",
       "      <td>...</td>\n",
       "      <td>...</td>\n",
       "      <td>...</td>\n",
       "      <td>...</td>\n",
       "      <td>...</td>\n",
       "      <td>...</td>\n",
       "      <td>...</td>\n",
       "      <td>...</td>\n",
       "      <td>...</td>\n",
       "      <td>...</td>\n",
       "      <td>...</td>\n",
       "      <td>...</td>\n",
       "      <td>...</td>\n",
       "      <td>...</td>\n",
       "      <td>...</td>\n",
       "      <td>...</td>\n",
       "      <td>...</td>\n",
       "      <td>...</td>\n",
       "      <td>...</td>\n",
       "      <td>...</td>\n",
       "      <td>...</td>\n",
       "    </tr>\n",
       "    <tr>\n",
       "      <th>2005-08-23</th>\n",
       "      <td>325</td>\n",
       "      <td>84999</td>\n",
       "      <td>216712</td>\n",
       "      <td>226</td>\n",
       "      <td>7457004.46</td>\n",
       "      <td>7800.213870</td>\n",
       "      <td>0.0</td>\n",
       "      <td>1200.0</td>\n",
       "      <td>5141321.76</td>\n",
       "      <td>23.724214</td>\n",
       "      <td>...</td>\n",
       "      <td>-297.50</td>\n",
       "      <td>768.75</td>\n",
       "      <td>325</td>\n",
       "      <td>264</td>\n",
       "      <td>60</td>\n",
       "      <td>944</td>\n",
       "      <td>2</td>\n",
       "      <td>2.264406</td>\n",
       "      <td>4.9</td>\n",
       "      <td>3.49</td>\n",
       "    </tr>\n",
       "    <tr>\n",
       "      <th>2005-08-24</th>\n",
       "      <td>325</td>\n",
       "      <td>140901</td>\n",
       "      <td>466006</td>\n",
       "      <td>496</td>\n",
       "      <td>19248987.11</td>\n",
       "      <td>20521.308220</td>\n",
       "      <td>0.0</td>\n",
       "      <td>1200.0</td>\n",
       "      <td>8398192.33</td>\n",
       "      <td>18.021640</td>\n",
       "      <td>...</td>\n",
       "      <td>-151.25</td>\n",
       "      <td>555.29</td>\n",
       "      <td>325</td>\n",
       "      <td>264</td>\n",
       "      <td>60</td>\n",
       "      <td>1041</td>\n",
       "      <td>3</td>\n",
       "      <td>2.264406</td>\n",
       "      <td>4.9</td>\n",
       "      <td>3.50</td>\n",
       "    </tr>\n",
       "    <tr>\n",
       "      <th>2005-08-25</th>\n",
       "      <td>325</td>\n",
       "      <td>134977</td>\n",
       "      <td>422296</td>\n",
       "      <td>442</td>\n",
       "      <td>17062480.18</td>\n",
       "      <td>17885.199350</td>\n",
       "      <td>0.0</td>\n",
       "      <td>1200.0</td>\n",
       "      <td>7772270.13</td>\n",
       "      <td>18.404792</td>\n",
       "      <td>...</td>\n",
       "      <td>-180.00</td>\n",
       "      <td>500.00</td>\n",
       "      <td>325</td>\n",
       "      <td>264</td>\n",
       "      <td>60</td>\n",
       "      <td>1019</td>\n",
       "      <td>3</td>\n",
       "      <td>2.264406</td>\n",
       "      <td>4.9</td>\n",
       "      <td>3.55</td>\n",
       "    </tr>\n",
       "    <tr>\n",
       "      <th>2005-08-26</th>\n",
       "      <td>324</td>\n",
       "      <td>144548</td>\n",
       "      <td>482390</td>\n",
       "      <td>525</td>\n",
       "      <td>19215591.82</td>\n",
       "      <td>20932.017233</td>\n",
       "      <td>0.0</td>\n",
       "      <td>1200.0</td>\n",
       "      <td>8968694.40</td>\n",
       "      <td>18.592206</td>\n",
       "      <td>...</td>\n",
       "      <td>-370.01</td>\n",
       "      <td>450.00</td>\n",
       "      <td>324</td>\n",
       "      <td>263</td>\n",
       "      <td>60</td>\n",
       "      <td>1056</td>\n",
       "      <td>3</td>\n",
       "      <td>2.264406</td>\n",
       "      <td>4.9</td>\n",
       "      <td>3.54</td>\n",
       "    </tr>\n",
       "    <tr>\n",
       "      <th>2005-08-27</th>\n",
       "      <td>325</td>\n",
       "      <td>174635</td>\n",
       "      <td>726056</td>\n",
       "      <td>790</td>\n",
       "      <td>29404178.67</td>\n",
       "      <td>31995.841861</td>\n",
       "      <td>0.0</td>\n",
       "      <td>1200.0</td>\n",
       "      <td>14044552.29</td>\n",
       "      <td>19.343621</td>\n",
       "      <td>...</td>\n",
       "      <td>-166.25</td>\n",
       "      <td>555.29</td>\n",
       "      <td>325</td>\n",
       "      <td>264</td>\n",
       "      <td>60</td>\n",
       "      <td>1098</td>\n",
       "      <td>3</td>\n",
       "      <td>2.264406</td>\n",
       "      <td>4.9</td>\n",
       "      <td>3.54</td>\n",
       "    </tr>\n",
       "  </tbody>\n",
       "</table>\n",
       "<p>389 rows × 38 columns</p>\n",
       "</div>"
      ],
      "text/plain": [
       "            nstores    nsku  totalquantity  avgquantity     totalamt  \\\n",
       "saledate                                                               \n",
       "2004-08-01      323   61741         188073          783   6035654.36   \n",
       "2004-08-02      324   59183         177143          208   5637192.49   \n",
       "2004-08-03      324   62593         212625          233   6569613.74   \n",
       "2004-08-04      324   65689         218053          241   6874637.33   \n",
       "2004-08-05      325   68941         225237          289   7913489.50   \n",
       "...             ...     ...            ...          ...          ...   \n",
       "2005-08-23      325   84999         216712          226   7457004.46   \n",
       "2005-08-24      325  140901         466006          496  19248987.11   \n",
       "2005-08-25      325  134977         422296          442  17062480.18   \n",
       "2005-08-26      324  144548         482390          525  19215591.82   \n",
       "2005-08-27      325  174635         726056          790  29404178.67   \n",
       "\n",
       "                  avgamt  minamt  maxamt  totalorigprice  avgorigprice  ...  \\\n",
       "saledate                                                                ...   \n",
       "2004-08-01  25148.559833     0.0   895.0      4467905.60     23.756231  ...   \n",
       "2004-08-02   6624.197991     0.0  1200.0      4174584.51     23.566184  ...   \n",
       "2004-08-03   7219.355758     0.0   895.0      4833202.76     22.731112  ...   \n",
       "2004-08-04   7604.687312     0.0   895.0      4974026.91     22.811091  ...   \n",
       "2004-08-05  10184.671171     0.0  1200.0      5501540.60     24.425563  ...   \n",
       "...                  ...     ...     ...             ...           ...  ...   \n",
       "2005-08-23   7800.213870     0.0  1200.0      5141321.76     23.724214  ...   \n",
       "2005-08-24  20521.308220     0.0  1200.0      8398192.33     18.021640  ...   \n",
       "2005-08-25  17885.199350     0.0  1200.0      7772270.13     18.404792  ...   \n",
       "2005-08-26  20932.017233     0.0  1200.0      8968694.40     18.592206  ...   \n",
       "2005-08-27  31995.841861     0.0  1200.0     14044552.29     19.343621  ...   \n",
       "\n",
       "            minprofit  maxprofit  nstore  ncities  ndept  nvendors  \\\n",
       "saledate                                                             \n",
       "2004-08-01    -103.75     275.00     323      262     58       852   \n",
       "2004-08-02     -82.50     359.00     324      263     58       827   \n",
       "2004-08-03    -103.75     393.00     324      263     58       842   \n",
       "2004-08-04    -142.00     393.00     324      263     58       843   \n",
       "2004-08-05    -177.50     393.00     325      263     58       870   \n",
       "...               ...        ...     ...      ...    ...       ...   \n",
       "2005-08-23    -297.50     768.75     325      264     60       944   \n",
       "2005-08-24    -151.25     555.29     325      264     60      1041   \n",
       "2005-08-25    -180.00     500.00     325      264     60      1019   \n",
       "2005-08-26    -370.01     450.00     324      263     60      1056   \n",
       "2005-08-27    -166.25     555.29     325      264     60      1098   \n",
       "\n",
       "            avgvendorsstore  CORESTICKM159SFRBATL  UNRATE   DFF  \n",
       "saledate                                                         \n",
       "2004-08-01                2              2.257729     5.4  1.29  \n",
       "2004-08-02                2              2.257729     5.4  1.28  \n",
       "2004-08-03                2              2.257729     5.4  1.24  \n",
       "2004-08-04                2              2.257729     5.4  1.22  \n",
       "2004-08-05                2              2.257729     5.4  1.30  \n",
       "...                     ...                   ...     ...   ...  \n",
       "2005-08-23                2              2.264406     4.9  3.49  \n",
       "2005-08-24                3              2.264406     4.9  3.50  \n",
       "2005-08-25                3              2.264406     4.9  3.55  \n",
       "2005-08-26                3              2.264406     4.9  3.54  \n",
       "2005-08-27                3              2.264406     4.9  3.54  \n",
       "\n",
       "[389 rows x 38 columns]"
      ]
     },
     "execution_count": 16,
     "metadata": {},
     "output_type": "execute_result"
    }
   ],
   "source": [
    "df_ts1"
   ]
  },
  {
   "cell_type": "code",
   "execution_count": 17,
   "id": "15af1285",
   "metadata": {
    "scrolled": true
   },
   "outputs": [
    {
     "data": {
      "text/html": [
       "<div>\n",
       "<style scoped>\n",
       "    .dataframe tbody tr th:only-of-type {\n",
       "        vertical-align: middle;\n",
       "    }\n",
       "\n",
       "    .dataframe tbody tr th {\n",
       "        vertical-align: top;\n",
       "    }\n",
       "\n",
       "    .dataframe thead th {\n",
       "        text-align: right;\n",
       "    }\n",
       "</style>\n",
       "<table border=\"1\" class=\"dataframe\">\n",
       "  <thead>\n",
       "    <tr style=\"text-align: right;\">\n",
       "      <th></th>\n",
       "      <th>nstores</th>\n",
       "      <th>nsku</th>\n",
       "      <th>totalquantity</th>\n",
       "      <th>avgquantity</th>\n",
       "      <th>totalamt</th>\n",
       "      <th>avgamt</th>\n",
       "      <th>minamt</th>\n",
       "      <th>maxamt</th>\n",
       "      <th>totalorigprice</th>\n",
       "      <th>avgorigprice</th>\n",
       "      <th>...</th>\n",
       "      <th>nvendors</th>\n",
       "      <th>avgvendorsstore</th>\n",
       "      <th>CORESTICKM159SFRBATL</th>\n",
       "      <th>UNRATE</th>\n",
       "      <th>DFF</th>\n",
       "      <th>dayofweek</th>\n",
       "      <th>quarter</th>\n",
       "      <th>month</th>\n",
       "      <th>year</th>\n",
       "      <th>dayofmonth</th>\n",
       "    </tr>\n",
       "    <tr>\n",
       "      <th>saledate</th>\n",
       "      <th></th>\n",
       "      <th></th>\n",
       "      <th></th>\n",
       "      <th></th>\n",
       "      <th></th>\n",
       "      <th></th>\n",
       "      <th></th>\n",
       "      <th></th>\n",
       "      <th></th>\n",
       "      <th></th>\n",
       "      <th></th>\n",
       "      <th></th>\n",
       "      <th></th>\n",
       "      <th></th>\n",
       "      <th></th>\n",
       "      <th></th>\n",
       "      <th></th>\n",
       "      <th></th>\n",
       "      <th></th>\n",
       "      <th></th>\n",
       "      <th></th>\n",
       "    </tr>\n",
       "  </thead>\n",
       "  <tbody>\n",
       "    <tr>\n",
       "      <th>2004-08-01</th>\n",
       "      <td>323</td>\n",
       "      <td>61741</td>\n",
       "      <td>188073</td>\n",
       "      <td>783</td>\n",
       "      <td>6035654.36</td>\n",
       "      <td>25148.559833</td>\n",
       "      <td>0.0</td>\n",
       "      <td>895.0</td>\n",
       "      <td>4467905.60</td>\n",
       "      <td>23.756231</td>\n",
       "      <td>...</td>\n",
       "      <td>852</td>\n",
       "      <td>2</td>\n",
       "      <td>2.257729</td>\n",
       "      <td>5.4</td>\n",
       "      <td>1.29</td>\n",
       "      <td>6</td>\n",
       "      <td>3</td>\n",
       "      <td>8</td>\n",
       "      <td>2004</td>\n",
       "      <td>1</td>\n",
       "    </tr>\n",
       "    <tr>\n",
       "      <th>2004-08-02</th>\n",
       "      <td>324</td>\n",
       "      <td>59183</td>\n",
       "      <td>177143</td>\n",
       "      <td>208</td>\n",
       "      <td>5637192.49</td>\n",
       "      <td>6624.197991</td>\n",
       "      <td>0.0</td>\n",
       "      <td>1200.0</td>\n",
       "      <td>4174584.51</td>\n",
       "      <td>23.566184</td>\n",
       "      <td>...</td>\n",
       "      <td>827</td>\n",
       "      <td>2</td>\n",
       "      <td>2.257729</td>\n",
       "      <td>5.4</td>\n",
       "      <td>1.28</td>\n",
       "      <td>0</td>\n",
       "      <td>3</td>\n",
       "      <td>8</td>\n",
       "      <td>2004</td>\n",
       "      <td>2</td>\n",
       "    </tr>\n",
       "    <tr>\n",
       "      <th>2004-08-03</th>\n",
       "      <td>324</td>\n",
       "      <td>62593</td>\n",
       "      <td>212625</td>\n",
       "      <td>233</td>\n",
       "      <td>6569613.74</td>\n",
       "      <td>7219.355758</td>\n",
       "      <td>0.0</td>\n",
       "      <td>895.0</td>\n",
       "      <td>4833202.76</td>\n",
       "      <td>22.731112</td>\n",
       "      <td>...</td>\n",
       "      <td>842</td>\n",
       "      <td>2</td>\n",
       "      <td>2.257729</td>\n",
       "      <td>5.4</td>\n",
       "      <td>1.24</td>\n",
       "      <td>1</td>\n",
       "      <td>3</td>\n",
       "      <td>8</td>\n",
       "      <td>2004</td>\n",
       "      <td>3</td>\n",
       "    </tr>\n",
       "    <tr>\n",
       "      <th>2004-08-04</th>\n",
       "      <td>324</td>\n",
       "      <td>65689</td>\n",
       "      <td>218053</td>\n",
       "      <td>241</td>\n",
       "      <td>6874637.33</td>\n",
       "      <td>7604.687312</td>\n",
       "      <td>0.0</td>\n",
       "      <td>895.0</td>\n",
       "      <td>4974026.91</td>\n",
       "      <td>22.811091</td>\n",
       "      <td>...</td>\n",
       "      <td>843</td>\n",
       "      <td>2</td>\n",
       "      <td>2.257729</td>\n",
       "      <td>5.4</td>\n",
       "      <td>1.22</td>\n",
       "      <td>2</td>\n",
       "      <td>3</td>\n",
       "      <td>8</td>\n",
       "      <td>2004</td>\n",
       "      <td>4</td>\n",
       "    </tr>\n",
       "    <tr>\n",
       "      <th>2004-08-05</th>\n",
       "      <td>325</td>\n",
       "      <td>68941</td>\n",
       "      <td>225237</td>\n",
       "      <td>289</td>\n",
       "      <td>7913489.50</td>\n",
       "      <td>10184.671171</td>\n",
       "      <td>0.0</td>\n",
       "      <td>1200.0</td>\n",
       "      <td>5501540.60</td>\n",
       "      <td>24.425563</td>\n",
       "      <td>...</td>\n",
       "      <td>870</td>\n",
       "      <td>2</td>\n",
       "      <td>2.257729</td>\n",
       "      <td>5.4</td>\n",
       "      <td>1.30</td>\n",
       "      <td>3</td>\n",
       "      <td>3</td>\n",
       "      <td>8</td>\n",
       "      <td>2004</td>\n",
       "      <td>5</td>\n",
       "    </tr>\n",
       "    <tr>\n",
       "      <th>...</th>\n",
       "      <td>...</td>\n",
       "      <td>...</td>\n",
       "      <td>...</td>\n",
       "      <td>...</td>\n",
       "      <td>...</td>\n",
       "      <td>...</td>\n",
       "      <td>...</td>\n",
       "      <td>...</td>\n",
       "      <td>...</td>\n",
       "      <td>...</td>\n",
       "      <td>...</td>\n",
       "      <td>...</td>\n",
       "      <td>...</td>\n",
       "      <td>...</td>\n",
       "      <td>...</td>\n",
       "      <td>...</td>\n",
       "      <td>...</td>\n",
       "      <td>...</td>\n",
       "      <td>...</td>\n",
       "      <td>...</td>\n",
       "      <td>...</td>\n",
       "    </tr>\n",
       "    <tr>\n",
       "      <th>2005-08-23</th>\n",
       "      <td>325</td>\n",
       "      <td>84999</td>\n",
       "      <td>216712</td>\n",
       "      <td>226</td>\n",
       "      <td>7457004.46</td>\n",
       "      <td>7800.213870</td>\n",
       "      <td>0.0</td>\n",
       "      <td>1200.0</td>\n",
       "      <td>5141321.76</td>\n",
       "      <td>23.724214</td>\n",
       "      <td>...</td>\n",
       "      <td>944</td>\n",
       "      <td>2</td>\n",
       "      <td>2.264406</td>\n",
       "      <td>4.9</td>\n",
       "      <td>3.49</td>\n",
       "      <td>1</td>\n",
       "      <td>3</td>\n",
       "      <td>8</td>\n",
       "      <td>2005</td>\n",
       "      <td>23</td>\n",
       "    </tr>\n",
       "    <tr>\n",
       "      <th>2005-08-24</th>\n",
       "      <td>325</td>\n",
       "      <td>140901</td>\n",
       "      <td>466006</td>\n",
       "      <td>496</td>\n",
       "      <td>19248987.11</td>\n",
       "      <td>20521.308220</td>\n",
       "      <td>0.0</td>\n",
       "      <td>1200.0</td>\n",
       "      <td>8398192.33</td>\n",
       "      <td>18.021640</td>\n",
       "      <td>...</td>\n",
       "      <td>1041</td>\n",
       "      <td>3</td>\n",
       "      <td>2.264406</td>\n",
       "      <td>4.9</td>\n",
       "      <td>3.50</td>\n",
       "      <td>2</td>\n",
       "      <td>3</td>\n",
       "      <td>8</td>\n",
       "      <td>2005</td>\n",
       "      <td>24</td>\n",
       "    </tr>\n",
       "    <tr>\n",
       "      <th>2005-08-25</th>\n",
       "      <td>325</td>\n",
       "      <td>134977</td>\n",
       "      <td>422296</td>\n",
       "      <td>442</td>\n",
       "      <td>17062480.18</td>\n",
       "      <td>17885.199350</td>\n",
       "      <td>0.0</td>\n",
       "      <td>1200.0</td>\n",
       "      <td>7772270.13</td>\n",
       "      <td>18.404792</td>\n",
       "      <td>...</td>\n",
       "      <td>1019</td>\n",
       "      <td>3</td>\n",
       "      <td>2.264406</td>\n",
       "      <td>4.9</td>\n",
       "      <td>3.55</td>\n",
       "      <td>3</td>\n",
       "      <td>3</td>\n",
       "      <td>8</td>\n",
       "      <td>2005</td>\n",
       "      <td>25</td>\n",
       "    </tr>\n",
       "    <tr>\n",
       "      <th>2005-08-26</th>\n",
       "      <td>324</td>\n",
       "      <td>144548</td>\n",
       "      <td>482390</td>\n",
       "      <td>525</td>\n",
       "      <td>19215591.82</td>\n",
       "      <td>20932.017233</td>\n",
       "      <td>0.0</td>\n",
       "      <td>1200.0</td>\n",
       "      <td>8968694.40</td>\n",
       "      <td>18.592206</td>\n",
       "      <td>...</td>\n",
       "      <td>1056</td>\n",
       "      <td>3</td>\n",
       "      <td>2.264406</td>\n",
       "      <td>4.9</td>\n",
       "      <td>3.54</td>\n",
       "      <td>4</td>\n",
       "      <td>3</td>\n",
       "      <td>8</td>\n",
       "      <td>2005</td>\n",
       "      <td>26</td>\n",
       "    </tr>\n",
       "    <tr>\n",
       "      <th>2005-08-27</th>\n",
       "      <td>325</td>\n",
       "      <td>174635</td>\n",
       "      <td>726056</td>\n",
       "      <td>790</td>\n",
       "      <td>29404178.67</td>\n",
       "      <td>31995.841861</td>\n",
       "      <td>0.0</td>\n",
       "      <td>1200.0</td>\n",
       "      <td>14044552.29</td>\n",
       "      <td>19.343621</td>\n",
       "      <td>...</td>\n",
       "      <td>1098</td>\n",
       "      <td>3</td>\n",
       "      <td>2.264406</td>\n",
       "      <td>4.9</td>\n",
       "      <td>3.54</td>\n",
       "      <td>5</td>\n",
       "      <td>3</td>\n",
       "      <td>8</td>\n",
       "      <td>2005</td>\n",
       "      <td>27</td>\n",
       "    </tr>\n",
       "  </tbody>\n",
       "</table>\n",
       "<p>389 rows × 43 columns</p>\n",
       "</div>"
      ],
      "text/plain": [
       "            nstores    nsku  totalquantity  avgquantity     totalamt  \\\n",
       "saledate                                                               \n",
       "2004-08-01      323   61741         188073          783   6035654.36   \n",
       "2004-08-02      324   59183         177143          208   5637192.49   \n",
       "2004-08-03      324   62593         212625          233   6569613.74   \n",
       "2004-08-04      324   65689         218053          241   6874637.33   \n",
       "2004-08-05      325   68941         225237          289   7913489.50   \n",
       "...             ...     ...            ...          ...          ...   \n",
       "2005-08-23      325   84999         216712          226   7457004.46   \n",
       "2005-08-24      325  140901         466006          496  19248987.11   \n",
       "2005-08-25      325  134977         422296          442  17062480.18   \n",
       "2005-08-26      324  144548         482390          525  19215591.82   \n",
       "2005-08-27      325  174635         726056          790  29404178.67   \n",
       "\n",
       "                  avgamt  minamt  maxamt  totalorigprice  avgorigprice  ...  \\\n",
       "saledate                                                                ...   \n",
       "2004-08-01  25148.559833     0.0   895.0      4467905.60     23.756231  ...   \n",
       "2004-08-02   6624.197991     0.0  1200.0      4174584.51     23.566184  ...   \n",
       "2004-08-03   7219.355758     0.0   895.0      4833202.76     22.731112  ...   \n",
       "2004-08-04   7604.687312     0.0   895.0      4974026.91     22.811091  ...   \n",
       "2004-08-05  10184.671171     0.0  1200.0      5501540.60     24.425563  ...   \n",
       "...                  ...     ...     ...             ...           ...  ...   \n",
       "2005-08-23   7800.213870     0.0  1200.0      5141321.76     23.724214  ...   \n",
       "2005-08-24  20521.308220     0.0  1200.0      8398192.33     18.021640  ...   \n",
       "2005-08-25  17885.199350     0.0  1200.0      7772270.13     18.404792  ...   \n",
       "2005-08-26  20932.017233     0.0  1200.0      8968694.40     18.592206  ...   \n",
       "2005-08-27  31995.841861     0.0  1200.0     14044552.29     19.343621  ...   \n",
       "\n",
       "            nvendors  avgvendorsstore  CORESTICKM159SFRBATL  UNRATE   DFF  \\\n",
       "saledate                                                                    \n",
       "2004-08-01       852                2              2.257729     5.4  1.29   \n",
       "2004-08-02       827                2              2.257729     5.4  1.28   \n",
       "2004-08-03       842                2              2.257729     5.4  1.24   \n",
       "2004-08-04       843                2              2.257729     5.4  1.22   \n",
       "2004-08-05       870                2              2.257729     5.4  1.30   \n",
       "...              ...              ...                   ...     ...   ...   \n",
       "2005-08-23       944                2              2.264406     4.9  3.49   \n",
       "2005-08-24      1041                3              2.264406     4.9  3.50   \n",
       "2005-08-25      1019                3              2.264406     4.9  3.55   \n",
       "2005-08-26      1056                3              2.264406     4.9  3.54   \n",
       "2005-08-27      1098                3              2.264406     4.9  3.54   \n",
       "\n",
       "            dayofweek  quarter  month  year  dayofmonth  \n",
       "saledate                                                 \n",
       "2004-08-01          6        3      8  2004           1  \n",
       "2004-08-02          0        3      8  2004           2  \n",
       "2004-08-03          1        3      8  2004           3  \n",
       "2004-08-04          2        3      8  2004           4  \n",
       "2004-08-05          3        3      8  2004           5  \n",
       "...               ...      ...    ...   ...         ...  \n",
       "2005-08-23          1        3      8  2005          23  \n",
       "2005-08-24          2        3      8  2005          24  \n",
       "2005-08-25          3        3      8  2005          25  \n",
       "2005-08-26          4        3      8  2005          26  \n",
       "2005-08-27          5        3      8  2005          27  \n",
       "\n",
       "[389 rows x 43 columns]"
      ]
     },
     "execution_count": 17,
     "metadata": {},
     "output_type": "execute_result"
    }
   ],
   "source": [
    "def create_features(df):\n",
    "    \"\"\"\n",
    "    Create time series features based on time series index.\n",
    "    \"\"\"\n",
    "    df = df.copy()\n",
    "    df['dayofweek'] = df.index.dayofweek\n",
    "    df['quarter'] = df.index.quarter\n",
    "    df['month'] = df.index.month\n",
    "    df['year'] = df.index.year\n",
    "    df['dayofmonth'] = df.index.day\n",
    "    return df\n",
    "# create time series features\n",
    "df_ts1 = create_features(df_ts1)\n",
    "df_ts2 = create_features(df_ts2)\n",
    "df_ts1"
   ]
  },
  {
   "cell_type": "code",
   "execution_count": 18,
   "id": "f01f012a",
   "metadata": {
    "scrolled": true
   },
   "outputs": [
    {
     "data": {
      "text/plain": [
       "['nsku',\n",
       " 'totalquantity',\n",
       " 'avgquantity',\n",
       " 'totalamt',\n",
       " 'avgamt',\n",
       " 'minamt',\n",
       " 'maxamt',\n",
       " 'totalorigprice',\n",
       " 'avgorigprice',\n",
       " 'minorigprice',\n",
       " 'maxorigprice',\n",
       " 'totalretail',\n",
       " 'avgretail',\n",
       " 'minretail',\n",
       " 'maxretail',\n",
       " 'avgretailtrnsact',\n",
       " 'totalcost',\n",
       " 'avgcost',\n",
       " 'mincost',\n",
       " 'maxcost',\n",
       " 'avgcosttrnsact',\n",
       " 'totaldiscount',\n",
       " 'avgdiscounttrnsact',\n",
       " 'mindiscount',\n",
       " 'maxdiscount',\n",
       " 'totalprofit',\n",
       " 'avgprofittrnsact',\n",
       " 'minprofit',\n",
       " 'maxprofit',\n",
       " 'nstore',\n",
       " 'ncities',\n",
       " 'ndept',\n",
       " 'nvendors',\n",
       " 'avgvendorsstore',\n",
       " 'CORESTICKM159SFRBATL',\n",
       " 'UNRATE',\n",
       " 'DFF']"
      ]
     },
     "execution_count": 18,
     "metadata": {},
     "output_type": "execute_result"
    }
   ],
   "source": [
    "orignal_features = list(df_combined1.columns)\n",
    "orignal_features.remove('saledate')\n",
    "orignal_features.remove('nstores')\n",
    "orignal_features"
   ]
  },
  {
   "cell_type": "code",
   "execution_count": 19,
   "id": "8a00ee0c",
   "metadata": {
    "scrolled": true
   },
   "outputs": [],
   "source": [
    "# TODO: add lags\n",
    "def create_lag_feature(df, column):\n",
    "    '''\n",
    "    Create time lagging features\n",
    "    '''\n",
    "    df = df.copy()\n",
    "    average_value = np.mean(df[column])\n",
    "    df[column + '_1'] = df[column].shift(1,fill_value = average_value)\n",
    "    df[column + '_2'] = df[column].shift(2,fill_value = average_value)\n",
    "    df[column + '_3'] = df[column].shift(3,fill_value = average_value)\n",
    "    df[column + '_4'] = df[column].shift(4,fill_value = average_value)\n",
    "    df[column + '_5'] = df[column].shift(5,fill_value = average_value)\n",
    "    df[column + '_6'] = df[column].shift(6,fill_value = average_value)\n",
    "    df[column + '_7'] = df[column].shift(7,fill_value = average_value)\n",
    "    df[column + '_14'] = df[column].shift(14,fill_value = average_value)\n",
    "    df[column + '_28'] = df[column].shift(28,fill_value = average_value)\n",
    "    return df"
   ]
  },
  {
   "cell_type": "code",
   "execution_count": 20,
   "id": "f6ac2462",
   "metadata": {},
   "outputs": [
    {
     "data": {
      "text/html": [
       "<div>\n",
       "<style scoped>\n",
       "    .dataframe tbody tr th:only-of-type {\n",
       "        vertical-align: middle;\n",
       "    }\n",
       "\n",
       "    .dataframe tbody tr th {\n",
       "        vertical-align: top;\n",
       "    }\n",
       "\n",
       "    .dataframe thead th {\n",
       "        text-align: right;\n",
       "    }\n",
       "</style>\n",
       "<table border=\"1\" class=\"dataframe\">\n",
       "  <thead>\n",
       "    <tr style=\"text-align: right;\">\n",
       "      <th></th>\n",
       "      <th>nstores</th>\n",
       "      <th>totalprofit</th>\n",
       "      <th>dayofweek</th>\n",
       "      <th>quarter</th>\n",
       "      <th>month</th>\n",
       "      <th>year</th>\n",
       "      <th>dayofmonth</th>\n",
       "      <th>nsku_1</th>\n",
       "      <th>nsku_2</th>\n",
       "      <th>nsku_3</th>\n",
       "      <th>...</th>\n",
       "      <th>UNRATE_28</th>\n",
       "      <th>DFF_1</th>\n",
       "      <th>DFF_2</th>\n",
       "      <th>DFF_3</th>\n",
       "      <th>DFF_4</th>\n",
       "      <th>DFF_5</th>\n",
       "      <th>DFF_6</th>\n",
       "      <th>DFF_7</th>\n",
       "      <th>DFF_14</th>\n",
       "      <th>DFF_28</th>\n",
       "    </tr>\n",
       "    <tr>\n",
       "      <th>saledate</th>\n",
       "      <th></th>\n",
       "      <th></th>\n",
       "      <th></th>\n",
       "      <th></th>\n",
       "      <th></th>\n",
       "      <th></th>\n",
       "      <th></th>\n",
       "      <th></th>\n",
       "      <th></th>\n",
       "      <th></th>\n",
       "      <th></th>\n",
       "      <th></th>\n",
       "      <th></th>\n",
       "      <th></th>\n",
       "      <th></th>\n",
       "      <th></th>\n",
       "      <th></th>\n",
       "      <th></th>\n",
       "      <th></th>\n",
       "      <th></th>\n",
       "      <th></th>\n",
       "    </tr>\n",
       "  </thead>\n",
       "  <tbody>\n",
       "    <tr>\n",
       "      <th>2004-08-01</th>\n",
       "      <td>323</td>\n",
       "      <td>511060.0</td>\n",
       "      <td>6</td>\n",
       "      <td>3</td>\n",
       "      <td>8</td>\n",
       "      <td>2004</td>\n",
       "      <td>1</td>\n",
       "      <td>89270.339332</td>\n",
       "      <td>89270.339332</td>\n",
       "      <td>89270.339332</td>\n",
       "      <td>...</td>\n",
       "      <td>5.247815</td>\n",
       "      <td>2.442339</td>\n",
       "      <td>2.442339</td>\n",
       "      <td>2.442339</td>\n",
       "      <td>2.442339</td>\n",
       "      <td>2.442339</td>\n",
       "      <td>2.442339</td>\n",
       "      <td>2.442339</td>\n",
       "      <td>2.442339</td>\n",
       "      <td>2.442339</td>\n",
       "    </tr>\n",
       "    <tr>\n",
       "      <th>2004-08-02</th>\n",
       "      <td>324</td>\n",
       "      <td>532033.0</td>\n",
       "      <td>0</td>\n",
       "      <td>3</td>\n",
       "      <td>8</td>\n",
       "      <td>2004</td>\n",
       "      <td>2</td>\n",
       "      <td>61741.000000</td>\n",
       "      <td>89270.339332</td>\n",
       "      <td>89270.339332</td>\n",
       "      <td>...</td>\n",
       "      <td>5.247815</td>\n",
       "      <td>1.290000</td>\n",
       "      <td>2.442339</td>\n",
       "      <td>2.442339</td>\n",
       "      <td>2.442339</td>\n",
       "      <td>2.442339</td>\n",
       "      <td>2.442339</td>\n",
       "      <td>2.442339</td>\n",
       "      <td>2.442339</td>\n",
       "      <td>2.442339</td>\n",
       "    </tr>\n",
       "    <tr>\n",
       "      <th>2004-08-03</th>\n",
       "      <td>324</td>\n",
       "      <td>659895.0</td>\n",
       "      <td>1</td>\n",
       "      <td>3</td>\n",
       "      <td>8</td>\n",
       "      <td>2004</td>\n",
       "      <td>3</td>\n",
       "      <td>59183.000000</td>\n",
       "      <td>61741.000000</td>\n",
       "      <td>89270.339332</td>\n",
       "      <td>...</td>\n",
       "      <td>5.247815</td>\n",
       "      <td>1.280000</td>\n",
       "      <td>1.290000</td>\n",
       "      <td>2.442339</td>\n",
       "      <td>2.442339</td>\n",
       "      <td>2.442339</td>\n",
       "      <td>2.442339</td>\n",
       "      <td>2.442339</td>\n",
       "      <td>2.442339</td>\n",
       "      <td>2.442339</td>\n",
       "    </tr>\n",
       "    <tr>\n",
       "      <th>2004-08-04</th>\n",
       "      <td>324</td>\n",
       "      <td>631430.0</td>\n",
       "      <td>2</td>\n",
       "      <td>3</td>\n",
       "      <td>8</td>\n",
       "      <td>2004</td>\n",
       "      <td>4</td>\n",
       "      <td>62593.000000</td>\n",
       "      <td>59183.000000</td>\n",
       "      <td>61741.000000</td>\n",
       "      <td>...</td>\n",
       "      <td>5.247815</td>\n",
       "      <td>1.240000</td>\n",
       "      <td>1.280000</td>\n",
       "      <td>1.290000</td>\n",
       "      <td>2.442339</td>\n",
       "      <td>2.442339</td>\n",
       "      <td>2.442339</td>\n",
       "      <td>2.442339</td>\n",
       "      <td>2.442339</td>\n",
       "      <td>2.442339</td>\n",
       "    </tr>\n",
       "    <tr>\n",
       "      <th>2004-08-05</th>\n",
       "      <td>325</td>\n",
       "      <td>635209.0</td>\n",
       "      <td>3</td>\n",
       "      <td>3</td>\n",
       "      <td>8</td>\n",
       "      <td>2004</td>\n",
       "      <td>5</td>\n",
       "      <td>65689.000000</td>\n",
       "      <td>62593.000000</td>\n",
       "      <td>59183.000000</td>\n",
       "      <td>...</td>\n",
       "      <td>5.247815</td>\n",
       "      <td>1.220000</td>\n",
       "      <td>1.240000</td>\n",
       "      <td>1.280000</td>\n",
       "      <td>1.290000</td>\n",
       "      <td>2.442339</td>\n",
       "      <td>2.442339</td>\n",
       "      <td>2.442339</td>\n",
       "      <td>2.442339</td>\n",
       "      <td>2.442339</td>\n",
       "    </tr>\n",
       "    <tr>\n",
       "      <th>...</th>\n",
       "      <td>...</td>\n",
       "      <td>...</td>\n",
       "      <td>...</td>\n",
       "      <td>...</td>\n",
       "      <td>...</td>\n",
       "      <td>...</td>\n",
       "      <td>...</td>\n",
       "      <td>...</td>\n",
       "      <td>...</td>\n",
       "      <td>...</td>\n",
       "      <td>...</td>\n",
       "      <td>...</td>\n",
       "      <td>...</td>\n",
       "      <td>...</td>\n",
       "      <td>...</td>\n",
       "      <td>...</td>\n",
       "      <td>...</td>\n",
       "      <td>...</td>\n",
       "      <td>...</td>\n",
       "      <td>...</td>\n",
       "      <td>...</td>\n",
       "    </tr>\n",
       "    <tr>\n",
       "      <th>2005-08-23</th>\n",
       "      <td>325</td>\n",
       "      <td>1477840.0</td>\n",
       "      <td>1</td>\n",
       "      <td>3</td>\n",
       "      <td>8</td>\n",
       "      <td>2005</td>\n",
       "      <td>23</td>\n",
       "      <td>85508.000000</td>\n",
       "      <td>98483.000000</td>\n",
       "      <td>142337.000000</td>\n",
       "      <td>...</td>\n",
       "      <td>5.000000</td>\n",
       "      <td>3.510000</td>\n",
       "      <td>3.540000</td>\n",
       "      <td>3.540000</td>\n",
       "      <td>3.540000</td>\n",
       "      <td>3.500000</td>\n",
       "      <td>3.570000</td>\n",
       "      <td>3.460000</td>\n",
       "      <td>3.470000</td>\n",
       "      <td>3.250000</td>\n",
       "    </tr>\n",
       "    <tr>\n",
       "      <th>2005-08-24</th>\n",
       "      <td>325</td>\n",
       "      <td>1982620.0</td>\n",
       "      <td>2</td>\n",
       "      <td>3</td>\n",
       "      <td>8</td>\n",
       "      <td>2005</td>\n",
       "      <td>24</td>\n",
       "      <td>84999.000000</td>\n",
       "      <td>85508.000000</td>\n",
       "      <td>98483.000000</td>\n",
       "      <td>...</td>\n",
       "      <td>5.000000</td>\n",
       "      <td>3.490000</td>\n",
       "      <td>3.510000</td>\n",
       "      <td>3.540000</td>\n",
       "      <td>3.540000</td>\n",
       "      <td>3.540000</td>\n",
       "      <td>3.500000</td>\n",
       "      <td>3.570000</td>\n",
       "      <td>3.480000</td>\n",
       "      <td>3.270000</td>\n",
       "    </tr>\n",
       "    <tr>\n",
       "      <th>2005-08-25</th>\n",
       "      <td>325</td>\n",
       "      <td>1943150.0</td>\n",
       "      <td>3</td>\n",
       "      <td>3</td>\n",
       "      <td>8</td>\n",
       "      <td>2005</td>\n",
       "      <td>25</td>\n",
       "      <td>140901.000000</td>\n",
       "      <td>84999.000000</td>\n",
       "      <td>85508.000000</td>\n",
       "      <td>...</td>\n",
       "      <td>5.000000</td>\n",
       "      <td>3.500000</td>\n",
       "      <td>3.490000</td>\n",
       "      <td>3.510000</td>\n",
       "      <td>3.540000</td>\n",
       "      <td>3.540000</td>\n",
       "      <td>3.540000</td>\n",
       "      <td>3.500000</td>\n",
       "      <td>3.510000</td>\n",
       "      <td>3.270000</td>\n",
       "    </tr>\n",
       "    <tr>\n",
       "      <th>2005-08-26</th>\n",
       "      <td>324</td>\n",
       "      <td>2344460.0</td>\n",
       "      <td>4</td>\n",
       "      <td>3</td>\n",
       "      <td>8</td>\n",
       "      <td>2005</td>\n",
       "      <td>26</td>\n",
       "      <td>134977.000000</td>\n",
       "      <td>140901.000000</td>\n",
       "      <td>84999.000000</td>\n",
       "      <td>...</td>\n",
       "      <td>5.000000</td>\n",
       "      <td>3.550000</td>\n",
       "      <td>3.500000</td>\n",
       "      <td>3.490000</td>\n",
       "      <td>3.510000</td>\n",
       "      <td>3.540000</td>\n",
       "      <td>3.540000</td>\n",
       "      <td>3.540000</td>\n",
       "      <td>3.550000</td>\n",
       "      <td>3.310000</td>\n",
       "    </tr>\n",
       "    <tr>\n",
       "      <th>2005-08-27</th>\n",
       "      <td>325</td>\n",
       "      <td>3903930.0</td>\n",
       "      <td>5</td>\n",
       "      <td>3</td>\n",
       "      <td>8</td>\n",
       "      <td>2005</td>\n",
       "      <td>27</td>\n",
       "      <td>144548.000000</td>\n",
       "      <td>134977.000000</td>\n",
       "      <td>140901.000000</td>\n",
       "      <td>...</td>\n",
       "      <td>5.000000</td>\n",
       "      <td>3.540000</td>\n",
       "      <td>3.550000</td>\n",
       "      <td>3.500000</td>\n",
       "      <td>3.490000</td>\n",
       "      <td>3.510000</td>\n",
       "      <td>3.540000</td>\n",
       "      <td>3.540000</td>\n",
       "      <td>3.550000</td>\n",
       "      <td>3.310000</td>\n",
       "    </tr>\n",
       "  </tbody>\n",
       "</table>\n",
       "<p>389 rows × 340 columns</p>\n",
       "</div>"
      ],
      "text/plain": [
       "            nstores  totalprofit  dayofweek  quarter  month  year  dayofmonth  \\\n",
       "saledate                                                                        \n",
       "2004-08-01      323     511060.0          6        3      8  2004           1   \n",
       "2004-08-02      324     532033.0          0        3      8  2004           2   \n",
       "2004-08-03      324     659895.0          1        3      8  2004           3   \n",
       "2004-08-04      324     631430.0          2        3      8  2004           4   \n",
       "2004-08-05      325     635209.0          3        3      8  2004           5   \n",
       "...             ...          ...        ...      ...    ...   ...         ...   \n",
       "2005-08-23      325    1477840.0          1        3      8  2005          23   \n",
       "2005-08-24      325    1982620.0          2        3      8  2005          24   \n",
       "2005-08-25      325    1943150.0          3        3      8  2005          25   \n",
       "2005-08-26      324    2344460.0          4        3      8  2005          26   \n",
       "2005-08-27      325    3903930.0          5        3      8  2005          27   \n",
       "\n",
       "                   nsku_1         nsku_2         nsku_3  ...  UNRATE_28  \\\n",
       "saledate                                                 ...              \n",
       "2004-08-01   89270.339332   89270.339332   89270.339332  ...   5.247815   \n",
       "2004-08-02   61741.000000   89270.339332   89270.339332  ...   5.247815   \n",
       "2004-08-03   59183.000000   61741.000000   89270.339332  ...   5.247815   \n",
       "2004-08-04   62593.000000   59183.000000   61741.000000  ...   5.247815   \n",
       "2004-08-05   65689.000000   62593.000000   59183.000000  ...   5.247815   \n",
       "...                   ...            ...            ...  ...        ...   \n",
       "2005-08-23   85508.000000   98483.000000  142337.000000  ...   5.000000   \n",
       "2005-08-24   84999.000000   85508.000000   98483.000000  ...   5.000000   \n",
       "2005-08-25  140901.000000   84999.000000   85508.000000  ...   5.000000   \n",
       "2005-08-26  134977.000000  140901.000000   84999.000000  ...   5.000000   \n",
       "2005-08-27  144548.000000  134977.000000  140901.000000  ...   5.000000   \n",
       "\n",
       "               DFF_1     DFF_2     DFF_3     DFF_4     DFF_5     DFF_6  \\\n",
       "saledate                                                                 \n",
       "2004-08-01  2.442339  2.442339  2.442339  2.442339  2.442339  2.442339   \n",
       "2004-08-02  1.290000  2.442339  2.442339  2.442339  2.442339  2.442339   \n",
       "2004-08-03  1.280000  1.290000  2.442339  2.442339  2.442339  2.442339   \n",
       "2004-08-04  1.240000  1.280000  1.290000  2.442339  2.442339  2.442339   \n",
       "2004-08-05  1.220000  1.240000  1.280000  1.290000  2.442339  2.442339   \n",
       "...              ...       ...       ...       ...       ...       ...   \n",
       "2005-08-23  3.510000  3.540000  3.540000  3.540000  3.500000  3.570000   \n",
       "2005-08-24  3.490000  3.510000  3.540000  3.540000  3.540000  3.500000   \n",
       "2005-08-25  3.500000  3.490000  3.510000  3.540000  3.540000  3.540000   \n",
       "2005-08-26  3.550000  3.500000  3.490000  3.510000  3.540000  3.540000   \n",
       "2005-08-27  3.540000  3.550000  3.500000  3.490000  3.510000  3.540000   \n",
       "\n",
       "               DFF_7    DFF_14    DFF_28  \n",
       "saledate                                  \n",
       "2004-08-01  2.442339  2.442339  2.442339  \n",
       "2004-08-02  2.442339  2.442339  2.442339  \n",
       "2004-08-03  2.442339  2.442339  2.442339  \n",
       "2004-08-04  2.442339  2.442339  2.442339  \n",
       "2004-08-05  2.442339  2.442339  2.442339  \n",
       "...              ...       ...       ...  \n",
       "2005-08-23  3.460000  3.470000  3.250000  \n",
       "2005-08-24  3.570000  3.480000  3.270000  \n",
       "2005-08-25  3.500000  3.510000  3.270000  \n",
       "2005-08-26  3.540000  3.550000  3.310000  \n",
       "2005-08-27  3.540000  3.550000  3.310000  \n",
       "\n",
       "[389 rows x 340 columns]"
      ]
     },
     "execution_count": 20,
     "metadata": {},
     "output_type": "execute_result"
    }
   ],
   "source": [
    "df_model1 = df_ts1\n",
    "for col in orignal_features:\n",
    "    df_model1 = create_lag_feature(df_model1, col)\n",
    "\n",
    "orignal_features1 = orignal_features.copy()\n",
    "orignal_features1.remove('totalprofit')\n",
    "df_ts_lagged1 = df_model1.drop(orignal_features1, axis=1)\n",
    "df_ts_lagged1"
   ]
  },
  {
   "cell_type": "code",
   "execution_count": 21,
   "id": "d153f9cd",
   "metadata": {},
   "outputs": [
    {
     "data": {
      "text/html": [
       "<div>\n",
       "<style scoped>\n",
       "    .dataframe tbody tr th:only-of-type {\n",
       "        vertical-align: middle;\n",
       "    }\n",
       "\n",
       "    .dataframe tbody tr th {\n",
       "        vertical-align: top;\n",
       "    }\n",
       "\n",
       "    .dataframe thead th {\n",
       "        text-align: right;\n",
       "    }\n",
       "</style>\n",
       "<table border=\"1\" class=\"dataframe\">\n",
       "  <thead>\n",
       "    <tr style=\"text-align: right;\">\n",
       "      <th></th>\n",
       "      <th>nstores</th>\n",
       "      <th>totalprofit</th>\n",
       "      <th>dayofweek</th>\n",
       "      <th>quarter</th>\n",
       "      <th>month</th>\n",
       "      <th>year</th>\n",
       "      <th>dayofmonth</th>\n",
       "      <th>nsku_1</th>\n",
       "      <th>nsku_2</th>\n",
       "      <th>nsku_3</th>\n",
       "      <th>...</th>\n",
       "      <th>UNRATE_28</th>\n",
       "      <th>DFF_1</th>\n",
       "      <th>DFF_2</th>\n",
       "      <th>DFF_3</th>\n",
       "      <th>DFF_4</th>\n",
       "      <th>DFF_5</th>\n",
       "      <th>DFF_6</th>\n",
       "      <th>DFF_7</th>\n",
       "      <th>DFF_14</th>\n",
       "      <th>DFF_28</th>\n",
       "    </tr>\n",
       "    <tr>\n",
       "      <th>saledate</th>\n",
       "      <th></th>\n",
       "      <th></th>\n",
       "      <th></th>\n",
       "      <th></th>\n",
       "      <th></th>\n",
       "      <th></th>\n",
       "      <th></th>\n",
       "      <th></th>\n",
       "      <th></th>\n",
       "      <th></th>\n",
       "      <th></th>\n",
       "      <th></th>\n",
       "      <th></th>\n",
       "      <th></th>\n",
       "      <th></th>\n",
       "      <th></th>\n",
       "      <th></th>\n",
       "      <th></th>\n",
       "      <th></th>\n",
       "      <th></th>\n",
       "      <th></th>\n",
       "    </tr>\n",
       "  </thead>\n",
       "  <tbody>\n",
       "    <tr>\n",
       "      <th>2004-08-01</th>\n",
       "      <td>323</td>\n",
       "      <td>511060.0</td>\n",
       "      <td>6</td>\n",
       "      <td>3</td>\n",
       "      <td>8</td>\n",
       "      <td>2004</td>\n",
       "      <td>1</td>\n",
       "      <td>89270.339332</td>\n",
       "      <td>89270.339332</td>\n",
       "      <td>89270.339332</td>\n",
       "      <td>...</td>\n",
       "      <td>5.247815</td>\n",
       "      <td>2.442339</td>\n",
       "      <td>2.442339</td>\n",
       "      <td>2.442339</td>\n",
       "      <td>2.442339</td>\n",
       "      <td>2.442339</td>\n",
       "      <td>2.442339</td>\n",
       "      <td>2.442339</td>\n",
       "      <td>2.442339</td>\n",
       "      <td>2.442339</td>\n",
       "    </tr>\n",
       "    <tr>\n",
       "      <th>2004-08-02</th>\n",
       "      <td>324</td>\n",
       "      <td>532033.0</td>\n",
       "      <td>0</td>\n",
       "      <td>3</td>\n",
       "      <td>8</td>\n",
       "      <td>2004</td>\n",
       "      <td>2</td>\n",
       "      <td>61741.000000</td>\n",
       "      <td>89270.339332</td>\n",
       "      <td>89270.339332</td>\n",
       "      <td>...</td>\n",
       "      <td>5.247815</td>\n",
       "      <td>1.290000</td>\n",
       "      <td>2.442339</td>\n",
       "      <td>2.442339</td>\n",
       "      <td>2.442339</td>\n",
       "      <td>2.442339</td>\n",
       "      <td>2.442339</td>\n",
       "      <td>2.442339</td>\n",
       "      <td>2.442339</td>\n",
       "      <td>2.442339</td>\n",
       "    </tr>\n",
       "    <tr>\n",
       "      <th>2004-08-03</th>\n",
       "      <td>324</td>\n",
       "      <td>659895.0</td>\n",
       "      <td>1</td>\n",
       "      <td>3</td>\n",
       "      <td>8</td>\n",
       "      <td>2004</td>\n",
       "      <td>3</td>\n",
       "      <td>59183.000000</td>\n",
       "      <td>61741.000000</td>\n",
       "      <td>89270.339332</td>\n",
       "      <td>...</td>\n",
       "      <td>5.247815</td>\n",
       "      <td>1.280000</td>\n",
       "      <td>1.290000</td>\n",
       "      <td>2.442339</td>\n",
       "      <td>2.442339</td>\n",
       "      <td>2.442339</td>\n",
       "      <td>2.442339</td>\n",
       "      <td>2.442339</td>\n",
       "      <td>2.442339</td>\n",
       "      <td>2.442339</td>\n",
       "    </tr>\n",
       "    <tr>\n",
       "      <th>2004-08-04</th>\n",
       "      <td>324</td>\n",
       "      <td>631430.0</td>\n",
       "      <td>2</td>\n",
       "      <td>3</td>\n",
       "      <td>8</td>\n",
       "      <td>2004</td>\n",
       "      <td>4</td>\n",
       "      <td>62593.000000</td>\n",
       "      <td>59183.000000</td>\n",
       "      <td>61741.000000</td>\n",
       "      <td>...</td>\n",
       "      <td>5.247815</td>\n",
       "      <td>1.240000</td>\n",
       "      <td>1.280000</td>\n",
       "      <td>1.290000</td>\n",
       "      <td>2.442339</td>\n",
       "      <td>2.442339</td>\n",
       "      <td>2.442339</td>\n",
       "      <td>2.442339</td>\n",
       "      <td>2.442339</td>\n",
       "      <td>2.442339</td>\n",
       "    </tr>\n",
       "    <tr>\n",
       "      <th>2004-08-05</th>\n",
       "      <td>325</td>\n",
       "      <td>635209.0</td>\n",
       "      <td>3</td>\n",
       "      <td>3</td>\n",
       "      <td>8</td>\n",
       "      <td>2004</td>\n",
       "      <td>5</td>\n",
       "      <td>65689.000000</td>\n",
       "      <td>62593.000000</td>\n",
       "      <td>59183.000000</td>\n",
       "      <td>...</td>\n",
       "      <td>5.247815</td>\n",
       "      <td>1.220000</td>\n",
       "      <td>1.240000</td>\n",
       "      <td>1.280000</td>\n",
       "      <td>1.290000</td>\n",
       "      <td>2.442339</td>\n",
       "      <td>2.442339</td>\n",
       "      <td>2.442339</td>\n",
       "      <td>2.442339</td>\n",
       "      <td>2.442339</td>\n",
       "    </tr>\n",
       "    <tr>\n",
       "      <th>...</th>\n",
       "      <td>...</td>\n",
       "      <td>...</td>\n",
       "      <td>...</td>\n",
       "      <td>...</td>\n",
       "      <td>...</td>\n",
       "      <td>...</td>\n",
       "      <td>...</td>\n",
       "      <td>...</td>\n",
       "      <td>...</td>\n",
       "      <td>...</td>\n",
       "      <td>...</td>\n",
       "      <td>...</td>\n",
       "      <td>...</td>\n",
       "      <td>...</td>\n",
       "      <td>...</td>\n",
       "      <td>...</td>\n",
       "      <td>...</td>\n",
       "      <td>...</td>\n",
       "      <td>...</td>\n",
       "      <td>...</td>\n",
       "      <td>...</td>\n",
       "    </tr>\n",
       "    <tr>\n",
       "      <th>2005-08-23</th>\n",
       "      <td>325</td>\n",
       "      <td>1477840.0</td>\n",
       "      <td>1</td>\n",
       "      <td>3</td>\n",
       "      <td>8</td>\n",
       "      <td>2005</td>\n",
       "      <td>23</td>\n",
       "      <td>85508.000000</td>\n",
       "      <td>98483.000000</td>\n",
       "      <td>142337.000000</td>\n",
       "      <td>...</td>\n",
       "      <td>5.000000</td>\n",
       "      <td>3.510000</td>\n",
       "      <td>3.540000</td>\n",
       "      <td>3.540000</td>\n",
       "      <td>3.540000</td>\n",
       "      <td>3.500000</td>\n",
       "      <td>3.570000</td>\n",
       "      <td>3.460000</td>\n",
       "      <td>3.470000</td>\n",
       "      <td>3.250000</td>\n",
       "    </tr>\n",
       "    <tr>\n",
       "      <th>2005-08-24</th>\n",
       "      <td>325</td>\n",
       "      <td>1982620.0</td>\n",
       "      <td>2</td>\n",
       "      <td>3</td>\n",
       "      <td>8</td>\n",
       "      <td>2005</td>\n",
       "      <td>24</td>\n",
       "      <td>84999.000000</td>\n",
       "      <td>85508.000000</td>\n",
       "      <td>98483.000000</td>\n",
       "      <td>...</td>\n",
       "      <td>5.000000</td>\n",
       "      <td>3.490000</td>\n",
       "      <td>3.510000</td>\n",
       "      <td>3.540000</td>\n",
       "      <td>3.540000</td>\n",
       "      <td>3.540000</td>\n",
       "      <td>3.500000</td>\n",
       "      <td>3.570000</td>\n",
       "      <td>3.480000</td>\n",
       "      <td>3.270000</td>\n",
       "    </tr>\n",
       "    <tr>\n",
       "      <th>2005-08-25</th>\n",
       "      <td>325</td>\n",
       "      <td>1943150.0</td>\n",
       "      <td>3</td>\n",
       "      <td>3</td>\n",
       "      <td>8</td>\n",
       "      <td>2005</td>\n",
       "      <td>25</td>\n",
       "      <td>140901.000000</td>\n",
       "      <td>84999.000000</td>\n",
       "      <td>85508.000000</td>\n",
       "      <td>...</td>\n",
       "      <td>5.000000</td>\n",
       "      <td>3.500000</td>\n",
       "      <td>3.490000</td>\n",
       "      <td>3.510000</td>\n",
       "      <td>3.540000</td>\n",
       "      <td>3.540000</td>\n",
       "      <td>3.540000</td>\n",
       "      <td>3.500000</td>\n",
       "      <td>3.510000</td>\n",
       "      <td>3.270000</td>\n",
       "    </tr>\n",
       "    <tr>\n",
       "      <th>2005-08-26</th>\n",
       "      <td>324</td>\n",
       "      <td>2344460.0</td>\n",
       "      <td>4</td>\n",
       "      <td>3</td>\n",
       "      <td>8</td>\n",
       "      <td>2005</td>\n",
       "      <td>26</td>\n",
       "      <td>134977.000000</td>\n",
       "      <td>140901.000000</td>\n",
       "      <td>84999.000000</td>\n",
       "      <td>...</td>\n",
       "      <td>5.000000</td>\n",
       "      <td>3.550000</td>\n",
       "      <td>3.500000</td>\n",
       "      <td>3.490000</td>\n",
       "      <td>3.510000</td>\n",
       "      <td>3.540000</td>\n",
       "      <td>3.540000</td>\n",
       "      <td>3.540000</td>\n",
       "      <td>3.550000</td>\n",
       "      <td>3.310000</td>\n",
       "    </tr>\n",
       "    <tr>\n",
       "      <th>2005-08-27</th>\n",
       "      <td>325</td>\n",
       "      <td>3903930.0</td>\n",
       "      <td>5</td>\n",
       "      <td>3</td>\n",
       "      <td>8</td>\n",
       "      <td>2005</td>\n",
       "      <td>27</td>\n",
       "      <td>144548.000000</td>\n",
       "      <td>134977.000000</td>\n",
       "      <td>140901.000000</td>\n",
       "      <td>...</td>\n",
       "      <td>5.000000</td>\n",
       "      <td>3.540000</td>\n",
       "      <td>3.550000</td>\n",
       "      <td>3.500000</td>\n",
       "      <td>3.490000</td>\n",
       "      <td>3.510000</td>\n",
       "      <td>3.540000</td>\n",
       "      <td>3.540000</td>\n",
       "      <td>3.550000</td>\n",
       "      <td>3.310000</td>\n",
       "    </tr>\n",
       "  </tbody>\n",
       "</table>\n",
       "<p>389 rows × 340 columns</p>\n",
       "</div>"
      ],
      "text/plain": [
       "            nstores  totalprofit  dayofweek  quarter  month  year  dayofmonth  \\\n",
       "saledate                                                                        \n",
       "2004-08-01      323     511060.0          6        3      8  2004           1   \n",
       "2004-08-02      324     532033.0          0        3      8  2004           2   \n",
       "2004-08-03      324     659895.0          1        3      8  2004           3   \n",
       "2004-08-04      324     631430.0          2        3      8  2004           4   \n",
       "2004-08-05      325     635209.0          3        3      8  2004           5   \n",
       "...             ...          ...        ...      ...    ...   ...         ...   \n",
       "2005-08-23      325    1477840.0          1        3      8  2005          23   \n",
       "2005-08-24      325    1982620.0          2        3      8  2005          24   \n",
       "2005-08-25      325    1943150.0          3        3      8  2005          25   \n",
       "2005-08-26      324    2344460.0          4        3      8  2005          26   \n",
       "2005-08-27      325    3903930.0          5        3      8  2005          27   \n",
       "\n",
       "                   nsku_1         nsku_2         nsku_3  ...  UNRATE_28  \\\n",
       "saledate                                                 ...              \n",
       "2004-08-01   89270.339332   89270.339332   89270.339332  ...   5.247815   \n",
       "2004-08-02   61741.000000   89270.339332   89270.339332  ...   5.247815   \n",
       "2004-08-03   59183.000000   61741.000000   89270.339332  ...   5.247815   \n",
       "2004-08-04   62593.000000   59183.000000   61741.000000  ...   5.247815   \n",
       "2004-08-05   65689.000000   62593.000000   59183.000000  ...   5.247815   \n",
       "...                   ...            ...            ...  ...        ...   \n",
       "2005-08-23   85508.000000   98483.000000  142337.000000  ...   5.000000   \n",
       "2005-08-24   84999.000000   85508.000000   98483.000000  ...   5.000000   \n",
       "2005-08-25  140901.000000   84999.000000   85508.000000  ...   5.000000   \n",
       "2005-08-26  134977.000000  140901.000000   84999.000000  ...   5.000000   \n",
       "2005-08-27  144548.000000  134977.000000  140901.000000  ...   5.000000   \n",
       "\n",
       "               DFF_1     DFF_2     DFF_3     DFF_4     DFF_5     DFF_6  \\\n",
       "saledate                                                                 \n",
       "2004-08-01  2.442339  2.442339  2.442339  2.442339  2.442339  2.442339   \n",
       "2004-08-02  1.290000  2.442339  2.442339  2.442339  2.442339  2.442339   \n",
       "2004-08-03  1.280000  1.290000  2.442339  2.442339  2.442339  2.442339   \n",
       "2004-08-04  1.240000  1.280000  1.290000  2.442339  2.442339  2.442339   \n",
       "2004-08-05  1.220000  1.240000  1.280000  1.290000  2.442339  2.442339   \n",
       "...              ...       ...       ...       ...       ...       ...   \n",
       "2005-08-23  3.510000  3.540000  3.540000  3.540000  3.500000  3.570000   \n",
       "2005-08-24  3.490000  3.510000  3.540000  3.540000  3.540000  3.500000   \n",
       "2005-08-25  3.500000  3.490000  3.510000  3.540000  3.540000  3.540000   \n",
       "2005-08-26  3.550000  3.500000  3.490000  3.510000  3.540000  3.540000   \n",
       "2005-08-27  3.540000  3.550000  3.500000  3.490000  3.510000  3.540000   \n",
       "\n",
       "               DFF_7    DFF_14    DFF_28  \n",
       "saledate                                  \n",
       "2004-08-01  2.442339  2.442339  2.442339  \n",
       "2004-08-02  2.442339  2.442339  2.442339  \n",
       "2004-08-03  2.442339  2.442339  2.442339  \n",
       "2004-08-04  2.442339  2.442339  2.442339  \n",
       "2004-08-05  2.442339  2.442339  2.442339  \n",
       "...              ...       ...       ...  \n",
       "2005-08-23  3.460000  3.470000  3.250000  \n",
       "2005-08-24  3.570000  3.480000  3.270000  \n",
       "2005-08-25  3.500000  3.510000  3.270000  \n",
       "2005-08-26  3.540000  3.550000  3.310000  \n",
       "2005-08-27  3.540000  3.550000  3.310000  \n",
       "\n",
       "[389 rows x 340 columns]"
      ]
     },
     "execution_count": 21,
     "metadata": {},
     "output_type": "execute_result"
    }
   ],
   "source": [
    "df_model2 = df_ts2\n",
    "for col in orignal_features:\n",
    "    df_model2 = create_lag_feature(df_model2, col)\n",
    "\n",
    "orignal_features1 = orignal_features.copy()\n",
    "orignal_features1.remove('totalprofit')\n",
    "df_ts_lagged2 = df_model2.drop(orignal_features1, axis=1)\n",
    "df_ts_lagged2"
   ]
  },
  {
   "cell_type": "code",
   "execution_count": 22,
   "id": "462dc877",
   "metadata": {},
   "outputs": [
    {
     "data": {
      "text/plain": [
       "Index(['nstores', 'totalprofit', 'dayofweek', 'quarter', 'month', 'year',\n",
       "       'dayofmonth', 'nsku_1', 'nsku_2', 'nsku_3',\n",
       "       ...\n",
       "       'UNRATE_28', 'DFF_1', 'DFF_2', 'DFF_3', 'DFF_4', 'DFF_5', 'DFF_6',\n",
       "       'DFF_7', 'DFF_14', 'DFF_28'],\n",
       "      dtype='object', length=340)"
      ]
     },
     "execution_count": 22,
     "metadata": {},
     "output_type": "execute_result"
    }
   ],
   "source": [
    "df_ts_lagged1.columns"
   ]
  },
  {
   "cell_type": "code",
   "execution_count": 23,
   "id": "ad8a9c8f",
   "metadata": {},
   "outputs": [
    {
     "data": {
      "text/html": [
       "<div>\n",
       "<style scoped>\n",
       "    .dataframe tbody tr th:only-of-type {\n",
       "        vertical-align: middle;\n",
       "    }\n",
       "\n",
       "    .dataframe tbody tr th {\n",
       "        vertical-align: top;\n",
       "    }\n",
       "\n",
       "    .dataframe thead th {\n",
       "        text-align: right;\n",
       "    }\n",
       "</style>\n",
       "<table border=\"1\" class=\"dataframe\">\n",
       "  <thead>\n",
       "    <tr style=\"text-align: right;\">\n",
       "      <th></th>\n",
       "      <th>nstores</th>\n",
       "      <th>totalprofit</th>\n",
       "      <th>dayofweek</th>\n",
       "      <th>quarter</th>\n",
       "      <th>month</th>\n",
       "      <th>year</th>\n",
       "      <th>dayofmonth</th>\n",
       "      <th>nsku_1</th>\n",
       "      <th>nsku_2</th>\n",
       "      <th>nsku_3</th>\n",
       "      <th>...</th>\n",
       "      <th>UNRATE_28</th>\n",
       "      <th>DFF_1</th>\n",
       "      <th>DFF_2</th>\n",
       "      <th>DFF_3</th>\n",
       "      <th>DFF_4</th>\n",
       "      <th>DFF_5</th>\n",
       "      <th>DFF_6</th>\n",
       "      <th>DFF_7</th>\n",
       "      <th>DFF_14</th>\n",
       "      <th>DFF_28</th>\n",
       "    </tr>\n",
       "    <tr>\n",
       "      <th>saledate</th>\n",
       "      <th></th>\n",
       "      <th></th>\n",
       "      <th></th>\n",
       "      <th></th>\n",
       "      <th></th>\n",
       "      <th></th>\n",
       "      <th></th>\n",
       "      <th></th>\n",
       "      <th></th>\n",
       "      <th></th>\n",
       "      <th></th>\n",
       "      <th></th>\n",
       "      <th></th>\n",
       "      <th></th>\n",
       "      <th></th>\n",
       "      <th></th>\n",
       "      <th></th>\n",
       "      <th></th>\n",
       "      <th></th>\n",
       "      <th></th>\n",
       "      <th></th>\n",
       "    </tr>\n",
       "  </thead>\n",
       "  <tbody>\n",
       "    <tr>\n",
       "      <th>2004-08-01</th>\n",
       "      <td>323</td>\n",
       "      <td>13.144244</td>\n",
       "      <td>6</td>\n",
       "      <td>3</td>\n",
       "      <td>8</td>\n",
       "      <td>2004</td>\n",
       "      <td>1</td>\n",
       "      <td>89270.339332</td>\n",
       "      <td>89270.339332</td>\n",
       "      <td>89270.339332</td>\n",
       "      <td>...</td>\n",
       "      <td>5.247815</td>\n",
       "      <td>2.442339</td>\n",
       "      <td>2.442339</td>\n",
       "      <td>2.442339</td>\n",
       "      <td>2.442339</td>\n",
       "      <td>2.442339</td>\n",
       "      <td>2.442339</td>\n",
       "      <td>2.442339</td>\n",
       "      <td>2.442339</td>\n",
       "      <td>2.442339</td>\n",
       "    </tr>\n",
       "    <tr>\n",
       "      <th>2004-08-02</th>\n",
       "      <td>324</td>\n",
       "      <td>13.184463</td>\n",
       "      <td>0</td>\n",
       "      <td>3</td>\n",
       "      <td>8</td>\n",
       "      <td>2004</td>\n",
       "      <td>2</td>\n",
       "      <td>61741.000000</td>\n",
       "      <td>89270.339332</td>\n",
       "      <td>89270.339332</td>\n",
       "      <td>...</td>\n",
       "      <td>5.247815</td>\n",
       "      <td>1.290000</td>\n",
       "      <td>2.442339</td>\n",
       "      <td>2.442339</td>\n",
       "      <td>2.442339</td>\n",
       "      <td>2.442339</td>\n",
       "      <td>2.442339</td>\n",
       "      <td>2.442339</td>\n",
       "      <td>2.442339</td>\n",
       "      <td>2.442339</td>\n",
       "    </tr>\n",
       "    <tr>\n",
       "      <th>2004-08-03</th>\n",
       "      <td>324</td>\n",
       "      <td>13.399838</td>\n",
       "      <td>1</td>\n",
       "      <td>3</td>\n",
       "      <td>8</td>\n",
       "      <td>2004</td>\n",
       "      <td>3</td>\n",
       "      <td>59183.000000</td>\n",
       "      <td>61741.000000</td>\n",
       "      <td>89270.339332</td>\n",
       "      <td>...</td>\n",
       "      <td>5.247815</td>\n",
       "      <td>1.280000</td>\n",
       "      <td>1.290000</td>\n",
       "      <td>2.442339</td>\n",
       "      <td>2.442339</td>\n",
       "      <td>2.442339</td>\n",
       "      <td>2.442339</td>\n",
       "      <td>2.442339</td>\n",
       "      <td>2.442339</td>\n",
       "      <td>2.442339</td>\n",
       "    </tr>\n",
       "    <tr>\n",
       "      <th>2004-08-04</th>\n",
       "      <td>324</td>\n",
       "      <td>13.355744</td>\n",
       "      <td>2</td>\n",
       "      <td>3</td>\n",
       "      <td>8</td>\n",
       "      <td>2004</td>\n",
       "      <td>4</td>\n",
       "      <td>62593.000000</td>\n",
       "      <td>59183.000000</td>\n",
       "      <td>61741.000000</td>\n",
       "      <td>...</td>\n",
       "      <td>5.247815</td>\n",
       "      <td>1.240000</td>\n",
       "      <td>1.280000</td>\n",
       "      <td>1.290000</td>\n",
       "      <td>2.442339</td>\n",
       "      <td>2.442339</td>\n",
       "      <td>2.442339</td>\n",
       "      <td>2.442339</td>\n",
       "      <td>2.442339</td>\n",
       "      <td>2.442339</td>\n",
       "    </tr>\n",
       "    <tr>\n",
       "      <th>2004-08-05</th>\n",
       "      <td>325</td>\n",
       "      <td>13.361711</td>\n",
       "      <td>3</td>\n",
       "      <td>3</td>\n",
       "      <td>8</td>\n",
       "      <td>2004</td>\n",
       "      <td>5</td>\n",
       "      <td>65689.000000</td>\n",
       "      <td>62593.000000</td>\n",
       "      <td>59183.000000</td>\n",
       "      <td>...</td>\n",
       "      <td>5.247815</td>\n",
       "      <td>1.220000</td>\n",
       "      <td>1.240000</td>\n",
       "      <td>1.280000</td>\n",
       "      <td>1.290000</td>\n",
       "      <td>2.442339</td>\n",
       "      <td>2.442339</td>\n",
       "      <td>2.442339</td>\n",
       "      <td>2.442339</td>\n",
       "      <td>2.442339</td>\n",
       "    </tr>\n",
       "    <tr>\n",
       "      <th>...</th>\n",
       "      <td>...</td>\n",
       "      <td>...</td>\n",
       "      <td>...</td>\n",
       "      <td>...</td>\n",
       "      <td>...</td>\n",
       "      <td>...</td>\n",
       "      <td>...</td>\n",
       "      <td>...</td>\n",
       "      <td>...</td>\n",
       "      <td>...</td>\n",
       "      <td>...</td>\n",
       "      <td>...</td>\n",
       "      <td>...</td>\n",
       "      <td>...</td>\n",
       "      <td>...</td>\n",
       "      <td>...</td>\n",
       "      <td>...</td>\n",
       "      <td>...</td>\n",
       "      <td>...</td>\n",
       "      <td>...</td>\n",
       "      <td>...</td>\n",
       "    </tr>\n",
       "    <tr>\n",
       "      <th>2005-08-23</th>\n",
       "      <td>325</td>\n",
       "      <td>14.206093</td>\n",
       "      <td>1</td>\n",
       "      <td>3</td>\n",
       "      <td>8</td>\n",
       "      <td>2005</td>\n",
       "      <td>23</td>\n",
       "      <td>85508.000000</td>\n",
       "      <td>98483.000000</td>\n",
       "      <td>142337.000000</td>\n",
       "      <td>...</td>\n",
       "      <td>5.000000</td>\n",
       "      <td>3.510000</td>\n",
       "      <td>3.540000</td>\n",
       "      <td>3.540000</td>\n",
       "      <td>3.540000</td>\n",
       "      <td>3.500000</td>\n",
       "      <td>3.570000</td>\n",
       "      <td>3.460000</td>\n",
       "      <td>3.470000</td>\n",
       "      <td>3.250000</td>\n",
       "    </tr>\n",
       "    <tr>\n",
       "      <th>2005-08-24</th>\n",
       "      <td>325</td>\n",
       "      <td>14.499930</td>\n",
       "      <td>2</td>\n",
       "      <td>3</td>\n",
       "      <td>8</td>\n",
       "      <td>2005</td>\n",
       "      <td>24</td>\n",
       "      <td>84999.000000</td>\n",
       "      <td>85508.000000</td>\n",
       "      <td>98483.000000</td>\n",
       "      <td>...</td>\n",
       "      <td>5.000000</td>\n",
       "      <td>3.490000</td>\n",
       "      <td>3.510000</td>\n",
       "      <td>3.540000</td>\n",
       "      <td>3.540000</td>\n",
       "      <td>3.540000</td>\n",
       "      <td>3.500000</td>\n",
       "      <td>3.570000</td>\n",
       "      <td>3.480000</td>\n",
       "      <td>3.270000</td>\n",
       "    </tr>\n",
       "    <tr>\n",
       "      <th>2005-08-25</th>\n",
       "      <td>325</td>\n",
       "      <td>14.479821</td>\n",
       "      <td>3</td>\n",
       "      <td>3</td>\n",
       "      <td>8</td>\n",
       "      <td>2005</td>\n",
       "      <td>25</td>\n",
       "      <td>140901.000000</td>\n",
       "      <td>84999.000000</td>\n",
       "      <td>85508.000000</td>\n",
       "      <td>...</td>\n",
       "      <td>5.000000</td>\n",
       "      <td>3.500000</td>\n",
       "      <td>3.490000</td>\n",
       "      <td>3.510000</td>\n",
       "      <td>3.540000</td>\n",
       "      <td>3.540000</td>\n",
       "      <td>3.540000</td>\n",
       "      <td>3.500000</td>\n",
       "      <td>3.510000</td>\n",
       "      <td>3.270000</td>\n",
       "    </tr>\n",
       "    <tr>\n",
       "      <th>2005-08-26</th>\n",
       "      <td>324</td>\n",
       "      <td>14.667566</td>\n",
       "      <td>4</td>\n",
       "      <td>3</td>\n",
       "      <td>8</td>\n",
       "      <td>2005</td>\n",
       "      <td>26</td>\n",
       "      <td>134977.000000</td>\n",
       "      <td>140901.000000</td>\n",
       "      <td>84999.000000</td>\n",
       "      <td>...</td>\n",
       "      <td>5.000000</td>\n",
       "      <td>3.550000</td>\n",
       "      <td>3.500000</td>\n",
       "      <td>3.490000</td>\n",
       "      <td>3.510000</td>\n",
       "      <td>3.540000</td>\n",
       "      <td>3.540000</td>\n",
       "      <td>3.540000</td>\n",
       "      <td>3.550000</td>\n",
       "      <td>3.310000</td>\n",
       "    </tr>\n",
       "    <tr>\n",
       "      <th>2005-08-27</th>\n",
       "      <td>325</td>\n",
       "      <td>15.177495</td>\n",
       "      <td>5</td>\n",
       "      <td>3</td>\n",
       "      <td>8</td>\n",
       "      <td>2005</td>\n",
       "      <td>27</td>\n",
       "      <td>144548.000000</td>\n",
       "      <td>134977.000000</td>\n",
       "      <td>140901.000000</td>\n",
       "      <td>...</td>\n",
       "      <td>5.000000</td>\n",
       "      <td>3.540000</td>\n",
       "      <td>3.550000</td>\n",
       "      <td>3.500000</td>\n",
       "      <td>3.490000</td>\n",
       "      <td>3.510000</td>\n",
       "      <td>3.540000</td>\n",
       "      <td>3.540000</td>\n",
       "      <td>3.550000</td>\n",
       "      <td>3.310000</td>\n",
       "    </tr>\n",
       "  </tbody>\n",
       "</table>\n",
       "<p>389 rows × 340 columns</p>\n",
       "</div>"
      ],
      "text/plain": [
       "            nstores  totalprofit  dayofweek  quarter  month  year  dayofmonth  \\\n",
       "saledate                                                                        \n",
       "2004-08-01      323    13.144244          6        3      8  2004           1   \n",
       "2004-08-02      324    13.184463          0        3      8  2004           2   \n",
       "2004-08-03      324    13.399838          1        3      8  2004           3   \n",
       "2004-08-04      324    13.355744          2        3      8  2004           4   \n",
       "2004-08-05      325    13.361711          3        3      8  2004           5   \n",
       "...             ...          ...        ...      ...    ...   ...         ...   \n",
       "2005-08-23      325    14.206093          1        3      8  2005          23   \n",
       "2005-08-24      325    14.499930          2        3      8  2005          24   \n",
       "2005-08-25      325    14.479821          3        3      8  2005          25   \n",
       "2005-08-26      324    14.667566          4        3      8  2005          26   \n",
       "2005-08-27      325    15.177495          5        3      8  2005          27   \n",
       "\n",
       "                   nsku_1         nsku_2         nsku_3  ...  UNRATE_28  \\\n",
       "saledate                                                 ...              \n",
       "2004-08-01   89270.339332   89270.339332   89270.339332  ...   5.247815   \n",
       "2004-08-02   61741.000000   89270.339332   89270.339332  ...   5.247815   \n",
       "2004-08-03   59183.000000   61741.000000   89270.339332  ...   5.247815   \n",
       "2004-08-04   62593.000000   59183.000000   61741.000000  ...   5.247815   \n",
       "2004-08-05   65689.000000   62593.000000   59183.000000  ...   5.247815   \n",
       "...                   ...            ...            ...  ...        ...   \n",
       "2005-08-23   85508.000000   98483.000000  142337.000000  ...   5.000000   \n",
       "2005-08-24   84999.000000   85508.000000   98483.000000  ...   5.000000   \n",
       "2005-08-25  140901.000000   84999.000000   85508.000000  ...   5.000000   \n",
       "2005-08-26  134977.000000  140901.000000   84999.000000  ...   5.000000   \n",
       "2005-08-27  144548.000000  134977.000000  140901.000000  ...   5.000000   \n",
       "\n",
       "               DFF_1     DFF_2     DFF_3     DFF_4     DFF_5     DFF_6  \\\n",
       "saledate                                                                 \n",
       "2004-08-01  2.442339  2.442339  2.442339  2.442339  2.442339  2.442339   \n",
       "2004-08-02  1.290000  2.442339  2.442339  2.442339  2.442339  2.442339   \n",
       "2004-08-03  1.280000  1.290000  2.442339  2.442339  2.442339  2.442339   \n",
       "2004-08-04  1.240000  1.280000  1.290000  2.442339  2.442339  2.442339   \n",
       "2004-08-05  1.220000  1.240000  1.280000  1.290000  2.442339  2.442339   \n",
       "...              ...       ...       ...       ...       ...       ...   \n",
       "2005-08-23  3.510000  3.540000  3.540000  3.540000  3.500000  3.570000   \n",
       "2005-08-24  3.490000  3.510000  3.540000  3.540000  3.540000  3.500000   \n",
       "2005-08-25  3.500000  3.490000  3.510000  3.540000  3.540000  3.540000   \n",
       "2005-08-26  3.550000  3.500000  3.490000  3.510000  3.540000  3.540000   \n",
       "2005-08-27  3.540000  3.550000  3.500000  3.490000  3.510000  3.540000   \n",
       "\n",
       "               DFF_7    DFF_14    DFF_28  \n",
       "saledate                                  \n",
       "2004-08-01  2.442339  2.442339  2.442339  \n",
       "2004-08-02  2.442339  2.442339  2.442339  \n",
       "2004-08-03  2.442339  2.442339  2.442339  \n",
       "2004-08-04  2.442339  2.442339  2.442339  \n",
       "2004-08-05  2.442339  2.442339  2.442339  \n",
       "...              ...       ...       ...  \n",
       "2005-08-23  3.460000  3.470000  3.250000  \n",
       "2005-08-24  3.570000  3.480000  3.270000  \n",
       "2005-08-25  3.500000  3.510000  3.270000  \n",
       "2005-08-26  3.540000  3.550000  3.310000  \n",
       "2005-08-27  3.540000  3.550000  3.310000  \n",
       "\n",
       "[389 rows x 340 columns]"
      ]
     },
     "execution_count": 23,
     "metadata": {},
     "output_type": "execute_result"
    }
   ],
   "source": [
    "df_total2 = df_ts_lagged2.copy()\n",
    "df_total2['totalprofit'] = np.log(df_total2['totalprofit']+1)\n",
    "df_total2.fillna(0,inplace = True)\n",
    "df_total2"
   ]
  },
  {
   "cell_type": "code",
   "execution_count": 24,
   "id": "6fef33e4",
   "metadata": {},
   "outputs": [
    {
     "data": {
      "text/html": [
       "<div>\n",
       "<style scoped>\n",
       "    .dataframe tbody tr th:only-of-type {\n",
       "        vertical-align: middle;\n",
       "    }\n",
       "\n",
       "    .dataframe tbody tr th {\n",
       "        vertical-align: top;\n",
       "    }\n",
       "\n",
       "    .dataframe thead th {\n",
       "        text-align: right;\n",
       "    }\n",
       "</style>\n",
       "<table border=\"1\" class=\"dataframe\">\n",
       "  <thead>\n",
       "    <tr style=\"text-align: right;\">\n",
       "      <th></th>\n",
       "      <th>nstores</th>\n",
       "      <th>totalprofit</th>\n",
       "      <th>dayofweek</th>\n",
       "      <th>quarter</th>\n",
       "      <th>month</th>\n",
       "      <th>year</th>\n",
       "      <th>dayofmonth</th>\n",
       "      <th>nsku_1</th>\n",
       "      <th>nsku_2</th>\n",
       "      <th>nsku_3</th>\n",
       "      <th>...</th>\n",
       "      <th>UNRATE_28</th>\n",
       "      <th>DFF_1</th>\n",
       "      <th>DFF_2</th>\n",
       "      <th>DFF_3</th>\n",
       "      <th>DFF_4</th>\n",
       "      <th>DFF_5</th>\n",
       "      <th>DFF_6</th>\n",
       "      <th>DFF_7</th>\n",
       "      <th>DFF_14</th>\n",
       "      <th>DFF_28</th>\n",
       "    </tr>\n",
       "    <tr>\n",
       "      <th>saledate</th>\n",
       "      <th></th>\n",
       "      <th></th>\n",
       "      <th></th>\n",
       "      <th></th>\n",
       "      <th></th>\n",
       "      <th></th>\n",
       "      <th></th>\n",
       "      <th></th>\n",
       "      <th></th>\n",
       "      <th></th>\n",
       "      <th></th>\n",
       "      <th></th>\n",
       "      <th></th>\n",
       "      <th></th>\n",
       "      <th></th>\n",
       "      <th></th>\n",
       "      <th></th>\n",
       "      <th></th>\n",
       "      <th></th>\n",
       "      <th></th>\n",
       "      <th></th>\n",
       "    </tr>\n",
       "  </thead>\n",
       "  <tbody>\n",
       "    <tr>\n",
       "      <th>2004-08-01</th>\n",
       "      <td>323</td>\n",
       "      <td>511060.0</td>\n",
       "      <td>6</td>\n",
       "      <td>3</td>\n",
       "      <td>8</td>\n",
       "      <td>2004</td>\n",
       "      <td>1</td>\n",
       "      <td>89270.339332</td>\n",
       "      <td>89270.339332</td>\n",
       "      <td>89270.339332</td>\n",
       "      <td>...</td>\n",
       "      <td>5.247815</td>\n",
       "      <td>2.442339</td>\n",
       "      <td>2.442339</td>\n",
       "      <td>2.442339</td>\n",
       "      <td>2.442339</td>\n",
       "      <td>2.442339</td>\n",
       "      <td>2.442339</td>\n",
       "      <td>2.442339</td>\n",
       "      <td>2.442339</td>\n",
       "      <td>2.442339</td>\n",
       "    </tr>\n",
       "    <tr>\n",
       "      <th>2004-08-02</th>\n",
       "      <td>324</td>\n",
       "      <td>532033.0</td>\n",
       "      <td>0</td>\n",
       "      <td>3</td>\n",
       "      <td>8</td>\n",
       "      <td>2004</td>\n",
       "      <td>2</td>\n",
       "      <td>61741.000000</td>\n",
       "      <td>89270.339332</td>\n",
       "      <td>89270.339332</td>\n",
       "      <td>...</td>\n",
       "      <td>5.247815</td>\n",
       "      <td>1.290000</td>\n",
       "      <td>2.442339</td>\n",
       "      <td>2.442339</td>\n",
       "      <td>2.442339</td>\n",
       "      <td>2.442339</td>\n",
       "      <td>2.442339</td>\n",
       "      <td>2.442339</td>\n",
       "      <td>2.442339</td>\n",
       "      <td>2.442339</td>\n",
       "    </tr>\n",
       "    <tr>\n",
       "      <th>2004-08-03</th>\n",
       "      <td>324</td>\n",
       "      <td>659895.0</td>\n",
       "      <td>1</td>\n",
       "      <td>3</td>\n",
       "      <td>8</td>\n",
       "      <td>2004</td>\n",
       "      <td>3</td>\n",
       "      <td>59183.000000</td>\n",
       "      <td>61741.000000</td>\n",
       "      <td>89270.339332</td>\n",
       "      <td>...</td>\n",
       "      <td>5.247815</td>\n",
       "      <td>1.280000</td>\n",
       "      <td>1.290000</td>\n",
       "      <td>2.442339</td>\n",
       "      <td>2.442339</td>\n",
       "      <td>2.442339</td>\n",
       "      <td>2.442339</td>\n",
       "      <td>2.442339</td>\n",
       "      <td>2.442339</td>\n",
       "      <td>2.442339</td>\n",
       "    </tr>\n",
       "    <tr>\n",
       "      <th>2004-08-04</th>\n",
       "      <td>324</td>\n",
       "      <td>631430.0</td>\n",
       "      <td>2</td>\n",
       "      <td>3</td>\n",
       "      <td>8</td>\n",
       "      <td>2004</td>\n",
       "      <td>4</td>\n",
       "      <td>62593.000000</td>\n",
       "      <td>59183.000000</td>\n",
       "      <td>61741.000000</td>\n",
       "      <td>...</td>\n",
       "      <td>5.247815</td>\n",
       "      <td>1.240000</td>\n",
       "      <td>1.280000</td>\n",
       "      <td>1.290000</td>\n",
       "      <td>2.442339</td>\n",
       "      <td>2.442339</td>\n",
       "      <td>2.442339</td>\n",
       "      <td>2.442339</td>\n",
       "      <td>2.442339</td>\n",
       "      <td>2.442339</td>\n",
       "    </tr>\n",
       "    <tr>\n",
       "      <th>2004-08-05</th>\n",
       "      <td>325</td>\n",
       "      <td>635209.0</td>\n",
       "      <td>3</td>\n",
       "      <td>3</td>\n",
       "      <td>8</td>\n",
       "      <td>2004</td>\n",
       "      <td>5</td>\n",
       "      <td>65689.000000</td>\n",
       "      <td>62593.000000</td>\n",
       "      <td>59183.000000</td>\n",
       "      <td>...</td>\n",
       "      <td>5.247815</td>\n",
       "      <td>1.220000</td>\n",
       "      <td>1.240000</td>\n",
       "      <td>1.280000</td>\n",
       "      <td>1.290000</td>\n",
       "      <td>2.442339</td>\n",
       "      <td>2.442339</td>\n",
       "      <td>2.442339</td>\n",
       "      <td>2.442339</td>\n",
       "      <td>2.442339</td>\n",
       "    </tr>\n",
       "    <tr>\n",
       "      <th>...</th>\n",
       "      <td>...</td>\n",
       "      <td>...</td>\n",
       "      <td>...</td>\n",
       "      <td>...</td>\n",
       "      <td>...</td>\n",
       "      <td>...</td>\n",
       "      <td>...</td>\n",
       "      <td>...</td>\n",
       "      <td>...</td>\n",
       "      <td>...</td>\n",
       "      <td>...</td>\n",
       "      <td>...</td>\n",
       "      <td>...</td>\n",
       "      <td>...</td>\n",
       "      <td>...</td>\n",
       "      <td>...</td>\n",
       "      <td>...</td>\n",
       "      <td>...</td>\n",
       "      <td>...</td>\n",
       "      <td>...</td>\n",
       "      <td>...</td>\n",
       "    </tr>\n",
       "    <tr>\n",
       "      <th>2005-08-23</th>\n",
       "      <td>325</td>\n",
       "      <td>1477840.0</td>\n",
       "      <td>1</td>\n",
       "      <td>3</td>\n",
       "      <td>8</td>\n",
       "      <td>2005</td>\n",
       "      <td>23</td>\n",
       "      <td>85508.000000</td>\n",
       "      <td>98483.000000</td>\n",
       "      <td>142337.000000</td>\n",
       "      <td>...</td>\n",
       "      <td>5.000000</td>\n",
       "      <td>3.510000</td>\n",
       "      <td>3.540000</td>\n",
       "      <td>3.540000</td>\n",
       "      <td>3.540000</td>\n",
       "      <td>3.500000</td>\n",
       "      <td>3.570000</td>\n",
       "      <td>3.460000</td>\n",
       "      <td>3.470000</td>\n",
       "      <td>3.250000</td>\n",
       "    </tr>\n",
       "    <tr>\n",
       "      <th>2005-08-24</th>\n",
       "      <td>325</td>\n",
       "      <td>1982620.0</td>\n",
       "      <td>2</td>\n",
       "      <td>3</td>\n",
       "      <td>8</td>\n",
       "      <td>2005</td>\n",
       "      <td>24</td>\n",
       "      <td>84999.000000</td>\n",
       "      <td>85508.000000</td>\n",
       "      <td>98483.000000</td>\n",
       "      <td>...</td>\n",
       "      <td>5.000000</td>\n",
       "      <td>3.490000</td>\n",
       "      <td>3.510000</td>\n",
       "      <td>3.540000</td>\n",
       "      <td>3.540000</td>\n",
       "      <td>3.540000</td>\n",
       "      <td>3.500000</td>\n",
       "      <td>3.570000</td>\n",
       "      <td>3.480000</td>\n",
       "      <td>3.270000</td>\n",
       "    </tr>\n",
       "    <tr>\n",
       "      <th>2005-08-25</th>\n",
       "      <td>325</td>\n",
       "      <td>1943150.0</td>\n",
       "      <td>3</td>\n",
       "      <td>3</td>\n",
       "      <td>8</td>\n",
       "      <td>2005</td>\n",
       "      <td>25</td>\n",
       "      <td>140901.000000</td>\n",
       "      <td>84999.000000</td>\n",
       "      <td>85508.000000</td>\n",
       "      <td>...</td>\n",
       "      <td>5.000000</td>\n",
       "      <td>3.500000</td>\n",
       "      <td>3.490000</td>\n",
       "      <td>3.510000</td>\n",
       "      <td>3.540000</td>\n",
       "      <td>3.540000</td>\n",
       "      <td>3.540000</td>\n",
       "      <td>3.500000</td>\n",
       "      <td>3.510000</td>\n",
       "      <td>3.270000</td>\n",
       "    </tr>\n",
       "    <tr>\n",
       "      <th>2005-08-26</th>\n",
       "      <td>324</td>\n",
       "      <td>2344460.0</td>\n",
       "      <td>4</td>\n",
       "      <td>3</td>\n",
       "      <td>8</td>\n",
       "      <td>2005</td>\n",
       "      <td>26</td>\n",
       "      <td>134977.000000</td>\n",
       "      <td>140901.000000</td>\n",
       "      <td>84999.000000</td>\n",
       "      <td>...</td>\n",
       "      <td>5.000000</td>\n",
       "      <td>3.550000</td>\n",
       "      <td>3.500000</td>\n",
       "      <td>3.490000</td>\n",
       "      <td>3.510000</td>\n",
       "      <td>3.540000</td>\n",
       "      <td>3.540000</td>\n",
       "      <td>3.540000</td>\n",
       "      <td>3.550000</td>\n",
       "      <td>3.310000</td>\n",
       "    </tr>\n",
       "    <tr>\n",
       "      <th>2005-08-27</th>\n",
       "      <td>325</td>\n",
       "      <td>3903930.0</td>\n",
       "      <td>5</td>\n",
       "      <td>3</td>\n",
       "      <td>8</td>\n",
       "      <td>2005</td>\n",
       "      <td>27</td>\n",
       "      <td>144548.000000</td>\n",
       "      <td>134977.000000</td>\n",
       "      <td>140901.000000</td>\n",
       "      <td>...</td>\n",
       "      <td>5.000000</td>\n",
       "      <td>3.540000</td>\n",
       "      <td>3.550000</td>\n",
       "      <td>3.500000</td>\n",
       "      <td>3.490000</td>\n",
       "      <td>3.510000</td>\n",
       "      <td>3.540000</td>\n",
       "      <td>3.540000</td>\n",
       "      <td>3.550000</td>\n",
       "      <td>3.310000</td>\n",
       "    </tr>\n",
       "  </tbody>\n",
       "</table>\n",
       "<p>389 rows × 340 columns</p>\n",
       "</div>"
      ],
      "text/plain": [
       "            nstores  totalprofit  dayofweek  quarter  month  year  dayofmonth  \\\n",
       "saledate                                                                        \n",
       "2004-08-01      323     511060.0          6        3      8  2004           1   \n",
       "2004-08-02      324     532033.0          0        3      8  2004           2   \n",
       "2004-08-03      324     659895.0          1        3      8  2004           3   \n",
       "2004-08-04      324     631430.0          2        3      8  2004           4   \n",
       "2004-08-05      325     635209.0          3        3      8  2004           5   \n",
       "...             ...          ...        ...      ...    ...   ...         ...   \n",
       "2005-08-23      325    1477840.0          1        3      8  2005          23   \n",
       "2005-08-24      325    1982620.0          2        3      8  2005          24   \n",
       "2005-08-25      325    1943150.0          3        3      8  2005          25   \n",
       "2005-08-26      324    2344460.0          4        3      8  2005          26   \n",
       "2005-08-27      325    3903930.0          5        3      8  2005          27   \n",
       "\n",
       "                   nsku_1         nsku_2         nsku_3  ...  UNRATE_28  \\\n",
       "saledate                                                 ...              \n",
       "2004-08-01   89270.339332   89270.339332   89270.339332  ...   5.247815   \n",
       "2004-08-02   61741.000000   89270.339332   89270.339332  ...   5.247815   \n",
       "2004-08-03   59183.000000   61741.000000   89270.339332  ...   5.247815   \n",
       "2004-08-04   62593.000000   59183.000000   61741.000000  ...   5.247815   \n",
       "2004-08-05   65689.000000   62593.000000   59183.000000  ...   5.247815   \n",
       "...                   ...            ...            ...  ...        ...   \n",
       "2005-08-23   85508.000000   98483.000000  142337.000000  ...   5.000000   \n",
       "2005-08-24   84999.000000   85508.000000   98483.000000  ...   5.000000   \n",
       "2005-08-25  140901.000000   84999.000000   85508.000000  ...   5.000000   \n",
       "2005-08-26  134977.000000  140901.000000   84999.000000  ...   5.000000   \n",
       "2005-08-27  144548.000000  134977.000000  140901.000000  ...   5.000000   \n",
       "\n",
       "               DFF_1     DFF_2     DFF_3     DFF_4     DFF_5     DFF_6  \\\n",
       "saledate                                                                 \n",
       "2004-08-01  2.442339  2.442339  2.442339  2.442339  2.442339  2.442339   \n",
       "2004-08-02  1.290000  2.442339  2.442339  2.442339  2.442339  2.442339   \n",
       "2004-08-03  1.280000  1.290000  2.442339  2.442339  2.442339  2.442339   \n",
       "2004-08-04  1.240000  1.280000  1.290000  2.442339  2.442339  2.442339   \n",
       "2004-08-05  1.220000  1.240000  1.280000  1.290000  2.442339  2.442339   \n",
       "...              ...       ...       ...       ...       ...       ...   \n",
       "2005-08-23  3.510000  3.540000  3.540000  3.540000  3.500000  3.570000   \n",
       "2005-08-24  3.490000  3.510000  3.540000  3.540000  3.540000  3.500000   \n",
       "2005-08-25  3.500000  3.490000  3.510000  3.540000  3.540000  3.540000   \n",
       "2005-08-26  3.550000  3.500000  3.490000  3.510000  3.540000  3.540000   \n",
       "2005-08-27  3.540000  3.550000  3.500000  3.490000  3.510000  3.540000   \n",
       "\n",
       "               DFF_7    DFF_14    DFF_28  \n",
       "saledate                                  \n",
       "2004-08-01  2.442339  2.442339  2.442339  \n",
       "2004-08-02  2.442339  2.442339  2.442339  \n",
       "2004-08-03  2.442339  2.442339  2.442339  \n",
       "2004-08-04  2.442339  2.442339  2.442339  \n",
       "2004-08-05  2.442339  2.442339  2.442339  \n",
       "...              ...       ...       ...  \n",
       "2005-08-23  3.460000  3.470000  3.250000  \n",
       "2005-08-24  3.570000  3.480000  3.270000  \n",
       "2005-08-25  3.500000  3.510000  3.270000  \n",
       "2005-08-26  3.540000  3.550000  3.310000  \n",
       "2005-08-27  3.540000  3.550000  3.310000  \n",
       "\n",
       "[389 rows x 340 columns]"
      ]
     },
     "execution_count": 24,
     "metadata": {},
     "output_type": "execute_result"
    }
   ],
   "source": [
    "df_total1 = df_ts_lagged1.copy()\n",
    "df_total1"
   ]
  },
  {
   "cell_type": "markdown",
   "id": "a39f7d36",
   "metadata": {},
   "source": [
    "## Prophet Modeling"
   ]
  },
  {
   "cell_type": "code",
   "execution_count": 25,
   "id": "2b43c461",
   "metadata": {},
   "outputs": [],
   "source": [
    "from prophet import Prophet\n",
    "from prophet.diagnostics import cross_validation\n",
    "from prophet.diagnostics import performance_metrics\n",
    "from prophet.plot import plot_cross_validation_metric\n",
    "from prophet.utilities import regressor_coefficients\n",
    "import sklearn.metrics as metrics\n",
    "import itertools"
   ]
  },
  {
   "cell_type": "code",
   "execution_count": 26,
   "id": "9564a900",
   "metadata": {},
   "outputs": [
    {
     "data": {
      "text/plain": [
       "totalprofit             1.000000\n",
       "totalprofit_1           0.704782\n",
       "minorigprice_1          0.533894\n",
       "ndept_1                 0.526977\n",
       "totalretail_1           0.512834\n",
       "avgretail_1             0.407768\n",
       "nvendors_1              0.400957\n",
       "totalcost_1             0.386525\n",
       "avgprofittrnsact_1      0.351141\n",
       "nsku_1                  0.322482\n",
       "avgvendorsstore_1       0.259635\n",
       "totalorigprice_1        0.243640\n",
       "avgretailtrnsact_1      0.241455\n",
       "avgcost_1               0.224361\n",
       "maxdiscount_1           0.210849\n",
       "ncities_1               0.195326\n",
       "avgcosttrnsact_1        0.183048\n",
       "maxprofit_1             0.170491\n",
       "maxcost_1               0.158454\n",
       "maxretail_1             0.157942\n",
       "avgdiscounttrnsact_1    0.151123\n",
       "nstore_1                0.148894\n",
       "totalquantity_1         0.147117\n",
       "minprofit_1             0.126560\n",
       "avgorigprice_1          0.104936\n",
       "minretail_1             0.104762\n",
       "totalamt_1              0.104053\n",
       "totaldiscount_1         0.094300\n",
       "mindiscount_1           0.088604\n",
       "avgamt_1                0.075200\n",
       "avgquantity_1           0.061317\n",
       "maxamt_1                0.048316\n",
       "mincost_1               0.046009\n",
       "maxorigprice_1          0.018393\n",
       "minamt_1                     NaN\n",
       "Name: totalprofit, dtype: float64"
      ]
     },
     "execution_count": 26,
     "metadata": {},
     "output_type": "execute_result"
    }
   ],
   "source": [
    "#correlation analysis\n",
    "lag1_features = [each + \"_1\" for each in orignal_features]\n",
    "df_total1_part = df_total1[lag1_features]\n",
    "df_total1_part = df_total1_part.drop(columns = ['UNRATE_1','DFF_1','CORESTICKM159SFRBATL_1'])\n",
    "df_total1_part['totalprofit'] = df_total1['totalprofit']\n",
    "df_total1_part.corr().abs().iloc[:,-1].sort_values(ascending = False)"
   ]
  },
  {
   "cell_type": "code",
   "execution_count": 62,
   "id": "0cdf32ed",
   "metadata": {
    "tags": []
   },
   "outputs": [],
   "source": [
    "def model_construction1(df_total):\n",
    "    \n",
    "    #Dataset Construction\n",
    "    df_state = df_total\n",
    "    df_state = df_state.reset_index()\n",
    "    df_state = df_state.rename(columns = {'saledate':'ds','totalprofit':'y'})\n",
    "    \n",
    "    #train/test split\n",
    "    df_train = df_state[df_state['ds']<='2005-05-31']\n",
    "    df_validation = df_state[(df_state['ds']>'2005-05-31')&(df_state['ds']<='2005-07-31')]\n",
    "    df_test = df_state[df_state['ds']>'2005-07-31']\n",
    "    \n",
    "    #Modeling\n",
    "\n",
    "    def modeling(df_train,dict_param):\n",
    "\n",
    "        #add seasonality\n",
    "        '''\n",
    "            We drop the yearly seasonality since the training dataset is less than one year and we add quarterly, montly seasonality instead.\n",
    "        '''\n",
    "        m = Prophet(yearly_seasonality = False,**dict_param)\n",
    "        #m.add_seasonality(name=\"quarterly\", period=90, fourier_order = 10)\n",
    "        m.add_seasonality(name='monthly', period=30, fourier_order=5) \n",
    "\n",
    "        #add holiday\n",
    "        m.add_country_holidays(country_name='US')\n",
    "\n",
    "        #add additional features\n",
    "        feature_list = ['minorigprice',\n",
    "                        'ndept',\n",
    "                        'totalretail',\n",
    "                        'nvendors',\n",
    "                        'totalcost',\n",
    "                        'nsku']\n",
    "        \n",
    "        for feature in feature_list:\n",
    "            m.add_regressor(feature+'_1',standardize = \"auto\")\n",
    "\n",
    "        m.fit(df_train)\n",
    "\n",
    "        return m\n",
    "        \n",
    "    def model_tuning():\n",
    "        param_grid = {  \n",
    "            'changepoint_prior_scale': [0.001, 0.01, 0.1, 0.5],\n",
    "            'seasonality_prior_scale': [0.01, 0.1, 1.0, 10.0],\n",
    "            'holidays_prior_scale': [0.01, 0.1, 1.0, 10.0]\n",
    "        }\n",
    "\n",
    "        # Generate all combinations of parameters\n",
    "        all_params = [dict(zip(param_grid.keys(), v)) for v in itertools.product(*param_grid.values())]\n",
    "\n",
    "        # Store the RMSEs for each params here\n",
    "        rmse = []\n",
    "\n",
    "        # Use cross validation to evaluate all parameters\n",
    "        for params in all_params:\n",
    "            m = modeling(df_train,params) # Fit model with given params\n",
    "            df_cv = cross_validation(m, initial = '200 days',period = '15 days',horizon = '15 days')\n",
    "            df_p = performance_metrics(df_cv, rolling_window=1)\n",
    "            rmse.append(df_p['rmse'].values[0])\n",
    "\n",
    "        # Find the best parameters\n",
    "        tuning_results = pd.DataFrame(all_params)\n",
    "        tuning_results['rmse'] = rmse\n",
    "        best_params = all_params[np.argmin(rmse)]\n",
    "        \n",
    "        return best_params\n",
    "    \n",
    "    #rebuild the model with best_params\n",
    "    \n",
    "    best_params = model_tuning()\n",
    "    \n",
    "    print(\"Best parameters for model : \")\n",
    "    print(best_params)\n",
    "    \n",
    "    m = modeling(df_train,best_params)\n",
    "\n",
    "    #model prediction\n",
    "    feature_list = ['minorigprice',\n",
    "                        'ndept',\n",
    "                        'totalretail',\n",
    "                        'nvendors',\n",
    "                        'totalcost',\n",
    "                        'nsku']\n",
    "    feature_list1 = [each + \"_1\" for each in feature_list]\n",
    "    \n",
    "    df_future = df_state[df_state['ds']<='2005-07-31'].copy()\n",
    "    df_future = df_future[feature_list1]\n",
    "    future = m.make_future_dataframe(periods = 61)\n",
    "    future = future.join(df_future)\n",
    "    forecast = m.predict(future)\n",
    "    df_result = forecast[['ds','yhat']]\n",
    "    df_result['y'] = df_state[df_state['ds']<='2005-07-31']['y'].tolist()\n",
    "    print(df_result)\n",
    "    #df_result['y']=np.exp(df_result['y']) - 1\n",
    "    #df_result['yhat']=np.exp(df_result['yhat']) - 1\n",
    "    \n",
    "    # graph the distribution of prediction vs actual\n",
    "    test_ts_draw = df_result['y']\n",
    "    test_prediction = df_result[df_result['ds']>='2005-06-01']['yhat']\n",
    "    fig, ax = plt.subplots(figsize=(15, 5))\n",
    "    test_ts_draw.plot(ax=ax, label='Test Set')\n",
    "    test_prediction.plot(ax=ax, label='prediction Set', title='Train_Test_comparison')\n",
    "    ax.legend(['prediction Set', 'Test Set'])\n",
    "    plt.show()\n",
    "    \n",
    "    def show_results(y_true, y_pred):\n",
    "        # Regression metrics\n",
    "        explained_variance=metrics.explained_variance_score(y_true, y_pred)\n",
    "        mean_absolute_error=metrics.mean_absolute_error(y_true, y_pred) \n",
    "        mse=metrics.mean_squared_error(y_true, y_pred) \n",
    "        r2=metrics.r2_score(y_true, y_pred)\n",
    "        \n",
    "        df_metrics = pd.DataFrame(columns = ['explained_variance','MAE','R^2','MSE','RMSE'])\n",
    "        df_metrics_results = {'explained_variance':round(explained_variance,4),'MAE':round(mean_absolute_error,4),\n",
    "                             'R^2':round(r2,4),'MSE':round(mse,4),'RMSE':round(np.sqrt(mse),4)}\n",
    "        df_metrics = df_metrics.append(df_metrics_results,ignore_index = True)\n",
    "        \n",
    "        return df_metrics\n",
    "    \n",
    "    return m,show_results(df_result[df_result['ds']>='2005-06-01']['y'],df_result[df_result['ds']>='2005-06-01']['yhat'])"
   ]
  },
  {
   "cell_type": "code",
   "execution_count": 63,
   "id": "63cfd214",
   "metadata": {},
   "outputs": [],
   "source": [
    "def model_construction_macro1(df_total):\n",
    "    \n",
    "    #Dataset Construction\n",
    "    df_state = df_total\n",
    "    df_state = df_state.reset_index()\n",
    "    df_state = df_state.rename(columns = {'saledate':'ds','totalprofit':'y'})\n",
    "    \n",
    "    #train/test split\n",
    "    df_train = df_state[df_state['ds']<='2005-05-31']\n",
    "    df_validation = df_state[(df_state['ds']>'2005-05-31')&(df_state['ds']<='2005-07-31')]\n",
    "    df_test = df_state[df_state['ds']>'2005-07-31']\n",
    "    \n",
    "    #Modeling\n",
    "\n",
    "    def modeling(df_train,dict_param):\n",
    "\n",
    "        #add seasonality\n",
    "        '''\n",
    "            We drop the yearly seasonality since the training dataset is less than one year and we add quarterly, montly seasonality instead.\n",
    "        '''\n",
    "        m = Prophet(yearly_seasonality = False,**dict_param)\n",
    "        #m.add_seasonality(name=\"quarterly\", period=90, fourier_order = 10)\n",
    "        m.add_seasonality(name='monthly', period=30, fourier_order=5) \n",
    "\n",
    "        #add holiday\n",
    "        m.add_country_holidays(country_name='US')\n",
    "\n",
    "        #add additional features\n",
    "        feature_list = ['minorigprice',\n",
    "                        'ndept',\n",
    "                        'totalretail',\n",
    "                        'nvendors',\n",
    "                        'totalcost',\n",
    "                        'nsku',\n",
    "                        'CORESTICKM159SFRBATL',\n",
    "                        'UNRATE',\n",
    "                        'DFF']\n",
    "        \n",
    "        for feature in feature_list:\n",
    "            m.add_regressor(feature+'_1',standardize = \"auto\")\n",
    "\n",
    "        m.fit(df_train)\n",
    "\n",
    "        return m\n",
    "        \n",
    "    def model_tuning():\n",
    "        param_grid = {  \n",
    "            'changepoint_prior_scale': [0.001, 0.01, 0.1, 0.5],\n",
    "            'seasonality_prior_scale': [0.01, 0.1, 1.0, 10.0],\n",
    "            'holidays_prior_scale': [0.01, 0.1, 1.0, 10.0]\n",
    "        }\n",
    "\n",
    "        # Generate all combinations of parameters\n",
    "        all_params = [dict(zip(param_grid.keys(), v)) for v in itertools.product(*param_grid.values())]\n",
    "\n",
    "        # Store the RMSEs for each params here\n",
    "        rmse = []\n",
    "\n",
    "        # Use cross validation to evaluate all parameters\n",
    "        for params in all_params:\n",
    "            m = modeling(df_train,params) # Fit model with given params\n",
    "            df_cv = cross_validation(m, initial = '200 days',period = '15 days',horizon = '15 days')\n",
    "            df_p = performance_metrics(df_cv, rolling_window=1)\n",
    "            rmse.append(df_p['rmse'].values[0])\n",
    "\n",
    "        # Find the best parameters\n",
    "        tuning_results = pd.DataFrame(all_params)\n",
    "        tuning_results['rmse'] = rmse\n",
    "        best_params = all_params[np.argmin(rmse)]\n",
    "        \n",
    "        return best_params\n",
    "    \n",
    "    #rebuild the model with best_params\n",
    "    \n",
    "    best_params = model_tuning()\n",
    "    \n",
    "    print(\"Best parameters for model : \")\n",
    "    print(best_params)\n",
    "    \n",
    "    m = modeling(df_train,best_params)\n",
    "\n",
    "    #model prediction\n",
    "    feature_list = ['minorigprice',\n",
    "                        'ndept',\n",
    "                        'totalretail',\n",
    "                        'nvendors',\n",
    "                        'totalcost',\n",
    "                        'nsku',\n",
    "                        'CORESTICKM159SFRBATL',\n",
    "                        'UNRATE',\n",
    "                        'DFF']\n",
    "    feature_list1 = [each + \"_1\" for each in feature_list]\n",
    "    \n",
    "    df_future = df_state[df_state['ds']<='2005-07-31'].copy()\n",
    "    df_future = df_future[feature_list1]\n",
    "    future = m.make_future_dataframe(periods = 61)\n",
    "    future = future.join(df_future)\n",
    "    forecast = m.predict(future)\n",
    "    df_result = forecast[['ds','yhat']]\n",
    "    df_result['y'] = df_state[df_state['ds']<='2005-07-31']['y'].tolist()\n",
    "    #df_result['y']=np.exp(df_result['y']) - 1\n",
    "    #df_result['yhat']=np.exp(df_result['yhat']) - 1\n",
    "    \n",
    "    # graph the distribution of prediction vs actual\n",
    "    test_ts_draw = df_result['y']\n",
    "    test_prediction = df_result[df_result['ds']>='2005-06-01']['yhat']\n",
    "    fig, ax = plt.subplots(figsize=(15, 5))\n",
    "    test_ts_draw.plot(ax=ax, label='Test Set')\n",
    "    test_prediction.plot(ax=ax, label='prediction Set', title='Train_Test_comparison')\n",
    "    ax.legend(['prediction Set', 'Test Set'])\n",
    "    plt.show()\n",
    "    \n",
    "    def show_results(y_true, y_pred):\n",
    "        # Regression metrics\n",
    "        explained_variance=metrics.explained_variance_score(y_true, y_pred)\n",
    "        mean_absolute_error=metrics.mean_absolute_error(y_true, y_pred) \n",
    "        mse=metrics.mean_squared_error(y_true, y_pred) \n",
    "        r2=metrics.r2_score(y_true, y_pred)\n",
    "        \n",
    "        df_metrics = pd.DataFrame(columns = ['explained_variance','MAE','R^2','MSE','RMSE'])\n",
    "        df_metrics_results = {'explained_variance':round(explained_variance,4),'MAE':round(mean_absolute_error,4),\n",
    "                             'R^2':round(r2,4),'MSE':round(mse,4),'RMSE':round(np.sqrt(mse),4)}\n",
    "        df_metrics = df_metrics.append(df_metrics_results,ignore_index = True)\n",
    "        \n",
    "        return df_metrics\n",
    "    \n",
    "    return m,show_results(df_result[df_result['ds']>='2005-06-01']['y'],df_result[df_result['ds']>='2005-06-01']['yhat'])"
   ]
  },
  {
   "cell_type": "markdown",
   "id": "c3757d75",
   "metadata": {},
   "source": [
    "#### Negative Profit Without Macro"
   ]
  },
  {
   "cell_type": "code",
   "execution_count": 64,
   "id": "19c13b2b",
   "metadata": {
    "tags": []
   },
   "outputs": [
    {
     "name": "stderr",
     "output_type": "stream",
     "text": [
      "05:58:32 - cmdstanpy - INFO - Chain [1] start processing\n",
      "05:58:32 - cmdstanpy - INFO - Chain [1] done processing\n"
     ]
    },
    {
     "data": {
      "application/vnd.jupyter.widget-view+json": {
       "model_id": "5634add82bae4b9296ac452bcf787c47",
       "version_major": 2,
       "version_minor": 0
      },
      "text/plain": [
       "  0%|          | 0/6 [00:00<?, ?it/s]"
      ]
     },
     "metadata": {},
     "output_type": "display_data"
    },
    {
     "name": "stderr",
     "output_type": "stream",
     "text": [
      "05:58:32 - cmdstanpy - INFO - Chain [1] start processing\n",
      "05:58:32 - cmdstanpy - INFO - Chain [1] done processing\n",
      "05:58:32 - cmdstanpy - ERROR - Chain [1] error: error during processing Communication error on send\n",
      "Optimization terminated abnormally. Falling back to Newton.\n",
      "05:58:32 - cmdstanpy - INFO - Chain [1] start processing\n",
      "05:58:33 - cmdstanpy - INFO - Chain [1] done processing\n",
      "05:58:33 - cmdstanpy - INFO - Chain [1] start processing\n",
      "05:58:33 - cmdstanpy - INFO - Chain [1] done processing\n",
      "05:58:33 - cmdstanpy - INFO - Chain [1] start processing\n",
      "05:58:33 - cmdstanpy - INFO - Chain [1] done processing\n",
      "05:58:34 - cmdstanpy - INFO - Chain [1] start processing\n",
      "05:58:34 - cmdstanpy - INFO - Chain [1] done processing\n",
      "05:58:34 - cmdstanpy - ERROR - Chain [1] error: error during processing Communication error on send\n",
      "Optimization terminated abnormally. Falling back to Newton.\n",
      "05:58:34 - cmdstanpy - INFO - Chain [1] start processing\n",
      "05:58:35 - cmdstanpy - INFO - Chain [1] done processing\n",
      "05:58:35 - cmdstanpy - INFO - Chain [1] start processing\n",
      "05:58:35 - cmdstanpy - INFO - Chain [1] done processing\n",
      "05:58:35 - cmdstanpy - INFO - Chain [1] start processing\n",
      "05:58:35 - cmdstanpy - INFO - Chain [1] done processing\n",
      "05:58:36 - cmdstanpy - INFO - Chain [1] start processing\n",
      "05:58:36 - cmdstanpy - INFO - Chain [1] done processing\n"
     ]
    },
    {
     "data": {
      "application/vnd.jupyter.widget-view+json": {
       "model_id": "88b94821347f4b5eb3bc939c36d3e259",
       "version_major": 2,
       "version_minor": 0
      },
      "text/plain": [
       "  0%|          | 0/6 [00:00<?, ?it/s]"
      ]
     },
     "metadata": {},
     "output_type": "display_data"
    },
    {
     "name": "stderr",
     "output_type": "stream",
     "text": [
      "05:58:36 - cmdstanpy - INFO - Chain [1] start processing\n",
      "05:58:36 - cmdstanpy - INFO - Chain [1] done processing\n",
      "05:58:36 - cmdstanpy - ERROR - Chain [1] error: error during processing Communication error on send\n",
      "Optimization terminated abnormally. Falling back to Newton.\n",
      "05:58:36 - cmdstanpy - INFO - Chain [1] start processing\n",
      "05:58:37 - cmdstanpy - INFO - Chain [1] done processing\n",
      "05:58:37 - cmdstanpy - INFO - Chain [1] start processing\n",
      "05:58:37 - cmdstanpy - INFO - Chain [1] done processing\n",
      "05:58:37 - cmdstanpy - INFO - Chain [1] start processing\n",
      "05:58:37 - cmdstanpy - INFO - Chain [1] done processing\n",
      "05:58:38 - cmdstanpy - INFO - Chain [1] start processing\n",
      "05:58:38 - cmdstanpy - INFO - Chain [1] done processing\n",
      "05:58:38 - cmdstanpy - ERROR - Chain [1] error: error during processing Communication error on send\n",
      "Optimization terminated abnormally. Falling back to Newton.\n",
      "05:58:38 - cmdstanpy - INFO - Chain [1] start processing\n",
      "05:58:38 - cmdstanpy - INFO - Chain [1] done processing\n",
      "05:58:39 - cmdstanpy - INFO - Chain [1] start processing\n",
      "05:58:39 - cmdstanpy - INFO - Chain [1] done processing\n",
      "05:58:39 - cmdstanpy - INFO - Chain [1] start processing\n",
      "05:58:39 - cmdstanpy - INFO - Chain [1] done processing\n",
      "05:58:40 - cmdstanpy - INFO - Chain [1] start processing\n",
      "05:58:40 - cmdstanpy - INFO - Chain [1] done processing\n"
     ]
    },
    {
     "data": {
      "application/vnd.jupyter.widget-view+json": {
       "model_id": "92c306eb4e6d46afb91012d9e4a78d9c",
       "version_major": 2,
       "version_minor": 0
      },
      "text/plain": [
       "  0%|          | 0/6 [00:00<?, ?it/s]"
      ]
     },
     "metadata": {},
     "output_type": "display_data"
    },
    {
     "name": "stderr",
     "output_type": "stream",
     "text": [
      "05:58:40 - cmdstanpy - INFO - Chain [1] start processing\n",
      "05:58:40 - cmdstanpy - INFO - Chain [1] done processing\n",
      "05:58:40 - cmdstanpy - ERROR - Chain [1] error: error during processing Communication error on send\n",
      "Optimization terminated abnormally. Falling back to Newton.\n",
      "05:58:40 - cmdstanpy - INFO - Chain [1] start processing\n",
      "05:58:40 - cmdstanpy - INFO - Chain [1] done processing\n",
      "05:58:41 - cmdstanpy - INFO - Chain [1] start processing\n",
      "05:58:41 - cmdstanpy - INFO - Chain [1] done processing\n",
      "05:58:41 - cmdstanpy - INFO - Chain [1] start processing\n",
      "05:58:41 - cmdstanpy - INFO - Chain [1] done processing\n",
      "05:58:41 - cmdstanpy - INFO - Chain [1] start processing\n",
      "05:58:41 - cmdstanpy - INFO - Chain [1] done processing\n",
      "05:58:41 - cmdstanpy - ERROR - Chain [1] error: error during processing Communication error on send\n",
      "Optimization terminated abnormally. Falling back to Newton.\n",
      "05:58:41 - cmdstanpy - INFO - Chain [1] start processing\n",
      "05:58:42 - cmdstanpy - INFO - Chain [1] done processing\n",
      "05:58:43 - cmdstanpy - INFO - Chain [1] start processing\n",
      "05:58:43 - cmdstanpy - INFO - Chain [1] done processing\n",
      "05:58:43 - cmdstanpy - INFO - Chain [1] start processing\n",
      "05:58:43 - cmdstanpy - INFO - Chain [1] done processing\n",
      "05:58:44 - cmdstanpy - INFO - Chain [1] start processing\n",
      "05:58:44 - cmdstanpy - INFO - Chain [1] done processing\n"
     ]
    },
    {
     "data": {
      "application/vnd.jupyter.widget-view+json": {
       "model_id": "36fee3c7ea6e4a01b8c57a3f3e7382e0",
       "version_major": 2,
       "version_minor": 0
      },
      "text/plain": [
       "  0%|          | 0/6 [00:00<?, ?it/s]"
      ]
     },
     "metadata": {},
     "output_type": "display_data"
    },
    {
     "name": "stderr",
     "output_type": "stream",
     "text": [
      "05:58:44 - cmdstanpy - INFO - Chain [1] start processing\n",
      "05:58:44 - cmdstanpy - INFO - Chain [1] done processing\n",
      "05:58:44 - cmdstanpy - ERROR - Chain [1] error: error during processing Communication error on send\n",
      "Optimization terminated abnormally. Falling back to Newton.\n",
      "05:58:44 - cmdstanpy - INFO - Chain [1] start processing\n",
      "05:58:44 - cmdstanpy - INFO - Chain [1] done processing\n",
      "05:58:45 - cmdstanpy - INFO - Chain [1] start processing\n",
      "05:58:45 - cmdstanpy - INFO - Chain [1] done processing\n",
      "05:58:45 - cmdstanpy - INFO - Chain [1] start processing\n",
      "05:58:45 - cmdstanpy - INFO - Chain [1] done processing\n",
      "05:58:45 - cmdstanpy - INFO - Chain [1] start processing\n",
      "05:58:45 - cmdstanpy - INFO - Chain [1] done processing\n",
      "05:58:45 - cmdstanpy - ERROR - Chain [1] error: error during processing Communication error on send\n",
      "Optimization terminated abnormally. Falling back to Newton.\n",
      "05:58:45 - cmdstanpy - INFO - Chain [1] start processing\n",
      "05:58:46 - cmdstanpy - INFO - Chain [1] done processing\n",
      "05:58:46 - cmdstanpy - INFO - Chain [1] start processing\n",
      "05:58:47 - cmdstanpy - INFO - Chain [1] done processing\n",
      "05:58:47 - cmdstanpy - INFO - Chain [1] start processing\n",
      "05:58:47 - cmdstanpy - INFO - Chain [1] done processing\n",
      "05:58:47 - cmdstanpy - INFO - Chain [1] start processing\n",
      "05:58:47 - cmdstanpy - INFO - Chain [1] done processing\n"
     ]
    },
    {
     "data": {
      "application/vnd.jupyter.widget-view+json": {
       "model_id": "836e0a14b52f42fa9b54b41e64b88976",
       "version_major": 2,
       "version_minor": 0
      },
      "text/plain": [
       "  0%|          | 0/6 [00:00<?, ?it/s]"
      ]
     },
     "metadata": {},
     "output_type": "display_data"
    },
    {
     "name": "stderr",
     "output_type": "stream",
     "text": [
      "05:58:48 - cmdstanpy - INFO - Chain [1] start processing\n",
      "05:58:48 - cmdstanpy - INFO - Chain [1] done processing\n",
      "05:58:48 - cmdstanpy - ERROR - Chain [1] error: error during processing Communication error on send\n",
      "Optimization terminated abnormally. Falling back to Newton.\n",
      "05:58:48 - cmdstanpy - INFO - Chain [1] start processing\n",
      "05:58:48 - cmdstanpy - INFO - Chain [1] done processing\n",
      "05:58:48 - cmdstanpy - INFO - Chain [1] start processing\n",
      "05:58:48 - cmdstanpy - INFO - Chain [1] done processing\n",
      "05:58:49 - cmdstanpy - INFO - Chain [1] start processing\n",
      "05:58:49 - cmdstanpy - INFO - Chain [1] done processing\n",
      "05:58:49 - cmdstanpy - INFO - Chain [1] start processing\n",
      "05:58:49 - cmdstanpy - INFO - Chain [1] done processing\n",
      "05:58:49 - cmdstanpy - ERROR - Chain [1] error: error during processing Communication error on send\n",
      "Optimization terminated abnormally. Falling back to Newton.\n",
      "05:58:49 - cmdstanpy - INFO - Chain [1] start processing\n",
      "05:58:50 - cmdstanpy - INFO - Chain [1] done processing\n",
      "05:58:50 - cmdstanpy - INFO - Chain [1] start processing\n",
      "05:58:50 - cmdstanpy - INFO - Chain [1] done processing\n",
      "05:58:50 - cmdstanpy - INFO - Chain [1] start processing\n",
      "05:58:50 - cmdstanpy - INFO - Chain [1] done processing\n",
      "05:58:51 - cmdstanpy - INFO - Chain [1] start processing\n",
      "05:58:51 - cmdstanpy - INFO - Chain [1] done processing\n"
     ]
    },
    {
     "data": {
      "application/vnd.jupyter.widget-view+json": {
       "model_id": "9d40ed963b144f3381d747d1765ed875",
       "version_major": 2,
       "version_minor": 0
      },
      "text/plain": [
       "  0%|          | 0/6 [00:00<?, ?it/s]"
      ]
     },
     "metadata": {},
     "output_type": "display_data"
    },
    {
     "name": "stderr",
     "output_type": "stream",
     "text": [
      "05:58:51 - cmdstanpy - INFO - Chain [1] start processing\n",
      "05:58:51 - cmdstanpy - INFO - Chain [1] done processing\n",
      "05:58:51 - cmdstanpy - ERROR - Chain [1] error: error during processing Communication error on send\n",
      "Optimization terminated abnormally. Falling back to Newton.\n",
      "05:58:51 - cmdstanpy - INFO - Chain [1] start processing\n",
      "05:58:51 - cmdstanpy - INFO - Chain [1] done processing\n",
      "05:58:52 - cmdstanpy - INFO - Chain [1] start processing\n",
      "05:58:52 - cmdstanpy - INFO - Chain [1] done processing\n",
      "05:58:52 - cmdstanpy - INFO - Chain [1] start processing\n",
      "05:58:52 - cmdstanpy - INFO - Chain [1] done processing\n",
      "05:58:53 - cmdstanpy - INFO - Chain [1] start processing\n",
      "05:58:53 - cmdstanpy - INFO - Chain [1] done processing\n",
      "05:58:53 - cmdstanpy - ERROR - Chain [1] error: error during processing Communication error on send\n",
      "Optimization terminated abnormally. Falling back to Newton.\n",
      "05:58:53 - cmdstanpy - INFO - Chain [1] start processing\n",
      "05:58:53 - cmdstanpy - INFO - Chain [1] done processing\n",
      "05:58:53 - cmdstanpy - INFO - Chain [1] start processing\n",
      "05:58:54 - cmdstanpy - INFO - Chain [1] done processing\n",
      "05:58:54 - cmdstanpy - INFO - Chain [1] start processing\n",
      "05:58:54 - cmdstanpy - INFO - Chain [1] done processing\n",
      "05:58:54 - cmdstanpy - INFO - Chain [1] start processing\n",
      "05:58:54 - cmdstanpy - INFO - Chain [1] done processing\n"
     ]
    },
    {
     "data": {
      "application/vnd.jupyter.widget-view+json": {
       "model_id": "20620a4cb7704e93b7521a7acd3205c4",
       "version_major": 2,
       "version_minor": 0
      },
      "text/plain": [
       "  0%|          | 0/6 [00:00<?, ?it/s]"
      ]
     },
     "metadata": {},
     "output_type": "display_data"
    },
    {
     "name": "stderr",
     "output_type": "stream",
     "text": [
      "05:58:55 - cmdstanpy - INFO - Chain [1] start processing\n",
      "05:58:55 - cmdstanpy - INFO - Chain [1] done processing\n",
      "05:58:55 - cmdstanpy - ERROR - Chain [1] error: error during processing Communication error on send\n",
      "Optimization terminated abnormally. Falling back to Newton.\n",
      "05:58:55 - cmdstanpy - INFO - Chain [1] start processing\n",
      "05:58:56 - cmdstanpy - INFO - Chain [1] done processing\n",
      "05:58:56 - cmdstanpy - INFO - Chain [1] start processing\n",
      "05:58:56 - cmdstanpy - INFO - Chain [1] done processing\n",
      "05:58:56 - cmdstanpy - INFO - Chain [1] start processing\n",
      "05:58:56 - cmdstanpy - INFO - Chain [1] done processing\n",
      "05:58:57 - cmdstanpy - INFO - Chain [1] start processing\n",
      "05:58:57 - cmdstanpy - INFO - Chain [1] done processing\n",
      "05:58:57 - cmdstanpy - ERROR - Chain [1] error: error during processing Communication error on send\n",
      "Optimization terminated abnormally. Falling back to Newton.\n",
      "05:58:57 - cmdstanpy - INFO - Chain [1] start processing\n",
      "05:58:59 - cmdstanpy - INFO - Chain [1] done processing\n",
      "05:58:59 - cmdstanpy - INFO - Chain [1] start processing\n",
      "05:58:59 - cmdstanpy - INFO - Chain [1] done processing\n",
      "05:58:59 - cmdstanpy - INFO - Chain [1] start processing\n",
      "05:58:59 - cmdstanpy - INFO - Chain [1] done processing\n",
      "05:59:00 - cmdstanpy - INFO - Chain [1] start processing\n",
      "05:59:00 - cmdstanpy - INFO - Chain [1] done processing\n"
     ]
    },
    {
     "data": {
      "application/vnd.jupyter.widget-view+json": {
       "model_id": "850c249f575b4fba99b5439106c4dca7",
       "version_major": 2,
       "version_minor": 0
      },
      "text/plain": [
       "  0%|          | 0/6 [00:00<?, ?it/s]"
      ]
     },
     "metadata": {},
     "output_type": "display_data"
    },
    {
     "name": "stderr",
     "output_type": "stream",
     "text": [
      "05:59:00 - cmdstanpy - INFO - Chain [1] start processing\n",
      "05:59:00 - cmdstanpy - INFO - Chain [1] done processing\n",
      "05:59:00 - cmdstanpy - ERROR - Chain [1] error: error during processing Communication error on send\n",
      "Optimization terminated abnormally. Falling back to Newton.\n",
      "05:59:00 - cmdstanpy - INFO - Chain [1] start processing\n",
      "05:59:01 - cmdstanpy - INFO - Chain [1] done processing\n",
      "05:59:01 - cmdstanpy - INFO - Chain [1] start processing\n",
      "05:59:01 - cmdstanpy - INFO - Chain [1] done processing\n",
      "05:59:02 - cmdstanpy - INFO - Chain [1] start processing\n",
      "05:59:02 - cmdstanpy - INFO - Chain [1] done processing\n",
      "05:59:02 - cmdstanpy - INFO - Chain [1] start processing\n",
      "05:59:02 - cmdstanpy - INFO - Chain [1] done processing\n",
      "05:59:02 - cmdstanpy - ERROR - Chain [1] error: error during processing Communication error on send\n",
      "Optimization terminated abnormally. Falling back to Newton.\n",
      "05:59:02 - cmdstanpy - INFO - Chain [1] start processing\n",
      "05:59:03 - cmdstanpy - INFO - Chain [1] done processing\n",
      "05:59:03 - cmdstanpy - INFO - Chain [1] start processing\n",
      "05:59:03 - cmdstanpy - INFO - Chain [1] done processing\n",
      "05:59:03 - cmdstanpy - INFO - Chain [1] start processing\n",
      "05:59:03 - cmdstanpy - INFO - Chain [1] done processing\n",
      "05:59:04 - cmdstanpy - INFO - Chain [1] start processing\n",
      "05:59:04 - cmdstanpy - INFO - Chain [1] done processing\n"
     ]
    },
    {
     "data": {
      "application/vnd.jupyter.widget-view+json": {
       "model_id": "0b37f92825cc4900a92042bc75eb564a",
       "version_major": 2,
       "version_minor": 0
      },
      "text/plain": [
       "  0%|          | 0/6 [00:00<?, ?it/s]"
      ]
     },
     "metadata": {},
     "output_type": "display_data"
    },
    {
     "name": "stderr",
     "output_type": "stream",
     "text": [
      "05:59:04 - cmdstanpy - INFO - Chain [1] start processing\n",
      "05:59:04 - cmdstanpy - INFO - Chain [1] done processing\n",
      "05:59:04 - cmdstanpy - ERROR - Chain [1] error: error during processing Communication error on send\n",
      "Optimization terminated abnormally. Falling back to Newton.\n",
      "05:59:04 - cmdstanpy - INFO - Chain [1] start processing\n",
      "05:59:06 - cmdstanpy - INFO - Chain [1] done processing\n",
      "05:59:06 - cmdstanpy - INFO - Chain [1] start processing\n",
      "05:59:06 - cmdstanpy - INFO - Chain [1] done processing\n",
      "05:59:06 - cmdstanpy - INFO - Chain [1] start processing\n",
      "05:59:06 - cmdstanpy - INFO - Chain [1] done processing\n",
      "05:59:07 - cmdstanpy - INFO - Chain [1] start processing\n",
      "05:59:07 - cmdstanpy - INFO - Chain [1] done processing\n",
      "05:59:07 - cmdstanpy - ERROR - Chain [1] error: error during processing Communication error on send\n",
      "Optimization terminated abnormally. Falling back to Newton.\n",
      "05:59:07 - cmdstanpy - INFO - Chain [1] start processing\n",
      "05:59:08 - cmdstanpy - INFO - Chain [1] done processing\n",
      "05:59:08 - cmdstanpy - INFO - Chain [1] start processing\n",
      "05:59:08 - cmdstanpy - INFO - Chain [1] done processing\n",
      "05:59:09 - cmdstanpy - INFO - Chain [1] start processing\n",
      "05:59:09 - cmdstanpy - INFO - Chain [1] done processing\n",
      "05:59:09 - cmdstanpy - INFO - Chain [1] start processing\n",
      "05:59:09 - cmdstanpy - INFO - Chain [1] done processing\n"
     ]
    },
    {
     "data": {
      "application/vnd.jupyter.widget-view+json": {
       "model_id": "a8537254b8a24481a016494536551f2f",
       "version_major": 2,
       "version_minor": 0
      },
      "text/plain": [
       "  0%|          | 0/6 [00:00<?, ?it/s]"
      ]
     },
     "metadata": {},
     "output_type": "display_data"
    },
    {
     "name": "stderr",
     "output_type": "stream",
     "text": [
      "05:59:09 - cmdstanpy - INFO - Chain [1] start processing\n",
      "05:59:09 - cmdstanpy - INFO - Chain [1] done processing\n",
      "05:59:09 - cmdstanpy - ERROR - Chain [1] error: error during processing Communication error on send\n",
      "Optimization terminated abnormally. Falling back to Newton.\n",
      "05:59:09 - cmdstanpy - INFO - Chain [1] start processing\n",
      "05:59:10 - cmdstanpy - INFO - Chain [1] done processing\n",
      "05:59:10 - cmdstanpy - INFO - Chain [1] start processing\n",
      "05:59:10 - cmdstanpy - INFO - Chain [1] done processing\n",
      "05:59:11 - cmdstanpy - INFO - Chain [1] start processing\n",
      "05:59:11 - cmdstanpy - INFO - Chain [1] done processing\n",
      "05:59:11 - cmdstanpy - INFO - Chain [1] start processing\n",
      "05:59:11 - cmdstanpy - INFO - Chain [1] done processing\n",
      "05:59:11 - cmdstanpy - ERROR - Chain [1] error: error during processing Communication error on send\n",
      "Optimization terminated abnormally. Falling back to Newton.\n",
      "05:59:11 - cmdstanpy - INFO - Chain [1] start processing\n",
      "05:59:12 - cmdstanpy - INFO - Chain [1] done processing\n",
      "05:59:12 - cmdstanpy - INFO - Chain [1] start processing\n",
      "05:59:12 - cmdstanpy - INFO - Chain [1] done processing\n",
      "05:59:12 - cmdstanpy - INFO - Chain [1] start processing\n",
      "05:59:12 - cmdstanpy - INFO - Chain [1] done processing\n",
      "05:59:13 - cmdstanpy - INFO - Chain [1] start processing\n",
      "05:59:13 - cmdstanpy - INFO - Chain [1] done processing\n"
     ]
    },
    {
     "data": {
      "application/vnd.jupyter.widget-view+json": {
       "model_id": "d9213d12330c48479e98f5dae0cacab4",
       "version_major": 2,
       "version_minor": 0
      },
      "text/plain": [
       "  0%|          | 0/6 [00:00<?, ?it/s]"
      ]
     },
     "metadata": {},
     "output_type": "display_data"
    },
    {
     "name": "stderr",
     "output_type": "stream",
     "text": [
      "05:59:13 - cmdstanpy - INFO - Chain [1] start processing\n",
      "05:59:13 - cmdstanpy - INFO - Chain [1] done processing\n",
      "05:59:13 - cmdstanpy - ERROR - Chain [1] error: error during processing Communication error on send\n",
      "Optimization terminated abnormally. Falling back to Newton.\n",
      "05:59:13 - cmdstanpy - INFO - Chain [1] start processing\n",
      "05:59:13 - cmdstanpy - INFO - Chain [1] done processing\n",
      "05:59:14 - cmdstanpy - INFO - Chain [1] start processing\n",
      "05:59:14 - cmdstanpy - INFO - Chain [1] done processing\n",
      "05:59:14 - cmdstanpy - INFO - Chain [1] start processing\n",
      "05:59:14 - cmdstanpy - INFO - Chain [1] done processing\n",
      "05:59:14 - cmdstanpy - INFO - Chain [1] start processing\n",
      "05:59:14 - cmdstanpy - INFO - Chain [1] done processing\n",
      "05:59:14 - cmdstanpy - ERROR - Chain [1] error: error during processing Communication error on send\n",
      "Optimization terminated abnormally. Falling back to Newton.\n",
      "05:59:14 - cmdstanpy - INFO - Chain [1] start processing\n",
      "05:59:15 - cmdstanpy - INFO - Chain [1] done processing\n",
      "05:59:16 - cmdstanpy - INFO - Chain [1] start processing\n",
      "05:59:16 - cmdstanpy - INFO - Chain [1] done processing\n",
      "05:59:16 - cmdstanpy - INFO - Chain [1] start processing\n",
      "05:59:16 - cmdstanpy - INFO - Chain [1] done processing\n",
      "05:59:16 - cmdstanpy - INFO - Chain [1] start processing\n",
      "05:59:16 - cmdstanpy - INFO - Chain [1] done processing\n"
     ]
    },
    {
     "data": {
      "application/vnd.jupyter.widget-view+json": {
       "model_id": "7a6fde9ecf214e26806ace3ce0405ab5",
       "version_major": 2,
       "version_minor": 0
      },
      "text/plain": [
       "  0%|          | 0/6 [00:00<?, ?it/s]"
      ]
     },
     "metadata": {},
     "output_type": "display_data"
    },
    {
     "name": "stderr",
     "output_type": "stream",
     "text": [
      "05:59:16 - cmdstanpy - INFO - Chain [1] start processing\n",
      "05:59:16 - cmdstanpy - INFO - Chain [1] done processing\n",
      "05:59:16 - cmdstanpy - ERROR - Chain [1] error: error during processing Communication error on send\n",
      "Optimization terminated abnormally. Falling back to Newton.\n",
      "05:59:16 - cmdstanpy - INFO - Chain [1] start processing\n",
      "05:59:17 - cmdstanpy - INFO - Chain [1] done processing\n",
      "05:59:17 - cmdstanpy - INFO - Chain [1] start processing\n",
      "05:59:17 - cmdstanpy - INFO - Chain [1] done processing\n",
      "05:59:18 - cmdstanpy - INFO - Chain [1] start processing\n",
      "05:59:18 - cmdstanpy - INFO - Chain [1] done processing\n",
      "05:59:18 - cmdstanpy - INFO - Chain [1] start processing\n",
      "05:59:18 - cmdstanpy - INFO - Chain [1] done processing\n",
      "05:59:18 - cmdstanpy - ERROR - Chain [1] error: error during processing Communication error on send\n",
      "Optimization terminated abnormally. Falling back to Newton.\n",
      "05:59:18 - cmdstanpy - INFO - Chain [1] start processing\n",
      "05:59:19 - cmdstanpy - INFO - Chain [1] done processing\n",
      "05:59:19 - cmdstanpy - INFO - Chain [1] start processing\n",
      "05:59:19 - cmdstanpy - INFO - Chain [1] done processing\n",
      "05:59:19 - cmdstanpy - INFO - Chain [1] start processing\n",
      "05:59:19 - cmdstanpy - INFO - Chain [1] done processing\n",
      "05:59:20 - cmdstanpy - INFO - Chain [1] start processing\n",
      "05:59:20 - cmdstanpy - INFO - Chain [1] done processing\n"
     ]
    },
    {
     "data": {
      "application/vnd.jupyter.widget-view+json": {
       "model_id": "f0f985a4633b45349c66055908a39cd9",
       "version_major": 2,
       "version_minor": 0
      },
      "text/plain": [
       "  0%|          | 0/6 [00:00<?, ?it/s]"
      ]
     },
     "metadata": {},
     "output_type": "display_data"
    },
    {
     "name": "stderr",
     "output_type": "stream",
     "text": [
      "05:59:20 - cmdstanpy - INFO - Chain [1] start processing\n",
      "05:59:20 - cmdstanpy - INFO - Chain [1] done processing\n",
      "05:59:20 - cmdstanpy - ERROR - Chain [1] error: error during processing Communication error on send\n",
      "Optimization terminated abnormally. Falling back to Newton.\n",
      "05:59:20 - cmdstanpy - INFO - Chain [1] start processing\n",
      "05:59:21 - cmdstanpy - INFO - Chain [1] done processing\n",
      "05:59:21 - cmdstanpy - INFO - Chain [1] start processing\n",
      "05:59:21 - cmdstanpy - INFO - Chain [1] done processing\n",
      "05:59:21 - cmdstanpy - INFO - Chain [1] start processing\n",
      "05:59:21 - cmdstanpy - INFO - Chain [1] done processing\n",
      "05:59:22 - cmdstanpy - INFO - Chain [1] start processing\n",
      "05:59:22 - cmdstanpy - INFO - Chain [1] done processing\n",
      "05:59:22 - cmdstanpy - ERROR - Chain [1] error: error during processing Communication error on send\n",
      "Optimization terminated abnormally. Falling back to Newton.\n",
      "05:59:22 - cmdstanpy - INFO - Chain [1] start processing\n",
      "05:59:23 - cmdstanpy - INFO - Chain [1] done processing\n",
      "05:59:23 - cmdstanpy - INFO - Chain [1] start processing\n",
      "05:59:24 - cmdstanpy - INFO - Chain [1] done processing\n",
      "05:59:24 - cmdstanpy - INFO - Chain [1] start processing\n",
      "05:59:24 - cmdstanpy - INFO - Chain [1] done processing\n",
      "05:59:24 - cmdstanpy - INFO - Chain [1] start processing\n",
      "05:59:25 - cmdstanpy - INFO - Chain [1] done processing\n"
     ]
    },
    {
     "data": {
      "application/vnd.jupyter.widget-view+json": {
       "model_id": "79032053751748cfae95b7e74410b60d",
       "version_major": 2,
       "version_minor": 0
      },
      "text/plain": [
       "  0%|          | 0/6 [00:00<?, ?it/s]"
      ]
     },
     "metadata": {},
     "output_type": "display_data"
    },
    {
     "name": "stderr",
     "output_type": "stream",
     "text": [
      "05:59:25 - cmdstanpy - INFO - Chain [1] start processing\n",
      "05:59:25 - cmdstanpy - INFO - Chain [1] done processing\n",
      "05:59:25 - cmdstanpy - ERROR - Chain [1] error: error during processing Communication error on send\n",
      "Optimization terminated abnormally. Falling back to Newton.\n",
      "05:59:25 - cmdstanpy - INFO - Chain [1] start processing\n",
      "05:59:25 - cmdstanpy - INFO - Chain [1] done processing\n",
      "05:59:25 - cmdstanpy - INFO - Chain [1] start processing\n",
      "05:59:25 - cmdstanpy - INFO - Chain [1] done processing\n",
      "05:59:26 - cmdstanpy - INFO - Chain [1] start processing\n",
      "05:59:26 - cmdstanpy - INFO - Chain [1] done processing\n",
      "05:59:26 - cmdstanpy - INFO - Chain [1] start processing\n",
      "05:59:26 - cmdstanpy - INFO - Chain [1] done processing\n",
      "05:59:26 - cmdstanpy - ERROR - Chain [1] error: error during processing Communication error on send\n",
      "Optimization terminated abnormally. Falling back to Newton.\n",
      "05:59:26 - cmdstanpy - INFO - Chain [1] start processing\n",
      "05:59:27 - cmdstanpy - INFO - Chain [1] done processing\n",
      "05:59:27 - cmdstanpy - INFO - Chain [1] start processing\n",
      "05:59:27 - cmdstanpy - INFO - Chain [1] done processing\n",
      "05:59:28 - cmdstanpy - INFO - Chain [1] start processing\n",
      "05:59:28 - cmdstanpy - INFO - Chain [1] done processing\n",
      "05:59:28 - cmdstanpy - INFO - Chain [1] start processing\n",
      "05:59:28 - cmdstanpy - INFO - Chain [1] done processing\n"
     ]
    },
    {
     "data": {
      "application/vnd.jupyter.widget-view+json": {
       "model_id": "b24c10572890423788eaca5af1df810b",
       "version_major": 2,
       "version_minor": 0
      },
      "text/plain": [
       "  0%|          | 0/6 [00:00<?, ?it/s]"
      ]
     },
     "metadata": {},
     "output_type": "display_data"
    },
    {
     "name": "stderr",
     "output_type": "stream",
     "text": [
      "05:59:28 - cmdstanpy - INFO - Chain [1] start processing\n",
      "05:59:28 - cmdstanpy - INFO - Chain [1] done processing\n",
      "05:59:28 - cmdstanpy - ERROR - Chain [1] error: error during processing Communication error on send\n",
      "Optimization terminated abnormally. Falling back to Newton.\n",
      "05:59:28 - cmdstanpy - INFO - Chain [1] start processing\n",
      "05:59:29 - cmdstanpy - INFO - Chain [1] done processing\n",
      "05:59:29 - cmdstanpy - INFO - Chain [1] start processing\n",
      "05:59:29 - cmdstanpy - INFO - Chain [1] done processing\n",
      "05:59:29 - cmdstanpy - INFO - Chain [1] start processing\n",
      "05:59:30 - cmdstanpy - INFO - Chain [1] done processing\n",
      "05:59:30 - cmdstanpy - INFO - Chain [1] start processing\n",
      "05:59:30 - cmdstanpy - INFO - Chain [1] done processing\n",
      "05:59:30 - cmdstanpy - ERROR - Chain [1] error: error during processing Communication error on send\n",
      "Optimization terminated abnormally. Falling back to Newton.\n",
      "05:59:30 - cmdstanpy - INFO - Chain [1] start processing\n",
      "05:59:31 - cmdstanpy - INFO - Chain [1] done processing\n",
      "05:59:31 - cmdstanpy - INFO - Chain [1] start processing\n",
      "05:59:31 - cmdstanpy - INFO - Chain [1] done processing\n",
      "05:59:31 - cmdstanpy - INFO - Chain [1] start processing\n",
      "05:59:31 - cmdstanpy - INFO - Chain [1] done processing\n",
      "05:59:32 - cmdstanpy - INFO - Chain [1] start processing\n",
      "05:59:32 - cmdstanpy - INFO - Chain [1] done processing\n"
     ]
    },
    {
     "data": {
      "application/vnd.jupyter.widget-view+json": {
       "model_id": "bbe961ff27394efa83ee982c4137777e",
       "version_major": 2,
       "version_minor": 0
      },
      "text/plain": [
       "  0%|          | 0/6 [00:00<?, ?it/s]"
      ]
     },
     "metadata": {},
     "output_type": "display_data"
    },
    {
     "name": "stderr",
     "output_type": "stream",
     "text": [
      "05:59:32 - cmdstanpy - INFO - Chain [1] start processing\n",
      "05:59:32 - cmdstanpy - INFO - Chain [1] done processing\n",
      "05:59:32 - cmdstanpy - ERROR - Chain [1] error: error during processing Communication error on send\n",
      "Optimization terminated abnormally. Falling back to Newton.\n",
      "05:59:32 - cmdstanpy - INFO - Chain [1] start processing\n",
      "05:59:32 - cmdstanpy - INFO - Chain [1] done processing\n",
      "05:59:33 - cmdstanpy - INFO - Chain [1] start processing\n",
      "05:59:33 - cmdstanpy - INFO - Chain [1] done processing\n",
      "05:59:33 - cmdstanpy - INFO - Chain [1] start processing\n",
      "05:59:33 - cmdstanpy - INFO - Chain [1] done processing\n",
      "05:59:34 - cmdstanpy - INFO - Chain [1] start processing\n",
      "05:59:34 - cmdstanpy - INFO - Chain [1] done processing\n",
      "05:59:34 - cmdstanpy - ERROR - Chain [1] error: error during processing Communication error on send\n",
      "Optimization terminated abnormally. Falling back to Newton.\n",
      "05:59:34 - cmdstanpy - INFO - Chain [1] start processing\n",
      "05:59:34 - cmdstanpy - INFO - Chain [1] done processing\n",
      "05:59:35 - cmdstanpy - INFO - Chain [1] start processing\n",
      "05:59:35 - cmdstanpy - INFO - Chain [1] done processing\n",
      "05:59:35 - cmdstanpy - INFO - Chain [1] start processing\n",
      "05:59:35 - cmdstanpy - INFO - Chain [1] done processing\n",
      "05:59:35 - cmdstanpy - INFO - Chain [1] start processing\n",
      "05:59:35 - cmdstanpy - INFO - Chain [1] done processing\n"
     ]
    },
    {
     "data": {
      "application/vnd.jupyter.widget-view+json": {
       "model_id": "5601186413b643308ddb7b01302dc242",
       "version_major": 2,
       "version_minor": 0
      },
      "text/plain": [
       "  0%|          | 0/6 [00:00<?, ?it/s]"
      ]
     },
     "metadata": {},
     "output_type": "display_data"
    },
    {
     "name": "stderr",
     "output_type": "stream",
     "text": [
      "05:59:35 - cmdstanpy - INFO - Chain [1] start processing\n",
      "05:59:36 - cmdstanpy - INFO - Chain [1] done processing\n",
      "05:59:36 - cmdstanpy - INFO - Chain [1] start processing\n",
      "05:59:36 - cmdstanpy - INFO - Chain [1] done processing\n",
      "05:59:36 - cmdstanpy - INFO - Chain [1] start processing\n",
      "05:59:36 - cmdstanpy - INFO - Chain [1] done processing\n",
      "05:59:37 - cmdstanpy - INFO - Chain [1] start processing\n",
      "05:59:37 - cmdstanpy - INFO - Chain [1] done processing\n",
      "05:59:37 - cmdstanpy - INFO - Chain [1] start processing\n",
      "05:59:37 - cmdstanpy - INFO - Chain [1] done processing\n",
      "05:59:38 - cmdstanpy - INFO - Chain [1] start processing\n",
      "05:59:38 - cmdstanpy - INFO - Chain [1] done processing\n",
      "05:59:38 - cmdstanpy - INFO - Chain [1] start processing\n",
      "05:59:38 - cmdstanpy - INFO - Chain [1] done processing\n"
     ]
    },
    {
     "data": {
      "application/vnd.jupyter.widget-view+json": {
       "model_id": "39f39bc5e4784e479d59be6559e34b10",
       "version_major": 2,
       "version_minor": 0
      },
      "text/plain": [
       "  0%|          | 0/6 [00:00<?, ?it/s]"
      ]
     },
     "metadata": {},
     "output_type": "display_data"
    },
    {
     "name": "stderr",
     "output_type": "stream",
     "text": [
      "05:59:38 - cmdstanpy - INFO - Chain [1] start processing\n",
      "05:59:38 - cmdstanpy - INFO - Chain [1] done processing\n",
      "05:59:38 - cmdstanpy - INFO - Chain [1] start processing\n",
      "05:59:38 - cmdstanpy - INFO - Chain [1] done processing\n",
      "05:59:39 - cmdstanpy - INFO - Chain [1] start processing\n",
      "05:59:39 - cmdstanpy - INFO - Chain [1] done processing\n",
      "05:59:39 - cmdstanpy - INFO - Chain [1] start processing\n",
      "05:59:39 - cmdstanpy - INFO - Chain [1] done processing\n",
      "05:59:40 - cmdstanpy - INFO - Chain [1] start processing\n",
      "05:59:40 - cmdstanpy - INFO - Chain [1] done processing\n",
      "05:59:40 - cmdstanpy - INFO - Chain [1] start processing\n",
      "05:59:40 - cmdstanpy - INFO - Chain [1] done processing\n",
      "05:59:40 - cmdstanpy - INFO - Chain [1] start processing\n",
      "05:59:40 - cmdstanpy - INFO - Chain [1] done processing\n"
     ]
    },
    {
     "data": {
      "application/vnd.jupyter.widget-view+json": {
       "model_id": "2dc90aaac16742bd84200b80f52570a5",
       "version_major": 2,
       "version_minor": 0
      },
      "text/plain": [
       "  0%|          | 0/6 [00:00<?, ?it/s]"
      ]
     },
     "metadata": {},
     "output_type": "display_data"
    },
    {
     "name": "stderr",
     "output_type": "stream",
     "text": [
      "05:59:41 - cmdstanpy - INFO - Chain [1] start processing\n",
      "05:59:41 - cmdstanpy - INFO - Chain [1] done processing\n",
      "05:59:41 - cmdstanpy - INFO - Chain [1] start processing\n",
      "05:59:41 - cmdstanpy - INFO - Chain [1] done processing\n",
      "05:59:41 - cmdstanpy - INFO - Chain [1] start processing\n",
      "05:59:41 - cmdstanpy - INFO - Chain [1] done processing\n",
      "05:59:42 - cmdstanpy - INFO - Chain [1] start processing\n",
      "05:59:42 - cmdstanpy - INFO - Chain [1] done processing\n",
      "05:59:42 - cmdstanpy - INFO - Chain [1] start processing\n",
      "05:59:42 - cmdstanpy - INFO - Chain [1] done processing\n",
      "05:59:43 - cmdstanpy - INFO - Chain [1] start processing\n",
      "05:59:43 - cmdstanpy - INFO - Chain [1] done processing\n",
      "05:59:43 - cmdstanpy - INFO - Chain [1] start processing\n",
      "05:59:43 - cmdstanpy - INFO - Chain [1] done processing\n"
     ]
    },
    {
     "data": {
      "application/vnd.jupyter.widget-view+json": {
       "model_id": "bf33c6e953e04fb69cbd9791c00cb9d8",
       "version_major": 2,
       "version_minor": 0
      },
      "text/plain": [
       "  0%|          | 0/6 [00:00<?, ?it/s]"
      ]
     },
     "metadata": {},
     "output_type": "display_data"
    },
    {
     "name": "stderr",
     "output_type": "stream",
     "text": [
      "05:59:43 - cmdstanpy - INFO - Chain [1] start processing\n",
      "05:59:43 - cmdstanpy - INFO - Chain [1] done processing\n",
      "05:59:44 - cmdstanpy - INFO - Chain [1] start processing\n",
      "05:59:44 - cmdstanpy - INFO - Chain [1] done processing\n",
      "05:59:44 - cmdstanpy - INFO - Chain [1] start processing\n",
      "05:59:44 - cmdstanpy - INFO - Chain [1] done processing\n",
      "05:59:44 - cmdstanpy - INFO - Chain [1] start processing\n",
      "05:59:45 - cmdstanpy - INFO - Chain [1] done processing\n",
      "05:59:45 - cmdstanpy - INFO - Chain [1] start processing\n",
      "05:59:45 - cmdstanpy - INFO - Chain [1] done processing\n",
      "05:59:45 - cmdstanpy - INFO - Chain [1] start processing\n",
      "05:59:45 - cmdstanpy - INFO - Chain [1] done processing\n",
      "05:59:46 - cmdstanpy - INFO - Chain [1] start processing\n",
      "05:59:46 - cmdstanpy - INFO - Chain [1] done processing\n"
     ]
    },
    {
     "data": {
      "application/vnd.jupyter.widget-view+json": {
       "model_id": "2d8739343d644acba79dc349e81a507e",
       "version_major": 2,
       "version_minor": 0
      },
      "text/plain": [
       "  0%|          | 0/6 [00:00<?, ?it/s]"
      ]
     },
     "metadata": {},
     "output_type": "display_data"
    },
    {
     "name": "stderr",
     "output_type": "stream",
     "text": [
      "05:59:46 - cmdstanpy - INFO - Chain [1] start processing\n",
      "05:59:46 - cmdstanpy - INFO - Chain [1] done processing\n",
      "05:59:46 - cmdstanpy - INFO - Chain [1] start processing\n",
      "05:59:46 - cmdstanpy - INFO - Chain [1] done processing\n",
      "05:59:47 - cmdstanpy - INFO - Chain [1] start processing\n",
      "05:59:47 - cmdstanpy - INFO - Chain [1] done processing\n",
      "05:59:47 - cmdstanpy - INFO - Chain [1] start processing\n",
      "05:59:47 - cmdstanpy - INFO - Chain [1] done processing\n",
      "05:59:47 - cmdstanpy - INFO - Chain [1] start processing\n",
      "05:59:47 - cmdstanpy - INFO - Chain [1] done processing\n",
      "05:59:48 - cmdstanpy - INFO - Chain [1] start processing\n",
      "05:59:48 - cmdstanpy - INFO - Chain [1] done processing\n",
      "05:59:48 - cmdstanpy - INFO - Chain [1] start processing\n",
      "05:59:48 - cmdstanpy - INFO - Chain [1] done processing\n"
     ]
    },
    {
     "data": {
      "application/vnd.jupyter.widget-view+json": {
       "model_id": "80b1a15059da46068409fb9d0db0fd3b",
       "version_major": 2,
       "version_minor": 0
      },
      "text/plain": [
       "  0%|          | 0/6 [00:00<?, ?it/s]"
      ]
     },
     "metadata": {},
     "output_type": "display_data"
    },
    {
     "name": "stderr",
     "output_type": "stream",
     "text": [
      "05:59:48 - cmdstanpy - INFO - Chain [1] start processing\n",
      "05:59:48 - cmdstanpy - INFO - Chain [1] done processing\n",
      "05:59:49 - cmdstanpy - INFO - Chain [1] start processing\n",
      "05:59:49 - cmdstanpy - INFO - Chain [1] done processing\n",
      "05:59:49 - cmdstanpy - INFO - Chain [1] start processing\n",
      "05:59:49 - cmdstanpy - INFO - Chain [1] done processing\n",
      "05:59:50 - cmdstanpy - INFO - Chain [1] start processing\n",
      "05:59:50 - cmdstanpy - INFO - Chain [1] done processing\n",
      "05:59:50 - cmdstanpy - INFO - Chain [1] start processing\n",
      "05:59:50 - cmdstanpy - INFO - Chain [1] done processing\n",
      "05:59:50 - cmdstanpy - INFO - Chain [1] start processing\n",
      "05:59:50 - cmdstanpy - INFO - Chain [1] done processing\n",
      "05:59:51 - cmdstanpy - INFO - Chain [1] start processing\n",
      "05:59:51 - cmdstanpy - INFO - Chain [1] done processing\n"
     ]
    },
    {
     "data": {
      "application/vnd.jupyter.widget-view+json": {
       "model_id": "c78ff395341f41c0bada662f18224e5d",
       "version_major": 2,
       "version_minor": 0
      },
      "text/plain": [
       "  0%|          | 0/6 [00:00<?, ?it/s]"
      ]
     },
     "metadata": {},
     "output_type": "display_data"
    },
    {
     "name": "stderr",
     "output_type": "stream",
     "text": [
      "05:59:51 - cmdstanpy - INFO - Chain [1] start processing\n",
      "05:59:51 - cmdstanpy - INFO - Chain [1] done processing\n",
      "05:59:51 - cmdstanpy - INFO - Chain [1] start processing\n",
      "05:59:51 - cmdstanpy - INFO - Chain [1] done processing\n",
      "05:59:52 - cmdstanpy - INFO - Chain [1] start processing\n",
      "05:59:52 - cmdstanpy - INFO - Chain [1] done processing\n",
      "05:59:52 - cmdstanpy - INFO - Chain [1] start processing\n",
      "05:59:52 - cmdstanpy - INFO - Chain [1] done processing\n",
      "05:59:52 - cmdstanpy - INFO - Chain [1] start processing\n",
      "05:59:52 - cmdstanpy - INFO - Chain [1] done processing\n",
      "05:59:53 - cmdstanpy - INFO - Chain [1] start processing\n",
      "05:59:53 - cmdstanpy - INFO - Chain [1] done processing\n",
      "05:59:53 - cmdstanpy - INFO - Chain [1] start processing\n",
      "05:59:53 - cmdstanpy - INFO - Chain [1] done processing\n"
     ]
    },
    {
     "data": {
      "application/vnd.jupyter.widget-view+json": {
       "model_id": "996c5de6605a4a3393c884138bb28960",
       "version_major": 2,
       "version_minor": 0
      },
      "text/plain": [
       "  0%|          | 0/6 [00:00<?, ?it/s]"
      ]
     },
     "metadata": {},
     "output_type": "display_data"
    },
    {
     "name": "stderr",
     "output_type": "stream",
     "text": [
      "05:59:53 - cmdstanpy - INFO - Chain [1] start processing\n",
      "05:59:53 - cmdstanpy - INFO - Chain [1] done processing\n",
      "05:59:54 - cmdstanpy - INFO - Chain [1] start processing\n",
      "05:59:54 - cmdstanpy - INFO - Chain [1] done processing\n",
      "05:59:54 - cmdstanpy - INFO - Chain [1] start processing\n",
      "05:59:54 - cmdstanpy - INFO - Chain [1] done processing\n",
      "05:59:54 - cmdstanpy - INFO - Chain [1] start processing\n",
      "05:59:54 - cmdstanpy - INFO - Chain [1] done processing\n",
      "05:59:55 - cmdstanpy - INFO - Chain [1] start processing\n",
      "05:59:55 - cmdstanpy - INFO - Chain [1] done processing\n",
      "05:59:55 - cmdstanpy - INFO - Chain [1] start processing\n",
      "05:59:55 - cmdstanpy - INFO - Chain [1] done processing\n",
      "05:59:56 - cmdstanpy - INFO - Chain [1] start processing\n",
      "05:59:56 - cmdstanpy - INFO - Chain [1] done processing\n"
     ]
    },
    {
     "data": {
      "application/vnd.jupyter.widget-view+json": {
       "model_id": "7092baa45175432baa18f7c35153bd17",
       "version_major": 2,
       "version_minor": 0
      },
      "text/plain": [
       "  0%|          | 0/6 [00:00<?, ?it/s]"
      ]
     },
     "metadata": {},
     "output_type": "display_data"
    },
    {
     "name": "stderr",
     "output_type": "stream",
     "text": [
      "05:59:56 - cmdstanpy - INFO - Chain [1] start processing\n",
      "05:59:56 - cmdstanpy - INFO - Chain [1] done processing\n",
      "05:59:56 - cmdstanpy - INFO - Chain [1] start processing\n",
      "05:59:56 - cmdstanpy - INFO - Chain [1] done processing\n",
      "05:59:57 - cmdstanpy - INFO - Chain [1] start processing\n",
      "05:59:57 - cmdstanpy - INFO - Chain [1] done processing\n",
      "05:59:57 - cmdstanpy - INFO - Chain [1] start processing\n",
      "05:59:57 - cmdstanpy - INFO - Chain [1] done processing\n",
      "05:59:57 - cmdstanpy - INFO - Chain [1] start processing\n",
      "05:59:57 - cmdstanpy - INFO - Chain [1] done processing\n",
      "05:59:58 - cmdstanpy - INFO - Chain [1] start processing\n",
      "05:59:58 - cmdstanpy - INFO - Chain [1] done processing\n",
      "05:59:58 - cmdstanpy - INFO - Chain [1] start processing\n",
      "05:59:58 - cmdstanpy - INFO - Chain [1] done processing\n"
     ]
    },
    {
     "data": {
      "application/vnd.jupyter.widget-view+json": {
       "model_id": "cfd54e4a1a6e43d6a508ca2b94c7ac74",
       "version_major": 2,
       "version_minor": 0
      },
      "text/plain": [
       "  0%|          | 0/6 [00:00<?, ?it/s]"
      ]
     },
     "metadata": {},
     "output_type": "display_data"
    },
    {
     "name": "stderr",
     "output_type": "stream",
     "text": [
      "05:59:58 - cmdstanpy - INFO - Chain [1] start processing\n",
      "05:59:59 - cmdstanpy - INFO - Chain [1] done processing\n",
      "05:59:59 - cmdstanpy - INFO - Chain [1] start processing\n",
      "05:59:59 - cmdstanpy - INFO - Chain [1] done processing\n",
      "05:59:59 - cmdstanpy - INFO - Chain [1] start processing\n",
      "05:59:59 - cmdstanpy - INFO - Chain [1] done processing\n",
      "05:59:59 - cmdstanpy - INFO - Chain [1] start processing\n",
      "05:59:59 - cmdstanpy - INFO - Chain [1] done processing\n",
      "06:00:00 - cmdstanpy - INFO - Chain [1] start processing\n",
      "06:00:00 - cmdstanpy - INFO - Chain [1] done processing\n",
      "06:00:00 - cmdstanpy - INFO - Chain [1] start processing\n",
      "06:00:00 - cmdstanpy - INFO - Chain [1] done processing\n",
      "06:00:01 - cmdstanpy - INFO - Chain [1] start processing\n",
      "06:00:01 - cmdstanpy - INFO - Chain [1] done processing\n"
     ]
    },
    {
     "data": {
      "application/vnd.jupyter.widget-view+json": {
       "model_id": "4d55f383344047b6beb3401bf409c1ec",
       "version_major": 2,
       "version_minor": 0
      },
      "text/plain": [
       "  0%|          | 0/6 [00:00<?, ?it/s]"
      ]
     },
     "metadata": {},
     "output_type": "display_data"
    },
    {
     "name": "stderr",
     "output_type": "stream",
     "text": [
      "06:00:01 - cmdstanpy - INFO - Chain [1] start processing\n",
      "06:00:01 - cmdstanpy - INFO - Chain [1] done processing\n",
      "06:00:01 - cmdstanpy - INFO - Chain [1] start processing\n",
      "06:00:01 - cmdstanpy - INFO - Chain [1] done processing\n",
      "06:00:02 - cmdstanpy - INFO - Chain [1] start processing\n",
      "06:00:02 - cmdstanpy - INFO - Chain [1] done processing\n",
      "06:00:02 - cmdstanpy - INFO - Chain [1] start processing\n",
      "06:00:02 - cmdstanpy - INFO - Chain [1] done processing\n",
      "06:00:02 - cmdstanpy - INFO - Chain [1] start processing\n",
      "06:00:02 - cmdstanpy - INFO - Chain [1] done processing\n",
      "06:00:03 - cmdstanpy - INFO - Chain [1] start processing\n",
      "06:00:03 - cmdstanpy - INFO - Chain [1] done processing\n",
      "06:00:03 - cmdstanpy - INFO - Chain [1] start processing\n",
      "06:00:03 - cmdstanpy - INFO - Chain [1] done processing\n"
     ]
    },
    {
     "data": {
      "application/vnd.jupyter.widget-view+json": {
       "model_id": "6f925a4e28ed44639a4163ad4bc2406f",
       "version_major": 2,
       "version_minor": 0
      },
      "text/plain": [
       "  0%|          | 0/6 [00:00<?, ?it/s]"
      ]
     },
     "metadata": {},
     "output_type": "display_data"
    },
    {
     "name": "stderr",
     "output_type": "stream",
     "text": [
      "06:00:04 - cmdstanpy - INFO - Chain [1] start processing\n",
      "06:00:04 - cmdstanpy - INFO - Chain [1] done processing\n",
      "06:00:04 - cmdstanpy - INFO - Chain [1] start processing\n",
      "06:00:04 - cmdstanpy - INFO - Chain [1] done processing\n",
      "06:00:04 - cmdstanpy - INFO - Chain [1] start processing\n",
      "06:00:04 - cmdstanpy - INFO - Chain [1] done processing\n",
      "06:00:05 - cmdstanpy - INFO - Chain [1] start processing\n",
      "06:00:05 - cmdstanpy - INFO - Chain [1] done processing\n",
      "06:00:05 - cmdstanpy - INFO - Chain [1] start processing\n",
      "06:00:05 - cmdstanpy - INFO - Chain [1] done processing\n",
      "06:00:05 - cmdstanpy - INFO - Chain [1] start processing\n",
      "06:00:05 - cmdstanpy - INFO - Chain [1] done processing\n",
      "06:00:06 - cmdstanpy - INFO - Chain [1] start processing\n",
      "06:00:06 - cmdstanpy - INFO - Chain [1] done processing\n"
     ]
    },
    {
     "data": {
      "application/vnd.jupyter.widget-view+json": {
       "model_id": "5b8628e607674cb387bbf03e89c800ff",
       "version_major": 2,
       "version_minor": 0
      },
      "text/plain": [
       "  0%|          | 0/6 [00:00<?, ?it/s]"
      ]
     },
     "metadata": {},
     "output_type": "display_data"
    },
    {
     "name": "stderr",
     "output_type": "stream",
     "text": [
      "06:00:06 - cmdstanpy - INFO - Chain [1] start processing\n",
      "06:00:06 - cmdstanpy - INFO - Chain [1] done processing\n",
      "06:00:06 - cmdstanpy - INFO - Chain [1] start processing\n",
      "06:00:06 - cmdstanpy - INFO - Chain [1] done processing\n",
      "06:00:07 - cmdstanpy - INFO - Chain [1] start processing\n",
      "06:00:07 - cmdstanpy - INFO - Chain [1] done processing\n",
      "06:00:07 - cmdstanpy - INFO - Chain [1] start processing\n",
      "06:00:07 - cmdstanpy - INFO - Chain [1] done processing\n",
      "06:00:08 - cmdstanpy - INFO - Chain [1] start processing\n",
      "06:00:08 - cmdstanpy - INFO - Chain [1] done processing\n",
      "06:00:08 - cmdstanpy - INFO - Chain [1] start processing\n",
      "06:00:08 - cmdstanpy - INFO - Chain [1] done processing\n",
      "06:00:08 - cmdstanpy - INFO - Chain [1] start processing\n",
      "06:00:08 - cmdstanpy - INFO - Chain [1] done processing\n"
     ]
    },
    {
     "data": {
      "application/vnd.jupyter.widget-view+json": {
       "model_id": "8b2a93f0455647b2aa50d6e2744b4fad",
       "version_major": 2,
       "version_minor": 0
      },
      "text/plain": [
       "  0%|          | 0/6 [00:00<?, ?it/s]"
      ]
     },
     "metadata": {},
     "output_type": "display_data"
    },
    {
     "name": "stderr",
     "output_type": "stream",
     "text": [
      "06:00:08 - cmdstanpy - INFO - Chain [1] start processing\n",
      "06:00:08 - cmdstanpy - INFO - Chain [1] done processing\n",
      "06:00:09 - cmdstanpy - INFO - Chain [1] start processing\n",
      "06:00:09 - cmdstanpy - INFO - Chain [1] done processing\n",
      "06:00:09 - cmdstanpy - INFO - Chain [1] start processing\n",
      "06:00:09 - cmdstanpy - INFO - Chain [1] done processing\n",
      "06:00:10 - cmdstanpy - INFO - Chain [1] start processing\n",
      "06:00:10 - cmdstanpy - INFO - Chain [1] done processing\n",
      "06:00:10 - cmdstanpy - INFO - Chain [1] start processing\n",
      "06:00:10 - cmdstanpy - INFO - Chain [1] done processing\n",
      "06:00:10 - cmdstanpy - INFO - Chain [1] start processing\n",
      "06:00:11 - cmdstanpy - INFO - Chain [1] done processing\n",
      "06:00:11 - cmdstanpy - INFO - Chain [1] start processing\n",
      "06:00:11 - cmdstanpy - INFO - Chain [1] done processing\n"
     ]
    },
    {
     "data": {
      "application/vnd.jupyter.widget-view+json": {
       "model_id": "15333bccde004209992a56e109815c40",
       "version_major": 2,
       "version_minor": 0
      },
      "text/plain": [
       "  0%|          | 0/6 [00:00<?, ?it/s]"
      ]
     },
     "metadata": {},
     "output_type": "display_data"
    },
    {
     "name": "stderr",
     "output_type": "stream",
     "text": [
      "06:00:11 - cmdstanpy - INFO - Chain [1] start processing\n",
      "06:00:11 - cmdstanpy - INFO - Chain [1] done processing\n",
      "06:00:11 - cmdstanpy - INFO - Chain [1] start processing\n",
      "06:00:11 - cmdstanpy - INFO - Chain [1] done processing\n",
      "06:00:12 - cmdstanpy - INFO - Chain [1] start processing\n",
      "06:00:12 - cmdstanpy - INFO - Chain [1] done processing\n",
      "06:00:12 - cmdstanpy - INFO - Chain [1] start processing\n",
      "06:00:12 - cmdstanpy - INFO - Chain [1] done processing\n",
      "06:00:13 - cmdstanpy - INFO - Chain [1] start processing\n",
      "06:00:13 - cmdstanpy - INFO - Chain [1] done processing\n",
      "06:00:13 - cmdstanpy - INFO - Chain [1] start processing\n",
      "06:00:13 - cmdstanpy - INFO - Chain [1] done processing\n",
      "06:00:13 - cmdstanpy - INFO - Chain [1] start processing\n",
      "06:00:13 - cmdstanpy - INFO - Chain [1] done processing\n"
     ]
    },
    {
     "data": {
      "application/vnd.jupyter.widget-view+json": {
       "model_id": "b6f9c59bbada4825ae8722155161bffa",
       "version_major": 2,
       "version_minor": 0
      },
      "text/plain": [
       "  0%|          | 0/6 [00:00<?, ?it/s]"
      ]
     },
     "metadata": {},
     "output_type": "display_data"
    },
    {
     "name": "stderr",
     "output_type": "stream",
     "text": [
      "06:00:13 - cmdstanpy - INFO - Chain [1] start processing\n",
      "06:00:13 - cmdstanpy - INFO - Chain [1] done processing\n",
      "06:00:14 - cmdstanpy - INFO - Chain [1] start processing\n",
      "06:00:14 - cmdstanpy - INFO - Chain [1] done processing\n",
      "06:00:14 - cmdstanpy - INFO - Chain [1] start processing\n",
      "06:00:14 - cmdstanpy - INFO - Chain [1] done processing\n",
      "06:00:15 - cmdstanpy - INFO - Chain [1] start processing\n",
      "06:00:15 - cmdstanpy - INFO - Chain [1] done processing\n",
      "06:00:15 - cmdstanpy - INFO - Chain [1] start processing\n",
      "06:00:15 - cmdstanpy - INFO - Chain [1] done processing\n",
      "06:00:15 - cmdstanpy - INFO - Chain [1] start processing\n",
      "06:00:15 - cmdstanpy - INFO - Chain [1] done processing\n",
      "06:00:16 - cmdstanpy - INFO - Chain [1] start processing\n",
      "06:00:16 - cmdstanpy - INFO - Chain [1] done processing\n"
     ]
    },
    {
     "data": {
      "application/vnd.jupyter.widget-view+json": {
       "model_id": "cc0a20337b7d4cbc87750e1fcdc97b85",
       "version_major": 2,
       "version_minor": 0
      },
      "text/plain": [
       "  0%|          | 0/6 [00:00<?, ?it/s]"
      ]
     },
     "metadata": {},
     "output_type": "display_data"
    },
    {
     "name": "stderr",
     "output_type": "stream",
     "text": [
      "06:00:16 - cmdstanpy - INFO - Chain [1] start processing\n",
      "06:00:16 - cmdstanpy - INFO - Chain [1] done processing\n",
      "06:00:16 - cmdstanpy - INFO - Chain [1] start processing\n",
      "06:00:16 - cmdstanpy - INFO - Chain [1] done processing\n",
      "06:00:17 - cmdstanpy - INFO - Chain [1] start processing\n",
      "06:00:17 - cmdstanpy - INFO - Chain [1] done processing\n",
      "06:00:17 - cmdstanpy - INFO - Chain [1] start processing\n",
      "06:00:17 - cmdstanpy - INFO - Chain [1] done processing\n",
      "06:00:18 - cmdstanpy - INFO - Chain [1] start processing\n",
      "06:00:18 - cmdstanpy - INFO - Chain [1] done processing\n",
      "06:00:18 - cmdstanpy - INFO - Chain [1] start processing\n",
      "06:00:18 - cmdstanpy - INFO - Chain [1] done processing\n",
      "06:00:18 - cmdstanpy - INFO - Chain [1] start processing\n",
      "06:00:19 - cmdstanpy - INFO - Chain [1] done processing\n"
     ]
    },
    {
     "data": {
      "application/vnd.jupyter.widget-view+json": {
       "model_id": "15d292d028f74c9c8809a32b137a54a9",
       "version_major": 2,
       "version_minor": 0
      },
      "text/plain": [
       "  0%|          | 0/6 [00:00<?, ?it/s]"
      ]
     },
     "metadata": {},
     "output_type": "display_data"
    },
    {
     "name": "stderr",
     "output_type": "stream",
     "text": [
      "06:00:19 - cmdstanpy - INFO - Chain [1] start processing\n",
      "06:00:19 - cmdstanpy - INFO - Chain [1] done processing\n",
      "06:00:19 - cmdstanpy - INFO - Chain [1] start processing\n",
      "06:00:19 - cmdstanpy - INFO - Chain [1] done processing\n",
      "06:00:20 - cmdstanpy - INFO - Chain [1] start processing\n",
      "06:00:20 - cmdstanpy - INFO - Chain [1] done processing\n",
      "06:00:20 - cmdstanpy - INFO - Chain [1] start processing\n",
      "06:00:20 - cmdstanpy - INFO - Chain [1] done processing\n",
      "06:00:20 - cmdstanpy - INFO - Chain [1] start processing\n",
      "06:00:20 - cmdstanpy - INFO - Chain [1] done processing\n",
      "06:00:20 - cmdstanpy - INFO - Chain [1] start processing\n",
      "06:00:21 - cmdstanpy - INFO - Chain [1] done processing\n",
      "06:00:21 - cmdstanpy - INFO - Chain [1] start processing\n",
      "06:00:21 - cmdstanpy - INFO - Chain [1] done processing\n"
     ]
    },
    {
     "data": {
      "application/vnd.jupyter.widget-view+json": {
       "model_id": "544066904d334750a930d4051042b3f4",
       "version_major": 2,
       "version_minor": 0
      },
      "text/plain": [
       "  0%|          | 0/6 [00:00<?, ?it/s]"
      ]
     },
     "metadata": {},
     "output_type": "display_data"
    },
    {
     "name": "stderr",
     "output_type": "stream",
     "text": [
      "06:00:21 - cmdstanpy - INFO - Chain [1] start processing\n",
      "06:00:21 - cmdstanpy - INFO - Chain [1] done processing\n",
      "06:00:22 - cmdstanpy - INFO - Chain [1] start processing\n",
      "06:00:22 - cmdstanpy - INFO - Chain [1] done processing\n",
      "06:00:22 - cmdstanpy - INFO - Chain [1] start processing\n",
      "06:00:22 - cmdstanpy - INFO - Chain [1] done processing\n",
      "06:00:22 - cmdstanpy - INFO - Chain [1] start processing\n",
      "06:00:22 - cmdstanpy - INFO - Chain [1] done processing\n",
      "06:00:23 - cmdstanpy - INFO - Chain [1] start processing\n",
      "06:00:23 - cmdstanpy - INFO - Chain [1] done processing\n",
      "06:00:23 - cmdstanpy - INFO - Chain [1] start processing\n",
      "06:00:23 - cmdstanpy - INFO - Chain [1] done processing\n",
      "06:00:24 - cmdstanpy - INFO - Chain [1] start processing\n",
      "06:00:24 - cmdstanpy - INFO - Chain [1] done processing\n"
     ]
    },
    {
     "data": {
      "application/vnd.jupyter.widget-view+json": {
       "model_id": "063eb27445aa43cb8e78a08a1a2c93aa",
       "version_major": 2,
       "version_minor": 0
      },
      "text/plain": [
       "  0%|          | 0/6 [00:00<?, ?it/s]"
      ]
     },
     "metadata": {},
     "output_type": "display_data"
    },
    {
     "name": "stderr",
     "output_type": "stream",
     "text": [
      "06:00:24 - cmdstanpy - INFO - Chain [1] start processing\n",
      "06:00:24 - cmdstanpy - INFO - Chain [1] done processing\n",
      "06:00:24 - cmdstanpy - INFO - Chain [1] start processing\n",
      "06:00:24 - cmdstanpy - INFO - Chain [1] done processing\n",
      "06:00:25 - cmdstanpy - INFO - Chain [1] start processing\n",
      "06:00:25 - cmdstanpy - INFO - Chain [1] done processing\n",
      "06:00:25 - cmdstanpy - INFO - Chain [1] start processing\n",
      "06:00:25 - cmdstanpy - INFO - Chain [1] done processing\n",
      "06:00:25 - cmdstanpy - INFO - Chain [1] start processing\n",
      "06:00:25 - cmdstanpy - INFO - Chain [1] done processing\n",
      "06:00:26 - cmdstanpy - INFO - Chain [1] start processing\n",
      "06:00:26 - cmdstanpy - INFO - Chain [1] done processing\n",
      "06:00:26 - cmdstanpy - INFO - Chain [1] start processing\n",
      "06:00:26 - cmdstanpy - INFO - Chain [1] done processing\n"
     ]
    },
    {
     "data": {
      "application/vnd.jupyter.widget-view+json": {
       "model_id": "34cbede10be24cd28f3a67d2eaf5b08f",
       "version_major": 2,
       "version_minor": 0
      },
      "text/plain": [
       "  0%|          | 0/6 [00:00<?, ?it/s]"
      ]
     },
     "metadata": {},
     "output_type": "display_data"
    },
    {
     "name": "stderr",
     "output_type": "stream",
     "text": [
      "06:00:26 - cmdstanpy - INFO - Chain [1] start processing\n",
      "06:00:26 - cmdstanpy - INFO - Chain [1] done processing\n",
      "06:00:27 - cmdstanpy - INFO - Chain [1] start processing\n",
      "06:00:27 - cmdstanpy - INFO - Chain [1] done processing\n",
      "06:00:27 - cmdstanpy - INFO - Chain [1] start processing\n",
      "06:00:27 - cmdstanpy - INFO - Chain [1] done processing\n",
      "06:00:27 - cmdstanpy - INFO - Chain [1] start processing\n",
      "06:00:27 - cmdstanpy - INFO - Chain [1] done processing\n",
      "06:00:28 - cmdstanpy - INFO - Chain [1] start processing\n",
      "06:00:28 - cmdstanpy - INFO - Chain [1] done processing\n",
      "06:00:28 - cmdstanpy - INFO - Chain [1] start processing\n",
      "06:00:28 - cmdstanpy - INFO - Chain [1] done processing\n",
      "06:00:29 - cmdstanpy - INFO - Chain [1] start processing\n",
      "06:00:29 - cmdstanpy - INFO - Chain [1] done processing\n"
     ]
    },
    {
     "data": {
      "application/vnd.jupyter.widget-view+json": {
       "model_id": "47a922ecdb77417e9c8d7fcd0d7c6bec",
       "version_major": 2,
       "version_minor": 0
      },
      "text/plain": [
       "  0%|          | 0/6 [00:00<?, ?it/s]"
      ]
     },
     "metadata": {},
     "output_type": "display_data"
    },
    {
     "name": "stderr",
     "output_type": "stream",
     "text": [
      "06:00:29 - cmdstanpy - INFO - Chain [1] start processing\n",
      "06:00:29 - cmdstanpy - INFO - Chain [1] done processing\n",
      "06:00:29 - cmdstanpy - INFO - Chain [1] start processing\n",
      "06:00:29 - cmdstanpy - INFO - Chain [1] done processing\n",
      "06:00:30 - cmdstanpy - INFO - Chain [1] start processing\n",
      "06:00:30 - cmdstanpy - INFO - Chain [1] done processing\n",
      "06:00:30 - cmdstanpy - INFO - Chain [1] start processing\n",
      "06:00:30 - cmdstanpy - INFO - Chain [1] done processing\n",
      "06:00:30 - cmdstanpy - INFO - Chain [1] start processing\n",
      "06:00:30 - cmdstanpy - INFO - Chain [1] done processing\n",
      "06:00:31 - cmdstanpy - INFO - Chain [1] start processing\n",
      "06:00:31 - cmdstanpy - INFO - Chain [1] done processing\n",
      "06:00:31 - cmdstanpy - INFO - Chain [1] start processing\n",
      "06:00:31 - cmdstanpy - INFO - Chain [1] done processing\n"
     ]
    },
    {
     "data": {
      "application/vnd.jupyter.widget-view+json": {
       "model_id": "31218688fd1e416fa1fdc85a42034a02",
       "version_major": 2,
       "version_minor": 0
      },
      "text/plain": [
       "  0%|          | 0/6 [00:00<?, ?it/s]"
      ]
     },
     "metadata": {},
     "output_type": "display_data"
    },
    {
     "name": "stderr",
     "output_type": "stream",
     "text": [
      "06:00:31 - cmdstanpy - INFO - Chain [1] start processing\n",
      "06:00:31 - cmdstanpy - INFO - Chain [1] done processing\n",
      "06:00:32 - cmdstanpy - INFO - Chain [1] start processing\n",
      "06:00:32 - cmdstanpy - INFO - Chain [1] done processing\n",
      "06:00:32 - cmdstanpy - INFO - Chain [1] start processing\n",
      "06:00:32 - cmdstanpy - INFO - Chain [1] done processing\n",
      "06:00:33 - cmdstanpy - INFO - Chain [1] start processing\n",
      "06:00:33 - cmdstanpy - INFO - Chain [1] done processing\n",
      "06:00:33 - cmdstanpy - INFO - Chain [1] start processing\n",
      "06:00:33 - cmdstanpy - INFO - Chain [1] done processing\n",
      "06:00:33 - cmdstanpy - INFO - Chain [1] start processing\n",
      "06:00:33 - cmdstanpy - INFO - Chain [1] done processing\n",
      "06:00:34 - cmdstanpy - INFO - Chain [1] start processing\n",
      "06:00:34 - cmdstanpy - INFO - Chain [1] done processing\n"
     ]
    },
    {
     "data": {
      "application/vnd.jupyter.widget-view+json": {
       "model_id": "ab71be7d8c484c85aaefa448d2f43eaf",
       "version_major": 2,
       "version_minor": 0
      },
      "text/plain": [
       "  0%|          | 0/6 [00:00<?, ?it/s]"
      ]
     },
     "metadata": {},
     "output_type": "display_data"
    },
    {
     "name": "stderr",
     "output_type": "stream",
     "text": [
      "06:00:34 - cmdstanpy - INFO - Chain [1] start processing\n",
      "06:00:34 - cmdstanpy - INFO - Chain [1] done processing\n",
      "06:00:34 - cmdstanpy - INFO - Chain [1] start processing\n",
      "06:00:34 - cmdstanpy - INFO - Chain [1] done processing\n",
      "06:00:35 - cmdstanpy - INFO - Chain [1] start processing\n",
      "06:00:35 - cmdstanpy - INFO - Chain [1] done processing\n",
      "06:00:35 - cmdstanpy - INFO - Chain [1] start processing\n",
      "06:00:35 - cmdstanpy - INFO - Chain [1] done processing\n",
      "06:00:36 - cmdstanpy - INFO - Chain [1] start processing\n",
      "06:00:36 - cmdstanpy - INFO - Chain [1] done processing\n",
      "06:00:36 - cmdstanpy - INFO - Chain [1] start processing\n",
      "06:00:36 - cmdstanpy - INFO - Chain [1] done processing\n",
      "06:00:36 - cmdstanpy - INFO - Chain [1] start processing\n",
      "06:00:36 - cmdstanpy - INFO - Chain [1] done processing\n"
     ]
    },
    {
     "data": {
      "application/vnd.jupyter.widget-view+json": {
       "model_id": "1f633267830c47a798027c622de83759",
       "version_major": 2,
       "version_minor": 0
      },
      "text/plain": [
       "  0%|          | 0/6 [00:00<?, ?it/s]"
      ]
     },
     "metadata": {},
     "output_type": "display_data"
    },
    {
     "name": "stderr",
     "output_type": "stream",
     "text": [
      "06:00:36 - cmdstanpy - INFO - Chain [1] start processing\n",
      "06:00:36 - cmdstanpy - INFO - Chain [1] done processing\n",
      "06:00:37 - cmdstanpy - INFO - Chain [1] start processing\n",
      "06:00:37 - cmdstanpy - INFO - Chain [1] done processing\n",
      "06:00:37 - cmdstanpy - INFO - Chain [1] start processing\n",
      "06:00:37 - cmdstanpy - INFO - Chain [1] done processing\n",
      "06:00:38 - cmdstanpy - INFO - Chain [1] start processing\n",
      "06:00:38 - cmdstanpy - INFO - Chain [1] done processing\n",
      "06:00:38 - cmdstanpy - INFO - Chain [1] start processing\n",
      "06:00:38 - cmdstanpy - INFO - Chain [1] done processing\n",
      "06:00:38 - cmdstanpy - INFO - Chain [1] start processing\n",
      "06:00:38 - cmdstanpy - INFO - Chain [1] done processing\n",
      "06:00:39 - cmdstanpy - INFO - Chain [1] start processing\n",
      "06:00:39 - cmdstanpy - INFO - Chain [1] done processing\n"
     ]
    },
    {
     "data": {
      "application/vnd.jupyter.widget-view+json": {
       "model_id": "6c24a6405be944f4bb058954fb00521d",
       "version_major": 2,
       "version_minor": 0
      },
      "text/plain": [
       "  0%|          | 0/6 [00:00<?, ?it/s]"
      ]
     },
     "metadata": {},
     "output_type": "display_data"
    },
    {
     "name": "stderr",
     "output_type": "stream",
     "text": [
      "06:00:39 - cmdstanpy - INFO - Chain [1] start processing\n",
      "06:00:39 - cmdstanpy - INFO - Chain [1] done processing\n",
      "06:00:40 - cmdstanpy - INFO - Chain [1] start processing\n",
      "06:00:40 - cmdstanpy - INFO - Chain [1] done processing\n",
      "06:00:40 - cmdstanpy - INFO - Chain [1] start processing\n",
      "06:00:40 - cmdstanpy - INFO - Chain [1] done processing\n",
      "06:00:40 - cmdstanpy - INFO - Chain [1] start processing\n",
      "06:00:40 - cmdstanpy - INFO - Chain [1] done processing\n",
      "06:00:41 - cmdstanpy - INFO - Chain [1] start processing\n",
      "06:00:41 - cmdstanpy - INFO - Chain [1] done processing\n",
      "06:00:41 - cmdstanpy - INFO - Chain [1] start processing\n",
      "06:00:41 - cmdstanpy - INFO - Chain [1] done processing\n",
      "06:00:42 - cmdstanpy - INFO - Chain [1] start processing\n",
      "06:00:42 - cmdstanpy - INFO - Chain [1] done processing\n"
     ]
    },
    {
     "data": {
      "application/vnd.jupyter.widget-view+json": {
       "model_id": "cd797842a94f4517ac6f55fa2f321dc1",
       "version_major": 2,
       "version_minor": 0
      },
      "text/plain": [
       "  0%|          | 0/6 [00:00<?, ?it/s]"
      ]
     },
     "metadata": {},
     "output_type": "display_data"
    },
    {
     "name": "stderr",
     "output_type": "stream",
     "text": [
      "06:00:42 - cmdstanpy - INFO - Chain [1] start processing\n",
      "06:00:42 - cmdstanpy - INFO - Chain [1] done processing\n",
      "06:00:42 - cmdstanpy - INFO - Chain [1] start processing\n",
      "06:00:42 - cmdstanpy - INFO - Chain [1] done processing\n",
      "06:00:43 - cmdstanpy - INFO - Chain [1] start processing\n",
      "06:00:43 - cmdstanpy - INFO - Chain [1] done processing\n",
      "06:00:43 - cmdstanpy - INFO - Chain [1] start processing\n",
      "06:00:43 - cmdstanpy - INFO - Chain [1] done processing\n",
      "06:00:43 - cmdstanpy - INFO - Chain [1] start processing\n",
      "06:00:43 - cmdstanpy - INFO - Chain [1] done processing\n",
      "06:00:43 - cmdstanpy - INFO - Chain [1] start processing\n",
      "06:00:44 - cmdstanpy - INFO - Chain [1] done processing\n",
      "06:00:44 - cmdstanpy - INFO - Chain [1] start processing\n",
      "06:00:44 - cmdstanpy - INFO - Chain [1] done processing\n"
     ]
    },
    {
     "data": {
      "application/vnd.jupyter.widget-view+json": {
       "model_id": "41968b89f97b4df4bbd17e6e347d0908",
       "version_major": 2,
       "version_minor": 0
      },
      "text/plain": [
       "  0%|          | 0/6 [00:00<?, ?it/s]"
      ]
     },
     "metadata": {},
     "output_type": "display_data"
    },
    {
     "name": "stderr",
     "output_type": "stream",
     "text": [
      "06:00:44 - cmdstanpy - INFO - Chain [1] start processing\n",
      "06:00:44 - cmdstanpy - INFO - Chain [1] done processing\n",
      "06:00:45 - cmdstanpy - INFO - Chain [1] start processing\n",
      "06:00:45 - cmdstanpy - INFO - Chain [1] done processing\n",
      "06:00:45 - cmdstanpy - INFO - Chain [1] start processing\n",
      "06:00:45 - cmdstanpy - INFO - Chain [1] done processing\n",
      "06:00:45 - cmdstanpy - INFO - Chain [1] start processing\n",
      "06:00:45 - cmdstanpy - INFO - Chain [1] done processing\n",
      "06:00:46 - cmdstanpy - INFO - Chain [1] start processing\n",
      "06:00:46 - cmdstanpy - INFO - Chain [1] done processing\n",
      "06:00:46 - cmdstanpy - INFO - Chain [1] start processing\n",
      "06:00:46 - cmdstanpy - INFO - Chain [1] done processing\n",
      "06:00:47 - cmdstanpy - INFO - Chain [1] start processing\n",
      "06:00:47 - cmdstanpy - INFO - Chain [1] done processing\n"
     ]
    },
    {
     "data": {
      "application/vnd.jupyter.widget-view+json": {
       "model_id": "1ff6c001ae9b4132a7d7ee86a19cbe39",
       "version_major": 2,
       "version_minor": 0
      },
      "text/plain": [
       "  0%|          | 0/6 [00:00<?, ?it/s]"
      ]
     },
     "metadata": {},
     "output_type": "display_data"
    },
    {
     "name": "stderr",
     "output_type": "stream",
     "text": [
      "06:00:47 - cmdstanpy - INFO - Chain [1] start processing\n",
      "06:00:47 - cmdstanpy - INFO - Chain [1] done processing\n",
      "06:00:47 - cmdstanpy - INFO - Chain [1] start processing\n",
      "06:00:47 - cmdstanpy - INFO - Chain [1] done processing\n",
      "06:00:48 - cmdstanpy - INFO - Chain [1] start processing\n",
      "06:00:48 - cmdstanpy - INFO - Chain [1] done processing\n",
      "06:00:48 - cmdstanpy - INFO - Chain [1] start processing\n",
      "06:00:48 - cmdstanpy - INFO - Chain [1] done processing\n",
      "06:00:48 - cmdstanpy - INFO - Chain [1] start processing\n",
      "06:00:48 - cmdstanpy - INFO - Chain [1] done processing\n",
      "06:00:49 - cmdstanpy - INFO - Chain [1] start processing\n",
      "06:00:49 - cmdstanpy - INFO - Chain [1] done processing\n",
      "06:00:49 - cmdstanpy - INFO - Chain [1] start processing\n",
      "06:00:49 - cmdstanpy - INFO - Chain [1] done processing\n"
     ]
    },
    {
     "data": {
      "application/vnd.jupyter.widget-view+json": {
       "model_id": "a451bf8c2a634a85aed724fe688a5d0f",
       "version_major": 2,
       "version_minor": 0
      },
      "text/plain": [
       "  0%|          | 0/6 [00:00<?, ?it/s]"
      ]
     },
     "metadata": {},
     "output_type": "display_data"
    },
    {
     "name": "stderr",
     "output_type": "stream",
     "text": [
      "06:00:49 - cmdstanpy - INFO - Chain [1] start processing\n",
      "06:00:49 - cmdstanpy - INFO - Chain [1] done processing\n",
      "06:00:50 - cmdstanpy - INFO - Chain [1] start processing\n",
      "06:00:50 - cmdstanpy - INFO - Chain [1] done processing\n",
      "06:00:50 - cmdstanpy - INFO - Chain [1] start processing\n",
      "06:00:50 - cmdstanpy - INFO - Chain [1] done processing\n",
      "06:00:50 - cmdstanpy - INFO - Chain [1] start processing\n",
      "06:00:50 - cmdstanpy - INFO - Chain [1] done processing\n",
      "06:00:51 - cmdstanpy - INFO - Chain [1] start processing\n",
      "06:00:51 - cmdstanpy - INFO - Chain [1] done processing\n",
      "06:00:51 - cmdstanpy - INFO - Chain [1] start processing\n",
      "06:00:51 - cmdstanpy - INFO - Chain [1] done processing\n",
      "06:00:52 - cmdstanpy - INFO - Chain [1] start processing\n",
      "06:00:52 - cmdstanpy - INFO - Chain [1] done processing\n"
     ]
    },
    {
     "data": {
      "application/vnd.jupyter.widget-view+json": {
       "model_id": "0d8d52fbff304cc4b466acff5954fc4c",
       "version_major": 2,
       "version_minor": 0
      },
      "text/plain": [
       "  0%|          | 0/6 [00:00<?, ?it/s]"
      ]
     },
     "metadata": {},
     "output_type": "display_data"
    },
    {
     "name": "stderr",
     "output_type": "stream",
     "text": [
      "06:00:52 - cmdstanpy - INFO - Chain [1] start processing\n",
      "06:00:52 - cmdstanpy - INFO - Chain [1] done processing\n",
      "06:00:52 - cmdstanpy - INFO - Chain [1] start processing\n",
      "06:00:52 - cmdstanpy - INFO - Chain [1] done processing\n",
      "06:00:53 - cmdstanpy - INFO - Chain [1] start processing\n",
      "06:00:53 - cmdstanpy - INFO - Chain [1] done processing\n",
      "06:00:53 - cmdstanpy - INFO - Chain [1] start processing\n",
      "06:00:53 - cmdstanpy - INFO - Chain [1] done processing\n",
      "06:00:53 - cmdstanpy - INFO - Chain [1] start processing\n",
      "06:00:54 - cmdstanpy - INFO - Chain [1] done processing\n",
      "06:00:54 - cmdstanpy - INFO - Chain [1] start processing\n",
      "06:00:54 - cmdstanpy - INFO - Chain [1] done processing\n",
      "06:00:54 - cmdstanpy - INFO - Chain [1] start processing\n",
      "06:00:54 - cmdstanpy - INFO - Chain [1] done processing\n"
     ]
    },
    {
     "data": {
      "application/vnd.jupyter.widget-view+json": {
       "model_id": "fd575f9cb7b44348bdc8758487b53357",
       "version_major": 2,
       "version_minor": 0
      },
      "text/plain": [
       "  0%|          | 0/6 [00:00<?, ?it/s]"
      ]
     },
     "metadata": {},
     "output_type": "display_data"
    },
    {
     "name": "stderr",
     "output_type": "stream",
     "text": [
      "06:00:54 - cmdstanpy - INFO - Chain [1] start processing\n",
      "06:00:54 - cmdstanpy - INFO - Chain [1] done processing\n",
      "06:00:55 - cmdstanpy - INFO - Chain [1] start processing\n",
      "06:00:55 - cmdstanpy - INFO - Chain [1] done processing\n",
      "06:00:55 - cmdstanpy - INFO - Chain [1] start processing\n",
      "06:00:55 - cmdstanpy - INFO - Chain [1] done processing\n",
      "06:00:56 - cmdstanpy - INFO - Chain [1] start processing\n",
      "06:00:56 - cmdstanpy - INFO - Chain [1] done processing\n",
      "06:00:56 - cmdstanpy - INFO - Chain [1] start processing\n",
      "06:00:56 - cmdstanpy - INFO - Chain [1] done processing\n",
      "06:00:57 - cmdstanpy - INFO - Chain [1] start processing\n",
      "06:00:57 - cmdstanpy - INFO - Chain [1] done processing\n",
      "06:00:57 - cmdstanpy - INFO - Chain [1] start processing\n",
      "06:00:57 - cmdstanpy - INFO - Chain [1] done processing\n"
     ]
    },
    {
     "data": {
      "application/vnd.jupyter.widget-view+json": {
       "model_id": "9959fae706354a77920de15f7ecc9fa2",
       "version_major": 2,
       "version_minor": 0
      },
      "text/plain": [
       "  0%|          | 0/6 [00:00<?, ?it/s]"
      ]
     },
     "metadata": {},
     "output_type": "display_data"
    },
    {
     "name": "stderr",
     "output_type": "stream",
     "text": [
      "06:00:57 - cmdstanpy - INFO - Chain [1] start processing\n",
      "06:00:57 - cmdstanpy - INFO - Chain [1] done processing\n",
      "06:00:58 - cmdstanpy - INFO - Chain [1] start processing\n",
      "06:00:58 - cmdstanpy - INFO - Chain [1] done processing\n",
      "06:00:58 - cmdstanpy - INFO - Chain [1] start processing\n",
      "06:00:58 - cmdstanpy - INFO - Chain [1] done processing\n",
      "06:00:58 - cmdstanpy - INFO - Chain [1] start processing\n",
      "06:00:59 - cmdstanpy - INFO - Chain [1] done processing\n",
      "06:00:59 - cmdstanpy - INFO - Chain [1] start processing\n",
      "06:00:59 - cmdstanpy - INFO - Chain [1] done processing\n",
      "06:00:59 - cmdstanpy - INFO - Chain [1] start processing\n",
      "06:00:59 - cmdstanpy - INFO - Chain [1] done processing\n",
      "06:01:00 - cmdstanpy - INFO - Chain [1] start processing\n",
      "06:01:00 - cmdstanpy - INFO - Chain [1] done processing\n"
     ]
    },
    {
     "data": {
      "application/vnd.jupyter.widget-view+json": {
       "model_id": "b122402dd0d44108b77f23ea1eb55a32",
       "version_major": 2,
       "version_minor": 0
      },
      "text/plain": [
       "  0%|          | 0/6 [00:00<?, ?it/s]"
      ]
     },
     "metadata": {},
     "output_type": "display_data"
    },
    {
     "name": "stderr",
     "output_type": "stream",
     "text": [
      "06:01:00 - cmdstanpy - INFO - Chain [1] start processing\n",
      "06:01:00 - cmdstanpy - INFO - Chain [1] done processing\n",
      "06:01:00 - cmdstanpy - INFO - Chain [1] start processing\n",
      "06:01:01 - cmdstanpy - INFO - Chain [1] done processing\n",
      "06:01:01 - cmdstanpy - INFO - Chain [1] start processing\n",
      "06:01:01 - cmdstanpy - INFO - Chain [1] done processing\n",
      "06:01:01 - cmdstanpy - INFO - Chain [1] start processing\n",
      "06:01:01 - cmdstanpy - INFO - Chain [1] done processing\n",
      "06:01:02 - cmdstanpy - INFO - Chain [1] start processing\n",
      "06:01:02 - cmdstanpy - INFO - Chain [1] done processing\n",
      "06:01:02 - cmdstanpy - INFO - Chain [1] start processing\n",
      "06:01:02 - cmdstanpy - INFO - Chain [1] done processing\n",
      "06:01:03 - cmdstanpy - INFO - Chain [1] start processing\n",
      "06:01:03 - cmdstanpy - INFO - Chain [1] done processing\n"
     ]
    },
    {
     "data": {
      "application/vnd.jupyter.widget-view+json": {
       "model_id": "f8c79939e3e140c98cb4704475d7a5ce",
       "version_major": 2,
       "version_minor": 0
      },
      "text/plain": [
       "  0%|          | 0/6 [00:00<?, ?it/s]"
      ]
     },
     "metadata": {},
     "output_type": "display_data"
    },
    {
     "name": "stderr",
     "output_type": "stream",
     "text": [
      "06:01:03 - cmdstanpy - INFO - Chain [1] start processing\n",
      "06:01:03 - cmdstanpy - INFO - Chain [1] done processing\n",
      "06:01:03 - cmdstanpy - INFO - Chain [1] start processing\n",
      "06:01:03 - cmdstanpy - INFO - Chain [1] done processing\n",
      "06:01:04 - cmdstanpy - INFO - Chain [1] start processing\n",
      "06:01:04 - cmdstanpy - INFO - Chain [1] done processing\n",
      "06:01:04 - cmdstanpy - INFO - Chain [1] start processing\n",
      "06:01:04 - cmdstanpy - INFO - Chain [1] done processing\n",
      "06:01:04 - cmdstanpy - INFO - Chain [1] start processing\n",
      "06:01:05 - cmdstanpy - INFO - Chain [1] done processing\n",
      "06:01:05 - cmdstanpy - INFO - Chain [1] start processing\n",
      "06:01:05 - cmdstanpy - INFO - Chain [1] done processing\n",
      "06:01:05 - cmdstanpy - INFO - Chain [1] start processing\n",
      "06:01:05 - cmdstanpy - INFO - Chain [1] done processing\n"
     ]
    },
    {
     "data": {
      "application/vnd.jupyter.widget-view+json": {
       "model_id": "1737074d5bb24faa8f6d69cff15cdfb2",
       "version_major": 2,
       "version_minor": 0
      },
      "text/plain": [
       "  0%|          | 0/6 [00:00<?, ?it/s]"
      ]
     },
     "metadata": {},
     "output_type": "display_data"
    },
    {
     "name": "stderr",
     "output_type": "stream",
     "text": [
      "06:01:06 - cmdstanpy - INFO - Chain [1] start processing\n",
      "06:01:06 - cmdstanpy - INFO - Chain [1] done processing\n",
      "06:01:06 - cmdstanpy - INFO - Chain [1] start processing\n",
      "06:01:06 - cmdstanpy - INFO - Chain [1] done processing\n",
      "06:01:06 - cmdstanpy - INFO - Chain [1] start processing\n",
      "06:01:06 - cmdstanpy - INFO - Chain [1] done processing\n",
      "06:01:07 - cmdstanpy - INFO - Chain [1] start processing\n",
      "06:01:07 - cmdstanpy - INFO - Chain [1] done processing\n",
      "06:01:07 - cmdstanpy - INFO - Chain [1] start processing\n",
      "06:01:07 - cmdstanpy - INFO - Chain [1] done processing\n",
      "06:01:08 - cmdstanpy - INFO - Chain [1] start processing\n",
      "06:01:08 - cmdstanpy - INFO - Chain [1] done processing\n",
      "06:01:08 - cmdstanpy - INFO - Chain [1] start processing\n",
      "06:01:08 - cmdstanpy - INFO - Chain [1] done processing\n"
     ]
    },
    {
     "data": {
      "application/vnd.jupyter.widget-view+json": {
       "model_id": "0122f78a195e46929e1729af5110e309",
       "version_major": 2,
       "version_minor": 0
      },
      "text/plain": [
       "  0%|          | 0/6 [00:00<?, ?it/s]"
      ]
     },
     "metadata": {},
     "output_type": "display_data"
    },
    {
     "name": "stderr",
     "output_type": "stream",
     "text": [
      "06:01:08 - cmdstanpy - INFO - Chain [1] start processing\n",
      "06:01:08 - cmdstanpy - INFO - Chain [1] done processing\n",
      "06:01:09 - cmdstanpy - INFO - Chain [1] start processing\n",
      "06:01:09 - cmdstanpy - INFO - Chain [1] done processing\n",
      "06:01:09 - cmdstanpy - INFO - Chain [1] start processing\n",
      "06:01:09 - cmdstanpy - INFO - Chain [1] done processing\n",
      "06:01:10 - cmdstanpy - INFO - Chain [1] start processing\n",
      "06:01:10 - cmdstanpy - INFO - Chain [1] done processing\n",
      "06:01:10 - cmdstanpy - INFO - Chain [1] start processing\n",
      "06:01:10 - cmdstanpy - INFO - Chain [1] done processing\n",
      "06:01:11 - cmdstanpy - INFO - Chain [1] start processing\n",
      "06:01:11 - cmdstanpy - INFO - Chain [1] done processing\n",
      "06:01:11 - cmdstanpy - INFO - Chain [1] start processing\n",
      "06:01:11 - cmdstanpy - INFO - Chain [1] done processing\n"
     ]
    },
    {
     "data": {
      "application/vnd.jupyter.widget-view+json": {
       "model_id": "046f1f365950449eb2a6e857b22522ae",
       "version_major": 2,
       "version_minor": 0
      },
      "text/plain": [
       "  0%|          | 0/6 [00:00<?, ?it/s]"
      ]
     },
     "metadata": {},
     "output_type": "display_data"
    },
    {
     "name": "stderr",
     "output_type": "stream",
     "text": [
      "06:01:11 - cmdstanpy - INFO - Chain [1] start processing\n",
      "06:01:11 - cmdstanpy - INFO - Chain [1] done processing\n",
      "06:01:12 - cmdstanpy - INFO - Chain [1] start processing\n",
      "06:01:12 - cmdstanpy - INFO - Chain [1] done processing\n",
      "06:01:12 - cmdstanpy - INFO - Chain [1] start processing\n",
      "06:01:12 - cmdstanpy - INFO - Chain [1] done processing\n",
      "06:01:13 - cmdstanpy - INFO - Chain [1] start processing\n",
      "06:01:13 - cmdstanpy - INFO - Chain [1] done processing\n",
      "06:01:13 - cmdstanpy - INFO - Chain [1] start processing\n",
      "06:01:13 - cmdstanpy - INFO - Chain [1] done processing\n",
      "06:01:13 - cmdstanpy - INFO - Chain [1] start processing\n",
      "06:01:13 - cmdstanpy - INFO - Chain [1] done processing\n",
      "06:01:14 - cmdstanpy - INFO - Chain [1] start processing\n",
      "06:01:14 - cmdstanpy - INFO - Chain [1] done processing\n"
     ]
    },
    {
     "data": {
      "application/vnd.jupyter.widget-view+json": {
       "model_id": "50e08381f6b54bc2b11d7a62bf493280",
       "version_major": 2,
       "version_minor": 0
      },
      "text/plain": [
       "  0%|          | 0/6 [00:00<?, ?it/s]"
      ]
     },
     "metadata": {},
     "output_type": "display_data"
    },
    {
     "name": "stderr",
     "output_type": "stream",
     "text": [
      "06:01:14 - cmdstanpy - INFO - Chain [1] start processing\n",
      "06:01:14 - cmdstanpy - INFO - Chain [1] done processing\n",
      "06:01:15 - cmdstanpy - INFO - Chain [1] start processing\n",
      "06:01:15 - cmdstanpy - INFO - Chain [1] done processing\n",
      "06:01:15 - cmdstanpy - INFO - Chain [1] start processing\n",
      "06:01:15 - cmdstanpy - INFO - Chain [1] done processing\n",
      "06:01:15 - cmdstanpy - INFO - Chain [1] start processing\n",
      "06:01:15 - cmdstanpy - INFO - Chain [1] done processing\n",
      "06:01:16 - cmdstanpy - INFO - Chain [1] start processing\n",
      "06:01:16 - cmdstanpy - INFO - Chain [1] done processing\n",
      "06:01:16 - cmdstanpy - INFO - Chain [1] start processing\n",
      "06:01:16 - cmdstanpy - INFO - Chain [1] done processing\n",
      "06:01:17 - cmdstanpy - INFO - Chain [1] start processing\n",
      "06:01:17 - cmdstanpy - INFO - Chain [1] done processing\n"
     ]
    },
    {
     "data": {
      "application/vnd.jupyter.widget-view+json": {
       "model_id": "ca45bd1f8053493fb87420a301fe1757",
       "version_major": 2,
       "version_minor": 0
      },
      "text/plain": [
       "  0%|          | 0/6 [00:00<?, ?it/s]"
      ]
     },
     "metadata": {},
     "output_type": "display_data"
    },
    {
     "name": "stderr",
     "output_type": "stream",
     "text": [
      "06:01:17 - cmdstanpy - INFO - Chain [1] start processing\n",
      "06:01:17 - cmdstanpy - INFO - Chain [1] done processing\n",
      "06:01:17 - cmdstanpy - INFO - Chain [1] start processing\n",
      "06:01:17 - cmdstanpy - INFO - Chain [1] done processing\n",
      "06:01:18 - cmdstanpy - INFO - Chain [1] start processing\n",
      "06:01:18 - cmdstanpy - INFO - Chain [1] done processing\n",
      "06:01:18 - cmdstanpy - INFO - Chain [1] start processing\n",
      "06:01:18 - cmdstanpy - INFO - Chain [1] done processing\n",
      "06:01:19 - cmdstanpy - INFO - Chain [1] start processing\n",
      "06:01:19 - cmdstanpy - INFO - Chain [1] done processing\n",
      "06:01:19 - cmdstanpy - INFO - Chain [1] start processing\n",
      "06:01:19 - cmdstanpy - INFO - Chain [1] done processing\n",
      "06:01:19 - cmdstanpy - INFO - Chain [1] start processing\n",
      "06:01:20 - cmdstanpy - INFO - Chain [1] done processing\n"
     ]
    },
    {
     "data": {
      "application/vnd.jupyter.widget-view+json": {
       "model_id": "1b42c899b7b14a6f8bcb9bc81279e927",
       "version_major": 2,
       "version_minor": 0
      },
      "text/plain": [
       "  0%|          | 0/6 [00:00<?, ?it/s]"
      ]
     },
     "metadata": {},
     "output_type": "display_data"
    },
    {
     "name": "stderr",
     "output_type": "stream",
     "text": [
      "06:01:20 - cmdstanpy - INFO - Chain [1] start processing\n",
      "06:01:20 - cmdstanpy - INFO - Chain [1] done processing\n",
      "06:01:20 - cmdstanpy - INFO - Chain [1] start processing\n",
      "06:01:20 - cmdstanpy - INFO - Chain [1] done processing\n",
      "06:01:21 - cmdstanpy - INFO - Chain [1] start processing\n",
      "06:01:21 - cmdstanpy - INFO - Chain [1] done processing\n",
      "06:01:21 - cmdstanpy - INFO - Chain [1] start processing\n",
      "06:01:21 - cmdstanpy - INFO - Chain [1] done processing\n",
      "06:01:21 - cmdstanpy - INFO - Chain [1] start processing\n",
      "06:01:22 - cmdstanpy - INFO - Chain [1] done processing\n",
      "06:01:22 - cmdstanpy - INFO - Chain [1] start processing\n",
      "06:01:22 - cmdstanpy - INFO - Chain [1] done processing\n",
      "06:01:23 - cmdstanpy - INFO - Chain [1] start processing\n",
      "06:01:23 - cmdstanpy - INFO - Chain [1] done processing\n"
     ]
    },
    {
     "data": {
      "application/vnd.jupyter.widget-view+json": {
       "model_id": "8457274cc8e345b0a6a94ea22db9e555",
       "version_major": 2,
       "version_minor": 0
      },
      "text/plain": [
       "  0%|          | 0/6 [00:00<?, ?it/s]"
      ]
     },
     "metadata": {},
     "output_type": "display_data"
    },
    {
     "name": "stderr",
     "output_type": "stream",
     "text": [
      "06:01:23 - cmdstanpy - INFO - Chain [1] start processing\n",
      "06:01:23 - cmdstanpy - INFO - Chain [1] done processing\n",
      "06:01:23 - cmdstanpy - INFO - Chain [1] start processing\n",
      "06:01:23 - cmdstanpy - INFO - Chain [1] done processing\n",
      "06:01:23 - cmdstanpy - INFO - Chain [1] start processing\n",
      "06:01:23 - cmdstanpy - INFO - Chain [1] done processing\n",
      "06:01:24 - cmdstanpy - INFO - Chain [1] start processing\n",
      "06:01:24 - cmdstanpy - INFO - Chain [1] done processing\n",
      "06:01:25 - cmdstanpy - INFO - Chain [1] start processing\n",
      "06:01:25 - cmdstanpy - INFO - Chain [1] done processing\n",
      "06:01:25 - cmdstanpy - INFO - Chain [1] start processing\n",
      "06:01:25 - cmdstanpy - INFO - Chain [1] done processing\n",
      "06:01:25 - cmdstanpy - INFO - Chain [1] start processing\n",
      "06:01:25 - cmdstanpy - INFO - Chain [1] done processing\n"
     ]
    },
    {
     "data": {
      "application/vnd.jupyter.widget-view+json": {
       "model_id": "5b95131d984a42698779f2c49e7d298a",
       "version_major": 2,
       "version_minor": 0
      },
      "text/plain": [
       "  0%|          | 0/6 [00:00<?, ?it/s]"
      ]
     },
     "metadata": {},
     "output_type": "display_data"
    },
    {
     "name": "stderr",
     "output_type": "stream",
     "text": [
      "06:01:26 - cmdstanpy - INFO - Chain [1] start processing\n",
      "06:01:26 - cmdstanpy - INFO - Chain [1] done processing\n",
      "06:01:26 - cmdstanpy - INFO - Chain [1] start processing\n",
      "06:01:26 - cmdstanpy - INFO - Chain [1] done processing\n",
      "06:01:26 - cmdstanpy - INFO - Chain [1] start processing\n",
      "06:01:27 - cmdstanpy - INFO - Chain [1] done processing\n",
      "06:01:27 - cmdstanpy - INFO - Chain [1] start processing\n",
      "06:01:27 - cmdstanpy - INFO - Chain [1] done processing\n",
      "06:01:27 - cmdstanpy - INFO - Chain [1] start processing\n",
      "06:01:27 - cmdstanpy - INFO - Chain [1] done processing\n",
      "06:01:28 - cmdstanpy - INFO - Chain [1] start processing\n",
      "06:01:28 - cmdstanpy - INFO - Chain [1] done processing\n",
      "06:01:28 - cmdstanpy - INFO - Chain [1] start processing\n",
      "06:01:28 - cmdstanpy - INFO - Chain [1] done processing\n"
     ]
    },
    {
     "data": {
      "application/vnd.jupyter.widget-view+json": {
       "model_id": "6e51023ca166451aa4023e6da7cd8d6e",
       "version_major": 2,
       "version_minor": 0
      },
      "text/plain": [
       "  0%|          | 0/6 [00:00<?, ?it/s]"
      ]
     },
     "metadata": {},
     "output_type": "display_data"
    },
    {
     "name": "stderr",
     "output_type": "stream",
     "text": [
      "06:01:28 - cmdstanpy - INFO - Chain [1] start processing\n",
      "06:01:29 - cmdstanpy - INFO - Chain [1] done processing\n",
      "06:01:29 - cmdstanpy - INFO - Chain [1] start processing\n",
      "06:01:29 - cmdstanpy - INFO - Chain [1] done processing\n",
      "06:01:29 - cmdstanpy - INFO - Chain [1] start processing\n",
      "06:01:29 - cmdstanpy - INFO - Chain [1] done processing\n",
      "06:01:30 - cmdstanpy - INFO - Chain [1] start processing\n",
      "06:01:30 - cmdstanpy - INFO - Chain [1] done processing\n",
      "06:01:30 - cmdstanpy - INFO - Chain [1] start processing\n",
      "06:01:30 - cmdstanpy - INFO - Chain [1] done processing\n",
      "06:01:30 - cmdstanpy - INFO - Chain [1] start processing\n",
      "06:01:31 - cmdstanpy - INFO - Chain [1] done processing\n",
      "06:01:31 - cmdstanpy - INFO - Chain [1] start processing\n",
      "06:01:31 - cmdstanpy - INFO - Chain [1] done processing\n"
     ]
    },
    {
     "data": {
      "application/vnd.jupyter.widget-view+json": {
       "model_id": "58f16242f666451381eed50e0b952cd6",
       "version_major": 2,
       "version_minor": 0
      },
      "text/plain": [
       "  0%|          | 0/6 [00:00<?, ?it/s]"
      ]
     },
     "metadata": {},
     "output_type": "display_data"
    },
    {
     "name": "stderr",
     "output_type": "stream",
     "text": [
      "06:01:31 - cmdstanpy - INFO - Chain [1] start processing\n",
      "06:01:31 - cmdstanpy - INFO - Chain [1] done processing\n",
      "06:01:32 - cmdstanpy - INFO - Chain [1] start processing\n",
      "06:01:32 - cmdstanpy - INFO - Chain [1] done processing\n",
      "06:01:32 - cmdstanpy - INFO - Chain [1] start processing\n",
      "06:01:32 - cmdstanpy - INFO - Chain [1] done processing\n",
      "06:01:33 - cmdstanpy - INFO - Chain [1] start processing\n",
      "06:01:33 - cmdstanpy - INFO - Chain [1] done processing\n",
      "06:01:33 - cmdstanpy - INFO - Chain [1] start processing\n",
      "06:01:33 - cmdstanpy - INFO - Chain [1] done processing\n",
      "06:01:33 - cmdstanpy - INFO - Chain [1] start processing\n",
      "06:01:33 - cmdstanpy - INFO - Chain [1] done processing\n",
      "06:01:34 - cmdstanpy - INFO - Chain [1] start processing\n",
      "06:01:34 - cmdstanpy - INFO - Chain [1] done processing\n"
     ]
    },
    {
     "data": {
      "application/vnd.jupyter.widget-view+json": {
       "model_id": "d3f4e23d7064440f83ef035eedb14acf",
       "version_major": 2,
       "version_minor": 0
      },
      "text/plain": [
       "  0%|          | 0/6 [00:00<?, ?it/s]"
      ]
     },
     "metadata": {},
     "output_type": "display_data"
    },
    {
     "name": "stderr",
     "output_type": "stream",
     "text": [
      "06:01:34 - cmdstanpy - INFO - Chain [1] start processing\n",
      "06:01:34 - cmdstanpy - INFO - Chain [1] done processing\n",
      "06:01:35 - cmdstanpy - INFO - Chain [1] start processing\n",
      "06:01:35 - cmdstanpy - INFO - Chain [1] done processing\n",
      "06:01:35 - cmdstanpy - INFO - Chain [1] start processing\n",
      "06:01:35 - cmdstanpy - INFO - Chain [1] done processing\n",
      "06:01:35 - cmdstanpy - INFO - Chain [1] start processing\n",
      "06:01:35 - cmdstanpy - INFO - Chain [1] done processing\n",
      "06:01:36 - cmdstanpy - INFO - Chain [1] start processing\n",
      "06:01:36 - cmdstanpy - INFO - Chain [1] done processing\n",
      "06:01:36 - cmdstanpy - INFO - Chain [1] start processing\n",
      "06:01:36 - cmdstanpy - INFO - Chain [1] done processing\n",
      "06:01:37 - cmdstanpy - INFO - Chain [1] start processing\n",
      "06:01:37 - cmdstanpy - INFO - Chain [1] done processing\n"
     ]
    },
    {
     "data": {
      "application/vnd.jupyter.widget-view+json": {
       "model_id": "40809f4793274367b8c5b0246a77dbdb",
       "version_major": 2,
       "version_minor": 0
      },
      "text/plain": [
       "  0%|          | 0/6 [00:00<?, ?it/s]"
      ]
     },
     "metadata": {},
     "output_type": "display_data"
    },
    {
     "name": "stderr",
     "output_type": "stream",
     "text": [
      "06:01:37 - cmdstanpy - INFO - Chain [1] start processing\n",
      "06:01:37 - cmdstanpy - INFO - Chain [1] done processing\n",
      "06:01:37 - cmdstanpy - INFO - Chain [1] start processing\n",
      "06:01:37 - cmdstanpy - INFO - Chain [1] done processing\n",
      "06:01:38 - cmdstanpy - INFO - Chain [1] start processing\n",
      "06:01:38 - cmdstanpy - INFO - Chain [1] done processing\n",
      "06:01:38 - cmdstanpy - INFO - Chain [1] start processing\n",
      "06:01:38 - cmdstanpy - INFO - Chain [1] done processing\n",
      "06:01:39 - cmdstanpy - INFO - Chain [1] start processing\n",
      "06:01:39 - cmdstanpy - INFO - Chain [1] done processing\n",
      "06:01:39 - cmdstanpy - INFO - Chain [1] start processing\n",
      "06:01:39 - cmdstanpy - INFO - Chain [1] done processing\n",
      "06:01:40 - cmdstanpy - INFO - Chain [1] start processing\n",
      "06:01:40 - cmdstanpy - INFO - Chain [1] done processing\n"
     ]
    },
    {
     "data": {
      "application/vnd.jupyter.widget-view+json": {
       "model_id": "aea54851471d44cc89bcafb13aa3eae5",
       "version_major": 2,
       "version_minor": 0
      },
      "text/plain": [
       "  0%|          | 0/6 [00:00<?, ?it/s]"
      ]
     },
     "metadata": {},
     "output_type": "display_data"
    },
    {
     "name": "stderr",
     "output_type": "stream",
     "text": [
      "06:01:40 - cmdstanpy - INFO - Chain [1] start processing\n",
      "06:01:40 - cmdstanpy - INFO - Chain [1] done processing\n",
      "06:01:40 - cmdstanpy - INFO - Chain [1] start processing\n",
      "06:01:40 - cmdstanpy - INFO - Chain [1] done processing\n",
      "06:01:41 - cmdstanpy - INFO - Chain [1] start processing\n",
      "06:01:41 - cmdstanpy - INFO - Chain [1] done processing\n",
      "06:01:41 - cmdstanpy - INFO - Chain [1] start processing\n",
      "06:01:41 - cmdstanpy - INFO - Chain [1] done processing\n",
      "06:01:41 - cmdstanpy - INFO - Chain [1] start processing\n",
      "06:01:42 - cmdstanpy - INFO - Chain [1] done processing\n",
      "06:01:42 - cmdstanpy - INFO - Chain [1] start processing\n",
      "06:01:42 - cmdstanpy - INFO - Chain [1] done processing\n",
      "06:01:43 - cmdstanpy - INFO - Chain [1] start processing\n",
      "06:01:43 - cmdstanpy - INFO - Chain [1] done processing\n"
     ]
    },
    {
     "name": "stdout",
     "output_type": "stream",
     "text": [
      "Best parameters for model : \n",
      "{'changepoint_prior_scale': 0.01, 'seasonality_prior_scale': 10.0, 'holidays_prior_scale': 0.1}\n",
      "            ds          yhat          y\n",
      "0   2004-08-01  5.906981e+05   511060.0\n",
      "1   2004-08-02  5.455891e+05   532033.0\n",
      "2   2004-08-03  5.333755e+05   659895.0\n",
      "3   2004-08-04  5.073781e+05   631430.0\n",
      "4   2004-08-05  5.887469e+05   635209.0\n",
      "..         ...           ...        ...\n",
      "357 2005-07-27  1.085095e+06  1744320.0\n",
      "358 2005-07-28  1.293511e+06  1927240.0\n",
      "359 2005-07-29  1.479781e+06  2265910.0\n",
      "360 2005-07-30  1.864091e+06  3594400.0\n",
      "361 2005-07-31  1.844553e+06  1557270.0\n",
      "\n",
      "[362 rows x 3 columns]\n"
     ]
    },
    {
     "name": "stderr",
     "output_type": "stream",
     "text": [
      "/tmp/ipykernel_586722/1618493330.py:94: SettingWithCopyWarning: \n",
      "A value is trying to be set on a copy of a slice from a DataFrame.\n",
      "Try using .loc[row_indexer,col_indexer] = value instead\n",
      "\n",
      "See the caveats in the documentation: https://pandas.pydata.org/pandas-docs/stable/user_guide/indexing.html#returning-a-view-versus-a-copy\n",
      "  df_result['y'] = df_state[df_state['ds']<='2005-07-31']['y'].tolist()\n"
     ]
    },
    {
     "data": {
      "image/png": "[encoded data removed]",
      "text/plain": [
       "<Figure size 1080x360 with 1 Axes>"
      ]
     },
     "metadata": {
      "needs_background": "light"
     },
     "output_type": "display_data"
    },
    {
     "name": "stderr",
     "output_type": "stream",
     "text": [
      "/tmp/ipykernel_586722/1618493330.py:118: FutureWarning: The frame.append method is deprecated and will be removed from pandas in a future version. Use pandas.concat instead.\n",
      "  df_metrics = df_metrics.append(df_metrics_results,ignore_index = True)\n"
     ]
    }
   ],
   "source": [
    "model1,result1 = model_construction1(df_total1)"
   ]
  },
  {
   "cell_type": "code",
   "execution_count": 65,
   "id": "55870c45",
   "metadata": {},
   "outputs": [
    {
     "data": {
      "text/html": [
       "<div>\n",
       "<style scoped>\n",
       "    .dataframe tbody tr th:only-of-type {\n",
       "        vertical-align: middle;\n",
       "    }\n",
       "\n",
       "    .dataframe tbody tr th {\n",
       "        vertical-align: top;\n",
       "    }\n",
       "\n",
       "    .dataframe thead th {\n",
       "        text-align: right;\n",
       "    }\n",
       "</style>\n",
       "<table border=\"1\" class=\"dataframe\">\n",
       "  <thead>\n",
       "    <tr style=\"text-align: right;\">\n",
       "      <th></th>\n",
       "      <th>explained_variance</th>\n",
       "      <th>MAE</th>\n",
       "      <th>R^2</th>\n",
       "      <th>MSE</th>\n",
       "      <th>RMSE</th>\n",
       "    </tr>\n",
       "  </thead>\n",
       "  <tbody>\n",
       "    <tr>\n",
       "      <th>0</th>\n",
       "      <td>0.6063</td>\n",
       "      <td>233300.5078</td>\n",
       "      <td>0.4694</td>\n",
       "      <td>1.265175e+11</td>\n",
       "      <td>355692.931</td>\n",
       "    </tr>\n",
       "  </tbody>\n",
       "</table>\n",
       "</div>"
      ],
      "text/plain": [
       "   explained_variance          MAE     R^2           MSE        RMSE\n",
       "0              0.6063  233300.5078  0.4694  1.265175e+11  355692.931"
      ]
     },
     "execution_count": 65,
     "metadata": {},
     "output_type": "execute_result"
    }
   ],
   "source": [
    "result1"
   ]
  },
  {
   "cell_type": "markdown",
   "id": "4c0f2fa5",
   "metadata": {},
   "source": [
    "#### Negative Profit With Macro"
   ]
  },
  {
   "cell_type": "code",
   "execution_count": 66,
   "id": "ac71f777",
   "metadata": {
    "tags": []
   },
   "outputs": [
    {
     "name": "stderr",
     "output_type": "stream",
     "text": [
      "06:01:43 - cmdstanpy - INFO - Chain [1] start processing\n",
      "06:01:43 - cmdstanpy - INFO - Chain [1] done processing\n"
     ]
    },
    {
     "data": {
      "application/vnd.jupyter.widget-view+json": {
       "model_id": "e188ce9a04774021a2d7745037ebdfb8",
       "version_major": 2,
       "version_minor": 0
      },
      "text/plain": [
       "  0%|          | 0/6 [00:00<?, ?it/s]"
      ]
     },
     "metadata": {},
     "output_type": "display_data"
    },
    {
     "name": "stderr",
     "output_type": "stream",
     "text": [
      "06:01:43 - cmdstanpy - INFO - Chain [1] start processing\n",
      "06:01:43 - cmdstanpy - INFO - Chain [1] done processing\n",
      "06:01:43 - cmdstanpy - ERROR - Chain [1] error: error during processing Communication error on send\n",
      "Optimization terminated abnormally. Falling back to Newton.\n",
      "06:01:43 - cmdstanpy - INFO - Chain [1] start processing\n",
      "06:01:44 - cmdstanpy - INFO - Chain [1] done processing\n",
      "06:01:44 - cmdstanpy - INFO - Chain [1] start processing\n",
      "06:01:44 - cmdstanpy - INFO - Chain [1] done processing\n",
      "06:01:45 - cmdstanpy - INFO - Chain [1] start processing\n",
      "06:01:45 - cmdstanpy - INFO - Chain [1] done processing\n",
      "06:01:45 - cmdstanpy - INFO - Chain [1] start processing\n",
      "06:01:45 - cmdstanpy - INFO - Chain [1] done processing\n",
      "06:01:45 - cmdstanpy - ERROR - Chain [1] error: error during processing Communication error on send\n",
      "Optimization terminated abnormally. Falling back to Newton.\n",
      "06:01:45 - cmdstanpy - INFO - Chain [1] start processing\n",
      "06:01:46 - cmdstanpy - INFO - Chain [1] done processing\n",
      "06:01:46 - cmdstanpy - INFO - Chain [1] start processing\n",
      "06:01:46 - cmdstanpy - INFO - Chain [1] done processing\n",
      "06:01:46 - cmdstanpy - INFO - Chain [1] start processing\n",
      "06:01:46 - cmdstanpy - INFO - Chain [1] done processing\n",
      "06:01:47 - cmdstanpy - INFO - Chain [1] start processing\n",
      "06:01:47 - cmdstanpy - INFO - Chain [1] done processing\n"
     ]
    },
    {
     "data": {
      "application/vnd.jupyter.widget-view+json": {
       "model_id": "5e101d68cf6f428fae962d56707c7e71",
       "version_major": 2,
       "version_minor": 0
      },
      "text/plain": [
       "  0%|          | 0/6 [00:00<?, ?it/s]"
      ]
     },
     "metadata": {},
     "output_type": "display_data"
    },
    {
     "name": "stderr",
     "output_type": "stream",
     "text": [
      "06:01:47 - cmdstanpy - INFO - Chain [1] start processing\n",
      "06:01:47 - cmdstanpy - INFO - Chain [1] done processing\n",
      "06:01:47 - cmdstanpy - ERROR - Chain [1] error: error during processing Communication error on send\n",
      "Optimization terminated abnormally. Falling back to Newton.\n",
      "06:01:47 - cmdstanpy - INFO - Chain [1] start processing\n",
      "06:01:48 - cmdstanpy - INFO - Chain [1] done processing\n",
      "06:01:48 - cmdstanpy - INFO - Chain [1] start processing\n",
      "06:01:48 - cmdstanpy - INFO - Chain [1] done processing\n",
      "06:01:48 - cmdstanpy - INFO - Chain [1] start processing\n",
      "06:01:48 - cmdstanpy - INFO - Chain [1] done processing\n",
      "06:01:49 - cmdstanpy - INFO - Chain [1] start processing\n",
      "06:01:49 - cmdstanpy - INFO - Chain [1] done processing\n",
      "06:01:49 - cmdstanpy - ERROR - Chain [1] error: error during processing Communication error on send\n",
      "Optimization terminated abnormally. Falling back to Newton.\n",
      "06:01:49 - cmdstanpy - INFO - Chain [1] start processing\n",
      "06:01:50 - cmdstanpy - INFO - Chain [1] done processing\n",
      "06:01:50 - cmdstanpy - INFO - Chain [1] start processing\n",
      "06:01:50 - cmdstanpy - INFO - Chain [1] done processing\n",
      "06:01:51 - cmdstanpy - INFO - Chain [1] start processing\n",
      "06:01:51 - cmdstanpy - INFO - Chain [1] done processing\n",
      "06:01:51 - cmdstanpy - INFO - Chain [1] start processing\n",
      "06:01:51 - cmdstanpy - INFO - Chain [1] done processing\n"
     ]
    },
    {
     "data": {
      "application/vnd.jupyter.widget-view+json": {
       "model_id": "12d863bc961b41c18fce753c6c7f55c9",
       "version_major": 2,
       "version_minor": 0
      },
      "text/plain": [
       "  0%|          | 0/6 [00:00<?, ?it/s]"
      ]
     },
     "metadata": {},
     "output_type": "display_data"
    },
    {
     "name": "stderr",
     "output_type": "stream",
     "text": [
      "06:01:51 - cmdstanpy - INFO - Chain [1] start processing\n",
      "06:01:51 - cmdstanpy - INFO - Chain [1] done processing\n",
      "06:01:51 - cmdstanpy - ERROR - Chain [1] error: error during processing Communication error on send\n",
      "Optimization terminated abnormally. Falling back to Newton.\n",
      "06:01:51 - cmdstanpy - INFO - Chain [1] start processing\n",
      "06:01:52 - cmdstanpy - INFO - Chain [1] done processing\n",
      "06:01:52 - cmdstanpy - INFO - Chain [1] start processing\n",
      "06:01:52 - cmdstanpy - INFO - Chain [1] done processing\n",
      "06:01:52 - cmdstanpy - INFO - Chain [1] start processing\n",
      "06:01:52 - cmdstanpy - INFO - Chain [1] done processing\n",
      "06:01:53 - cmdstanpy - INFO - Chain [1] start processing\n",
      "06:01:53 - cmdstanpy - INFO - Chain [1] done processing\n",
      "06:01:53 - cmdstanpy - ERROR - Chain [1] error: error during processing Communication error on send\n",
      "Optimization terminated abnormally. Falling back to Newton.\n",
      "06:01:53 - cmdstanpy - INFO - Chain [1] start processing\n",
      "06:01:54 - cmdstanpy - INFO - Chain [1] done processing\n",
      "06:01:54 - cmdstanpy - INFO - Chain [1] start processing\n",
      "06:01:54 - cmdstanpy - INFO - Chain [1] done processing\n",
      "06:01:54 - cmdstanpy - INFO - Chain [1] start processing\n",
      "06:01:54 - cmdstanpy - INFO - Chain [1] done processing\n",
      "06:01:55 - cmdstanpy - INFO - Chain [1] start processing\n",
      "06:01:55 - cmdstanpy - INFO - Chain [1] done processing\n"
     ]
    },
    {
     "data": {
      "application/vnd.jupyter.widget-view+json": {
       "model_id": "4264d407623c4ab79f0800b28d4dae02",
       "version_major": 2,
       "version_minor": 0
      },
      "text/plain": [
       "  0%|          | 0/6 [00:00<?, ?it/s]"
      ]
     },
     "metadata": {},
     "output_type": "display_data"
    },
    {
     "name": "stderr",
     "output_type": "stream",
     "text": [
      "06:01:55 - cmdstanpy - INFO - Chain [1] start processing\n",
      "06:01:55 - cmdstanpy - INFO - Chain [1] done processing\n",
      "06:01:55 - cmdstanpy - ERROR - Chain [1] error: error during processing Communication error on send\n",
      "Optimization terminated abnormally. Falling back to Newton.\n",
      "06:01:55 - cmdstanpy - INFO - Chain [1] start processing\n",
      "06:01:56 - cmdstanpy - INFO - Chain [1] done processing\n",
      "06:01:56 - cmdstanpy - INFO - Chain [1] start processing\n",
      "06:01:56 - cmdstanpy - INFO - Chain [1] done processing\n",
      "06:01:56 - cmdstanpy - INFO - Chain [1] start processing\n",
      "06:01:56 - cmdstanpy - INFO - Chain [1] done processing\n",
      "06:01:57 - cmdstanpy - INFO - Chain [1] start processing\n",
      "06:01:57 - cmdstanpy - INFO - Chain [1] done processing\n",
      "06:01:57 - cmdstanpy - ERROR - Chain [1] error: error during processing Communication error on send\n",
      "Optimization terminated abnormally. Falling back to Newton.\n",
      "06:01:57 - cmdstanpy - INFO - Chain [1] start processing\n",
      "06:01:58 - cmdstanpy - INFO - Chain [1] done processing\n",
      "06:01:58 - cmdstanpy - INFO - Chain [1] start processing\n",
      "06:01:58 - cmdstanpy - INFO - Chain [1] done processing\n",
      "06:01:58 - cmdstanpy - INFO - Chain [1] start processing\n",
      "06:01:58 - cmdstanpy - INFO - Chain [1] done processing\n",
      "06:01:59 - cmdstanpy - INFO - Chain [1] start processing\n",
      "06:01:59 - cmdstanpy - INFO - Chain [1] done processing\n"
     ]
    },
    {
     "data": {
      "application/vnd.jupyter.widget-view+json": {
       "model_id": "f8b44048e56d4bff89c0b47b30dcd76e",
       "version_major": 2,
       "version_minor": 0
      },
      "text/plain": [
       "  0%|          | 0/6 [00:00<?, ?it/s]"
      ]
     },
     "metadata": {},
     "output_type": "display_data"
    },
    {
     "name": "stderr",
     "output_type": "stream",
     "text": [
      "06:01:59 - cmdstanpy - INFO - Chain [1] start processing\n",
      "06:01:59 - cmdstanpy - INFO - Chain [1] done processing\n",
      "06:01:59 - cmdstanpy - ERROR - Chain [1] error: error during processing Communication error on send\n",
      "Optimization terminated abnormally. Falling back to Newton.\n",
      "06:01:59 - cmdstanpy - INFO - Chain [1] start processing\n",
      "06:01:59 - cmdstanpy - INFO - Chain [1] done processing\n",
      "06:02:00 - cmdstanpy - INFO - Chain [1] start processing\n",
      "06:02:00 - cmdstanpy - INFO - Chain [1] done processing\n",
      "06:02:00 - cmdstanpy - INFO - Chain [1] start processing\n",
      "06:02:00 - cmdstanpy - INFO - Chain [1] done processing\n",
      "06:02:01 - cmdstanpy - INFO - Chain [1] start processing\n",
      "06:02:01 - cmdstanpy - INFO - Chain [1] done processing\n",
      "06:02:01 - cmdstanpy - ERROR - Chain [1] error: error during processing Communication error on send\n",
      "Optimization terminated abnormally. Falling back to Newton.\n",
      "06:02:01 - cmdstanpy - INFO - Chain [1] start processing\n",
      "06:02:01 - cmdstanpy - INFO - Chain [1] done processing\n",
      "06:02:02 - cmdstanpy - INFO - Chain [1] start processing\n",
      "06:02:02 - cmdstanpy - INFO - Chain [1] done processing\n",
      "06:02:02 - cmdstanpy - INFO - Chain [1] start processing\n",
      "06:02:02 - cmdstanpy - INFO - Chain [1] done processing\n",
      "06:02:02 - cmdstanpy - INFO - Chain [1] start processing\n",
      "06:02:02 - cmdstanpy - INFO - Chain [1] done processing\n"
     ]
    },
    {
     "data": {
      "application/vnd.jupyter.widget-view+json": {
       "model_id": "7b8d99c4d8c146228adc8f896faa0fed",
       "version_major": 2,
       "version_minor": 0
      },
      "text/plain": [
       "  0%|          | 0/6 [00:00<?, ?it/s]"
      ]
     },
     "metadata": {},
     "output_type": "display_data"
    },
    {
     "name": "stderr",
     "output_type": "stream",
     "text": [
      "06:02:03 - cmdstanpy - INFO - Chain [1] start processing\n",
      "06:02:03 - cmdstanpy - INFO - Chain [1] done processing\n",
      "06:02:03 - cmdstanpy - ERROR - Chain [1] error: error during processing Communication error on send\n",
      "Optimization terminated abnormally. Falling back to Newton.\n",
      "06:02:03 - cmdstanpy - INFO - Chain [1] start processing\n",
      "06:02:03 - cmdstanpy - INFO - Chain [1] done processing\n",
      "06:02:03 - cmdstanpy - INFO - Chain [1] start processing\n",
      "06:02:03 - cmdstanpy - INFO - Chain [1] done processing\n",
      "06:02:04 - cmdstanpy - INFO - Chain [1] start processing\n",
      "06:02:04 - cmdstanpy - INFO - Chain [1] done processing\n",
      "06:02:04 - cmdstanpy - INFO - Chain [1] start processing\n",
      "06:02:04 - cmdstanpy - INFO - Chain [1] done processing\n",
      "06:02:04 - cmdstanpy - ERROR - Chain [1] error: error during processing Communication error on send\n",
      "Optimization terminated abnormally. Falling back to Newton.\n",
      "06:02:04 - cmdstanpy - INFO - Chain [1] start processing\n",
      "06:02:06 - cmdstanpy - INFO - Chain [1] done processing\n",
      "06:02:06 - cmdstanpy - INFO - Chain [1] start processing\n",
      "06:02:06 - cmdstanpy - INFO - Chain [1] done processing\n",
      "06:02:07 - cmdstanpy - INFO - Chain [1] start processing\n",
      "06:02:07 - cmdstanpy - INFO - Chain [1] done processing\n",
      "06:02:07 - cmdstanpy - INFO - Chain [1] start processing\n",
      "06:02:07 - cmdstanpy - INFO - Chain [1] done processing\n"
     ]
    },
    {
     "data": {
      "application/vnd.jupyter.widget-view+json": {
       "model_id": "a66e8dca3b1b461eb029a965df327a4f",
       "version_major": 2,
       "version_minor": 0
      },
      "text/plain": [
       "  0%|          | 0/6 [00:00<?, ?it/s]"
      ]
     },
     "metadata": {},
     "output_type": "display_data"
    },
    {
     "name": "stderr",
     "output_type": "stream",
     "text": [
      "06:02:07 - cmdstanpy - INFO - Chain [1] start processing\n",
      "06:02:07 - cmdstanpy - INFO - Chain [1] done processing\n",
      "06:02:07 - cmdstanpy - ERROR - Chain [1] error: error during processing Communication error on send\n",
      "Optimization terminated abnormally. Falling back to Newton.\n",
      "06:02:07 - cmdstanpy - INFO - Chain [1] start processing\n",
      "06:02:08 - cmdstanpy - INFO - Chain [1] done processing\n",
      "06:02:08 - cmdstanpy - INFO - Chain [1] start processing\n",
      "06:02:08 - cmdstanpy - INFO - Chain [1] done processing\n",
      "06:02:09 - cmdstanpy - INFO - Chain [1] start processing\n",
      "06:02:09 - cmdstanpy - INFO - Chain [1] done processing\n",
      "06:02:09 - cmdstanpy - INFO - Chain [1] start processing\n",
      "06:02:09 - cmdstanpy - INFO - Chain [1] done processing\n",
      "06:02:09 - cmdstanpy - ERROR - Chain [1] error: error during processing Communication error on send\n",
      "Optimization terminated abnormally. Falling back to Newton.\n",
      "06:02:09 - cmdstanpy - INFO - Chain [1] start processing\n",
      "06:02:09 - cmdstanpy - INFO - Chain [1] done processing\n",
      "06:02:10 - cmdstanpy - INFO - Chain [1] start processing\n",
      "06:02:10 - cmdstanpy - INFO - Chain [1] done processing\n",
      "06:02:10 - cmdstanpy - INFO - Chain [1] start processing\n",
      "06:02:10 - cmdstanpy - INFO - Chain [1] done processing\n",
      "06:02:11 - cmdstanpy - INFO - Chain [1] start processing\n",
      "06:02:11 - cmdstanpy - INFO - Chain [1] done processing\n"
     ]
    },
    {
     "data": {
      "application/vnd.jupyter.widget-view+json": {
       "model_id": "299fefc4bfdb4d1f9b1ea52b6ab004e9",
       "version_major": 2,
       "version_minor": 0
      },
      "text/plain": [
       "  0%|          | 0/6 [00:00<?, ?it/s]"
      ]
     },
     "metadata": {},
     "output_type": "display_data"
    },
    {
     "name": "stderr",
     "output_type": "stream",
     "text": [
      "06:02:11 - cmdstanpy - INFO - Chain [1] start processing\n",
      "06:02:11 - cmdstanpy - INFO - Chain [1] done processing\n",
      "06:02:11 - cmdstanpy - ERROR - Chain [1] error: error during processing Communication error on send\n",
      "Optimization terminated abnormally. Falling back to Newton.\n",
      "06:02:11 - cmdstanpy - INFO - Chain [1] start processing\n",
      "06:02:11 - cmdstanpy - INFO - Chain [1] done processing\n",
      "06:02:12 - cmdstanpy - INFO - Chain [1] start processing\n",
      "06:02:12 - cmdstanpy - INFO - Chain [1] done processing\n",
      "06:02:12 - cmdstanpy - INFO - Chain [1] start processing\n",
      "06:02:12 - cmdstanpy - INFO - Chain [1] done processing\n",
      "06:02:13 - cmdstanpy - INFO - Chain [1] start processing\n",
      "06:02:13 - cmdstanpy - INFO - Chain [1] done processing\n",
      "06:02:13 - cmdstanpy - ERROR - Chain [1] error: error during processing Communication error on send\n",
      "Optimization terminated abnormally. Falling back to Newton.\n",
      "06:02:13 - cmdstanpy - INFO - Chain [1] start processing\n",
      "06:02:13 - cmdstanpy - INFO - Chain [1] done processing\n",
      "06:02:13 - cmdstanpy - INFO - Chain [1] start processing\n",
      "06:02:14 - cmdstanpy - INFO - Chain [1] done processing\n",
      "06:02:14 - cmdstanpy - INFO - Chain [1] start processing\n",
      "06:02:14 - cmdstanpy - INFO - Chain [1] done processing\n",
      "06:02:14 - cmdstanpy - INFO - Chain [1] start processing\n",
      "06:02:14 - cmdstanpy - INFO - Chain [1] done processing\n"
     ]
    },
    {
     "data": {
      "application/vnd.jupyter.widget-view+json": {
       "model_id": "acd662d016a34db891b910e7345985c3",
       "version_major": 2,
       "version_minor": 0
      },
      "text/plain": [
       "  0%|          | 0/6 [00:00<?, ?it/s]"
      ]
     },
     "metadata": {},
     "output_type": "display_data"
    },
    {
     "name": "stderr",
     "output_type": "stream",
     "text": [
      "06:02:14 - cmdstanpy - INFO - Chain [1] start processing\n",
      "06:02:14 - cmdstanpy - INFO - Chain [1] done processing\n",
      "06:02:14 - cmdstanpy - ERROR - Chain [1] error: error during processing Communication error on send\n",
      "Optimization terminated abnormally. Falling back to Newton.\n",
      "06:02:14 - cmdstanpy - INFO - Chain [1] start processing\n",
      "06:02:15 - cmdstanpy - INFO - Chain [1] done processing\n",
      "06:02:15 - cmdstanpy - INFO - Chain [1] start processing\n",
      "06:02:16 - cmdstanpy - INFO - Chain [1] done processing\n",
      "06:02:16 - cmdstanpy - INFO - Chain [1] start processing\n",
      "06:02:16 - cmdstanpy - INFO - Chain [1] done processing\n",
      "06:02:16 - cmdstanpy - INFO - Chain [1] start processing\n",
      "06:02:16 - cmdstanpy - INFO - Chain [1] done processing\n",
      "06:02:16 - cmdstanpy - ERROR - Chain [1] error: error during processing Communication error on send\n",
      "Optimization terminated abnormally. Falling back to Newton.\n",
      "06:02:16 - cmdstanpy - INFO - Chain [1] start processing\n",
      "06:02:17 - cmdstanpy - INFO - Chain [1] done processing\n",
      "06:02:17 - cmdstanpy - INFO - Chain [1] start processing\n",
      "06:02:17 - cmdstanpy - INFO - Chain [1] done processing\n",
      "06:02:18 - cmdstanpy - INFO - Chain [1] start processing\n",
      "06:02:18 - cmdstanpy - INFO - Chain [1] done processing\n",
      "06:02:18 - cmdstanpy - INFO - Chain [1] start processing\n",
      "06:02:18 - cmdstanpy - INFO - Chain [1] done processing\n"
     ]
    },
    {
     "data": {
      "application/vnd.jupyter.widget-view+json": {
       "model_id": "764d8848940946c89b0be1a74f2cc386",
       "version_major": 2,
       "version_minor": 0
      },
      "text/plain": [
       "  0%|          | 0/6 [00:00<?, ?it/s]"
      ]
     },
     "metadata": {},
     "output_type": "display_data"
    },
    {
     "name": "stderr",
     "output_type": "stream",
     "text": [
      "06:02:18 - cmdstanpy - INFO - Chain [1] start processing\n",
      "06:02:18 - cmdstanpy - INFO - Chain [1] done processing\n",
      "06:02:18 - cmdstanpy - ERROR - Chain [1] error: error during processing Communication error on send\n",
      "Optimization terminated abnormally. Falling back to Newton.\n",
      "06:02:18 - cmdstanpy - INFO - Chain [1] start processing\n",
      "06:02:19 - cmdstanpy - INFO - Chain [1] done processing\n",
      "06:02:19 - cmdstanpy - INFO - Chain [1] start processing\n",
      "06:02:19 - cmdstanpy - INFO - Chain [1] done processing\n",
      "06:02:20 - cmdstanpy - INFO - Chain [1] start processing\n",
      "06:02:20 - cmdstanpy - INFO - Chain [1] done processing\n",
      "06:02:20 - cmdstanpy - INFO - Chain [1] start processing\n",
      "06:02:20 - cmdstanpy - INFO - Chain [1] done processing\n",
      "06:02:20 - cmdstanpy - ERROR - Chain [1] error: error during processing Communication error on send\n",
      "Optimization terminated abnormally. Falling back to Newton.\n",
      "06:02:20 - cmdstanpy - INFO - Chain [1] start processing\n",
      "06:02:21 - cmdstanpy - INFO - Chain [1] done processing\n",
      "06:02:21 - cmdstanpy - INFO - Chain [1] start processing\n",
      "06:02:21 - cmdstanpy - INFO - Chain [1] done processing\n",
      "06:02:22 - cmdstanpy - INFO - Chain [1] start processing\n",
      "06:02:22 - cmdstanpy - INFO - Chain [1] done processing\n",
      "06:02:22 - cmdstanpy - INFO - Chain [1] start processing\n",
      "06:02:22 - cmdstanpy - INFO - Chain [1] done processing\n"
     ]
    },
    {
     "data": {
      "application/vnd.jupyter.widget-view+json": {
       "model_id": "abd7b5f4f81048f687e0b9481dca7844",
       "version_major": 2,
       "version_minor": 0
      },
      "text/plain": [
       "  0%|          | 0/6 [00:00<?, ?it/s]"
      ]
     },
     "metadata": {},
     "output_type": "display_data"
    },
    {
     "name": "stderr",
     "output_type": "stream",
     "text": [
      "06:02:22 - cmdstanpy - INFO - Chain [1] start processing\n",
      "06:02:22 - cmdstanpy - INFO - Chain [1] done processing\n",
      "06:02:22 - cmdstanpy - ERROR - Chain [1] error: error during processing Communication error on send\n",
      "Optimization terminated abnormally. Falling back to Newton.\n",
      "06:02:22 - cmdstanpy - INFO - Chain [1] start processing\n",
      "06:02:23 - cmdstanpy - INFO - Chain [1] done processing\n",
      "06:02:23 - cmdstanpy - INFO - Chain [1] start processing\n",
      "06:02:23 - cmdstanpy - INFO - Chain [1] done processing\n",
      "06:02:23 - cmdstanpy - INFO - Chain [1] start processing\n",
      "06:02:23 - cmdstanpy - INFO - Chain [1] done processing\n",
      "06:02:24 - cmdstanpy - INFO - Chain [1] start processing\n",
      "06:02:24 - cmdstanpy - INFO - Chain [1] done processing\n",
      "06:02:24 - cmdstanpy - ERROR - Chain [1] error: error during processing Communication error on send\n",
      "Optimization terminated abnormally. Falling back to Newton.\n",
      "06:02:24 - cmdstanpy - INFO - Chain [1] start processing\n",
      "06:02:24 - cmdstanpy - INFO - Chain [1] done processing\n",
      "06:02:25 - cmdstanpy - INFO - Chain [1] start processing\n",
      "06:02:25 - cmdstanpy - INFO - Chain [1] done processing\n",
      "06:02:25 - cmdstanpy - INFO - Chain [1] start processing\n",
      "06:02:25 - cmdstanpy - INFO - Chain [1] done processing\n",
      "06:02:26 - cmdstanpy - INFO - Chain [1] start processing\n",
      "06:02:26 - cmdstanpy - INFO - Chain [1] done processing\n"
     ]
    },
    {
     "data": {
      "application/vnd.jupyter.widget-view+json": {
       "model_id": "e77252adcc3247399544449dc9de8388",
       "version_major": 2,
       "version_minor": 0
      },
      "text/plain": [
       "  0%|          | 0/6 [00:00<?, ?it/s]"
      ]
     },
     "metadata": {},
     "output_type": "display_data"
    },
    {
     "name": "stderr",
     "output_type": "stream",
     "text": [
      "06:02:26 - cmdstanpy - INFO - Chain [1] start processing\n",
      "06:02:26 - cmdstanpy - INFO - Chain [1] done processing\n",
      "06:02:26 - cmdstanpy - ERROR - Chain [1] error: error during processing Communication error on send\n",
      "Optimization terminated abnormally. Falling back to Newton.\n",
      "06:02:26 - cmdstanpy - INFO - Chain [1] start processing\n",
      "06:02:26 - cmdstanpy - INFO - Chain [1] done processing\n",
      "06:02:27 - cmdstanpy - INFO - Chain [1] start processing\n",
      "06:02:27 - cmdstanpy - INFO - Chain [1] done processing\n",
      "06:02:27 - cmdstanpy - INFO - Chain [1] start processing\n",
      "06:02:27 - cmdstanpy - INFO - Chain [1] done processing\n",
      "06:02:28 - cmdstanpy - INFO - Chain [1] start processing\n",
      "06:02:28 - cmdstanpy - INFO - Chain [1] done processing\n",
      "06:02:28 - cmdstanpy - ERROR - Chain [1] error: error during processing Communication error on send\n",
      "Optimization terminated abnormally. Falling back to Newton.\n",
      "06:02:28 - cmdstanpy - INFO - Chain [1] start processing\n",
      "06:02:28 - cmdstanpy - INFO - Chain [1] done processing\n",
      "06:02:29 - cmdstanpy - INFO - Chain [1] start processing\n",
      "06:02:29 - cmdstanpy - INFO - Chain [1] done processing\n",
      "06:02:29 - cmdstanpy - INFO - Chain [1] start processing\n",
      "06:02:29 - cmdstanpy - INFO - Chain [1] done processing\n",
      "06:02:29 - cmdstanpy - INFO - Chain [1] start processing\n",
      "06:02:29 - cmdstanpy - INFO - Chain [1] done processing\n"
     ]
    },
    {
     "data": {
      "application/vnd.jupyter.widget-view+json": {
       "model_id": "c6f75db185b84864be64f031dc61bbd2",
       "version_major": 2,
       "version_minor": 0
      },
      "text/plain": [
       "  0%|          | 0/6 [00:00<?, ?it/s]"
      ]
     },
     "metadata": {},
     "output_type": "display_data"
    },
    {
     "name": "stderr",
     "output_type": "stream",
     "text": [
      "06:02:29 - cmdstanpy - INFO - Chain [1] start processing\n",
      "06:02:30 - cmdstanpy - INFO - Chain [1] done processing\n",
      "06:02:30 - cmdstanpy - ERROR - Chain [1] error: error during processing Communication error on send\n",
      "Optimization terminated abnormally. Falling back to Newton.\n",
      "06:02:30 - cmdstanpy - INFO - Chain [1] start processing\n",
      "06:02:30 - cmdstanpy - INFO - Chain [1] done processing\n",
      "06:02:31 - cmdstanpy - INFO - Chain [1] start processing\n",
      "06:02:31 - cmdstanpy - INFO - Chain [1] done processing\n",
      "06:02:31 - cmdstanpy - INFO - Chain [1] start processing\n",
      "06:02:31 - cmdstanpy - INFO - Chain [1] done processing\n",
      "06:02:31 - cmdstanpy - INFO - Chain [1] start processing\n",
      "06:02:31 - cmdstanpy - INFO - Chain [1] done processing\n",
      "06:02:31 - cmdstanpy - ERROR - Chain [1] error: error during processing Communication error on send\n",
      "Optimization terminated abnormally. Falling back to Newton.\n",
      "06:02:31 - cmdstanpy - INFO - Chain [1] start processing\n",
      "06:02:32 - cmdstanpy - INFO - Chain [1] done processing\n",
      "06:02:32 - cmdstanpy - INFO - Chain [1] start processing\n",
      "06:02:32 - cmdstanpy - INFO - Chain [1] done processing\n",
      "06:02:33 - cmdstanpy - INFO - Chain [1] start processing\n",
      "06:02:33 - cmdstanpy - INFO - Chain [1] done processing\n",
      "06:02:33 - cmdstanpy - INFO - Chain [1] start processing\n",
      "06:02:33 - cmdstanpy - INFO - Chain [1] done processing\n"
     ]
    },
    {
     "data": {
      "application/vnd.jupyter.widget-view+json": {
       "model_id": "c319150cf1a74adc80396281ff65c348",
       "version_major": 2,
       "version_minor": 0
      },
      "text/plain": [
       "  0%|          | 0/6 [00:00<?, ?it/s]"
      ]
     },
     "metadata": {},
     "output_type": "display_data"
    },
    {
     "name": "stderr",
     "output_type": "stream",
     "text": [
      "06:02:33 - cmdstanpy - INFO - Chain [1] start processing\n",
      "06:02:33 - cmdstanpy - INFO - Chain [1] done processing\n",
      "06:02:33 - cmdstanpy - ERROR - Chain [1] error: error during processing Communication error on send\n",
      "Optimization terminated abnormally. Falling back to Newton.\n",
      "06:02:33 - cmdstanpy - INFO - Chain [1] start processing\n",
      "06:02:34 - cmdstanpy - INFO - Chain [1] done processing\n",
      "06:02:34 - cmdstanpy - INFO - Chain [1] start processing\n",
      "06:02:34 - cmdstanpy - INFO - Chain [1] done processing\n",
      "06:02:35 - cmdstanpy - INFO - Chain [1] start processing\n",
      "06:02:35 - cmdstanpy - INFO - Chain [1] done processing\n",
      "06:02:35 - cmdstanpy - INFO - Chain [1] start processing\n",
      "06:02:35 - cmdstanpy - INFO - Chain [1] done processing\n",
      "06:02:35 - cmdstanpy - ERROR - Chain [1] error: error during processing Communication error on send\n",
      "Optimization terminated abnormally. Falling back to Newton.\n",
      "06:02:35 - cmdstanpy - INFO - Chain [1] start processing\n",
      "06:02:36 - cmdstanpy - INFO - Chain [1] done processing\n",
      "06:02:36 - cmdstanpy - INFO - Chain [1] start processing\n",
      "06:02:36 - cmdstanpy - INFO - Chain [1] done processing\n",
      "06:02:37 - cmdstanpy - INFO - Chain [1] start processing\n",
      "06:02:37 - cmdstanpy - INFO - Chain [1] done processing\n",
      "06:02:37 - cmdstanpy - INFO - Chain [1] start processing\n",
      "06:02:37 - cmdstanpy - INFO - Chain [1] done processing\n"
     ]
    },
    {
     "data": {
      "application/vnd.jupyter.widget-view+json": {
       "model_id": "1d536f4e9cfb4d24b27d8d98ed356ed6",
       "version_major": 2,
       "version_minor": 0
      },
      "text/plain": [
       "  0%|          | 0/6 [00:00<?, ?it/s]"
      ]
     },
     "metadata": {},
     "output_type": "display_data"
    },
    {
     "name": "stderr",
     "output_type": "stream",
     "text": [
      "06:02:37 - cmdstanpy - INFO - Chain [1] start processing\n",
      "06:02:37 - cmdstanpy - INFO - Chain [1] done processing\n",
      "06:02:37 - cmdstanpy - ERROR - Chain [1] error: error during processing Communication error on send\n",
      "Optimization terminated abnormally. Falling back to Newton.\n",
      "06:02:37 - cmdstanpy - INFO - Chain [1] start processing\n",
      "06:02:38 - cmdstanpy - INFO - Chain [1] done processing\n",
      "06:02:38 - cmdstanpy - INFO - Chain [1] start processing\n",
      "06:02:38 - cmdstanpy - INFO - Chain [1] done processing\n",
      "06:02:39 - cmdstanpy - INFO - Chain [1] start processing\n",
      "06:02:39 - cmdstanpy - INFO - Chain [1] done processing\n",
      "06:02:39 - cmdstanpy - INFO - Chain [1] start processing\n",
      "06:02:39 - cmdstanpy - INFO - Chain [1] done processing\n",
      "06:02:39 - cmdstanpy - ERROR - Chain [1] error: error during processing Communication error on send\n",
      "Optimization terminated abnormally. Falling back to Newton.\n",
      "06:02:39 - cmdstanpy - INFO - Chain [1] start processing\n",
      "06:02:40 - cmdstanpy - INFO - Chain [1] done processing\n",
      "06:02:40 - cmdstanpy - INFO - Chain [1] start processing\n",
      "06:02:40 - cmdstanpy - INFO - Chain [1] done processing\n",
      "06:02:40 - cmdstanpy - INFO - Chain [1] start processing\n",
      "06:02:40 - cmdstanpy - INFO - Chain [1] done processing\n",
      "06:02:41 - cmdstanpy - INFO - Chain [1] start processing\n",
      "06:02:41 - cmdstanpy - INFO - Chain [1] done processing\n"
     ]
    },
    {
     "data": {
      "application/vnd.jupyter.widget-view+json": {
       "model_id": "262c1ed67ba24e7bad121940b545b8bf",
       "version_major": 2,
       "version_minor": 0
      },
      "text/plain": [
       "  0%|          | 0/6 [00:00<?, ?it/s]"
      ]
     },
     "metadata": {},
     "output_type": "display_data"
    },
    {
     "name": "stderr",
     "output_type": "stream",
     "text": [
      "06:02:41 - cmdstanpy - INFO - Chain [1] start processing\n",
      "06:02:41 - cmdstanpy - INFO - Chain [1] done processing\n",
      "06:02:41 - cmdstanpy - ERROR - Chain [1] error: error during processing Communication error on send\n",
      "Optimization terminated abnormally. Falling back to Newton.\n",
      "06:02:41 - cmdstanpy - INFO - Chain [1] start processing\n",
      "06:02:42 - cmdstanpy - INFO - Chain [1] done processing\n",
      "06:02:42 - cmdstanpy - INFO - Chain [1] start processing\n",
      "06:02:42 - cmdstanpy - INFO - Chain [1] done processing\n",
      "06:02:42 - cmdstanpy - INFO - Chain [1] start processing\n",
      "06:02:42 - cmdstanpy - INFO - Chain [1] done processing\n",
      "06:02:43 - cmdstanpy - INFO - Chain [1] start processing\n",
      "06:02:43 - cmdstanpy - INFO - Chain [1] done processing\n",
      "06:02:43 - cmdstanpy - ERROR - Chain [1] error: error during processing Communication error on send\n",
      "Optimization terminated abnormally. Falling back to Newton.\n",
      "06:02:43 - cmdstanpy - INFO - Chain [1] start processing\n",
      "06:02:43 - cmdstanpy - INFO - Chain [1] done processing\n",
      "06:02:44 - cmdstanpy - INFO - Chain [1] start processing\n",
      "06:02:44 - cmdstanpy - INFO - Chain [1] done processing\n",
      "06:02:44 - cmdstanpy - INFO - Chain [1] start processing\n",
      "06:02:44 - cmdstanpy - INFO - Chain [1] done processing\n",
      "06:02:45 - cmdstanpy - INFO - Chain [1] start processing\n",
      "06:02:45 - cmdstanpy - INFO - Chain [1] done processing\n"
     ]
    },
    {
     "data": {
      "application/vnd.jupyter.widget-view+json": {
       "model_id": "e75eb4978ebb4aab9260ded394cd9f19",
       "version_major": 2,
       "version_minor": 0
      },
      "text/plain": [
       "  0%|          | 0/6 [00:00<?, ?it/s]"
      ]
     },
     "metadata": {},
     "output_type": "display_data"
    },
    {
     "name": "stderr",
     "output_type": "stream",
     "text": [
      "06:02:45 - cmdstanpy - INFO - Chain [1] start processing\n",
      "06:02:45 - cmdstanpy - INFO - Chain [1] done processing\n",
      "06:02:45 - cmdstanpy - INFO - Chain [1] start processing\n",
      "06:02:45 - cmdstanpy - INFO - Chain [1] done processing\n",
      "06:02:46 - cmdstanpy - INFO - Chain [1] start processing\n",
      "06:02:46 - cmdstanpy - INFO - Chain [1] done processing\n",
      "06:02:46 - cmdstanpy - INFO - Chain [1] start processing\n",
      "06:02:46 - cmdstanpy - INFO - Chain [1] done processing\n",
      "06:02:46 - cmdstanpy - INFO - Chain [1] start processing\n",
      "06:02:46 - cmdstanpy - INFO - Chain [1] done processing\n",
      "06:02:47 - cmdstanpy - INFO - Chain [1] start processing\n",
      "06:02:47 - cmdstanpy - INFO - Chain [1] done processing\n",
      "06:02:47 - cmdstanpy - INFO - Chain [1] start processing\n",
      "06:02:47 - cmdstanpy - INFO - Chain [1] done processing\n"
     ]
    },
    {
     "data": {
      "application/vnd.jupyter.widget-view+json": {
       "model_id": "e20a0eb2a4084b689f0f7d9674df8527",
       "version_major": 2,
       "version_minor": 0
      },
      "text/plain": [
       "  0%|          | 0/6 [00:00<?, ?it/s]"
      ]
     },
     "metadata": {},
     "output_type": "display_data"
    },
    {
     "name": "stderr",
     "output_type": "stream",
     "text": [
      "06:02:47 - cmdstanpy - INFO - Chain [1] start processing\n",
      "06:02:48 - cmdstanpy - INFO - Chain [1] done processing\n",
      "06:02:48 - cmdstanpy - INFO - Chain [1] start processing\n",
      "06:02:48 - cmdstanpy - INFO - Chain [1] done processing\n",
      "06:02:48 - cmdstanpy - INFO - Chain [1] start processing\n",
      "06:02:48 - cmdstanpy - INFO - Chain [1] done processing\n",
      "06:02:48 - cmdstanpy - INFO - Chain [1] start processing\n",
      "06:02:48 - cmdstanpy - INFO - Chain [1] done processing\n",
      "06:02:49 - cmdstanpy - INFO - Chain [1] start processing\n",
      "06:02:49 - cmdstanpy - INFO - Chain [1] done processing\n",
      "06:02:49 - cmdstanpy - INFO - Chain [1] start processing\n",
      "06:02:49 - cmdstanpy - INFO - Chain [1] done processing\n",
      "06:02:50 - cmdstanpy - INFO - Chain [1] start processing\n",
      "06:02:50 - cmdstanpy - INFO - Chain [1] done processing\n"
     ]
    },
    {
     "data": {
      "application/vnd.jupyter.widget-view+json": {
       "model_id": "be9f3f1c848849ebbcf083ed32a4020b",
       "version_major": 2,
       "version_minor": 0
      },
      "text/plain": [
       "  0%|          | 0/6 [00:00<?, ?it/s]"
      ]
     },
     "metadata": {},
     "output_type": "display_data"
    },
    {
     "name": "stderr",
     "output_type": "stream",
     "text": [
      "06:02:50 - cmdstanpy - INFO - Chain [1] start processing\n",
      "06:02:50 - cmdstanpy - INFO - Chain [1] done processing\n",
      "06:02:50 - cmdstanpy - INFO - Chain [1] start processing\n",
      "06:02:50 - cmdstanpy - INFO - Chain [1] done processing\n",
      "06:02:51 - cmdstanpy - INFO - Chain [1] start processing\n",
      "06:02:51 - cmdstanpy - INFO - Chain [1] done processing\n",
      "06:02:51 - cmdstanpy - INFO - Chain [1] start processing\n",
      "06:02:51 - cmdstanpy - INFO - Chain [1] done processing\n",
      "06:02:52 - cmdstanpy - INFO - Chain [1] start processing\n",
      "06:02:52 - cmdstanpy - INFO - Chain [1] done processing\n",
      "06:02:52 - cmdstanpy - INFO - Chain [1] start processing\n",
      "06:02:52 - cmdstanpy - INFO - Chain [1] done processing\n",
      "06:02:53 - cmdstanpy - INFO - Chain [1] start processing\n",
      "06:02:53 - cmdstanpy - INFO - Chain [1] done processing\n"
     ]
    },
    {
     "data": {
      "application/vnd.jupyter.widget-view+json": {
       "model_id": "b08b214cde2444d9ae4a4ef39433c906",
       "version_major": 2,
       "version_minor": 0
      },
      "text/plain": [
       "  0%|          | 0/6 [00:00<?, ?it/s]"
      ]
     },
     "metadata": {},
     "output_type": "display_data"
    },
    {
     "name": "stderr",
     "output_type": "stream",
     "text": [
      "06:02:53 - cmdstanpy - INFO - Chain [1] start processing\n",
      "06:02:53 - cmdstanpy - INFO - Chain [1] done processing\n",
      "06:02:53 - cmdstanpy - INFO - Chain [1] start processing\n",
      "06:02:53 - cmdstanpy - INFO - Chain [1] done processing\n",
      "06:02:53 - cmdstanpy - INFO - Chain [1] start processing\n",
      "06:02:53 - cmdstanpy - INFO - Chain [1] done processing\n",
      "06:02:54 - cmdstanpy - INFO - Chain [1] start processing\n",
      "06:02:54 - cmdstanpy - INFO - Chain [1] done processing\n",
      "06:02:54 - cmdstanpy - INFO - Chain [1] start processing\n",
      "06:02:54 - cmdstanpy - INFO - Chain [1] done processing\n",
      "06:02:55 - cmdstanpy - INFO - Chain [1] start processing\n",
      "06:02:55 - cmdstanpy - INFO - Chain [1] done processing\n",
      "06:02:55 - cmdstanpy - INFO - Chain [1] start processing\n",
      "06:02:55 - cmdstanpy - INFO - Chain [1] done processing\n"
     ]
    },
    {
     "data": {
      "application/vnd.jupyter.widget-view+json": {
       "model_id": "531bdcfe209e4123bba1c3816d5bb625",
       "version_major": 2,
       "version_minor": 0
      },
      "text/plain": [
       "  0%|          | 0/6 [00:00<?, ?it/s]"
      ]
     },
     "metadata": {},
     "output_type": "display_data"
    },
    {
     "name": "stderr",
     "output_type": "stream",
     "text": [
      "06:02:55 - cmdstanpy - INFO - Chain [1] start processing\n",
      "06:02:55 - cmdstanpy - INFO - Chain [1] done processing\n",
      "06:02:56 - cmdstanpy - INFO - Chain [1] start processing\n",
      "06:02:56 - cmdstanpy - INFO - Chain [1] done processing\n",
      "06:02:56 - cmdstanpy - INFO - Chain [1] start processing\n",
      "06:02:56 - cmdstanpy - INFO - Chain [1] done processing\n",
      "06:02:57 - cmdstanpy - INFO - Chain [1] start processing\n",
      "06:02:57 - cmdstanpy - INFO - Chain [1] done processing\n",
      "06:02:57 - cmdstanpy - INFO - Chain [1] start processing\n",
      "06:02:57 - cmdstanpy - INFO - Chain [1] done processing\n",
      "06:02:57 - cmdstanpy - INFO - Chain [1] start processing\n",
      "06:02:57 - cmdstanpy - INFO - Chain [1] done processing\n",
      "06:02:58 - cmdstanpy - INFO - Chain [1] start processing\n",
      "06:02:58 - cmdstanpy - INFO - Chain [1] done processing\n"
     ]
    },
    {
     "data": {
      "application/vnd.jupyter.widget-view+json": {
       "model_id": "e6a63411c41142d7af74c52ab3c32f34",
       "version_major": 2,
       "version_minor": 0
      },
      "text/plain": [
       "  0%|          | 0/6 [00:00<?, ?it/s]"
      ]
     },
     "metadata": {},
     "output_type": "display_data"
    },
    {
     "name": "stderr",
     "output_type": "stream",
     "text": [
      "06:02:58 - cmdstanpy - INFO - Chain [1] start processing\n",
      "06:02:58 - cmdstanpy - INFO - Chain [1] done processing\n",
      "06:02:58 - cmdstanpy - INFO - Chain [1] start processing\n",
      "06:02:58 - cmdstanpy - INFO - Chain [1] done processing\n",
      "06:02:59 - cmdstanpy - INFO - Chain [1] start processing\n",
      "06:02:59 - cmdstanpy - INFO - Chain [1] done processing\n",
      "06:02:59 - cmdstanpy - INFO - Chain [1] start processing\n",
      "06:02:59 - cmdstanpy - INFO - Chain [1] done processing\n",
      "06:02:59 - cmdstanpy - INFO - Chain [1] start processing\n",
      "06:02:59 - cmdstanpy - INFO - Chain [1] done processing\n",
      "06:03:00 - cmdstanpy - INFO - Chain [1] start processing\n",
      "06:03:00 - cmdstanpy - INFO - Chain [1] done processing\n",
      "06:03:00 - cmdstanpy - INFO - Chain [1] start processing\n",
      "06:03:00 - cmdstanpy - INFO - Chain [1] done processing\n"
     ]
    },
    {
     "data": {
      "application/vnd.jupyter.widget-view+json": {
       "model_id": "5f1822b9c32c4e8bb0d26e0b44aeacfe",
       "version_major": 2,
       "version_minor": 0
      },
      "text/plain": [
       "  0%|          | 0/6 [00:00<?, ?it/s]"
      ]
     },
     "metadata": {},
     "output_type": "display_data"
    },
    {
     "name": "stderr",
     "output_type": "stream",
     "text": [
      "06:03:01 - cmdstanpy - INFO - Chain [1] start processing\n",
      "06:03:01 - cmdstanpy - INFO - Chain [1] done processing\n",
      "06:03:01 - cmdstanpy - INFO - Chain [1] start processing\n",
      "06:03:01 - cmdstanpy - INFO - Chain [1] done processing\n",
      "06:03:01 - cmdstanpy - INFO - Chain [1] start processing\n",
      "06:03:01 - cmdstanpy - INFO - Chain [1] done processing\n",
      "06:03:02 - cmdstanpy - INFO - Chain [1] start processing\n",
      "06:03:02 - cmdstanpy - INFO - Chain [1] done processing\n",
      "06:03:02 - cmdstanpy - INFO - Chain [1] start processing\n",
      "06:03:02 - cmdstanpy - INFO - Chain [1] done processing\n",
      "06:03:02 - cmdstanpy - INFO - Chain [1] start processing\n",
      "06:03:03 - cmdstanpy - INFO - Chain [1] done processing\n",
      "06:03:03 - cmdstanpy - INFO - Chain [1] start processing\n",
      "06:03:03 - cmdstanpy - INFO - Chain [1] done processing\n"
     ]
    },
    {
     "data": {
      "application/vnd.jupyter.widget-view+json": {
       "model_id": "4e25d9a32536403a847a7a7238afef42",
       "version_major": 2,
       "version_minor": 0
      },
      "text/plain": [
       "  0%|          | 0/6 [00:00<?, ?it/s]"
      ]
     },
     "metadata": {},
     "output_type": "display_data"
    },
    {
     "name": "stderr",
     "output_type": "stream",
     "text": [
      "06:03:03 - cmdstanpy - INFO - Chain [1] start processing\n",
      "06:03:03 - cmdstanpy - INFO - Chain [1] done processing\n",
      "06:03:04 - cmdstanpy - INFO - Chain [1] start processing\n",
      "06:03:04 - cmdstanpy - INFO - Chain [1] done processing\n",
      "06:03:04 - cmdstanpy - INFO - Chain [1] start processing\n",
      "06:03:04 - cmdstanpy - INFO - Chain [1] done processing\n",
      "06:03:04 - cmdstanpy - INFO - Chain [1] start processing\n",
      "06:03:04 - cmdstanpy - INFO - Chain [1] done processing\n",
      "06:03:05 - cmdstanpy - INFO - Chain [1] start processing\n",
      "06:03:05 - cmdstanpy - INFO - Chain [1] done processing\n",
      "06:03:05 - cmdstanpy - INFO - Chain [1] start processing\n",
      "06:03:05 - cmdstanpy - INFO - Chain [1] done processing\n",
      "06:03:06 - cmdstanpy - INFO - Chain [1] start processing\n",
      "06:03:06 - cmdstanpy - INFO - Chain [1] done processing\n"
     ]
    },
    {
     "data": {
      "application/vnd.jupyter.widget-view+json": {
       "model_id": "aaaa8b3f4edf4e589eae6c68856ff585",
       "version_major": 2,
       "version_minor": 0
      },
      "text/plain": [
       "  0%|          | 0/6 [00:00<?, ?it/s]"
      ]
     },
     "metadata": {},
     "output_type": "display_data"
    },
    {
     "name": "stderr",
     "output_type": "stream",
     "text": [
      "06:03:06 - cmdstanpy - INFO - Chain [1] start processing\n",
      "06:03:06 - cmdstanpy - INFO - Chain [1] done processing\n",
      "06:03:06 - cmdstanpy - INFO - Chain [1] start processing\n",
      "06:03:06 - cmdstanpy - INFO - Chain [1] done processing\n",
      "06:03:06 - cmdstanpy - INFO - Chain [1] start processing\n",
      "06:03:07 - cmdstanpy - INFO - Chain [1] done processing\n",
      "06:03:07 - cmdstanpy - INFO - Chain [1] start processing\n",
      "06:03:07 - cmdstanpy - INFO - Chain [1] done processing\n",
      "06:03:07 - cmdstanpy - INFO - Chain [1] start processing\n",
      "06:03:07 - cmdstanpy - INFO - Chain [1] done processing\n",
      "06:03:08 - cmdstanpy - INFO - Chain [1] start processing\n",
      "06:03:08 - cmdstanpy - INFO - Chain [1] done processing\n",
      "06:03:08 - cmdstanpy - INFO - Chain [1] start processing\n",
      "06:03:08 - cmdstanpy - INFO - Chain [1] done processing\n"
     ]
    },
    {
     "data": {
      "application/vnd.jupyter.widget-view+json": {
       "model_id": "de7c5833818e4e53a43f267829d7581f",
       "version_major": 2,
       "version_minor": 0
      },
      "text/plain": [
       "  0%|          | 0/6 [00:00<?, ?it/s]"
      ]
     },
     "metadata": {},
     "output_type": "display_data"
    },
    {
     "name": "stderr",
     "output_type": "stream",
     "text": [
      "06:03:08 - cmdstanpy - INFO - Chain [1] start processing\n",
      "06:03:08 - cmdstanpy - INFO - Chain [1] done processing\n",
      "06:03:09 - cmdstanpy - INFO - Chain [1] start processing\n",
      "06:03:09 - cmdstanpy - INFO - Chain [1] done processing\n",
      "06:03:09 - cmdstanpy - INFO - Chain [1] start processing\n",
      "06:03:09 - cmdstanpy - INFO - Chain [1] done processing\n",
      "06:03:10 - cmdstanpy - INFO - Chain [1] start processing\n",
      "06:03:10 - cmdstanpy - INFO - Chain [1] done processing\n",
      "06:03:10 - cmdstanpy - INFO - Chain [1] start processing\n",
      "06:03:10 - cmdstanpy - INFO - Chain [1] done processing\n",
      "06:03:10 - cmdstanpy - INFO - Chain [1] start processing\n",
      "06:03:10 - cmdstanpy - INFO - Chain [1] done processing\n",
      "06:03:11 - cmdstanpy - INFO - Chain [1] start processing\n",
      "06:03:11 - cmdstanpy - INFO - Chain [1] done processing\n"
     ]
    },
    {
     "data": {
      "application/vnd.jupyter.widget-view+json": {
       "model_id": "1e7d7d283ba34f29993668c122209074",
       "version_major": 2,
       "version_minor": 0
      },
      "text/plain": [
       "  0%|          | 0/6 [00:00<?, ?it/s]"
      ]
     },
     "metadata": {},
     "output_type": "display_data"
    },
    {
     "name": "stderr",
     "output_type": "stream",
     "text": [
      "06:03:11 - cmdstanpy - INFO - Chain [1] start processing\n",
      "06:03:11 - cmdstanpy - INFO - Chain [1] done processing\n",
      "06:03:11 - cmdstanpy - INFO - Chain [1] start processing\n",
      "06:03:11 - cmdstanpy - INFO - Chain [1] done processing\n",
      "06:03:12 - cmdstanpy - INFO - Chain [1] start processing\n",
      "06:03:12 - cmdstanpy - INFO - Chain [1] done processing\n",
      "06:03:12 - cmdstanpy - INFO - Chain [1] start processing\n",
      "06:03:12 - cmdstanpy - INFO - Chain [1] done processing\n",
      "06:03:13 - cmdstanpy - INFO - Chain [1] start processing\n",
      "06:03:13 - cmdstanpy - INFO - Chain [1] done processing\n",
      "06:03:13 - cmdstanpy - INFO - Chain [1] start processing\n",
      "06:03:13 - cmdstanpy - INFO - Chain [1] done processing\n",
      "06:03:13 - cmdstanpy - INFO - Chain [1] start processing\n",
      "06:03:13 - cmdstanpy - INFO - Chain [1] done processing\n"
     ]
    },
    {
     "data": {
      "application/vnd.jupyter.widget-view+json": {
       "model_id": "1451924bcd3847d1a879093f111f9c01",
       "version_major": 2,
       "version_minor": 0
      },
      "text/plain": [
       "  0%|          | 0/6 [00:00<?, ?it/s]"
      ]
     },
     "metadata": {},
     "output_type": "display_data"
    },
    {
     "name": "stderr",
     "output_type": "stream",
     "text": [
      "06:03:14 - cmdstanpy - INFO - Chain [1] start processing\n",
      "06:03:14 - cmdstanpy - INFO - Chain [1] done processing\n",
      "06:03:14 - cmdstanpy - INFO - Chain [1] start processing\n",
      "06:03:14 - cmdstanpy - INFO - Chain [1] done processing\n",
      "06:03:14 - cmdstanpy - INFO - Chain [1] start processing\n",
      "06:03:14 - cmdstanpy - INFO - Chain [1] done processing\n",
      "06:03:15 - cmdstanpy - INFO - Chain [1] start processing\n",
      "06:03:15 - cmdstanpy - INFO - Chain [1] done processing\n",
      "06:03:15 - cmdstanpy - INFO - Chain [1] start processing\n",
      "06:03:15 - cmdstanpy - INFO - Chain [1] done processing\n",
      "06:03:16 - cmdstanpy - INFO - Chain [1] start processing\n",
      "06:03:16 - cmdstanpy - INFO - Chain [1] done processing\n",
      "06:03:16 - cmdstanpy - INFO - Chain [1] start processing\n",
      "06:03:16 - cmdstanpy - INFO - Chain [1] done processing\n"
     ]
    },
    {
     "data": {
      "application/vnd.jupyter.widget-view+json": {
       "model_id": "1d90ab11b8144c1686637cd3b93d2788",
       "version_major": 2,
       "version_minor": 0
      },
      "text/plain": [
       "  0%|          | 0/6 [00:00<?, ?it/s]"
      ]
     },
     "metadata": {},
     "output_type": "display_data"
    },
    {
     "name": "stderr",
     "output_type": "stream",
     "text": [
      "06:03:16 - cmdstanpy - INFO - Chain [1] start processing\n",
      "06:03:16 - cmdstanpy - INFO - Chain [1] done processing\n",
      "06:03:17 - cmdstanpy - INFO - Chain [1] start processing\n",
      "06:03:17 - cmdstanpy - INFO - Chain [1] done processing\n",
      "06:03:17 - cmdstanpy - INFO - Chain [1] start processing\n",
      "06:03:17 - cmdstanpy - INFO - Chain [1] done processing\n",
      "06:03:17 - cmdstanpy - INFO - Chain [1] start processing\n",
      "06:03:17 - cmdstanpy - INFO - Chain [1] done processing\n",
      "06:03:18 - cmdstanpy - INFO - Chain [1] start processing\n",
      "06:03:18 - cmdstanpy - INFO - Chain [1] done processing\n",
      "06:03:18 - cmdstanpy - INFO - Chain [1] start processing\n",
      "06:03:18 - cmdstanpy - INFO - Chain [1] done processing\n",
      "06:03:19 - cmdstanpy - INFO - Chain [1] start processing\n",
      "06:03:19 - cmdstanpy - INFO - Chain [1] done processing\n"
     ]
    },
    {
     "data": {
      "application/vnd.jupyter.widget-view+json": {
       "model_id": "837954d18e0f4aacbbbf3da2761a6f5f",
       "version_major": 2,
       "version_minor": 0
      },
      "text/plain": [
       "  0%|          | 0/6 [00:00<?, ?it/s]"
      ]
     },
     "metadata": {},
     "output_type": "display_data"
    },
    {
     "name": "stderr",
     "output_type": "stream",
     "text": [
      "06:03:19 - cmdstanpy - INFO - Chain [1] start processing\n",
      "06:03:19 - cmdstanpy - INFO - Chain [1] done processing\n",
      "06:03:19 - cmdstanpy - INFO - Chain [1] start processing\n",
      "06:03:19 - cmdstanpy - INFO - Chain [1] done processing\n",
      "06:03:19 - cmdstanpy - INFO - Chain [1] start processing\n",
      "06:03:20 - cmdstanpy - INFO - Chain [1] done processing\n",
      "06:03:20 - cmdstanpy - INFO - Chain [1] start processing\n",
      "06:03:20 - cmdstanpy - INFO - Chain [1] done processing\n",
      "06:03:20 - cmdstanpy - INFO - Chain [1] start processing\n",
      "06:03:20 - cmdstanpy - INFO - Chain [1] done processing\n",
      "06:03:21 - cmdstanpy - INFO - Chain [1] start processing\n",
      "06:03:21 - cmdstanpy - INFO - Chain [1] done processing\n",
      "06:03:21 - cmdstanpy - INFO - Chain [1] start processing\n",
      "06:03:21 - cmdstanpy - INFO - Chain [1] done processing\n"
     ]
    },
    {
     "data": {
      "application/vnd.jupyter.widget-view+json": {
       "model_id": "b530844d6d88423b8834df6d2218aef3",
       "version_major": 2,
       "version_minor": 0
      },
      "text/plain": [
       "  0%|          | 0/6 [00:00<?, ?it/s]"
      ]
     },
     "metadata": {},
     "output_type": "display_data"
    },
    {
     "name": "stderr",
     "output_type": "stream",
     "text": [
      "06:03:21 - cmdstanpy - INFO - Chain [1] start processing\n",
      "06:03:21 - cmdstanpy - INFO - Chain [1] done processing\n",
      "06:03:22 - cmdstanpy - INFO - Chain [1] start processing\n",
      "06:03:22 - cmdstanpy - INFO - Chain [1] done processing\n",
      "06:03:22 - cmdstanpy - INFO - Chain [1] start processing\n",
      "06:03:22 - cmdstanpy - INFO - Chain [1] done processing\n",
      "06:03:23 - cmdstanpy - INFO - Chain [1] start processing\n",
      "06:03:23 - cmdstanpy - INFO - Chain [1] done processing\n",
      "06:03:23 - cmdstanpy - INFO - Chain [1] start processing\n",
      "06:03:23 - cmdstanpy - INFO - Chain [1] done processing\n",
      "06:03:24 - cmdstanpy - INFO - Chain [1] start processing\n",
      "06:03:24 - cmdstanpy - INFO - Chain [1] done processing\n",
      "06:03:24 - cmdstanpy - INFO - Chain [1] start processing\n",
      "06:03:24 - cmdstanpy - INFO - Chain [1] done processing\n"
     ]
    },
    {
     "data": {
      "application/vnd.jupyter.widget-view+json": {
       "model_id": "4b85ba6f6c234e58ae2ebc4dbb708c54",
       "version_major": 2,
       "version_minor": 0
      },
      "text/plain": [
       "  0%|          | 0/6 [00:00<?, ?it/s]"
      ]
     },
     "metadata": {},
     "output_type": "display_data"
    },
    {
     "name": "stderr",
     "output_type": "stream",
     "text": [
      "06:03:24 - cmdstanpy - INFO - Chain [1] start processing\n",
      "06:03:24 - cmdstanpy - INFO - Chain [1] done processing\n",
      "06:03:24 - cmdstanpy - INFO - Chain [1] start processing\n",
      "06:03:25 - cmdstanpy - INFO - Chain [1] done processing\n",
      "06:03:25 - cmdstanpy - INFO - Chain [1] start processing\n",
      "06:03:25 - cmdstanpy - INFO - Chain [1] done processing\n",
      "06:03:25 - cmdstanpy - INFO - Chain [1] start processing\n",
      "06:03:25 - cmdstanpy - INFO - Chain [1] done processing\n",
      "06:03:26 - cmdstanpy - INFO - Chain [1] start processing\n",
      "06:03:26 - cmdstanpy - INFO - Chain [1] done processing\n",
      "06:03:26 - cmdstanpy - INFO - Chain [1] start processing\n",
      "06:03:26 - cmdstanpy - INFO - Chain [1] done processing\n",
      "06:03:27 - cmdstanpy - INFO - Chain [1] start processing\n",
      "06:03:27 - cmdstanpy - INFO - Chain [1] done processing\n"
     ]
    },
    {
     "data": {
      "application/vnd.jupyter.widget-view+json": {
       "model_id": "275d258ddc9e4b9f9a3f442d234bbc3b",
       "version_major": 2,
       "version_minor": 0
      },
      "text/plain": [
       "  0%|          | 0/6 [00:00<?, ?it/s]"
      ]
     },
     "metadata": {},
     "output_type": "display_data"
    },
    {
     "name": "stderr",
     "output_type": "stream",
     "text": [
      "06:03:27 - cmdstanpy - INFO - Chain [1] start processing\n",
      "06:03:27 - cmdstanpy - INFO - Chain [1] done processing\n",
      "06:03:27 - cmdstanpy - INFO - Chain [1] start processing\n",
      "06:03:27 - cmdstanpy - INFO - Chain [1] done processing\n",
      "06:03:28 - cmdstanpy - INFO - Chain [1] start processing\n",
      "06:03:28 - cmdstanpy - INFO - Chain [1] done processing\n",
      "06:03:28 - cmdstanpy - INFO - Chain [1] start processing\n",
      "06:03:28 - cmdstanpy - INFO - Chain [1] done processing\n",
      "06:03:28 - cmdstanpy - INFO - Chain [1] start processing\n",
      "06:03:28 - cmdstanpy - INFO - Chain [1] done processing\n",
      "06:03:29 - cmdstanpy - INFO - Chain [1] start processing\n",
      "06:03:29 - cmdstanpy - INFO - Chain [1] done processing\n",
      "06:03:29 - cmdstanpy - INFO - Chain [1] start processing\n",
      "06:03:29 - cmdstanpy - INFO - Chain [1] done processing\n"
     ]
    },
    {
     "data": {
      "application/vnd.jupyter.widget-view+json": {
       "model_id": "c061049b7f594849b8f53a733c42d947",
       "version_major": 2,
       "version_minor": 0
      },
      "text/plain": [
       "  0%|          | 0/6 [00:00<?, ?it/s]"
      ]
     },
     "metadata": {},
     "output_type": "display_data"
    },
    {
     "name": "stderr",
     "output_type": "stream",
     "text": [
      "06:03:29 - cmdstanpy - INFO - Chain [1] start processing\n",
      "06:03:30 - cmdstanpy - INFO - Chain [1] done processing\n",
      "06:03:30 - cmdstanpy - INFO - Chain [1] start processing\n",
      "06:03:30 - cmdstanpy - INFO - Chain [1] done processing\n",
      "06:03:30 - cmdstanpy - INFO - Chain [1] start processing\n",
      "06:03:30 - cmdstanpy - INFO - Chain [1] done processing\n",
      "06:03:30 - cmdstanpy - INFO - Chain [1] start processing\n",
      "06:03:31 - cmdstanpy - INFO - Chain [1] done processing\n",
      "06:03:31 - cmdstanpy - INFO - Chain [1] start processing\n",
      "06:03:31 - cmdstanpy - INFO - Chain [1] done processing\n",
      "06:03:31 - cmdstanpy - INFO - Chain [1] start processing\n",
      "06:03:31 - cmdstanpy - INFO - Chain [1] done processing\n",
      "06:03:32 - cmdstanpy - INFO - Chain [1] start processing\n",
      "06:03:32 - cmdstanpy - INFO - Chain [1] done processing\n"
     ]
    },
    {
     "data": {
      "application/vnd.jupyter.widget-view+json": {
       "model_id": "e968f7c62d3b4cf4a7b359342843ac46",
       "version_major": 2,
       "version_minor": 0
      },
      "text/plain": [
       "  0%|          | 0/6 [00:00<?, ?it/s]"
      ]
     },
     "metadata": {},
     "output_type": "display_data"
    },
    {
     "name": "stderr",
     "output_type": "stream",
     "text": [
      "06:03:32 - cmdstanpy - INFO - Chain [1] start processing\n",
      "06:03:32 - cmdstanpy - INFO - Chain [1] done processing\n",
      "06:03:32 - cmdstanpy - INFO - Chain [1] start processing\n",
      "06:03:32 - cmdstanpy - INFO - Chain [1] done processing\n",
      "06:03:33 - cmdstanpy - INFO - Chain [1] start processing\n",
      "06:03:33 - cmdstanpy - INFO - Chain [1] done processing\n",
      "06:03:33 - cmdstanpy - INFO - Chain [1] start processing\n",
      "06:03:33 - cmdstanpy - INFO - Chain [1] done processing\n",
      "06:03:34 - cmdstanpy - INFO - Chain [1] start processing\n",
      "06:03:34 - cmdstanpy - INFO - Chain [1] done processing\n",
      "06:03:34 - cmdstanpy - INFO - Chain [1] start processing\n",
      "06:03:34 - cmdstanpy - INFO - Chain [1] done processing\n",
      "06:03:34 - cmdstanpy - INFO - Chain [1] start processing\n",
      "06:03:35 - cmdstanpy - INFO - Chain [1] done processing\n"
     ]
    },
    {
     "data": {
      "application/vnd.jupyter.widget-view+json": {
       "model_id": "a6a3d35bf13a4c2cb1026af6aa7b9d15",
       "version_major": 2,
       "version_minor": 0
      },
      "text/plain": [
       "  0%|          | 0/6 [00:00<?, ?it/s]"
      ]
     },
     "metadata": {},
     "output_type": "display_data"
    },
    {
     "name": "stderr",
     "output_type": "stream",
     "text": [
      "06:03:35 - cmdstanpy - INFO - Chain [1] start processing\n",
      "06:03:35 - cmdstanpy - INFO - Chain [1] done processing\n",
      "06:03:35 - cmdstanpy - INFO - Chain [1] start processing\n",
      "06:03:35 - cmdstanpy - INFO - Chain [1] done processing\n",
      "06:03:36 - cmdstanpy - INFO - Chain [1] start processing\n",
      "06:03:36 - cmdstanpy - INFO - Chain [1] done processing\n",
      "06:03:36 - cmdstanpy - INFO - Chain [1] start processing\n",
      "06:03:36 - cmdstanpy - INFO - Chain [1] done processing\n",
      "06:03:36 - cmdstanpy - INFO - Chain [1] start processing\n",
      "06:03:36 - cmdstanpy - INFO - Chain [1] done processing\n",
      "06:03:37 - cmdstanpy - INFO - Chain [1] start processing\n",
      "06:03:37 - cmdstanpy - INFO - Chain [1] done processing\n",
      "06:03:37 - cmdstanpy - INFO - Chain [1] start processing\n",
      "06:03:37 - cmdstanpy - INFO - Chain [1] done processing\n"
     ]
    },
    {
     "data": {
      "application/vnd.jupyter.widget-view+json": {
       "model_id": "8833c1dcd5944971834dc2ed60646933",
       "version_major": 2,
       "version_minor": 0
      },
      "text/plain": [
       "  0%|          | 0/6 [00:00<?, ?it/s]"
      ]
     },
     "metadata": {},
     "output_type": "display_data"
    },
    {
     "name": "stderr",
     "output_type": "stream",
     "text": [
      "06:03:37 - cmdstanpy - INFO - Chain [1] start processing\n",
      "06:03:37 - cmdstanpy - INFO - Chain [1] done processing\n",
      "06:03:38 - cmdstanpy - INFO - Chain [1] start processing\n",
      "06:03:38 - cmdstanpy - INFO - Chain [1] done processing\n",
      "06:03:38 - cmdstanpy - INFO - Chain [1] start processing\n",
      "06:03:38 - cmdstanpy - INFO - Chain [1] done processing\n",
      "06:03:39 - cmdstanpy - INFO - Chain [1] start processing\n",
      "06:03:39 - cmdstanpy - INFO - Chain [1] done processing\n",
      "06:03:39 - cmdstanpy - INFO - Chain [1] start processing\n",
      "06:03:39 - cmdstanpy - INFO - Chain [1] done processing\n",
      "06:03:39 - cmdstanpy - INFO - Chain [1] start processing\n",
      "06:03:39 - cmdstanpy - INFO - Chain [1] done processing\n",
      "06:03:40 - cmdstanpy - INFO - Chain [1] start processing\n",
      "06:03:40 - cmdstanpy - INFO - Chain [1] done processing\n"
     ]
    },
    {
     "data": {
      "application/vnd.jupyter.widget-view+json": {
       "model_id": "f2c065536b36494389d3157be5a90ae0",
       "version_major": 2,
       "version_minor": 0
      },
      "text/plain": [
       "  0%|          | 0/6 [00:00<?, ?it/s]"
      ]
     },
     "metadata": {},
     "output_type": "display_data"
    },
    {
     "name": "stderr",
     "output_type": "stream",
     "text": [
      "06:03:40 - cmdstanpy - INFO - Chain [1] start processing\n",
      "06:03:40 - cmdstanpy - INFO - Chain [1] done processing\n",
      "06:03:41 - cmdstanpy - INFO - Chain [1] start processing\n",
      "06:03:41 - cmdstanpy - INFO - Chain [1] done processing\n",
      "06:03:41 - cmdstanpy - INFO - Chain [1] start processing\n",
      "06:03:41 - cmdstanpy - INFO - Chain [1] done processing\n",
      "06:03:41 - cmdstanpy - INFO - Chain [1] start processing\n",
      "06:03:41 - cmdstanpy - INFO - Chain [1] done processing\n",
      "06:03:42 - cmdstanpy - INFO - Chain [1] start processing\n",
      "06:03:42 - cmdstanpy - INFO - Chain [1] done processing\n",
      "06:03:42 - cmdstanpy - INFO - Chain [1] start processing\n",
      "06:03:42 - cmdstanpy - INFO - Chain [1] done processing\n",
      "06:03:43 - cmdstanpy - INFO - Chain [1] start processing\n",
      "06:03:43 - cmdstanpy - INFO - Chain [1] done processing\n"
     ]
    },
    {
     "data": {
      "application/vnd.jupyter.widget-view+json": {
       "model_id": "07419d306e544838943c4013a88f7ee7",
       "version_major": 2,
       "version_minor": 0
      },
      "text/plain": [
       "  0%|          | 0/6 [00:00<?, ?it/s]"
      ]
     },
     "metadata": {},
     "output_type": "display_data"
    },
    {
     "name": "stderr",
     "output_type": "stream",
     "text": [
      "06:03:43 - cmdstanpy - INFO - Chain [1] start processing\n",
      "06:03:43 - cmdstanpy - INFO - Chain [1] done processing\n",
      "06:03:43 - cmdstanpy - INFO - Chain [1] start processing\n",
      "06:03:43 - cmdstanpy - INFO - Chain [1] done processing\n",
      "06:03:44 - cmdstanpy - INFO - Chain [1] start processing\n",
      "06:03:44 - cmdstanpy - INFO - Chain [1] done processing\n",
      "06:03:44 - cmdstanpy - INFO - Chain [1] start processing\n",
      "06:03:44 - cmdstanpy - INFO - Chain [1] done processing\n",
      "06:03:44 - cmdstanpy - INFO - Chain [1] start processing\n",
      "06:03:45 - cmdstanpy - INFO - Chain [1] done processing\n",
      "06:03:45 - cmdstanpy - INFO - Chain [1] start processing\n",
      "06:03:45 - cmdstanpy - INFO - Chain [1] done processing\n",
      "06:03:45 - cmdstanpy - INFO - Chain [1] start processing\n",
      "06:03:45 - cmdstanpy - INFO - Chain [1] done processing\n"
     ]
    },
    {
     "data": {
      "application/vnd.jupyter.widget-view+json": {
       "model_id": "ea0f1ca9d531440fbd8257bd9f098513",
       "version_major": 2,
       "version_minor": 0
      },
      "text/plain": [
       "  0%|          | 0/6 [00:00<?, ?it/s]"
      ]
     },
     "metadata": {},
     "output_type": "display_data"
    },
    {
     "name": "stderr",
     "output_type": "stream",
     "text": [
      "06:03:45 - cmdstanpy - INFO - Chain [1] start processing\n",
      "06:03:45 - cmdstanpy - INFO - Chain [1] done processing\n",
      "06:03:46 - cmdstanpy - INFO - Chain [1] start processing\n",
      "06:03:46 - cmdstanpy - INFO - Chain [1] done processing\n",
      "06:03:46 - cmdstanpy - INFO - Chain [1] start processing\n",
      "06:03:46 - cmdstanpy - INFO - Chain [1] done processing\n",
      "06:03:47 - cmdstanpy - INFO - Chain [1] start processing\n",
      "06:03:47 - cmdstanpy - INFO - Chain [1] done processing\n",
      "06:03:47 - cmdstanpy - INFO - Chain [1] start processing\n",
      "06:03:47 - cmdstanpy - INFO - Chain [1] done processing\n",
      "06:03:47 - cmdstanpy - INFO - Chain [1] start processing\n",
      "06:03:47 - cmdstanpy - INFO - Chain [1] done processing\n",
      "06:03:48 - cmdstanpy - INFO - Chain [1] start processing\n",
      "06:03:48 - cmdstanpy - INFO - Chain [1] done processing\n"
     ]
    },
    {
     "data": {
      "application/vnd.jupyter.widget-view+json": {
       "model_id": "e75cca686fdc497ebcf59b3e63cc564e",
       "version_major": 2,
       "version_minor": 0
      },
      "text/plain": [
       "  0%|          | 0/6 [00:00<?, ?it/s]"
      ]
     },
     "metadata": {},
     "output_type": "display_data"
    },
    {
     "name": "stderr",
     "output_type": "stream",
     "text": [
      "06:03:48 - cmdstanpy - INFO - Chain [1] start processing\n",
      "06:03:48 - cmdstanpy - INFO - Chain [1] done processing\n",
      "06:03:49 - cmdstanpy - INFO - Chain [1] start processing\n",
      "06:03:49 - cmdstanpy - INFO - Chain [1] done processing\n",
      "06:03:49 - cmdstanpy - INFO - Chain [1] start processing\n",
      "06:03:49 - cmdstanpy - INFO - Chain [1] done processing\n",
      "06:03:49 - cmdstanpy - INFO - Chain [1] start processing\n",
      "06:03:49 - cmdstanpy - INFO - Chain [1] done processing\n",
      "06:03:50 - cmdstanpy - INFO - Chain [1] start processing\n",
      "06:03:50 - cmdstanpy - INFO - Chain [1] done processing\n",
      "06:03:50 - cmdstanpy - INFO - Chain [1] start processing\n",
      "06:03:50 - cmdstanpy - INFO - Chain [1] done processing\n",
      "06:03:51 - cmdstanpy - INFO - Chain [1] start processing\n",
      "06:03:51 - cmdstanpy - INFO - Chain [1] done processing\n"
     ]
    },
    {
     "data": {
      "application/vnd.jupyter.widget-view+json": {
       "model_id": "a7adeb015de44a3da0fad3df27342a06",
       "version_major": 2,
       "version_minor": 0
      },
      "text/plain": [
       "  0%|          | 0/6 [00:00<?, ?it/s]"
      ]
     },
     "metadata": {},
     "output_type": "display_data"
    },
    {
     "name": "stderr",
     "output_type": "stream",
     "text": [
      "06:03:51 - cmdstanpy - INFO - Chain [1] start processing\n",
      "06:03:51 - cmdstanpy - INFO - Chain [1] done processing\n",
      "06:03:51 - cmdstanpy - INFO - Chain [1] start processing\n",
      "06:03:51 - cmdstanpy - INFO - Chain [1] done processing\n",
      "06:03:52 - cmdstanpy - INFO - Chain [1] start processing\n",
      "06:03:52 - cmdstanpy - INFO - Chain [1] done processing\n",
      "06:03:52 - cmdstanpy - INFO - Chain [1] start processing\n",
      "06:03:52 - cmdstanpy - INFO - Chain [1] done processing\n",
      "06:03:53 - cmdstanpy - INFO - Chain [1] start processing\n",
      "06:03:53 - cmdstanpy - INFO - Chain [1] done processing\n",
      "06:03:53 - cmdstanpy - INFO - Chain [1] start processing\n",
      "06:03:53 - cmdstanpy - INFO - Chain [1] done processing\n",
      "06:03:54 - cmdstanpy - INFO - Chain [1] start processing\n",
      "06:03:54 - cmdstanpy - INFO - Chain [1] done processing\n"
     ]
    },
    {
     "data": {
      "application/vnd.jupyter.widget-view+json": {
       "model_id": "2f4c54657ed04bd49a85bdf849a1493f",
       "version_major": 2,
       "version_minor": 0
      },
      "text/plain": [
       "  0%|          | 0/6 [00:00<?, ?it/s]"
      ]
     },
     "metadata": {},
     "output_type": "display_data"
    },
    {
     "name": "stderr",
     "output_type": "stream",
     "text": [
      "06:03:54 - cmdstanpy - INFO - Chain [1] start processing\n",
      "06:03:54 - cmdstanpy - INFO - Chain [1] done processing\n",
      "06:03:54 - cmdstanpy - INFO - Chain [1] start processing\n",
      "06:03:54 - cmdstanpy - INFO - Chain [1] done processing\n",
      "06:03:54 - cmdstanpy - INFO - Chain [1] start processing\n",
      "06:03:54 - cmdstanpy - INFO - Chain [1] done processing\n",
      "06:03:55 - cmdstanpy - INFO - Chain [1] start processing\n",
      "06:03:55 - cmdstanpy - INFO - Chain [1] done processing\n",
      "06:03:55 - cmdstanpy - INFO - Chain [1] start processing\n",
      "06:03:55 - cmdstanpy - INFO - Chain [1] done processing\n",
      "06:03:56 - cmdstanpy - INFO - Chain [1] start processing\n",
      "06:03:56 - cmdstanpy - INFO - Chain [1] done processing\n",
      "06:03:56 - cmdstanpy - INFO - Chain [1] start processing\n",
      "06:03:56 - cmdstanpy - INFO - Chain [1] done processing\n"
     ]
    },
    {
     "data": {
      "application/vnd.jupyter.widget-view+json": {
       "model_id": "58b28fa6ba434131982b4d399147fa41",
       "version_major": 2,
       "version_minor": 0
      },
      "text/plain": [
       "  0%|          | 0/6 [00:00<?, ?it/s]"
      ]
     },
     "metadata": {},
     "output_type": "display_data"
    },
    {
     "name": "stderr",
     "output_type": "stream",
     "text": [
      "06:03:56 - cmdstanpy - INFO - Chain [1] start processing\n",
      "06:03:56 - cmdstanpy - INFO - Chain [1] done processing\n",
      "06:03:57 - cmdstanpy - INFO - Chain [1] start processing\n",
      "06:03:57 - cmdstanpy - INFO - Chain [1] done processing\n",
      "06:03:57 - cmdstanpy - INFO - Chain [1] start processing\n",
      "06:03:57 - cmdstanpy - INFO - Chain [1] done processing\n",
      "06:03:58 - cmdstanpy - INFO - Chain [1] start processing\n",
      "06:03:58 - cmdstanpy - INFO - Chain [1] done processing\n",
      "06:03:58 - cmdstanpy - INFO - Chain [1] start processing\n",
      "06:03:58 - cmdstanpy - INFO - Chain [1] done processing\n",
      "06:03:58 - cmdstanpy - INFO - Chain [1] start processing\n",
      "06:03:58 - cmdstanpy - INFO - Chain [1] done processing\n",
      "06:03:59 - cmdstanpy - INFO - Chain [1] start processing\n",
      "06:03:59 - cmdstanpy - INFO - Chain [1] done processing\n"
     ]
    },
    {
     "data": {
      "application/vnd.jupyter.widget-view+json": {
       "model_id": "a513d7387b254d839515afc2a5a8daaa",
       "version_major": 2,
       "version_minor": 0
      },
      "text/plain": [
       "  0%|          | 0/6 [00:00<?, ?it/s]"
      ]
     },
     "metadata": {},
     "output_type": "display_data"
    },
    {
     "name": "stderr",
     "output_type": "stream",
     "text": [
      "06:03:59 - cmdstanpy - INFO - Chain [1] start processing\n",
      "06:03:59 - cmdstanpy - INFO - Chain [1] done processing\n",
      "06:03:59 - cmdstanpy - INFO - Chain [1] start processing\n",
      "06:04:00 - cmdstanpy - INFO - Chain [1] done processing\n",
      "06:04:00 - cmdstanpy - INFO - Chain [1] start processing\n",
      "06:04:00 - cmdstanpy - INFO - Chain [1] done processing\n",
      "06:04:00 - cmdstanpy - INFO - Chain [1] start processing\n",
      "06:04:00 - cmdstanpy - INFO - Chain [1] done processing\n",
      "06:04:01 - cmdstanpy - INFO - Chain [1] start processing\n",
      "06:04:01 - cmdstanpy - INFO - Chain [1] done processing\n",
      "06:04:01 - cmdstanpy - INFO - Chain [1] start processing\n",
      "06:04:01 - cmdstanpy - INFO - Chain [1] done processing\n",
      "06:04:02 - cmdstanpy - INFO - Chain [1] start processing\n",
      "06:04:02 - cmdstanpy - INFO - Chain [1] done processing\n"
     ]
    },
    {
     "data": {
      "application/vnd.jupyter.widget-view+json": {
       "model_id": "ba831e955810427e8d7b5ff8f0428359",
       "version_major": 2,
       "version_minor": 0
      },
      "text/plain": [
       "  0%|          | 0/6 [00:00<?, ?it/s]"
      ]
     },
     "metadata": {},
     "output_type": "display_data"
    },
    {
     "name": "stderr",
     "output_type": "stream",
     "text": [
      "06:04:02 - cmdstanpy - INFO - Chain [1] start processing\n",
      "06:04:02 - cmdstanpy - INFO - Chain [1] done processing\n",
      "06:04:02 - cmdstanpy - INFO - Chain [1] start processing\n",
      "06:04:02 - cmdstanpy - INFO - Chain [1] done processing\n",
      "06:04:02 - cmdstanpy - INFO - Chain [1] start processing\n",
      "06:04:02 - cmdstanpy - INFO - Chain [1] done processing\n",
      "06:04:03 - cmdstanpy - INFO - Chain [1] start processing\n",
      "06:04:03 - cmdstanpy - INFO - Chain [1] done processing\n",
      "06:04:03 - cmdstanpy - INFO - Chain [1] start processing\n",
      "06:04:03 - cmdstanpy - INFO - Chain [1] done processing\n",
      "06:04:04 - cmdstanpy - INFO - Chain [1] start processing\n",
      "06:04:04 - cmdstanpy - INFO - Chain [1] done processing\n",
      "06:04:04 - cmdstanpy - INFO - Chain [1] start processing\n",
      "06:04:04 - cmdstanpy - INFO - Chain [1] done processing\n"
     ]
    },
    {
     "data": {
      "application/vnd.jupyter.widget-view+json": {
       "model_id": "56184312fd124751883da3eb37a0ea85",
       "version_major": 2,
       "version_minor": 0
      },
      "text/plain": [
       "  0%|          | 0/6 [00:00<?, ?it/s]"
      ]
     },
     "metadata": {},
     "output_type": "display_data"
    },
    {
     "name": "stderr",
     "output_type": "stream",
     "text": [
      "06:04:04 - cmdstanpy - INFO - Chain [1] start processing\n",
      "06:04:04 - cmdstanpy - INFO - Chain [1] done processing\n",
      "06:04:05 - cmdstanpy - INFO - Chain [1] start processing\n",
      "06:04:05 - cmdstanpy - INFO - Chain [1] done processing\n",
      "06:04:05 - cmdstanpy - INFO - Chain [1] start processing\n",
      "06:04:05 - cmdstanpy - INFO - Chain [1] done processing\n",
      "06:04:06 - cmdstanpy - INFO - Chain [1] start processing\n",
      "06:04:06 - cmdstanpy - INFO - Chain [1] done processing\n",
      "06:04:06 - cmdstanpy - INFO - Chain [1] start processing\n",
      "06:04:06 - cmdstanpy - INFO - Chain [1] done processing\n",
      "06:04:06 - cmdstanpy - INFO - Chain [1] start processing\n",
      "06:04:06 - cmdstanpy - INFO - Chain [1] done processing\n",
      "06:04:07 - cmdstanpy - INFO - Chain [1] start processing\n",
      "06:04:07 - cmdstanpy - INFO - Chain [1] done processing\n"
     ]
    },
    {
     "data": {
      "application/vnd.jupyter.widget-view+json": {
       "model_id": "0e101d81d0b848aa948adadd3e6b9024",
       "version_major": 2,
       "version_minor": 0
      },
      "text/plain": [
       "  0%|          | 0/6 [00:00<?, ?it/s]"
      ]
     },
     "metadata": {},
     "output_type": "display_data"
    },
    {
     "name": "stderr",
     "output_type": "stream",
     "text": [
      "06:04:07 - cmdstanpy - INFO - Chain [1] start processing\n",
      "06:04:07 - cmdstanpy - INFO - Chain [1] done processing\n",
      "06:04:08 - cmdstanpy - INFO - Chain [1] start processing\n",
      "06:04:08 - cmdstanpy - INFO - Chain [1] done processing\n",
      "06:04:08 - cmdstanpy - INFO - Chain [1] start processing\n",
      "06:04:08 - cmdstanpy - INFO - Chain [1] done processing\n",
      "06:04:08 - cmdstanpy - INFO - Chain [1] start processing\n",
      "06:04:08 - cmdstanpy - INFO - Chain [1] done processing\n",
      "06:04:09 - cmdstanpy - INFO - Chain [1] start processing\n",
      "06:04:09 - cmdstanpy - INFO - Chain [1] done processing\n",
      "06:04:09 - cmdstanpy - INFO - Chain [1] start processing\n",
      "06:04:09 - cmdstanpy - INFO - Chain [1] done processing\n",
      "06:04:10 - cmdstanpy - INFO - Chain [1] start processing\n",
      "06:04:10 - cmdstanpy - INFO - Chain [1] done processing\n"
     ]
    },
    {
     "data": {
      "application/vnd.jupyter.widget-view+json": {
       "model_id": "90badb3f19ca48ea904585343ba1a212",
       "version_major": 2,
       "version_minor": 0
      },
      "text/plain": [
       "  0%|          | 0/6 [00:00<?, ?it/s]"
      ]
     },
     "metadata": {},
     "output_type": "display_data"
    },
    {
     "name": "stderr",
     "output_type": "stream",
     "text": [
      "06:04:10 - cmdstanpy - INFO - Chain [1] start processing\n",
      "06:04:10 - cmdstanpy - INFO - Chain [1] done processing\n",
      "06:04:10 - cmdstanpy - INFO - Chain [1] start processing\n",
      "06:04:10 - cmdstanpy - INFO - Chain [1] done processing\n",
      "06:04:11 - cmdstanpy - INFO - Chain [1] start processing\n",
      "06:04:11 - cmdstanpy - INFO - Chain [1] done processing\n",
      "06:04:11 - cmdstanpy - INFO - Chain [1] start processing\n",
      "06:04:11 - cmdstanpy - INFO - Chain [1] done processing\n",
      "06:04:12 - cmdstanpy - INFO - Chain [1] start processing\n",
      "06:04:12 - cmdstanpy - INFO - Chain [1] done processing\n",
      "06:04:12 - cmdstanpy - INFO - Chain [1] start processing\n",
      "06:04:12 - cmdstanpy - INFO - Chain [1] done processing\n",
      "06:04:13 - cmdstanpy - INFO - Chain [1] start processing\n",
      "06:04:13 - cmdstanpy - INFO - Chain [1] done processing\n"
     ]
    },
    {
     "data": {
      "application/vnd.jupyter.widget-view+json": {
       "model_id": "e792b5a58e41451aa8ecc3d2baa33814",
       "version_major": 2,
       "version_minor": 0
      },
      "text/plain": [
       "  0%|          | 0/6 [00:00<?, ?it/s]"
      ]
     },
     "metadata": {},
     "output_type": "display_data"
    },
    {
     "name": "stderr",
     "output_type": "stream",
     "text": [
      "06:04:13 - cmdstanpy - INFO - Chain [1] start processing\n",
      "06:04:13 - cmdstanpy - INFO - Chain [1] done processing\n",
      "06:04:13 - cmdstanpy - INFO - Chain [1] start processing\n",
      "06:04:13 - cmdstanpy - INFO - Chain [1] done processing\n",
      "06:04:14 - cmdstanpy - INFO - Chain [1] start processing\n",
      "06:04:14 - cmdstanpy - INFO - Chain [1] done processing\n",
      "06:04:14 - cmdstanpy - INFO - Chain [1] start processing\n",
      "06:04:14 - cmdstanpy - INFO - Chain [1] done processing\n",
      "06:04:14 - cmdstanpy - INFO - Chain [1] start processing\n",
      "06:04:15 - cmdstanpy - INFO - Chain [1] done processing\n",
      "06:04:15 - cmdstanpy - INFO - Chain [1] start processing\n",
      "06:04:15 - cmdstanpy - INFO - Chain [1] done processing\n",
      "06:04:16 - cmdstanpy - INFO - Chain [1] start processing\n",
      "06:04:16 - cmdstanpy - INFO - Chain [1] done processing\n"
     ]
    },
    {
     "data": {
      "application/vnd.jupyter.widget-view+json": {
       "model_id": "98c24cf13c5545249bee9fb427010d3d",
       "version_major": 2,
       "version_minor": 0
      },
      "text/plain": [
       "  0%|          | 0/6 [00:00<?, ?it/s]"
      ]
     },
     "metadata": {},
     "output_type": "display_data"
    },
    {
     "name": "stderr",
     "output_type": "stream",
     "text": [
      "06:04:16 - cmdstanpy - INFO - Chain [1] start processing\n",
      "06:04:16 - cmdstanpy - INFO - Chain [1] done processing\n",
      "06:04:16 - cmdstanpy - INFO - Chain [1] start processing\n",
      "06:04:16 - cmdstanpy - INFO - Chain [1] done processing\n",
      "06:04:17 - cmdstanpy - INFO - Chain [1] start processing\n",
      "06:04:17 - cmdstanpy - INFO - Chain [1] done processing\n",
      "06:04:17 - cmdstanpy - INFO - Chain [1] start processing\n",
      "06:04:17 - cmdstanpy - INFO - Chain [1] done processing\n",
      "06:04:18 - cmdstanpy - INFO - Chain [1] start processing\n",
      "06:04:18 - cmdstanpy - INFO - Chain [1] done processing\n",
      "06:04:18 - cmdstanpy - INFO - Chain [1] start processing\n",
      "06:04:18 - cmdstanpy - INFO - Chain [1] done processing\n",
      "06:04:18 - cmdstanpy - INFO - Chain [1] start processing\n",
      "06:04:19 - cmdstanpy - INFO - Chain [1] done processing\n"
     ]
    },
    {
     "data": {
      "application/vnd.jupyter.widget-view+json": {
       "model_id": "a712e49362d94483875405ede623edf6",
       "version_major": 2,
       "version_minor": 0
      },
      "text/plain": [
       "  0%|          | 0/6 [00:00<?, ?it/s]"
      ]
     },
     "metadata": {},
     "output_type": "display_data"
    },
    {
     "name": "stderr",
     "output_type": "stream",
     "text": [
      "06:04:19 - cmdstanpy - INFO - Chain [1] start processing\n",
      "06:04:19 - cmdstanpy - INFO - Chain [1] done processing\n",
      "06:04:19 - cmdstanpy - INFO - Chain [1] start processing\n",
      "06:04:19 - cmdstanpy - INFO - Chain [1] done processing\n",
      "06:04:20 - cmdstanpy - INFO - Chain [1] start processing\n",
      "06:04:20 - cmdstanpy - INFO - Chain [1] done processing\n",
      "06:04:20 - cmdstanpy - INFO - Chain [1] start processing\n",
      "06:04:20 - cmdstanpy - INFO - Chain [1] done processing\n",
      "06:04:20 - cmdstanpy - INFO - Chain [1] start processing\n",
      "06:04:20 - cmdstanpy - INFO - Chain [1] done processing\n",
      "06:04:21 - cmdstanpy - INFO - Chain [1] start processing\n",
      "06:04:21 - cmdstanpy - INFO - Chain [1] done processing\n",
      "06:04:22 - cmdstanpy - INFO - Chain [1] start processing\n",
      "06:04:22 - cmdstanpy - INFO - Chain [1] done processing\n"
     ]
    },
    {
     "data": {
      "application/vnd.jupyter.widget-view+json": {
       "model_id": "8a0a492c85f7409881056e5e158c60f3",
       "version_major": 2,
       "version_minor": 0
      },
      "text/plain": [
       "  0%|          | 0/6 [00:00<?, ?it/s]"
      ]
     },
     "metadata": {},
     "output_type": "display_data"
    },
    {
     "name": "stderr",
     "output_type": "stream",
     "text": [
      "06:04:22 - cmdstanpy - INFO - Chain [1] start processing\n",
      "06:04:22 - cmdstanpy - INFO - Chain [1] done processing\n",
      "06:04:22 - cmdstanpy - INFO - Chain [1] start processing\n",
      "06:04:22 - cmdstanpy - INFO - Chain [1] done processing\n",
      "06:04:23 - cmdstanpy - INFO - Chain [1] start processing\n",
      "06:04:23 - cmdstanpy - INFO - Chain [1] done processing\n",
      "06:04:23 - cmdstanpy - INFO - Chain [1] start processing\n",
      "06:04:23 - cmdstanpy - INFO - Chain [1] done processing\n",
      "06:04:24 - cmdstanpy - INFO - Chain [1] start processing\n",
      "06:04:24 - cmdstanpy - INFO - Chain [1] done processing\n",
      "06:04:24 - cmdstanpy - INFO - Chain [1] start processing\n",
      "06:04:24 - cmdstanpy - INFO - Chain [1] done processing\n",
      "06:04:25 - cmdstanpy - INFO - Chain [1] start processing\n",
      "06:04:25 - cmdstanpy - INFO - Chain [1] done processing\n"
     ]
    },
    {
     "data": {
      "application/vnd.jupyter.widget-view+json": {
       "model_id": "c041292c82ff4e5195b9e90d76ab6a41",
       "version_major": 2,
       "version_minor": 0
      },
      "text/plain": [
       "  0%|          | 0/6 [00:00<?, ?it/s]"
      ]
     },
     "metadata": {},
     "output_type": "display_data"
    },
    {
     "name": "stderr",
     "output_type": "stream",
     "text": [
      "06:04:25 - cmdstanpy - INFO - Chain [1] start processing\n",
      "06:04:25 - cmdstanpy - INFO - Chain [1] done processing\n",
      "06:04:25 - cmdstanpy - INFO - Chain [1] start processing\n",
      "06:04:25 - cmdstanpy - INFO - Chain [1] done processing\n",
      "06:04:26 - cmdstanpy - INFO - Chain [1] start processing\n",
      "06:04:26 - cmdstanpy - INFO - Chain [1] done processing\n",
      "06:04:26 - cmdstanpy - INFO - Chain [1] start processing\n",
      "06:04:26 - cmdstanpy - INFO - Chain [1] done processing\n",
      "06:04:27 - cmdstanpy - INFO - Chain [1] start processing\n",
      "06:04:27 - cmdstanpy - INFO - Chain [1] done processing\n",
      "06:04:27 - cmdstanpy - INFO - Chain [1] start processing\n",
      "06:04:27 - cmdstanpy - INFO - Chain [1] done processing\n",
      "06:04:27 - cmdstanpy - INFO - Chain [1] start processing\n",
      "06:04:28 - cmdstanpy - INFO - Chain [1] done processing\n"
     ]
    },
    {
     "data": {
      "application/vnd.jupyter.widget-view+json": {
       "model_id": "6ce3c551a4784831ac73bd8bec9cc97e",
       "version_major": 2,
       "version_minor": 0
      },
      "text/plain": [
       "  0%|          | 0/6 [00:00<?, ?it/s]"
      ]
     },
     "metadata": {},
     "output_type": "display_data"
    },
    {
     "name": "stderr",
     "output_type": "stream",
     "text": [
      "06:04:28 - cmdstanpy - INFO - Chain [1] start processing\n",
      "06:04:28 - cmdstanpy - INFO - Chain [1] done processing\n",
      "06:04:28 - cmdstanpy - INFO - Chain [1] start processing\n",
      "06:04:28 - cmdstanpy - INFO - Chain [1] done processing\n",
      "06:04:29 - cmdstanpy - INFO - Chain [1] start processing\n",
      "06:04:29 - cmdstanpy - INFO - Chain [1] done processing\n",
      "06:04:29 - cmdstanpy - INFO - Chain [1] start processing\n",
      "06:04:29 - cmdstanpy - INFO - Chain [1] done processing\n",
      "06:04:30 - cmdstanpy - INFO - Chain [1] start processing\n",
      "06:04:30 - cmdstanpy - INFO - Chain [1] done processing\n",
      "06:04:30 - cmdstanpy - INFO - Chain [1] start processing\n",
      "06:04:30 - cmdstanpy - INFO - Chain [1] done processing\n",
      "06:04:31 - cmdstanpy - INFO - Chain [1] start processing\n",
      "06:04:31 - cmdstanpy - INFO - Chain [1] done processing\n"
     ]
    },
    {
     "data": {
      "application/vnd.jupyter.widget-view+json": {
       "model_id": "dbd13b02820241419fa607a4fc6dd329",
       "version_major": 2,
       "version_minor": 0
      },
      "text/plain": [
       "  0%|          | 0/6 [00:00<?, ?it/s]"
      ]
     },
     "metadata": {},
     "output_type": "display_data"
    },
    {
     "name": "stderr",
     "output_type": "stream",
     "text": [
      "06:04:31 - cmdstanpy - INFO - Chain [1] start processing\n",
      "06:04:31 - cmdstanpy - INFO - Chain [1] done processing\n",
      "06:04:31 - cmdstanpy - INFO - Chain [1] start processing\n",
      "06:04:31 - cmdstanpy - INFO - Chain [1] done processing\n",
      "06:04:32 - cmdstanpy - INFO - Chain [1] start processing\n",
      "06:04:32 - cmdstanpy - INFO - Chain [1] done processing\n",
      "06:04:32 - cmdstanpy - INFO - Chain [1] start processing\n",
      "06:04:32 - cmdstanpy - INFO - Chain [1] done processing\n",
      "06:04:33 - cmdstanpy - INFO - Chain [1] start processing\n",
      "06:04:33 - cmdstanpy - INFO - Chain [1] done processing\n",
      "06:04:33 - cmdstanpy - INFO - Chain [1] start processing\n",
      "06:04:33 - cmdstanpy - INFO - Chain [1] done processing\n",
      "06:04:34 - cmdstanpy - INFO - Chain [1] start processing\n",
      "06:04:34 - cmdstanpy - INFO - Chain [1] done processing\n"
     ]
    },
    {
     "data": {
      "application/vnd.jupyter.widget-view+json": {
       "model_id": "47ca56f0aac04998800757c35c5563ee",
       "version_major": 2,
       "version_minor": 0
      },
      "text/plain": [
       "  0%|          | 0/6 [00:00<?, ?it/s]"
      ]
     },
     "metadata": {},
     "output_type": "display_data"
    },
    {
     "name": "stderr",
     "output_type": "stream",
     "text": [
      "06:04:34 - cmdstanpy - INFO - Chain [1] start processing\n",
      "06:04:34 - cmdstanpy - INFO - Chain [1] done processing\n",
      "06:04:34 - cmdstanpy - INFO - Chain [1] start processing\n",
      "06:04:34 - cmdstanpy - INFO - Chain [1] done processing\n",
      "06:04:35 - cmdstanpy - INFO - Chain [1] start processing\n",
      "06:04:35 - cmdstanpy - INFO - Chain [1] done processing\n",
      "06:04:35 - cmdstanpy - INFO - Chain [1] start processing\n",
      "06:04:35 - cmdstanpy - INFO - Chain [1] done processing\n",
      "06:04:36 - cmdstanpy - INFO - Chain [1] start processing\n",
      "06:04:36 - cmdstanpy - INFO - Chain [1] done processing\n",
      "06:04:36 - cmdstanpy - INFO - Chain [1] start processing\n",
      "06:04:36 - cmdstanpy - INFO - Chain [1] done processing\n",
      "06:04:37 - cmdstanpy - INFO - Chain [1] start processing\n",
      "06:04:37 - cmdstanpy - INFO - Chain [1] done processing\n"
     ]
    },
    {
     "data": {
      "application/vnd.jupyter.widget-view+json": {
       "model_id": "62c7b86767b841eb8fd8807fba2ad1b1",
       "version_major": 2,
       "version_minor": 0
      },
      "text/plain": [
       "  0%|          | 0/6 [00:00<?, ?it/s]"
      ]
     },
     "metadata": {},
     "output_type": "display_data"
    },
    {
     "name": "stderr",
     "output_type": "stream",
     "text": [
      "06:04:37 - cmdstanpy - INFO - Chain [1] start processing\n",
      "06:04:37 - cmdstanpy - INFO - Chain [1] done processing\n",
      "06:04:37 - cmdstanpy - INFO - Chain [1] start processing\n",
      "06:04:37 - cmdstanpy - INFO - Chain [1] done processing\n",
      "06:04:38 - cmdstanpy - INFO - Chain [1] start processing\n",
      "06:04:38 - cmdstanpy - INFO - Chain [1] done processing\n",
      "06:04:38 - cmdstanpy - INFO - Chain [1] start processing\n",
      "06:04:38 - cmdstanpy - INFO - Chain [1] done processing\n",
      "06:04:39 - cmdstanpy - INFO - Chain [1] start processing\n",
      "06:04:39 - cmdstanpy - INFO - Chain [1] done processing\n",
      "06:04:39 - cmdstanpy - INFO - Chain [1] start processing\n",
      "06:04:39 - cmdstanpy - INFO - Chain [1] done processing\n",
      "06:04:40 - cmdstanpy - INFO - Chain [1] start processing\n",
      "06:04:40 - cmdstanpy - INFO - Chain [1] done processing\n"
     ]
    },
    {
     "data": {
      "application/vnd.jupyter.widget-view+json": {
       "model_id": "8e5120bb41184fb19c901adbd5aba13c",
       "version_major": 2,
       "version_minor": 0
      },
      "text/plain": [
       "  0%|          | 0/6 [00:00<?, ?it/s]"
      ]
     },
     "metadata": {},
     "output_type": "display_data"
    },
    {
     "name": "stderr",
     "output_type": "stream",
     "text": [
      "06:04:40 - cmdstanpy - INFO - Chain [1] start processing\n",
      "06:04:40 - cmdstanpy - INFO - Chain [1] done processing\n",
      "06:04:40 - cmdstanpy - INFO - Chain [1] start processing\n",
      "06:04:40 - cmdstanpy - INFO - Chain [1] done processing\n",
      "06:04:41 - cmdstanpy - INFO - Chain [1] start processing\n",
      "06:04:41 - cmdstanpy - INFO - Chain [1] done processing\n",
      "06:04:41 - cmdstanpy - INFO - Chain [1] start processing\n",
      "06:04:41 - cmdstanpy - INFO - Chain [1] done processing\n",
      "06:04:42 - cmdstanpy - INFO - Chain [1] start processing\n",
      "06:04:42 - cmdstanpy - INFO - Chain [1] done processing\n",
      "06:04:42 - cmdstanpy - INFO - Chain [1] start processing\n",
      "06:04:42 - cmdstanpy - INFO - Chain [1] done processing\n",
      "06:04:43 - cmdstanpy - INFO - Chain [1] start processing\n",
      "06:04:43 - cmdstanpy - INFO - Chain [1] done processing\n"
     ]
    },
    {
     "data": {
      "application/vnd.jupyter.widget-view+json": {
       "model_id": "c4eedf1524a9432e94f2597f7c1ce0a2",
       "version_major": 2,
       "version_minor": 0
      },
      "text/plain": [
       "  0%|          | 0/6 [00:00<?, ?it/s]"
      ]
     },
     "metadata": {},
     "output_type": "display_data"
    },
    {
     "name": "stderr",
     "output_type": "stream",
     "text": [
      "06:04:43 - cmdstanpy - INFO - Chain [1] start processing\n",
      "06:04:43 - cmdstanpy - INFO - Chain [1] done processing\n",
      "06:04:44 - cmdstanpy - INFO - Chain [1] start processing\n",
      "06:04:44 - cmdstanpy - INFO - Chain [1] done processing\n",
      "06:04:44 - cmdstanpy - INFO - Chain [1] start processing\n",
      "06:04:44 - cmdstanpy - INFO - Chain [1] done processing\n",
      "06:04:44 - cmdstanpy - INFO - Chain [1] start processing\n",
      "06:04:44 - cmdstanpy - INFO - Chain [1] done processing\n",
      "06:04:45 - cmdstanpy - INFO - Chain [1] start processing\n",
      "06:04:45 - cmdstanpy - INFO - Chain [1] done processing\n",
      "06:04:45 - cmdstanpy - INFO - Chain [1] start processing\n",
      "06:04:45 - cmdstanpy - INFO - Chain [1] done processing\n",
      "06:04:46 - cmdstanpy - INFO - Chain [1] start processing\n",
      "06:04:46 - cmdstanpy - INFO - Chain [1] done processing\n"
     ]
    },
    {
     "data": {
      "application/vnd.jupyter.widget-view+json": {
       "model_id": "4a61756666f746ea93012d73321ffc8a",
       "version_major": 2,
       "version_minor": 0
      },
      "text/plain": [
       "  0%|          | 0/6 [00:00<?, ?it/s]"
      ]
     },
     "metadata": {},
     "output_type": "display_data"
    },
    {
     "name": "stderr",
     "output_type": "stream",
     "text": [
      "06:04:46 - cmdstanpy - INFO - Chain [1] start processing\n",
      "06:04:46 - cmdstanpy - INFO - Chain [1] done processing\n",
      "06:04:46 - cmdstanpy - INFO - Chain [1] start processing\n",
      "06:04:47 - cmdstanpy - INFO - Chain [1] done processing\n",
      "06:04:47 - cmdstanpy - INFO - Chain [1] start processing\n",
      "06:04:47 - cmdstanpy - INFO - Chain [1] done processing\n",
      "06:04:47 - cmdstanpy - INFO - Chain [1] start processing\n",
      "06:04:48 - cmdstanpy - INFO - Chain [1] done processing\n",
      "06:04:48 - cmdstanpy - INFO - Chain [1] start processing\n",
      "06:04:48 - cmdstanpy - INFO - Chain [1] done processing\n",
      "06:04:48 - cmdstanpy - INFO - Chain [1] start processing\n",
      "06:04:48 - cmdstanpy - INFO - Chain [1] done processing\n",
      "06:04:49 - cmdstanpy - INFO - Chain [1] start processing\n",
      "06:04:49 - cmdstanpy - INFO - Chain [1] done processing\n"
     ]
    },
    {
     "data": {
      "application/vnd.jupyter.widget-view+json": {
       "model_id": "3488c3669bb64978bed5523cac3c972b",
       "version_major": 2,
       "version_minor": 0
      },
      "text/plain": [
       "  0%|          | 0/6 [00:00<?, ?it/s]"
      ]
     },
     "metadata": {},
     "output_type": "display_data"
    },
    {
     "name": "stderr",
     "output_type": "stream",
     "text": [
      "06:04:49 - cmdstanpy - INFO - Chain [1] start processing\n",
      "06:04:49 - cmdstanpy - INFO - Chain [1] done processing\n",
      "06:04:49 - cmdstanpy - INFO - Chain [1] start processing\n",
      "06:04:50 - cmdstanpy - INFO - Chain [1] done processing\n",
      "06:04:50 - cmdstanpy - INFO - Chain [1] start processing\n",
      "06:04:50 - cmdstanpy - INFO - Chain [1] done processing\n",
      "06:04:50 - cmdstanpy - INFO - Chain [1] start processing\n",
      "06:04:51 - cmdstanpy - INFO - Chain [1] done processing\n",
      "06:04:51 - cmdstanpy - INFO - Chain [1] start processing\n",
      "06:04:51 - cmdstanpy - INFO - Chain [1] done processing\n",
      "06:04:51 - cmdstanpy - INFO - Chain [1] start processing\n",
      "06:04:51 - cmdstanpy - INFO - Chain [1] done processing\n",
      "06:04:52 - cmdstanpy - INFO - Chain [1] start processing\n",
      "06:04:52 - cmdstanpy - INFO - Chain [1] done processing\n"
     ]
    },
    {
     "data": {
      "application/vnd.jupyter.widget-view+json": {
       "model_id": "f318b65af3754959a68743f01d8b31a7",
       "version_major": 2,
       "version_minor": 0
      },
      "text/plain": [
       "  0%|          | 0/6 [00:00<?, ?it/s]"
      ]
     },
     "metadata": {},
     "output_type": "display_data"
    },
    {
     "name": "stderr",
     "output_type": "stream",
     "text": [
      "06:04:52 - cmdstanpy - INFO - Chain [1] start processing\n",
      "06:04:52 - cmdstanpy - INFO - Chain [1] done processing\n",
      "06:04:53 - cmdstanpy - INFO - Chain [1] start processing\n",
      "06:04:53 - cmdstanpy - INFO - Chain [1] done processing\n",
      "06:04:53 - cmdstanpy - INFO - Chain [1] start processing\n",
      "06:04:53 - cmdstanpy - INFO - Chain [1] done processing\n",
      "06:04:53 - cmdstanpy - INFO - Chain [1] start processing\n",
      "06:04:53 - cmdstanpy - INFO - Chain [1] done processing\n",
      "06:04:54 - cmdstanpy - INFO - Chain [1] start processing\n",
      "06:04:54 - cmdstanpy - INFO - Chain [1] done processing\n",
      "06:04:54 - cmdstanpy - INFO - Chain [1] start processing\n",
      "06:04:55 - cmdstanpy - INFO - Chain [1] done processing\n",
      "06:04:55 - cmdstanpy - INFO - Chain [1] start processing\n",
      "06:04:55 - cmdstanpy - INFO - Chain [1] done processing\n"
     ]
    },
    {
     "data": {
      "application/vnd.jupyter.widget-view+json": {
       "model_id": "85007279cd194ac88b39fd9a12d6089f",
       "version_major": 2,
       "version_minor": 0
      },
      "text/plain": [
       "  0%|          | 0/6 [00:00<?, ?it/s]"
      ]
     },
     "metadata": {},
     "output_type": "display_data"
    },
    {
     "name": "stderr",
     "output_type": "stream",
     "text": [
      "06:04:55 - cmdstanpy - INFO - Chain [1] start processing\n",
      "06:04:55 - cmdstanpy - INFO - Chain [1] done processing\n",
      "06:04:56 - cmdstanpy - INFO - Chain [1] start processing\n",
      "06:04:56 - cmdstanpy - INFO - Chain [1] done processing\n",
      "06:04:56 - cmdstanpy - INFO - Chain [1] start processing\n",
      "06:04:56 - cmdstanpy - INFO - Chain [1] done processing\n",
      "06:04:57 - cmdstanpy - INFO - Chain [1] start processing\n",
      "06:04:57 - cmdstanpy - INFO - Chain [1] done processing\n",
      "06:04:57 - cmdstanpy - INFO - Chain [1] start processing\n",
      "06:04:57 - cmdstanpy - INFO - Chain [1] done processing\n",
      "06:04:57 - cmdstanpy - INFO - Chain [1] start processing\n",
      "06:04:57 - cmdstanpy - INFO - Chain [1] done processing\n",
      "06:04:58 - cmdstanpy - INFO - Chain [1] start processing\n",
      "06:04:58 - cmdstanpy - INFO - Chain [1] done processing\n"
     ]
    },
    {
     "name": "stdout",
     "output_type": "stream",
     "text": [
      "Best parameters for model : \n",
      "{'changepoint_prior_scale': 0.01, 'seasonality_prior_scale': 1.0, 'holidays_prior_scale': 1.0}\n"
     ]
    },
    {
     "name": "stderr",
     "output_type": "stream",
     "text": [
      "/tmp/ipykernel_586722/811545520.py:100: SettingWithCopyWarning: \n",
      "A value is trying to be set on a copy of a slice from a DataFrame.\n",
      "Try using .loc[row_indexer,col_indexer] = value instead\n",
      "\n",
      "See the caveats in the documentation: https://pandas.pydata.org/pandas-docs/stable/user_guide/indexing.html#returning-a-view-versus-a-copy\n",
      "  df_result['y'] = df_state[df_state['ds']<='2005-07-31']['y'].tolist()\n"
     ]
    },
    {
     "data": {
      "image/png": "[encoded data removed]",
      "text/plain": [
       "<Figure size 1080x360 with 1 Axes>"
      ]
     },
     "metadata": {
      "needs_background": "light"
     },
     "output_type": "display_data"
    },
    {
     "name": "stderr",
     "output_type": "stream",
     "text": [
      "/tmp/ipykernel_586722/811545520.py:123: FutureWarning: The frame.append method is deprecated and will be removed from pandas in a future version. Use pandas.concat instead.\n",
      "  df_metrics = df_metrics.append(df_metrics_results,ignore_index = True)\n"
     ]
    }
   ],
   "source": [
    "model2,result2 = model_construction_macro1(df_total1)"
   ]
  },
  {
   "cell_type": "code",
   "execution_count": 67,
   "id": "f95c0abf",
   "metadata": {},
   "outputs": [
    {
     "data": {
      "text/plain": [
       "<prophet.forecaster.Prophet at 0x7ff08cbf3250>"
      ]
     },
     "execution_count": 67,
     "metadata": {},
     "output_type": "execute_result"
    }
   ],
   "source": [
    "model2"
   ]
  },
  {
   "cell_type": "code",
   "execution_count": 68,
   "id": "2352a0c4",
   "metadata": {},
   "outputs": [
    {
     "data": {
      "text/html": [
       "<div>\n",
       "<style scoped>\n",
       "    .dataframe tbody tr th:only-of-type {\n",
       "        vertical-align: middle;\n",
       "    }\n",
       "\n",
       "    .dataframe tbody tr th {\n",
       "        vertical-align: top;\n",
       "    }\n",
       "\n",
       "    .dataframe thead th {\n",
       "        text-align: right;\n",
       "    }\n",
       "</style>\n",
       "<table border=\"1\" class=\"dataframe\">\n",
       "  <thead>\n",
       "    <tr style=\"text-align: right;\">\n",
       "      <th></th>\n",
       "      <th>explained_variance</th>\n",
       "      <th>MAE</th>\n",
       "      <th>R^2</th>\n",
       "      <th>MSE</th>\n",
       "      <th>RMSE</th>\n",
       "    </tr>\n",
       "  </thead>\n",
       "  <tbody>\n",
       "    <tr>\n",
       "      <th>0</th>\n",
       "      <td>0.6572</td>\n",
       "      <td>230516.2683</td>\n",
       "      <td>0.5381</td>\n",
       "      <td>1.101233e+11</td>\n",
       "      <td>331848.2692</td>\n",
       "    </tr>\n",
       "  </tbody>\n",
       "</table>\n",
       "</div>"
      ],
      "text/plain": [
       "   explained_variance          MAE     R^2           MSE         RMSE\n",
       "0              0.6572  230516.2683  0.5381  1.101233e+11  331848.2692"
      ]
     },
     "execution_count": 68,
     "metadata": {},
     "output_type": "execute_result"
    }
   ],
   "source": [
    "result2"
   ]
  },
  {
   "cell_type": "markdown",
   "id": "5de0ce10",
   "metadata": {},
   "source": [
    "### Make Prediction"
   ]
  },
  {
   "cell_type": "code",
   "execution_count": 69,
   "id": "fb07ff1b",
   "metadata": {},
   "outputs": [
    {
     "name": "stderr",
     "output_type": "stream",
     "text": [
      "06:15:37 - cmdstanpy - INFO - Chain [1] start processing\n",
      "06:15:37 - cmdstanpy - INFO - Chain [1] done processing\n"
     ]
    }
   ],
   "source": [
    "#Dataset Construction\n",
    "df = df_total1\n",
    "df = df.reset_index()\n",
    "df = df.rename(columns = {'saledate':'ds','totalprofit':'y'})\n",
    "\n",
    "#train/test split\n",
    "df_train = df[df['ds']<='2005-07-31']\n",
    "df_test = df[df['ds']>'2005-07-31']\n",
    "    \n",
    "def modeling(df_train,dict_param):\n",
    "\n",
    "    #add seasonality\n",
    "    '''\n",
    "        We drop the yearly seasonality since the training dataset is less than one year and we add quarterly, montly seasonality instead.\n",
    "    '''\n",
    "    m = Prophet(yearly_seasonality = False,**dict_param)\n",
    "    #m.add_seasonality(name=\"quarterly\", period=90, fourier_order = 10)\n",
    "    m.add_seasonality(name='monthly', period=30, fourier_order=5) \n",
    "\n",
    "    #add holiday\n",
    "    m.add_country_holidays(country_name='US')\n",
    "\n",
    "    #add additional features\n",
    "    feature_list = ['minorigprice',\n",
    "                    'ndept',\n",
    "                    'totalretail',\n",
    "                    'nvendors',\n",
    "                    'totalcost',\n",
    "                    'nsku',\n",
    "                    'CORESTICKM159SFRBATL',\n",
    "                    'UNRATE',\n",
    "                    'DFF']\n",
    "\n",
    "    for feature in feature_list:\n",
    "        m.add_regressor(feature+'_1',standardize = \"auto\")\n",
    "\n",
    "    m.fit(df_train)\n",
    "\n",
    "    return m\n",
    "\n",
    "best_param = {'changepoint_prior_scale': 0.01, 'seasonality_prior_scale': 10.0, 'holidays_prior_scale': 0.1}\n",
    "model = modeling(df_train,best_param)"
   ]
  },
  {
   "cell_type": "code",
   "execution_count": 70,
   "id": "41290c9f",
   "metadata": {},
   "outputs": [
    {
     "name": "stderr",
     "output_type": "stream",
     "text": [
      "/tmp/ipykernel_586722/763727442.py:20: SettingWithCopyWarning: \n",
      "A value is trying to be set on a copy of a slice from a DataFrame.\n",
      "Try using .loc[row_indexer,col_indexer] = value instead\n",
      "\n",
      "See the caveats in the documentation: https://pandas.pydata.org/pandas-docs/stable/user_guide/indexing.html#returning-a-view-versus-a-copy\n",
      "  df_result['y'] = df['y'].tolist()\n"
     ]
    },
    {
     "data": {
      "text/html": [
       "<div>\n",
       "<style scoped>\n",
       "    .dataframe tbody tr th:only-of-type {\n",
       "        vertical-align: middle;\n",
       "    }\n",
       "\n",
       "    .dataframe tbody tr th {\n",
       "        vertical-align: top;\n",
       "    }\n",
       "\n",
       "    .dataframe thead th {\n",
       "        text-align: right;\n",
       "    }\n",
       "</style>\n",
       "<table border=\"1\" class=\"dataframe\">\n",
       "  <thead>\n",
       "    <tr style=\"text-align: right;\">\n",
       "      <th></th>\n",
       "      <th>ds</th>\n",
       "      <th>yhat</th>\n",
       "      <th>y</th>\n",
       "    </tr>\n",
       "  </thead>\n",
       "  <tbody>\n",
       "    <tr>\n",
       "      <th>0</th>\n",
       "      <td>2004-08-01</td>\n",
       "      <td>1.407597e+04</td>\n",
       "      <td>511060.0</td>\n",
       "    </tr>\n",
       "    <tr>\n",
       "      <th>1</th>\n",
       "      <td>2004-08-02</td>\n",
       "      <td>5.093799e+05</td>\n",
       "      <td>532033.0</td>\n",
       "    </tr>\n",
       "    <tr>\n",
       "      <th>2</th>\n",
       "      <td>2004-08-03</td>\n",
       "      <td>5.922152e+05</td>\n",
       "      <td>659895.0</td>\n",
       "    </tr>\n",
       "    <tr>\n",
       "      <th>3</th>\n",
       "      <td>2004-08-04</td>\n",
       "      <td>5.820055e+05</td>\n",
       "      <td>631430.0</td>\n",
       "    </tr>\n",
       "    <tr>\n",
       "      <th>4</th>\n",
       "      <td>2004-08-05</td>\n",
       "      <td>6.446589e+05</td>\n",
       "      <td>635209.0</td>\n",
       "    </tr>\n",
       "    <tr>\n",
       "      <th>...</th>\n",
       "      <td>...</td>\n",
       "      <td>...</td>\n",
       "      <td>...</td>\n",
       "    </tr>\n",
       "    <tr>\n",
       "      <th>384</th>\n",
       "      <td>2005-08-23</td>\n",
       "      <td>1.316426e+06</td>\n",
       "      <td>1477840.0</td>\n",
       "    </tr>\n",
       "    <tr>\n",
       "      <th>385</th>\n",
       "      <td>2005-08-24</td>\n",
       "      <td>1.297657e+06</td>\n",
       "      <td>1982620.0</td>\n",
       "    </tr>\n",
       "    <tr>\n",
       "      <th>386</th>\n",
       "      <td>2005-08-25</td>\n",
       "      <td>1.743313e+06</td>\n",
       "      <td>1943150.0</td>\n",
       "    </tr>\n",
       "    <tr>\n",
       "      <th>387</th>\n",
       "      <td>2005-08-26</td>\n",
       "      <td>1.846369e+06</td>\n",
       "      <td>2344460.0</td>\n",
       "    </tr>\n",
       "    <tr>\n",
       "      <th>388</th>\n",
       "      <td>2005-08-27</td>\n",
       "      <td>2.461701e+06</td>\n",
       "      <td>3903930.0</td>\n",
       "    </tr>\n",
       "  </tbody>\n",
       "</table>\n",
       "<p>389 rows × 3 columns</p>\n",
       "</div>"
      ],
      "text/plain": [
       "            ds          yhat          y\n",
       "0   2004-08-01  1.407597e+04   511060.0\n",
       "1   2004-08-02  5.093799e+05   532033.0\n",
       "2   2004-08-03  5.922152e+05   659895.0\n",
       "3   2004-08-04  5.820055e+05   631430.0\n",
       "4   2004-08-05  6.446589e+05   635209.0\n",
       "..         ...           ...        ...\n",
       "384 2005-08-23  1.316426e+06  1477840.0\n",
       "385 2005-08-24  1.297657e+06  1982620.0\n",
       "386 2005-08-25  1.743313e+06  1943150.0\n",
       "387 2005-08-26  1.846369e+06  2344460.0\n",
       "388 2005-08-27  2.461701e+06  3903930.0\n",
       "\n",
       "[389 rows x 3 columns]"
      ]
     },
     "execution_count": 70,
     "metadata": {},
     "output_type": "execute_result"
    }
   ],
   "source": [
    "#Prediction with macroeconomics indicator model\n",
    "feature_list = ['minorigprice',\n",
    "                'ndept',\n",
    "                'totalretail',\n",
    "                'nvendors',\n",
    "                'totalcost',\n",
    "                'nsku',\n",
    "                'CORESTICKM159SFRBATL',\n",
    "                'UNRATE',\n",
    "                'DFF']\n",
    "\n",
    "feature_list1 = [each + \"_1\" for each in feature_list]\n",
    "\n",
    "df_future = df.copy()\n",
    "df_future = df_future[feature_list1]\n",
    "future = model.make_future_dataframe(periods = 27)\n",
    "future = future.join(df_future)\n",
    "forecast = model.predict(future)\n",
    "df_result = forecast[['ds','yhat']]\n",
    "df_result['y'] = df['y'].tolist()\n",
    "df_result"
   ]
  },
  {
   "cell_type": "code",
   "execution_count": 79,
   "id": "211a2468",
   "metadata": {},
   "outputs": [
    {
     "name": "stdout",
     "output_type": "stream",
     "text": [
      "47268340.640407905\n",
      "55934830.0\n"
     ]
    }
   ],
   "source": [
    "aug_profit_pred = sum(df_result[df_result['ds']>'2005-07-31']['yhat'])\n",
    "aug_profit_true = sum(df_result[df_result['ds']>'2005-07-31']['y'])\n",
    "print(aug_profit_pred)\n",
    "print(aug_profit_true)"
   ]
  },
  {
   "cell_type": "code",
   "execution_count": 78,
   "id": "61e6977a",
   "metadata": {},
   "outputs": [
    {
     "name": "stdout",
     "output_type": "stream",
     "text": [
      "Predicted total profit for August is  47268340.640407905\n"
     ]
    }
   ],
   "source": [
    "print(\"Predicted total profit for August is \", aug_profit_pred)"
   ]
  },
  {
   "cell_type": "code",
   "execution_count": 74,
   "id": "e29f77d6",
   "metadata": {},
   "outputs": [
    {
     "data": {
      "image/png": "[encoded data removed]",
      "text/plain": [
       "<Figure size 1080x360 with 1 Axes>"
      ]
     },
     "metadata": {
      "needs_background": "light"
     },
     "output_type": "display_data"
    }
   ],
   "source": [
    "test_ts_draw = df_result['y']\n",
    "test_prediction = df_result[df_result['ds']>='2005-08-01']['yhat']\n",
    "fig, ax = plt.subplots(figsize=(15, 5))\n",
    "test_ts_draw.plot(ax=ax, label='Test Set')\n",
    "test_prediction.plot(ax=ax, label='prediction Set', title='Train_Test_comparison')\n",
    "ax.legend(['prediction Set', 'Test Set'])\n",
    "plt.show()\n",
    "\n",
    "def show_results(y_true, y_pred):\n",
    "    # Regression metrics\n",
    "    explained_variance=metrics.explained_variance_score(y_true, y_pred)\n",
    "    mean_absolute_error=metrics.mean_absolute_error(y_true, y_pred) \n",
    "    mse=metrics.mean_squared_error(y_true, y_pred) \n",
    "    r2=metrics.r2_score(y_true, y_pred)\n",
    "\n",
    "    df_metrics = pd.DataFrame(columns = ['explained_variance','MAE','R^2','MSE','RMSE'])\n",
    "    df_metrics_results = {'explained_variance':round(explained_variance,4),'MAE':round(mean_absolute_error,4),\n",
    "                         'R^2':round(r2,4),'MSE':round(mse,4),'RMSE':round(np.sqrt(mse),4)}\n",
    "    df_metrics = df_metrics.append(df_metrics_results,ignore_index = True)\n",
    "\n",
    "    return df_metrics"
   ]
  },
  {
   "cell_type": "code",
   "execution_count": 75,
   "id": "77b3d53f",
   "metadata": {},
   "outputs": [
    {
     "name": "stderr",
     "output_type": "stream",
     "text": [
      "/tmp/ipykernel_586722/3653359597.py:19: FutureWarning: The frame.append method is deprecated and will be removed from pandas in a future version. Use pandas.concat instead.\n",
      "  df_metrics = df_metrics.append(df_metrics_results,ignore_index = True)\n"
     ]
    },
    {
     "data": {
      "text/html": [
       "<div>\n",
       "<style scoped>\n",
       "    .dataframe tbody tr th:only-of-type {\n",
       "        vertical-align: middle;\n",
       "    }\n",
       "\n",
       "    .dataframe tbody tr th {\n",
       "        vertical-align: top;\n",
       "    }\n",
       "\n",
       "    .dataframe thead th {\n",
       "        text-align: right;\n",
       "    }\n",
       "</style>\n",
       "<table border=\"1\" class=\"dataframe\">\n",
       "  <thead>\n",
       "    <tr style=\"text-align: right;\">\n",
       "      <th></th>\n",
       "      <th>explained_variance</th>\n",
       "      <th>MAE</th>\n",
       "      <th>R^2</th>\n",
       "      <th>MSE</th>\n",
       "      <th>RMSE</th>\n",
       "    </tr>\n",
       "  </thead>\n",
       "  <tbody>\n",
       "    <tr>\n",
       "      <th>0</th>\n",
       "      <td>0.5583</td>\n",
       "      <td>424600.0849</td>\n",
       "      <td>0.3592</td>\n",
       "      <td>3.316285e+11</td>\n",
       "      <td>575871.9809</td>\n",
       "    </tr>\n",
       "  </tbody>\n",
       "</table>\n",
       "</div>"
      ],
      "text/plain": [
       "   explained_variance          MAE     R^2           MSE         RMSE\n",
       "0              0.5583  424600.0849  0.3592  3.316285e+11  575871.9809"
      ]
     },
     "execution_count": 75,
     "metadata": {},
     "output_type": "execute_result"
    }
   ],
   "source": [
    "show_results(df_result[df_result['ds']>'2005-07-31']['y'],df_result[df_result['ds']>'2005-07-31']['yhat'])"
   ]
  },
  {
   "cell_type": "code",
   "execution_count": 76,
   "id": "e3fcfecc",
   "metadata": {},
   "outputs": [
    {
     "data": {
      "image/png": "[encoded data removed]",
      "text/plain": [
       "<Figure size 1080x360 with 1 Axes>"
      ]
     },
     "metadata": {
      "needs_background": "light"
     },
     "output_type": "display_data"
    }
   ],
   "source": [
    "test_prediction = df_result[df_result['ds']>'2005-07-31'][['ds','yhat']]\n",
    "test_ts_draw = df_result[df_result['ds']>'2005-07-31'][['ds','y']]\n",
    "fig, ax = plt.subplots(figsize=(15, 5))\n",
    "test_ts_draw.plot(ax=ax, x = 'ds', y = 'y',label='Test Set')\n",
    "test_prediction.plot(ax=ax, x = 'ds', y = 'yhat',label='prediction Set', title='Train_Test_comparison')\n",
    "ax.legend(['prediction Set', 'Test Set'])\n",
    "plt.show()"
   ]
  },
  {
   "cell_type": "code",
   "execution_count": null,
   "id": "bb8f6d74",
   "metadata": {},
   "outputs": [],
   "source": []
  }
 ],
 "metadata": {
  "kernelspec": {
   "display_name": "Python 3",
   "language": "python",
   "name": "python3"
  },
  "language_info": {
   "codemirror_mode": {
    "name": "ipython",
    "version": 3
   },
   "file_extension": ".py",
   "mimetype": "text/x-python",
   "name": "python",
   "nbconvert_exporter": "python",
   "pygments_lexer": "ipython3",
   "version": "3.7.6"
  }
 },
 "nbformat": 4,
 "nbformat_minor": 5
}
